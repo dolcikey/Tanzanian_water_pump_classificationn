{
 "cells": [
  {
   "cell_type": "markdown",
   "metadata": {},
   "source": [
    "# Model Evaluation\n",
    "\n",
    "In this notebook, I will test multiple model and evaluate to choose the best one."
   ]
  },
  {
   "cell_type": "code",
   "execution_count": 1,
   "metadata": {},
   "outputs": [],
   "source": [
    "import pandas as pd\n",
    "import numpy as np\n",
    "import matplotlib.pyplot as plt\n",
    "import seaborn as sns\n",
    "%matplotlib inline\n",
    "\n",
    "import pickle\n",
    "\n",
    "from sklearn.metrics import f1_score, accuracy_score, roc_auc_score, SCORERS\n",
    "from sklearn.tree import DecisionTreeClassifier\n",
    "from sklearn.model_selection import train_test_split\n",
    "\n",
    "pd.set_option('precision', 4)\n",
    "pd.options.display.max_seq_items = None\n",
    "pd.options.display.max_columns = 50"
   ]
  },
  {
   "cell_type": "code",
   "execution_count": 2,
   "metadata": {},
   "outputs": [],
   "source": [
    "X = pd.read_pickle('PKL/X_train.pkl')\n",
    "y = pd.read_pickle('PKL/Y_train.pkl')"
   ]
  },
  {
   "cell_type": "markdown",
   "metadata": {},
   "source": [
    "## Train/Test Split\n",
    "I'm actually going to split my train data once more. It's because this is a competition dataset and I actually don't have the 'test' score result. So I will use the initial test features as a holdout set, and make another subset of train/test for validations."
   ]
  },
  {
   "cell_type": "code",
   "execution_count": 3,
   "metadata": {},
   "outputs": [],
   "source": [
    "X_train, X_test, y_train, y_test = train_test_split(X, y, random_state = 13, test_size = 0.2)"
   ]
  },
  {
   "cell_type": "code",
   "execution_count": 4,
   "metadata": {},
   "outputs": [],
   "source": [
    "# One Hot Encoding \n",
    "X_train_ohe = pd.get_dummies(X_train)\n",
    "X_test_ohe = pd.get_dummies(X_test)"
   ]
  },
  {
   "cell_type": "code",
   "execution_count": 5,
   "metadata": {},
   "outputs": [
    {
     "data": {
      "text/plain": [
       "False"
      ]
     },
     "execution_count": 5,
     "metadata": {},
     "output_type": "execute_result"
    }
   ],
   "source": [
    "# Check if they have the same features\n",
    "X_train_ohe.shape[1] == X_test_ohe.shape[1]"
   ]
  },
  {
   "cell_type": "code",
   "execution_count": 6,
   "metadata": {},
   "outputs": [
    {
     "data": {
      "text/plain": [
       "['lga_nyamagana']"
      ]
     },
     "execution_count": 6,
     "metadata": {},
     "output_type": "execute_result"
    }
   ],
   "source": [
    "[x for x in X_train_ohe.columns if x not in X_test_ohe.columns]"
   ]
  },
  {
   "cell_type": "code",
   "execution_count": 7,
   "metadata": {},
   "outputs": [],
   "source": [
    "# one feature got dropped out (during dummy creation by missing an observation, I'll input it as 0 in test set for now.)\n",
    "X_test_ohe['lga_nyamagana'] = 0"
   ]
  },
  {
   "cell_type": "code",
   "execution_count": 8,
   "metadata": {
    "scrolled": true
   },
   "outputs": [
    {
     "data": {
      "text/plain": [
       "[]"
      ]
     },
     "execution_count": 8,
     "metadata": {},
     "output_type": "execute_result"
    }
   ],
   "source": [
    "[x for x in X_test_ohe.columns if x not in X_train_ohe.columns]"
   ]
  },
  {
   "cell_type": "markdown",
   "metadata": {},
   "source": [
    "## Dummy Classifier\n",
    "I'll create a dummy classifier as a baseline score."
   ]
  },
  {
   "cell_type": "code",
   "execution_count": 9,
   "metadata": {},
   "outputs": [],
   "source": [
    "score_keeper = {}"
   ]
  },
  {
   "cell_type": "code",
   "execution_count": 10,
   "metadata": {},
   "outputs": [
    {
     "name": "stderr",
     "output_type": "stream",
     "text": [
      "C:\\Users\\Eunjoo\\anaconda3\\lib\\site-packages\\sklearn\\dummy.py:132: FutureWarning: The default value of strategy will change from stratified to prior in 0.24.\n",
      "  \"stratified to prior in 0.24.\", FutureWarning)\n"
     ]
    },
    {
     "name": "stdout",
     "output_type": "stream",
     "text": [
      "Test F1 score:  0.448 / Test Accuracy:  0.449\n"
     ]
    }
   ],
   "source": [
    "from sklearn.dummy import DummyClassifier\n",
    "dummyc = DummyClassifier() # using the default stratified strategy\n",
    "dummyc.fit(X_train_ohe, y_train)\n",
    "y_pred = dummyc.predict(X_test)\n",
    "\n",
    "f1_test = round(f1_score(y_test, y_pred, average = 'weighted'), 3)\n",
    "acc_test = round(accuracy_score(y_test, y_pred), 3)\n",
    "print('Test F1 score: ', f1_test, '/ Test Accuracy: ', acc_test)\n",
    "score_keeper['baseline'] = (f1_test, acc_test)"
   ]
  },
  {
   "cell_type": "markdown",
   "metadata": {},
   "source": [
    "## Class Imbalance Issue\n",
    "Our dataset has high class imbalance issue. We will deal with this by setting the class weight within each model."
   ]
  },
  {
   "cell_type": "markdown",
   "metadata": {},
   "source": [
    "## KNN\n",
    "First, I will run K-Nearest Neighbors using GridSearchCV. "
   ]
  },
  {
   "cell_type": "markdown",
   "metadata": {},
   "source": [
    "### Standardization\n",
    "For KNN, I will standardize all feature values."
   ]
  },
  {
   "cell_type": "code",
   "execution_count": 11,
   "metadata": {},
   "outputs": [],
   "source": [
    "from sklearn.preprocessing import StandardScaler\n",
    "\n",
    "scale = StandardScaler()\n",
    "X_train_scaled = scale.fit_transform(X_train_ohe)\n",
    "X_test_scaled = scale.transform(X_test_ohe)"
   ]
  },
  {
   "cell_type": "markdown",
   "metadata": {},
   "source": [
    "Then I'll try to find the optimal hyperparameters using GridSearchCV."
   ]
  },
  {
   "cell_type": "code",
   "execution_count": 12,
   "metadata": {},
   "outputs": [],
   "source": [
    "from sklearn.neighbors import KNeighborsClassifier\n",
    "from sklearn.model_selection import GridSearchCV"
   ]
  },
  {
   "cell_type": "code",
   "execution_count": null,
   "metadata": {},
   "outputs": [
    {
     "name": "stdout",
     "output_type": "stream",
     "text": [
      "Fitting 5 folds for each of 8 candidates, totalling 40 fits\n"
     ]
    },
    {
     "name": "stderr",
     "output_type": "stream",
     "text": [
      "[Parallel(n_jobs=-1)]: Using backend LokyBackend with 8 concurrent workers.\n"
     ]
    }
   ],
   "source": [
    "params = {\n",
    "    'n_neighbors': range(1, 16, 2), # setting K\n",
    "}\n",
    "\n",
    "knc = KNeighborsClassifier(weights = 'distance') \n",
    "knc_g = GridSearchCV(knc, params, cv = 5, scoring = 'f1_weighted', verbose = 1, n_jobs = -1)\n",
    "knc_g.fit(X_train_scaled, y_train)\n",
    "print(knc_g.best_params_, ': ', knc_g.best_score_)"
   ]
  },
  {
   "cell_type": "code",
   "execution_count": 12,
   "metadata": {},
   "outputs": [
    {
     "name": "stdout",
     "output_type": "stream",
     "text": [
      "Test F1 score:  0.684 / Test Accuracy:  0.692\n"
     ]
    }
   ],
   "source": [
    "# KNN performance on the test set\n",
    "y_pred = knc_g.best_estimator_.predict(X_test_scaled)    \n",
    "f1_test = round(f1_score(y_test, y_pred, average = 'weighted'), 3)\n",
    "acc_test = round(accuracy_score(y_test, y_pred), 3)\n",
    "\n",
    "print('Test F1 score: ', f1_test, '/ Test Accuracy: ', acc_test)\n",
    "score_keeper['knn_gsc'] = (f1_test, acc_test)"
   ]
  },
  {
   "cell_type": "code",
   "execution_count": 16,
   "metadata": {},
   "outputs": [],
   "source": [
    "# saving the model \n",
    "mod = open('PKL/knn_gsc.pkl', 'wb')\n",
    "pickle.dump(knc_g.best_estimator_, mod)\n",
    "mod.close()"
   ]
  },
  {
   "cell_type": "markdown",
   "metadata": {},
   "source": [
    "Now I want to try different optimization method to make sure I have the best hyperparmeter for KNN. This time I'll use optuna to explore even more hyperparameters. I'll cap the time to what it took to run the GridSearch above."
   ]
  },
  {
   "cell_type": "code",
   "execution_count": null,
   "metadata": {},
   "outputs": [],
   "source": [
    "import optuna\n",
    "from sklearn.model_selection import KFold\n",
    "from sklearn.model_selection import cross_val_score"
   ]
  },
  {
   "cell_type": "code",
   "execution_count": null,
   "metadata": {},
   "outputs": [],
   "source": [
    "def find_hyperp_KNN(trial):\n",
    "    n_neighbors = trial.suggest_int('n_neighbors', 1, 31)\n",
    "    algorithm = trial.suggest_categorical('algorithm', ['ball_tree', 'kd_tree'])\n",
    "    leaf_size = trial.suggest_int('leaf_size', 2, 60)\n",
    "    p = trial.suggest_categorical('p', [1, 2])\n",
    "    knc = KNeighborsClassifier(weights = 'distance', \n",
    "                             n_neighbors = n_neighbors, \n",
    "                             algorithm = algorithm, \n",
    "                             leaf_size = leaf_size, \n",
    "                             p = p)\n",
    "    cv = KFold(n_splits = 5, shuffle = True, random_state = 20)\n",
    "    score = np.mean(cross_val_score(knc, X_train_scaled, y_train, scoring = 'f1_weighted', cv = cv, n_jobs = -1))\n",
    "    return (score)\n",
    "\n",
    "knn_study = optuna.create_study(direction='maximize')\n",
    "knn_study.optimize(find_hyperp_KNN, timeout = )"
   ]
  },
  {
   "cell_type": "code",
   "execution_count": null,
   "metadata": {},
   "outputs": [],
   "source": [
    "# saving the study \n",
    "mod = open('PKL/knn_study.pkl', 'wb')\n",
    "pickle.dump(knn_study, mod)\n",
    "mod.close()"
   ]
  },
  {
   "cell_type": "code",
   "execution_count": 30,
   "metadata": {
    "scrolled": true
   },
   "outputs": [
    {
     "name": "stdout",
     "output_type": "stream",
     "text": [
      "Test F1 score:  0.684 / Test Accuracy:  0.692\n"
     ]
    }
   ],
   "source": [
    "# Testing the best params on the test set\n",
    "knc_opt = KNeighborsClassifier(algorithm = 'kd_tree', leaf_size = 3, n_neighbors=9, weights = 'distance')\n",
    "knc_opt.fit(X_train_scaled, y_train)\n",
    "\n",
    "y_pred = knc_opt.predict(X_test_scaled)    \n",
    "f1_test = round(f1_score(y_test, y_pred, average = 'weighted'), 3)\n",
    "acc_test = round(accuracy_score(y_test, y_pred), 3)\n",
    "\n",
    "print('Test F1 score: ', f1_test, '/ Test Accuracy: ', acc_test)\n",
    "score_keeper['knn_opt'] = (f1_test, acc_test)"
   ]
  },
  {
   "cell_type": "markdown",
   "metadata": {},
   "source": [
    "## Random Forest \n",
    "Since Optuna performance was better above, now I'll run random forest using Optuna."
   ]
  },
  {
   "cell_type": "code",
   "execution_count": null,
   "metadata": {},
   "outputs": [],
   "source": [
    "from sklearn.ensemble import BaggingClassifier, RandomForestClassifier"
   ]
  },
  {
   "cell_type": "code",
   "execution_count": 37,
   "metadata": {},
   "outputs": [
    {
     "name": "stderr",
     "output_type": "stream",
     "text": [
      "[I 2020-08-17 20:29:14,977] Trial 0 finished with value: 0.6263656747260805 and parameters: {'n_estimators': 286, 'max_depth': 3, 'min_samples_split': 4, 'min_samples_leaf': 7, 'criterion': 'gini', 'class_weight': 'balanced', 'max_features': 9}. Best is trial 0 with value: 0.6263656747260805.\n",
      "[I 2020-08-17 20:29:31,707] Trial 1 finished with value: 0.6535663913395648 and parameters: {'n_estimators': 156, 'max_depth': 5, 'min_samples_split': 6, 'min_samples_leaf': 3, 'criterion': 'gini', 'class_weight': 'balanced_subsample', 'max_features': 13}. Best is trial 1 with value: 0.6535663913395648.\n",
      "[I 2020-08-17 20:29:37,639] Trial 2 finished with value: 0.6094881045418552 and parameters: {'n_estimators': 50, 'max_depth': 4, 'min_samples_split': 5, 'min_samples_leaf': 6, 'criterion': 'gini', 'class_weight': 'balanced_subsample', 'max_features': 4}. Best is trial 1 with value: 0.6535663913395648.\n",
      "[I 2020-08-17 20:29:57,672] Trial 3 finished with value: 0.6532178643667603 and parameters: {'n_estimators': 198, 'max_depth': 4, 'min_samples_split': 4, 'min_samples_leaf': 10, 'criterion': 'gini', 'class_weight': 'balanced_subsample', 'max_features': 19}. Best is trial 1 with value: 0.6535663913395648.\n",
      "[I 2020-08-17 20:30:09,329] Trial 4 finished with value: 0.6081780683489691 and parameters: {'n_estimators': 146, 'max_depth': 2, 'min_samples_split': 5, 'min_samples_leaf': 1, 'criterion': 'entropy', 'class_weight': 'balanced', 'max_features': 6}. Best is trial 1 with value: 0.6535663913395648.\n",
      "[I 2020-08-17 20:30:34,630] Trial 5 finished with value: 0.6386641438021119 and parameters: {'n_estimators': 274, 'max_depth': 4, 'min_samples_split': 6, 'min_samples_leaf': 14, 'criterion': 'entropy', 'class_weight': 'balanced_subsample', 'max_features': 11}. Best is trial 1 with value: 0.6535663913395648.\n",
      "[I 2020-08-17 20:30:47,499] Trial 6 finished with value: 0.6789285423454706 and parameters: {'n_estimators': 122, 'max_depth': 8, 'min_samples_split': 9, 'min_samples_leaf': 6, 'criterion': 'gini', 'class_weight': 'balanced', 'max_features': 11}. Best is trial 6 with value: 0.6789285423454706.\n",
      "[I 2020-08-17 20:31:12,203] Trial 7 finished with value: 0.62780597839992 and parameters: {'n_estimators': 275, 'max_depth': 6, 'min_samples_split': 3, 'min_samples_leaf': 15, 'criterion': 'gini', 'class_weight': 'balanced_subsample', 'max_features': 4}. Best is trial 6 with value: 0.6789285423454706.\n",
      "[I 2020-08-17 20:31:22,487] Trial 8 finished with value: 0.630109079323336 and parameters: {'n_estimators': 117, 'max_depth': 2, 'min_samples_split': 2, 'min_samples_leaf': 14, 'criterion': 'entropy', 'class_weight': 'balanced', 'max_features': 20}. Best is trial 6 with value: 0.6789285423454706.\n",
      "[I 2020-08-17 20:31:30,343] Trial 9 finished with value: 0.609855782432284 and parameters: {'n_estimators': 76, 'max_depth': 2, 'min_samples_split': 3, 'min_samples_leaf': 15, 'criterion': 'entropy', 'class_weight': 'balanced_subsample', 'max_features': 20}. Best is trial 6 with value: 0.6789285423454706.\n",
      "[I 2020-08-17 20:31:53,168] Trial 10 finished with value: 0.6860753670442868 and parameters: {'n_estimators': 203, 'max_depth': 8, 'min_samples_split': 9, 'min_samples_leaf': 10, 'criterion': 'gini', 'class_weight': 'balanced', 'max_features': 15}. Best is trial 10 with value: 0.6860753670442868.\n",
      "[I 2020-08-17 20:32:18,142] Trial 11 finished with value: 0.6848073900496789 and parameters: {'n_estimators': 228, 'max_depth': 8, 'min_samples_split': 10, 'min_samples_leaf': 10, 'criterion': 'gini', 'class_weight': 'balanced', 'max_features': 15}. Best is trial 10 with value: 0.6860753670442868.\n",
      "[I 2020-08-17 20:32:41,943] Trial 12 finished with value: 0.6874466884603414 and parameters: {'n_estimators': 213, 'max_depth': 8, 'min_samples_split': 10, 'min_samples_leaf': 11, 'criterion': 'gini', 'class_weight': 'balanced', 'max_features': 16}. Best is trial 12 with value: 0.6874466884603414.\n",
      "[I 2020-08-17 20:33:05,614] Trial 13 finished with value: 0.6783331835225677 and parameters: {'n_estimators': 220, 'max_depth': 7, 'min_samples_split': 8, 'min_samples_leaf': 11, 'criterion': 'gini', 'class_weight': 'balanced', 'max_features': 16}. Best is trial 12 with value: 0.6874466884603414.\n",
      "[W 2020-08-17 20:33:07,103] Trial 14 failed, because the objective function returned nan.\n",
      "[W 2020-08-17 20:33:08,572] Trial 15 failed, because the objective function returned nan.\n",
      "[I 2020-08-17 20:33:34,361] Trial 16 finished with value: 0.6779930303339892 and parameters: {'n_estimators': 240, 'max_depth': 7, 'min_samples_split': 10, 'min_samples_leaf': 12, 'criterion': 'gini', 'class_weight': 'balanced', 'max_features': 17}. Best is trial 12 with value: 0.6874466884603414.\n",
      "[I 2020-08-17 20:33:54,407] Trial 17 finished with value: 0.674307737841511 and parameters: {'n_estimators': 191, 'max_depth': 7, 'min_samples_split': 8, 'min_samples_leaf': 9, 'criterion': 'gini', 'class_weight': 'balanced', 'max_features': 14}. Best is trial 12 with value: 0.6874466884603414.\n",
      "[I 2020-08-17 20:34:22,621] Trial 18 finished with value: 0.6860320950631202 and parameters: {'n_estimators': 244, 'max_depth': 8, 'min_samples_split': 8, 'min_samples_leaf': 12, 'criterion': 'gini', 'class_weight': 'balanced', 'max_features': 18}. Best is trial 12 with value: 0.6874466884603414.\n",
      "[W 2020-08-17 20:34:24,059] Trial 19 failed, because the objective function returned nan.\n",
      "[W 2020-08-17 20:34:25,511] Trial 20 failed, because the objective function returned nan.\n",
      "[I 2020-08-17 20:34:42,216] Trial 21 finished with value: 0.6666624891924238 and parameters: {'n_estimators': 177, 'max_depth': 6, 'min_samples_split': 10, 'min_samples_leaf': 8, 'criterion': 'gini', 'class_weight': 'balanced', 'max_features': 13}. Best is trial 12 with value: 0.6874466884603414.\n",
      "[W 2020-08-17 20:34:43,676] Trial 22 failed, because the objective function returned nan.\n",
      "[W 2020-08-17 20:34:45,140] Trial 23 failed, because the objective function returned nan.\n",
      "[I 2020-08-17 20:35:04,106] Trial 24 finished with value: 0.6538571108185585 and parameters: {'n_estimators': 212, 'max_depth': 6, 'min_samples_split': 7, 'min_samples_leaf': 13, 'criterion': 'gini', 'class_weight': 'balanced', 'max_features': 8}. Best is trial 12 with value: 0.6874466884603414.\n",
      "[I 2020-08-17 20:35:22,367] Trial 25 finished with value: 0.6881772551593481 and parameters: {'n_estimators': 158, 'max_depth': 8, 'min_samples_split': 9, 'min_samples_leaf': 4, 'criterion': 'gini', 'class_weight': 'balanced', 'max_features': 16}. Best is trial 25 with value: 0.6881772551593481.\n",
      "[W 2020-08-17 20:35:23,797] Trial 26 failed, because the objective function returned nan.\n",
      "[W 2020-08-17 20:35:25,168] Trial 27 failed, because the objective function returned nan.\n",
      "[W 2020-08-17 20:35:26,568] Trial 28 failed, because the objective function returned nan.\n",
      "[I 2020-08-17 20:35:38,670] Trial 29 finished with value: 0.6805964062847487 and parameters: {'n_estimators': 102, 'max_depth': 7, 'min_samples_split': 9, 'min_samples_leaf': 4, 'criterion': 'gini', 'class_weight': 'balanced', 'max_features': 17}. Best is trial 25 with value: 0.6881772551593481.\n",
      "[I 2020-08-17 20:35:56,767] Trial 30 finished with value: 0.6913203160141179 and parameters: {'n_estimators': 156, 'max_depth': 8, 'min_samples_split': 9, 'min_samples_leaf': 1, 'criterion': 'gini', 'class_weight': 'balanced', 'max_features': 15}. Best is trial 30 with value: 0.6913203160141179.\n",
      "[W 2020-08-17 20:35:58,200] Trial 31 failed, because the objective function returned nan.\n",
      "[I 2020-08-17 20:36:15,151] Trial 32 finished with value: 0.6896382801593919 and parameters: {'n_estimators': 156, 'max_depth': 8, 'min_samples_split': 10, 'min_samples_leaf': 1, 'criterion': 'gini', 'class_weight': 'balanced', 'max_features': 13}. Best is trial 30 with value: 0.6913203160141179.\n",
      "[I 2020-08-17 20:36:30,627] Trial 33 finished with value: 0.6779367926351825 and parameters: {'n_estimators': 152, 'max_depth': 7, 'min_samples_split': 7, 'min_samples_leaf': 1, 'criterion': 'gini', 'class_weight': 'balanced', 'max_features': 12}. Best is trial 30 with value: 0.6913203160141179.\n",
      "[I 2020-08-17 20:36:44,843] Trial 34 finished with value: 0.6727575982331168 and parameters: {'n_estimators': 133, 'max_depth': 8, 'min_samples_split': 9, 'min_samples_leaf': 3, 'criterion': 'gini', 'class_weight': 'balanced', 'max_features': 9}. Best is trial 30 with value: 0.6913203160141179.\n",
      "[I 2020-08-17 20:37:01,990] Trial 35 finished with value: 0.6700194931930146 and parameters: {'n_estimators': 171, 'max_depth': 6, 'min_samples_split': 7, 'min_samples_leaf': 2, 'criterion': 'gini', 'class_weight': 'balanced', 'max_features': 14}. Best is trial 30 with value: 0.6913203160141179.\n",
      "[W 2020-08-17 20:37:03,415] Trial 36 failed, because the objective function returned nan.\n",
      "[I 2020-08-17 20:37:14,588] Trial 37 finished with value: 0.6778422124490393 and parameters: {'n_estimators': 93, 'max_depth': 7, 'min_samples_split': 8, 'min_samples_leaf': 4, 'criterion': 'gini', 'class_weight': 'balanced', 'max_features': 18}. Best is trial 30 with value: 0.6913203160141179.\n",
      "[W 2020-08-17 20:37:16,015] Trial 38 failed, because the objective function returned nan.\n",
      "[I 2020-08-17 20:37:34,744] Trial 39 finished with value: 0.6876193547046588 and parameters: {'n_estimators': 169, 'max_depth': 8, 'min_samples_split': 10, 'min_samples_leaf': 1, 'criterion': 'entropy', 'class_weight': 'balanced', 'max_features': 13}. Best is trial 30 with value: 0.6913203160141179.\n",
      "[W 2020-08-17 20:37:36,189] Trial 40 failed, because the objective function returned nan.\n",
      "[I 2020-08-17 20:37:49,110] Trial 41 finished with value: 0.6548799751183314 and parameters: {'n_estimators': 131, 'max_depth': 5, 'min_samples_split': 9, 'min_samples_leaf': 5, 'criterion': 'gini', 'class_weight': 'balanced', 'max_features': 15}. Best is trial 30 with value: 0.6913203160141179.\n",
      "[W 2020-08-17 20:37:50,568] Trial 42 failed, because the objective function returned nan.\n",
      "[W 2020-08-17 20:37:52,028] Trial 43 failed, because the objective function returned nan.\n",
      "[W 2020-08-17 20:37:53,455] Trial 44 failed, because the objective function returned nan.\n",
      "[W 2020-08-17 20:37:54,879] Trial 45 failed, because the objective function returned nan.\n",
      "[W 2020-08-17 20:37:56,318] Trial 46 failed, because the objective function returned nan.\n",
      "[W 2020-08-17 20:37:57,804] Trial 47 failed, because the objective function returned nan.\n",
      "[I 2020-08-17 20:38:14,814] Trial 48 finished with value: 0.6659054807264135 and parameters: {'n_estimators': 184, 'max_depth': 7, 'min_samples_split': 6, 'min_samples_leaf': 2, 'criterion': 'gini', 'class_weight': 'balanced', 'max_features': 9}. Best is trial 30 with value: 0.6913203160141179.\n",
      "[W 2020-08-17 20:38:16,301] Trial 49 failed, because the objective function returned nan.\n",
      "[I 2020-08-17 20:38:33,036] Trial 50 finished with value: 0.6861394775088978 and parameters: {'n_estimators': 144, 'max_depth': 8, 'min_samples_split': 8, 'min_samples_leaf': 2, 'criterion': 'gini', 'class_weight': 'balanced', 'max_features': 12}. Best is trial 30 with value: 0.6913203160141179.\n",
      "[I 2020-08-17 20:38:51,162] Trial 51 finished with value: 0.6865585715086466 and parameters: {'n_estimators': 166, 'max_depth': 8, 'min_samples_split': 10, 'min_samples_leaf': 1, 'criterion': 'entropy', 'class_weight': 'balanced', 'max_features': 13}. Best is trial 30 with value: 0.6913203160141179.\n",
      "[W 2020-08-17 20:38:52,600] Trial 52 failed, because the objective function returned nan.\n",
      "[W 2020-08-17 20:38:53,985] Trial 53 failed, because the objective function returned nan.\n",
      "[I 2020-08-17 20:39:11,104] Trial 54 finished with value: 0.676742445536742 and parameters: {'n_estimators': 169, 'max_depth': 8, 'min_samples_split': 10, 'min_samples_leaf': 3, 'criterion': 'entropy', 'class_weight': 'balanced', 'max_features': 10}. Best is trial 30 with value: 0.6913203160141179.\n",
      "[I 2020-08-17 20:39:27,291] Trial 55 finished with value: 0.6781355708516272 and parameters: {'n_estimators': 155, 'max_depth': 7, 'min_samples_split': 9, 'min_samples_leaf': 1, 'criterion': 'entropy', 'class_weight': 'balanced', 'max_features': 14}. Best is trial 30 with value: 0.6913203160141179.\n",
      "[I 2020-08-17 20:39:39,676] Trial 56 finished with value: 0.678580844898393 and parameters: {'n_estimators': 111, 'max_depth': 8, 'min_samples_split': 10, 'min_samples_leaf': 4, 'criterion': 'entropy', 'class_weight': 'balanced', 'max_features': 12}. Best is trial 30 with value: 0.6913203160141179.\n",
      "[I 2020-08-17 20:39:58,314] Trial 57 finished with value: 0.6922190651753233 and parameters: {'n_estimators': 163, 'max_depth': 8, 'min_samples_split': 9, 'min_samples_leaf': 2, 'criterion': 'entropy', 'class_weight': 'balanced', 'max_features': 16}. Best is trial 57 with value: 0.6922190651753233.\n",
      "[I 2020-08-17 20:40:12,066] Trial 58 finished with value: 0.6307203644764383 and parameters: {'n_estimators': 142, 'max_depth': 3, 'min_samples_split': 7, 'min_samples_leaf': 6, 'criterion': 'entropy', 'class_weight': 'balanced_subsample', 'max_features': 17}. Best is trial 57 with value: 0.6922190651753233.\n",
      "[I 2020-08-17 20:40:21,276] Trial 59 finished with value: 0.6679217081906162 and parameters: {'n_estimators': 85, 'max_depth': 6, 'min_samples_split': 9, 'min_samples_leaf': 2, 'criterion': 'entropy', 'class_weight': 'balanced', 'max_features': 16}. Best is trial 57 with value: 0.6922190651753233.\n",
      "[I 2020-08-17 20:40:34,243] Trial 60 finished with value: 0.6593544646868572 and parameters: {'n_estimators': 131, 'max_depth': 5, 'min_samples_split': 5, 'min_samples_leaf': 5, 'criterion': 'gini', 'class_weight': 'balanced', 'max_features': 18}. Best is trial 57 with value: 0.6922190651753233.\n",
      "[W 2020-08-17 20:40:35,570] Trial 61 failed, because the objective function returned nan.\n",
      "[I 2020-08-17 20:40:59,018] Trial 62 finished with value: 0.686563385270913 and parameters: {'n_estimators': 191, 'max_depth': 7, 'min_samples_split': 8, 'min_samples_leaf': 3, 'criterion': 'gini', 'class_weight': 'balanced_subsample', 'max_features': 19}. Best is trial 57 with value: 0.6922190651753233.\n",
      "[W 2020-08-17 20:41:00,438] Trial 63 failed, because the objective function returned nan.\n",
      "[W 2020-08-17 20:41:01,767] Trial 64 failed, because the objective function returned nan.\n",
      "[W 2020-08-17 20:41:03,166] Trial 65 failed, because the objective function returned nan.\n",
      "[I 2020-08-17 20:41:21,390] Trial 66 finished with value: 0.686052290662879 and parameters: {'n_estimators': 160, 'max_depth': 8, 'min_samples_split': 6, 'min_samples_leaf': 3, 'criterion': 'entropy', 'class_weight': 'balanced', 'max_features': 15}. Best is trial 57 with value: 0.6922190651753233.\n",
      "[I 2020-08-17 20:41:40,177] Trial 67 finished with value: 0.6854057496164263 and parameters: {'n_estimators': 176, 'max_depth': 8, 'min_samples_split': 9, 'min_samples_leaf': 1, 'criterion': 'entropy', 'class_weight': 'balanced', 'max_features': 13}. Best is trial 57 with value: 0.6922190651753233.\n",
      "[W 2020-08-17 20:41:41,648] Trial 68 failed, because the objective function returned nan.\n",
      "[I 2020-08-17 20:41:58,369] Trial 69 finished with value: 0.6843373126317699 and parameters: {'n_estimators': 151, 'max_depth': 8, 'min_samples_split': 10, 'min_samples_leaf': 2, 'criterion': 'entropy', 'class_weight': 'balanced', 'max_features': 14}. Best is trial 57 with value: 0.6922190651753233.\n",
      "[W 2020-08-17 20:41:59,844] Trial 70 failed, because the objective function returned nan.\n",
      "[W 2020-08-17 20:42:01,285] Trial 71 failed, because the objective function returned nan.\n",
      "[I 2020-08-17 20:42:21,448] Trial 72 finished with value: 0.6845090894030574 and parameters: {'n_estimators': 200, 'max_depth': 8, 'min_samples_split': 9, 'min_samples_leaf': 1, 'criterion': 'entropy', 'class_weight': 'balanced', 'max_features': 11}. Best is trial 57 with value: 0.6922190651753233.\n",
      "[W 2020-08-17 20:42:22,903] Trial 73 failed, because the objective function returned nan.\n",
      "[I 2020-08-17 20:42:41,267] Trial 74 finished with value: 0.6786222123901207 and parameters: {'n_estimators': 163, 'max_depth': 7, 'min_samples_split': 10, 'min_samples_leaf': 2, 'criterion': 'entropy', 'class_weight': 'balanced', 'max_features': 16}. Best is trial 57 with value: 0.6922190651753233.\n"
     ]
    },
    {
     "name": "stderr",
     "output_type": "stream",
     "text": [
      "[I 2020-08-17 20:42:56,905] Trial 75 finished with value: 0.6875482324106696 and parameters: {'n_estimators': 138, 'max_depth': 8, 'min_samples_split': 9, 'min_samples_leaf': 1, 'criterion': 'entropy', 'class_weight': 'balanced', 'max_features': 13}. Best is trial 57 with value: 0.6922190651753233.\n",
      "[W 2020-08-17 20:42:58,292] Trial 76 failed, because the objective function returned nan.\n",
      "[I 2020-08-17 20:43:11,739] Trial 77 finished with value: 0.6731767585950561 and parameters: {'n_estimators': 118, 'max_depth': 8, 'min_samples_split': 8, 'min_samples_leaf': 5, 'criterion': 'entropy', 'class_weight': 'balanced_subsample', 'max_features': 10}. Best is trial 57 with value: 0.6922190651753233.\n",
      "[I 2020-08-17 20:43:30,406] Trial 78 finished with value: 0.683086003090814 and parameters: {'n_estimators': 181, 'max_depth': 7, 'min_samples_split': 10, 'min_samples_leaf': 4, 'criterion': 'gini', 'class_weight': 'balanced', 'max_features': 15}. Best is trial 57 with value: 0.6922190651753233.\n",
      "[W 2020-08-17 20:43:31,812] Trial 79 failed, because the objective function returned nan.\n",
      "[I 2020-08-17 20:43:47,149] Trial 80 finished with value: 0.6888479448657598 and parameters: {'n_estimators': 126, 'max_depth': 8, 'min_samples_split': 8, 'min_samples_leaf': 7, 'criterion': 'gini', 'class_weight': 'balanced', 'max_features': 19}. Best is trial 57 with value: 0.6922190651753233.\n",
      "[I 2020-08-17 20:43:55,531] Trial 81 finished with value: 0.6810899061150372 and parameters: {'n_estimators': 62, 'max_depth': 7, 'min_samples_split': 7, 'min_samples_leaf': 7, 'criterion': 'gini', 'class_weight': 'balanced', 'max_features': 20}. Best is trial 57 with value: 0.6922190651753233.\n",
      "[I 2020-08-17 20:44:10,722] Trial 82 finished with value: 0.6889525763425624 and parameters: {'n_estimators': 124, 'max_depth': 8, 'min_samples_split': 8, 'min_samples_leaf': 7, 'criterion': 'gini', 'class_weight': 'balanced', 'max_features': 19}. Best is trial 57 with value: 0.6922190651753233.\n",
      "[I 2020-08-17 20:44:25,709] Trial 83 finished with value: 0.6902890548867292 and parameters: {'n_estimators': 122, 'max_depth': 8, 'min_samples_split': 8, 'min_samples_leaf': 8, 'criterion': 'gini', 'class_weight': 'balanced', 'max_features': 19}. Best is trial 57 with value: 0.6922190651753233.\n",
      "[I 2020-08-17 20:44:40,718] Trial 84 finished with value: 0.69067342445857 and parameters: {'n_estimators': 124, 'max_depth': 8, 'min_samples_split': 8, 'min_samples_leaf': 8, 'criterion': 'gini', 'class_weight': 'balanced', 'max_features': 19}. Best is trial 57 with value: 0.6922190651753233.\n",
      "[W 2020-08-17 20:44:42,089] Trial 85 failed, because the objective function returned nan.\n",
      "[I 2020-08-17 20:44:55,742] Trial 86 finished with value: 0.6873678714724605 and parameters: {'n_estimators': 107, 'max_depth': 8, 'min_samples_split': 7, 'min_samples_leaf': 8, 'criterion': 'gini', 'class_weight': 'balanced', 'max_features': 20}. Best is trial 57 with value: 0.6922190651753233.\n",
      "[I 2020-08-17 20:45:07,734] Trial 87 finished with value: 0.6866066616260612 and parameters: {'n_estimators': 95, 'max_depth': 8, 'min_samples_split': 8, 'min_samples_leaf': 9, 'criterion': 'gini', 'class_weight': 'balanced', 'max_features': 19}. Best is trial 57 with value: 0.6922190651753233.\n",
      "[I 2020-08-17 20:45:21,631] Trial 88 finished with value: 0.6832548436020308 and parameters: {'n_estimators': 122, 'max_depth': 7, 'min_samples_split': 8, 'min_samples_leaf': 9, 'criterion': 'gini', 'class_weight': 'balanced', 'max_features': 18}. Best is trial 57 with value: 0.6922190651753233.\n",
      "[I 2020-08-17 20:45:31,158] Trial 89 finished with value: 0.6831591495435733 and parameters: {'n_estimators': 73, 'max_depth': 8, 'min_samples_split': 6, 'min_samples_leaf': 8, 'criterion': 'gini', 'class_weight': 'balanced', 'max_features': 17}. Best is trial 57 with value: 0.6922190651753233.\n",
      "[I 2020-08-17 20:45:40,298] Trial 90 finished with value: 0.6252183067900351 and parameters: {'n_estimators': 114, 'max_depth': 7, 'min_samples_split': 7, 'min_samples_leaf': 7, 'criterion': 'gini', 'class_weight': 'balanced', 'max_features': 2}. Best is trial 57 with value: 0.6922190651753233.\n",
      "[I 2020-08-17 20:45:52,900] Trial 91 finished with value: 0.6370758240832032 and parameters: {'n_estimators': 145, 'max_depth': 3, 'min_samples_split': 2, 'min_samples_leaf': 10, 'criterion': 'gini', 'class_weight': 'balanced', 'max_features': 19}. Best is trial 57 with value: 0.6922190651753233.\n",
      "[I 2020-08-17 20:46:06,124] Trial 92 finished with value: 0.6862737494853464 and parameters: {'n_estimators': 102, 'max_depth': 8, 'min_samples_split': 4, 'min_samples_leaf': 9, 'criterion': 'gini', 'class_weight': 'balanced_subsample', 'max_features': 17}. Best is trial 57 with value: 0.6922190651753233.\n",
      "[W 2020-08-17 20:46:07,511] Trial 93 failed, because the objective function returned nan.\n",
      "[W 2020-08-17 20:46:08,912] Trial 94 failed, because the objective function returned nan.\n",
      "[I 2020-08-17 20:46:22,805] Trial 95 finished with value: 0.6806642978792253 and parameters: {'n_estimators': 124, 'max_depth': 7, 'min_samples_split': 9, 'min_samples_leaf': 6, 'criterion': 'gini', 'class_weight': 'balanced', 'max_features': 18}. Best is trial 57 with value: 0.6922190651753233.\n",
      "[W 2020-08-17 20:46:24,185] Trial 96 failed, because the objective function returned nan.\n",
      "[I 2020-08-17 20:46:40,016] Trial 97 finished with value: 0.689324001101714 and parameters: {'n_estimators': 127, 'max_depth': 8, 'min_samples_split': 8, 'min_samples_leaf': 7, 'criterion': 'gini', 'class_weight': 'balanced', 'max_features': 19}. Best is trial 57 with value: 0.6922190651753233.\n",
      "[W 2020-08-17 20:46:41,402] Trial 98 failed, because the objective function returned nan.\n",
      "[I 2020-08-17 20:46:58,758] Trial 99 finished with value: 0.6915691866104967 and parameters: {'n_estimators': 139, 'max_depth': 8, 'min_samples_split': 8, 'min_samples_leaf': 8, 'criterion': 'gini', 'class_weight': 'balanced', 'max_features': 20}. Best is trial 57 with value: 0.6922190651753233.\n",
      "[W 2020-08-17 20:47:00,208] Trial 100 failed, because the objective function returned nan.\n",
      "[I 2020-08-17 20:47:17,493] Trial 101 finished with value: 0.6900274275836209 and parameters: {'n_estimators': 137, 'max_depth': 8, 'min_samples_split': 7, 'min_samples_leaf': 8, 'criterion': 'gini', 'class_weight': 'balanced', 'max_features': 20}. Best is trial 57 with value: 0.6922190651753233.\n",
      "[I 2020-08-17 20:47:31,307] Trial 102 finished with value: 0.6464278364594048 and parameters: {'n_estimators': 151, 'max_depth': 4, 'min_samples_split': 7, 'min_samples_leaf': 8, 'criterion': 'gini', 'class_weight': 'balanced', 'max_features': 20}. Best is trial 57 with value: 0.6922190651753233.\n",
      "[W 2020-08-17 20:47:32,682] Trial 103 failed, because the objective function returned nan.\n",
      "[W 2020-08-17 20:47:34,087] Trial 104 failed, because the objective function returned nan.\n",
      "[W 2020-08-17 20:47:35,550] Trial 105 failed, because the objective function returned nan.\n",
      "[I 2020-08-17 20:47:52,595] Trial 106 finished with value: 0.6903335669285431 and parameters: {'n_estimators': 138, 'max_depth': 8, 'min_samples_split': 5, 'min_samples_leaf': 9, 'criterion': 'gini', 'class_weight': 'balanced', 'max_features': 20}. Best is trial 57 with value: 0.6922190651753233.\n",
      "[W 2020-08-17 20:47:53,951] Trial 107 failed, because the objective function returned nan.\n",
      "[W 2020-08-17 20:47:55,339] Trial 108 failed, because the objective function returned nan.\n",
      "[W 2020-08-17 20:47:56,702] Trial 109 failed, because the objective function returned nan.\n",
      "[I 2020-08-17 20:48:13,574] Trial 110 finished with value: 0.6904219003371048 and parameters: {'n_estimators': 136, 'max_depth': 8, 'min_samples_split': 5, 'min_samples_leaf': 10, 'criterion': 'gini', 'class_weight': 'balanced', 'max_features': 20}. Best is trial 57 with value: 0.6922190651753233.\n",
      "[I 2020-08-17 20:48:31,510] Trial 111 finished with value: 0.689656032907279 and parameters: {'n_estimators': 146, 'max_depth': 8, 'min_samples_split': 5, 'min_samples_leaf': 11, 'criterion': 'gini', 'class_weight': 'balanced', 'max_features': 20}. Best is trial 57 with value: 0.6922190651753233.\n",
      "[I 2020-08-17 20:48:46,988] Trial 112 finished with value: 0.679464886508647 and parameters: {'n_estimators': 139, 'max_depth': 7, 'min_samples_split': 3, 'min_samples_leaf': 11, 'criterion': 'gini', 'class_weight': 'balanced', 'max_features': 18}. Best is trial 57 with value: 0.6922190651753233.\n",
      "[W 2020-08-17 20:48:48,398] Trial 113 failed, because the objective function returned nan.\n",
      "[W 2020-08-17 20:48:49,913] Trial 114 failed, because the objective function returned nan.\n",
      "[W 2020-08-17 20:48:51,264] Trial 115 failed, because the objective function returned nan.\n",
      "[W 2020-08-17 20:48:52,634] Trial 116 failed, because the objective function returned nan.\n",
      "[W 2020-08-17 20:48:54,031] Trial 117 failed, because the objective function returned nan.\n",
      "[W 2020-08-17 20:48:55,528] Trial 118 failed, because the objective function returned nan.\n",
      "[W 2020-08-17 20:48:56,906] Trial 119 failed, because the objective function returned nan.\n",
      "[W 2020-08-17 20:48:58,314] Trial 120 failed, because the objective function returned nan.\n",
      "[W 2020-08-17 20:48:59,706] Trial 121 failed, because the objective function returned nan.\n",
      "[I 2020-08-17 20:49:14,106] Trial 122 finished with value: 0.6929492600480025 and parameters: {'n_estimators': 112, 'max_depth': 8, 'min_samples_split': 5, 'min_samples_leaf': 10, 'criterion': 'gini', 'class_weight': 'balanced', 'max_features': 19}. Best is trial 122 with value: 0.6929492600480025.\n",
      "[W 2020-08-17 20:49:15,735] Trial 123 failed, because the objective function returned nan.\n",
      "[I 2020-08-17 20:49:26,576] Trial 124 finished with value: 0.6577269387492304 and parameters: {'n_estimators': 106, 'max_depth': 8, 'min_samples_split': 4, 'min_samples_leaf': 9, 'criterion': 'gini', 'class_weight': 'balanced', 'max_features': 7}. Best is trial 122 with value: 0.6929492600480025.\n",
      "[I 2020-08-17 20:49:41,349] Trial 125 finished with value: 0.6897804374270627 and parameters: {'n_estimators': 115, 'max_depth': 8, 'min_samples_split': 5, 'min_samples_leaf': 10, 'criterion': 'gini', 'class_weight': 'balanced', 'max_features': 20}. Best is trial 122 with value: 0.6929492600480025.\n",
      "[W 2020-08-17 20:49:42,816] Trial 126 failed, because the objective function returned nan.\n",
      "[I 2020-08-17 20:49:54,511] Trial 127 finished with value: 0.6873628984683035 and parameters: {'n_estimators': 91, 'max_depth': 8, 'min_samples_split': 6, 'min_samples_leaf': 12, 'criterion': 'gini', 'class_weight': 'balanced', 'max_features': 19}. Best is trial 122 with value: 0.6929492600480025.\n",
      "[I 2020-08-17 20:50:11,076] Trial 128 finished with value: 0.6856913348713398 and parameters: {'n_estimators': 133, 'max_depth': 8, 'min_samples_split': 4, 'min_samples_leaf': 10, 'criterion': 'gini', 'class_weight': 'balanced', 'max_features': 18}. Best is trial 122 with value: 0.6929492600480025.\n",
      "[W 2020-08-17 20:50:12,451] Trial 129 failed, because the objective function returned nan.\n",
      "[W 2020-08-17 20:50:13,889] Trial 130 failed, because the objective function returned nan.\n",
      "[W 2020-08-17 20:50:15,433] Trial 131 failed, because the objective function returned nan.\n",
      "[W 2020-08-17 20:50:16,826] Trial 132 failed, because the objective function returned nan.\n",
      "[I 2020-08-17 20:50:29,742] Trial 133 finished with value: 0.6879203908182424 and parameters: {'n_estimators': 101, 'max_depth': 8, 'min_samples_split': 3, 'min_samples_leaf': 9, 'criterion': 'gini', 'class_weight': 'balanced', 'max_features': 20}. Best is trial 122 with value: 0.6929492600480025.\n",
      "[W 2020-08-17 20:50:31,243] Trial 134 failed, because the objective function returned nan.\n",
      "[W 2020-08-17 20:50:32,640] Trial 135 failed, because the objective function returned nan.\n",
      "[W 2020-08-17 20:50:34,107] Trial 136 failed, because the objective function returned nan.\n",
      "[W 2020-08-17 20:50:35,525] Trial 137 failed, because the objective function returned nan.\n",
      "[I 2020-08-17 20:50:53,536] Trial 138 finished with value: 0.6898866048653798 and parameters: {'n_estimators': 149, 'max_depth': 8, 'min_samples_split': 5, 'min_samples_leaf': 10, 'criterion': 'gini', 'class_weight': 'balanced', 'max_features': 17}. Best is trial 122 with value: 0.6929492600480025.\n",
      "[I 2020-08-17 20:51:11,397] Trial 139 finished with value: 0.6830912338990963 and parameters: {'n_estimators': 156, 'max_depth': 7, 'min_samples_split': 6, 'min_samples_leaf': 8, 'criterion': 'gini', 'class_weight': 'balanced', 'max_features': 19}. Best is trial 122 with value: 0.6929492600480025.\n",
      "[I 2020-08-17 20:51:28,463] Trial 140 finished with value: 0.6882816948506516 and parameters: {'n_estimators': 134, 'max_depth': 8, 'min_samples_split': 5, 'min_samples_leaf': 9, 'criterion': 'gini', 'class_weight': 'balanced', 'max_features': 18}. Best is trial 122 with value: 0.6929492600480025.\n",
      "[I 2020-08-17 20:51:46,790] Trial 141 finished with value: 0.6822536027468903 and parameters: {'n_estimators': 164, 'max_depth': 7, 'min_samples_split': 4, 'min_samples_leaf': 11, 'criterion': 'gini', 'class_weight': 'balanced', 'max_features': 16}. Best is trial 122 with value: 0.6929492600480025.\n",
      "[W 2020-08-17 20:51:48,167] Trial 142 failed, because the objective function returned nan.\n",
      "[W 2020-08-17 20:51:49,647] Trial 143 failed, because the objective function returned nan.\n",
      "[W 2020-08-17 20:51:51,205] Trial 144 failed, because the objective function returned nan.\n",
      "[W 2020-08-17 20:51:52,594] Trial 145 failed, because the objective function returned nan.\n",
      "[I 2020-08-17 20:52:07,742] Trial 146 finished with value: 0.6886829283049318 and parameters: {'n_estimators': 119, 'max_depth': 8, 'min_samples_split': 6, 'min_samples_leaf': 10, 'criterion': 'gini', 'class_weight': 'balanced', 'max_features': 19}. Best is trial 122 with value: 0.6929492600480025.\n",
      "[W 2020-08-17 20:52:09,180] Trial 147 failed, because the objective function returned nan.\n",
      "[W 2020-08-17 20:52:10,674] Trial 148 failed, because the objective function returned nan.\n",
      "[W 2020-08-17 20:52:12,113] Trial 149 failed, because the objective function returned nan.\n",
      "[I 2020-08-17 20:52:29,158] Trial 150 finished with value: 0.6868220802468008 and parameters: {'n_estimators': 141, 'max_depth': 8, 'min_samples_split': 5, 'min_samples_leaf': 9, 'criterion': 'gini', 'class_weight': 'balanced', 'max_features': 17}. Best is trial 122 with value: 0.6929492600480025.\n",
      "[I 2020-08-17 20:52:46,424] Trial 151 finished with value: 0.6933315178046233 and parameters: {'n_estimators': 136, 'max_depth': 8, 'min_samples_split': 4, 'min_samples_leaf': 8, 'criterion': 'gini', 'class_weight': 'balanced', 'max_features': 20}. Best is trial 151 with value: 0.6933315178046233.\n",
      "[W 2020-08-17 20:52:47,790] Trial 152 failed, because the objective function returned nan.\n",
      "[I 2020-08-17 20:53:04,512] Trial 153 finished with value: 0.6887420584714745 and parameters: {'n_estimators': 129, 'max_depth': 8, 'min_samples_split': 3, 'min_samples_leaf': 8, 'criterion': 'gini', 'class_weight': 'balanced', 'max_features': 20}. Best is trial 151 with value: 0.6933315178046233.\n",
      "[W 2020-08-17 20:53:05,930] Trial 154 failed, because the objective function returned nan.\n",
      "[I 2020-08-17 20:53:19,954] Trial 155 finished with value: 0.6906659195496991 and parameters: {'n_estimators': 110, 'max_depth': 8, 'min_samples_split': 4, 'min_samples_leaf': 10, 'criterion': 'gini', 'class_weight': 'balanced', 'max_features': 19}. Best is trial 151 with value: 0.6933315178046233.\n",
      "[W 2020-08-17 20:53:21,374] Trial 156 failed, because the objective function returned nan.\n",
      "[I 2020-08-17 20:53:35,802] Trial 157 finished with value: 0.6905097764823754 and parameters: {'n_estimators': 112, 'max_depth': 8, 'min_samples_split': 4, 'min_samples_leaf': 10, 'criterion': 'gini', 'class_weight': 'balanced', 'max_features': 20}. Best is trial 151 with value: 0.6933315178046233.\n",
      "[I 2020-08-17 20:53:46,399] Trial 158 finished with value: 0.6846392749104637 and parameters: {'n_estimators': 81, 'max_depth': 8, 'min_samples_split': 4, 'min_samples_leaf': 12, 'criterion': 'gini', 'class_weight': 'balanced', 'max_features': 18}. Best is trial 151 with value: 0.6933315178046233.\n"
     ]
    },
    {
     "name": "stderr",
     "output_type": "stream",
     "text": [
      "[I 2020-08-17 20:54:00,305] Trial 159 finished with value: 0.687617213623329 and parameters: {'n_estimators': 107, 'max_depth': 8, 'min_samples_split': 3, 'min_samples_leaf': 11, 'criterion': 'gini', 'class_weight': 'balanced', 'max_features': 20}. Best is trial 151 with value: 0.6933315178046233.\n",
      "[I 2020-08-17 20:54:13,938] Trial 160 finished with value: 0.6782448601024327 and parameters: {'n_estimators': 111, 'max_depth': 7, 'min_samples_split': 4, 'min_samples_leaf': 10, 'criterion': 'gini', 'class_weight': 'balanced_subsample', 'max_features': 18}. Best is trial 151 with value: 0.6933315178046233.\n",
      "[W 2020-08-17 20:54:15,419] Trial 161 failed, because the objective function returned nan.\n",
      "[W 2020-08-17 20:54:16,900] Trial 162 failed, because the objective function returned nan.\n",
      "[W 2020-08-17 20:54:18,321] Trial 163 failed, because the objective function returned nan.\n",
      "[I 2020-08-17 20:54:29,775] Trial 164 finished with value: 0.6854789048676915 and parameters: {'n_estimators': 90, 'max_depth': 8, 'min_samples_split': 2, 'min_samples_leaf': 12, 'criterion': 'gini', 'class_weight': 'balanced', 'max_features': 19}. Best is trial 151 with value: 0.6933315178046233.\n",
      "[W 2020-08-17 20:54:31,300] Trial 165 failed, because the objective function returned nan.\n",
      "[I 2020-08-17 20:55:06,939] Trial 166 finished with value: 0.6898403338062277 and parameters: {'n_estimators': 298, 'max_depth': 8, 'min_samples_split': 3, 'min_samples_leaf': 11, 'criterion': 'gini', 'class_weight': 'balanced', 'max_features': 20}. Best is trial 151 with value: 0.6933315178046233.\n",
      "[I 2020-08-17 20:55:18,246] Trial 167 finished with value: 0.6734808938123034 and parameters: {'n_estimators': 99, 'max_depth': 7, 'min_samples_split': 4, 'min_samples_leaf': 13, 'criterion': 'gini', 'class_weight': 'balanced', 'max_features': 16}. Best is trial 151 with value: 0.6933315178046233.\n",
      "[I 2020-08-17 20:55:39,329] Trial 168 finished with value: 0.6906377793932061 and parameters: {'n_estimators': 173, 'max_depth': 8, 'min_samples_split': 5, 'min_samples_leaf': 10, 'criterion': 'gini', 'class_weight': 'balanced', 'max_features': 19}. Best is trial 151 with value: 0.6933315178046233.\n",
      "[W 2020-08-17 20:55:40,793] Trial 169 failed, because the objective function returned nan.\n",
      "[W 2020-08-17 20:55:42,245] Trial 170 failed, because the objective function returned nan.\n",
      "[I 2020-08-17 20:56:05,162] Trial 171 finished with value: 0.6891987147115238 and parameters: {'n_estimators': 191, 'max_depth': 8, 'min_samples_split': 4, 'min_samples_leaf': 11, 'criterion': 'gini', 'class_weight': 'balanced', 'max_features': 19}. Best is trial 151 with value: 0.6933315178046233.\n",
      "[I 2020-08-17 20:56:25,955] Trial 172 finished with value: 0.6902423651967542 and parameters: {'n_estimators': 174, 'max_depth': 8, 'min_samples_split': 5, 'min_samples_leaf': 10, 'criterion': 'gini', 'class_weight': 'balanced', 'max_features': 18}. Best is trial 151 with value: 0.6933315178046233.\n",
      "[I 2020-08-17 20:56:48,195] Trial 173 finished with value: 0.6905468629824225 and parameters: {'n_estimators': 183, 'max_depth': 8, 'min_samples_split': 4, 'min_samples_leaf': 10, 'criterion': 'gini', 'class_weight': 'balanced', 'max_features': 20}. Best is trial 151 with value: 0.6933315178046233.\n",
      "[I 2020-08-17 20:57:11,673] Trial 174 finished with value: 0.6910371938399222 and parameters: {'n_estimators': 189, 'max_depth': 8, 'min_samples_split': 3, 'min_samples_leaf': 9, 'criterion': 'gini', 'class_weight': 'balanced', 'max_features': 19}. Best is trial 151 with value: 0.6933315178046233.\n",
      "[I 2020-08-17 20:57:36,700] Trial 175 finished with value: 0.689781554508559 and parameters: {'n_estimators': 211, 'max_depth': 8, 'min_samples_split': 3, 'min_samples_leaf': 9, 'criterion': 'gini', 'class_weight': 'balanced', 'max_features': 19}. Best is trial 151 with value: 0.6933315178046233.\n",
      "[I 2020-08-17 20:57:57,807] Trial 176 finished with value: 0.6879267592450398 and parameters: {'n_estimators': 182, 'max_depth': 8, 'min_samples_split': 2, 'min_samples_leaf': 9, 'criterion': 'gini', 'class_weight': 'balanced', 'max_features': 17}. Best is trial 151 with value: 0.6933315178046233.\n",
      "[W 2020-08-17 20:57:59,353] Trial 177 failed, because the objective function returned nan.\n",
      "[W 2020-08-17 20:58:00,801] Trial 178 failed, because the objective function returned nan.\n",
      "[W 2020-08-17 20:58:02,288] Trial 179 failed, because the objective function returned nan.\n",
      "[W 2020-08-17 20:58:03,705] Trial 180 failed, because the objective function returned nan.\n",
      "[W 2020-08-17 20:58:05,162] Trial 181 failed, because the objective function returned nan.\n",
      "[W 2020-08-17 20:58:06,600] Trial 182 failed, because the objective function returned nan.\n",
      "[W 2020-08-17 20:58:08,058] Trial 183 failed, because the objective function returned nan.\n",
      "[W 2020-08-17 20:58:09,521] Trial 184 failed, because the objective function returned nan.\n",
      "[I 2020-08-17 20:58:31,330] Trial 185 finished with value: 0.6804449579953797 and parameters: {'n_estimators': 188, 'max_depth': 7, 'min_samples_split': 9, 'min_samples_leaf': 8, 'criterion': 'entropy', 'class_weight': 'balanced', 'max_features': 19}. Best is trial 151 with value: 0.6933315178046233.\n",
      "[I 2020-08-17 20:58:54,603] Trial 186 finished with value: 0.690905931489372 and parameters: {'n_estimators': 198, 'max_depth': 8, 'min_samples_split': 3, 'min_samples_leaf': 6, 'criterion': 'gini', 'class_weight': 'balanced', 'max_features': 18}. Best is trial 151 with value: 0.6933315178046233.\n",
      "[W 2020-08-17 20:58:56,059] Trial 187 failed, because the objective function returned nan.\n",
      "[W 2020-08-17 20:58:57,547] Trial 188 failed, because the objective function returned nan.\n",
      "[I 2020-08-17 20:59:21,262] Trial 189 finished with value: 0.6888106521429103 and parameters: {'n_estimators': 199, 'max_depth': 8, 'min_samples_split': 3, 'min_samples_leaf': 6, 'criterion': 'gini', 'class_weight': 'balanced', 'max_features': 18}. Best is trial 151 with value: 0.6933315178046233.\n",
      "[W 2020-08-17 20:59:22,697] Trial 190 failed, because the objective function returned nan.\n",
      "[I 2020-08-17 20:59:46,514] Trial 191 finished with value: 0.6893201264663225 and parameters: {'n_estimators': 205, 'max_depth': 8, 'min_samples_split': 3, 'min_samples_leaf': 7, 'criterion': 'gini', 'class_weight': 'balanced', 'max_features': 17}. Best is trial 151 with value: 0.6933315178046233.\n",
      "[I 2020-08-17 21:00:06,977] Trial 192 finished with value: 0.6905141682905155 and parameters: {'n_estimators': 169, 'max_depth': 8, 'min_samples_split': 3, 'min_samples_leaf': 9, 'criterion': 'gini', 'class_weight': 'balanced', 'max_features': 19}. Best is trial 151 with value: 0.6933315178046233.\n",
      "[I 2020-08-17 21:00:29,810] Trial 193 finished with value: 0.6896202076834081 and parameters: {'n_estimators': 194, 'max_depth': 8, 'min_samples_split': 4, 'min_samples_leaf': 8, 'criterion': 'gini', 'class_weight': 'balanced', 'max_features': 18}. Best is trial 151 with value: 0.6933315178046233.\n",
      "[I 2020-08-17 21:00:53,788] Trial 194 finished with value: 0.685803831890013 and parameters: {'n_estimators': 219, 'max_depth': 8, 'min_samples_split': 2, 'min_samples_leaf': 7, 'criterion': 'gini', 'class_weight': 'balanced', 'max_features': 15}. Best is trial 151 with value: 0.6933315178046233.\n",
      "[W 2020-08-17 21:00:55,336] Trial 195 failed, because the objective function returned nan.\n",
      "[W 2020-08-17 21:00:56,790] Trial 196 failed, because the objective function returned nan.\n",
      "[W 2020-08-17 21:00:58,377] Trial 197 failed, because the objective function returned nan.\n",
      "[W 2020-08-17 21:00:59,897] Trial 198 failed, because the objective function returned nan.\n",
      "[I 2020-08-17 21:01:21,480] Trial 199 finished with value: 0.6896317958217033 and parameters: {'n_estimators': 177, 'max_depth': 8, 'min_samples_split': 4, 'min_samples_leaf': 10, 'criterion': 'gini', 'class_weight': 'balanced', 'max_features': 19}. Best is trial 151 with value: 0.6933315178046233.\n",
      "[W 2020-08-17 21:01:22,893] Trial 200 failed, because the objective function returned nan.\n",
      "[W 2020-08-17 21:01:24,333] Trial 201 failed, because the objective function returned nan.\n",
      "[W 2020-08-17 21:01:25,837] Trial 202 failed, because the objective function returned nan.\n",
      "[I 2020-08-17 21:01:50,758] Trial 203 finished with value: 0.6926435966191 and parameters: {'n_estimators': 205, 'max_depth': 8, 'min_samples_split': 9, 'min_samples_leaf': 8, 'criterion': 'gini', 'class_weight': 'balanced', 'max_features': 19}. Best is trial 151 with value: 0.6933315178046233.\n",
      "[I 2020-08-17 21:02:12,091] Trial 204 finished with value: 0.6468333264857269 and parameters: {'n_estimators': 243, 'max_depth': 4, 'min_samples_split': 9, 'min_samples_leaf': 7, 'criterion': 'gini', 'class_weight': 'balanced', 'max_features': 16}. Best is trial 151 with value: 0.6933315178046233.\n",
      "[W 2020-08-17 21:02:13,560] Trial 205 failed, because the objective function returned nan.\n",
      "[W 2020-08-17 21:02:15,293] Trial 206 failed, because the objective function returned nan.\n",
      "[W 2020-08-17 21:02:16,729] Trial 207 failed, because the objective function returned nan.\n",
      "[W 2020-08-17 21:02:18,135] Trial 208 failed, because the objective function returned nan.\n",
      "[W 2020-08-17 21:02:19,581] Trial 209 failed, because the objective function returned nan.\n",
      "[W 2020-08-17 21:02:21,005] Trial 210 failed, because the objective function returned nan.\n",
      "[I 2020-08-17 21:02:42,274] Trial 211 finished with value: 0.6887819587816252 and parameters: {'n_estimators': 162, 'max_depth': 8, 'min_samples_split': 9, 'min_samples_leaf': 9, 'criterion': 'gini', 'class_weight': 'balanced_subsample', 'max_features': 18}. Best is trial 151 with value: 0.6933315178046233.\n",
      "[W 2020-08-17 21:02:43,749] Trial 212 failed, because the objective function returned nan.\n",
      "[I 2020-08-17 21:03:08,417] Trial 213 finished with value: 0.6864520105813157 and parameters: {'n_estimators': 208, 'max_depth': 8, 'min_samples_split': 9, 'min_samples_leaf': 8, 'criterion': 'entropy', 'class_weight': 'balanced', 'max_features': 17}. Best is trial 151 with value: 0.6933315178046233.\n",
      "[W 2020-08-17 21:03:09,856] Trial 214 failed, because the objective function returned nan.\n",
      "[W 2020-08-17 21:03:11,320] Trial 215 failed, because the objective function returned nan.\n",
      "[W 2020-08-17 21:03:12,795] Trial 216 failed, because the objective function returned nan.\n",
      "[W 2020-08-17 21:03:14,253] Trial 217 failed, because the objective function returned nan.\n",
      "[W 2020-08-17 21:03:15,720] Trial 218 failed, because the objective function returned nan.\n",
      "[W 2020-08-17 21:03:17,179] Trial 219 failed, because the objective function returned nan.\n",
      "[I 2020-08-17 21:03:44,532] Trial 220 finished with value: 0.6934089481947603 and parameters: {'n_estimators': 225, 'max_depth': 8, 'min_samples_split': 8, 'min_samples_leaf': 8, 'criterion': 'gini', 'class_weight': 'balanced', 'max_features': 19}. Best is trial 220 with value: 0.6934089481947603.\n",
      "[W 2020-08-17 21:03:46,012] Trial 221 failed, because the objective function returned nan.\n",
      "[W 2020-08-17 21:03:47,492] Trial 222 failed, because the objective function returned nan.\n",
      "[I 2020-08-17 21:04:11,784] Trial 223 finished with value: 0.6912685319199262 and parameters: {'n_estimators': 201, 'max_depth': 8, 'min_samples_split': 8, 'min_samples_leaf': 8, 'criterion': 'gini', 'class_weight': 'balanced', 'max_features': 19}. Best is trial 220 with value: 0.6934089481947603.\n",
      "[I 2020-08-17 21:04:39,086] Trial 224 finished with value: 0.6902228432295697 and parameters: {'n_estimators': 230, 'max_depth': 8, 'min_samples_split': 8, 'min_samples_leaf': 6, 'criterion': 'gini', 'class_weight': 'balanced', 'max_features': 18}. Best is trial 220 with value: 0.6934089481947603.\n",
      "[I 2020-08-17 21:05:05,505] Trial 225 finished with value: 0.6901683370022156 and parameters: {'n_estimators': 218, 'max_depth': 8, 'min_samples_split': 8, 'min_samples_leaf': 8, 'criterion': 'gini', 'class_weight': 'balanced', 'max_features': 19}. Best is trial 220 with value: 0.6934089481947603.\n",
      "[W 2020-08-17 21:05:06,946] Trial 226 failed, because the objective function returned nan.\n",
      "[W 2020-08-17 21:05:08,410] Trial 227 failed, because the objective function returned nan.\n",
      "[I 2020-08-17 21:05:33,268] Trial 228 finished with value: 0.6917725140224037 and parameters: {'n_estimators': 205, 'max_depth': 8, 'min_samples_split': 8, 'min_samples_leaf': 7, 'criterion': 'gini', 'class_weight': 'balanced', 'max_features': 19}. Best is trial 220 with value: 0.6934089481947603.\n",
      "[I 2020-08-17 21:06:02,176] Trial 229 finished with value: 0.691153035542652 and parameters: {'n_estimators': 230, 'max_depth': 8, 'min_samples_split': 8, 'min_samples_leaf': 7, 'criterion': 'gini', 'class_weight': 'balanced', 'max_features': 20}. Best is trial 220 with value: 0.6934089481947603.\n",
      "[I 2020-08-17 21:06:29,790] Trial 230 finished with value: 0.6902061456100487 and parameters: {'n_estimators': 230, 'max_depth': 8, 'min_samples_split': 8, 'min_samples_leaf': 7, 'criterion': 'gini', 'class_weight': 'balanced', 'max_features': 20}. Best is trial 220 with value: 0.6934089481947603.\n",
      "[I 2020-08-17 21:07:01,930] Trial 231 finished with value: 0.6925891730075404 and parameters: {'n_estimators': 258, 'max_depth': 8, 'min_samples_split': 9, 'min_samples_leaf': 6, 'criterion': 'gini', 'class_weight': 'balanced', 'max_features': 20}. Best is trial 220 with value: 0.6934089481947603.\n",
      "[I 2020-08-17 21:07:27,767] Trial 232 finished with value: 0.6864493379163046 and parameters: {'n_estimators': 224, 'max_depth': 7, 'min_samples_split': 9, 'min_samples_leaf': 7, 'criterion': 'gini', 'class_weight': 'balanced', 'max_features': 20}. Best is trial 220 with value: 0.6934089481947603.\n",
      "[W 2020-08-17 21:07:29,241] Trial 233 failed, because the objective function returned nan.\n",
      "[W 2020-08-17 21:07:30,749] Trial 234 failed, because the objective function returned nan.\n",
      "[W 2020-08-17 21:07:32,224] Trial 235 failed, because the objective function returned nan.\n",
      "[I 2020-08-17 21:08:06,774] Trial 236 finished with value: 0.6915310722064263 and parameters: {'n_estimators': 275, 'max_depth': 8, 'min_samples_split': 8, 'min_samples_leaf': 7, 'criterion': 'entropy', 'class_weight': 'balanced', 'max_features': 20}. Best is trial 220 with value: 0.6934089481947603.\n",
      "[W 2020-08-17 21:08:08,240] Trial 237 failed, because the objective function returned nan.\n",
      "[W 2020-08-17 21:08:09,716] Trial 238 failed, because the objective function returned nan.\n",
      "[I 2020-08-17 21:08:42,743] Trial 239 finished with value: 0.6918028801977268 and parameters: {'n_estimators': 264, 'max_depth': 8, 'min_samples_split': 8, 'min_samples_leaf': 6, 'criterion': 'entropy', 'class_weight': 'balanced', 'max_features': 20}. Best is trial 220 with value: 0.6934089481947603.\n",
      "[I 2020-08-17 21:09:14,753] Trial 240 finished with value: 0.6920785249734193 and parameters: {'n_estimators': 261, 'max_depth': 8, 'min_samples_split': 8, 'min_samples_leaf': 5, 'criterion': 'entropy', 'class_weight': 'balanced', 'max_features': 20}. Best is trial 220 with value: 0.6934089481947603.\n",
      "[I 2020-08-17 21:09:47,960] Trial 241 finished with value: 0.6915565863872695 and parameters: {'n_estimators': 261, 'max_depth': 8, 'min_samples_split': 8, 'min_samples_leaf': 5, 'criterion': 'entropy', 'class_weight': 'balanced', 'max_features': 20}. Best is trial 220 with value: 0.6934089481947603.\n",
      "[I 2020-08-17 21:10:22,092] Trial 242 finished with value: 0.6908362911714757 and parameters: {'n_estimators': 260, 'max_depth': 8, 'min_samples_split': 9, 'min_samples_leaf': 5, 'criterion': 'entropy', 'class_weight': 'balanced', 'max_features': 20}. Best is trial 220 with value: 0.6934089481947603.\n",
      "[I 2020-08-17 21:10:54,682] Trial 243 finished with value: 0.6909435529984701 and parameters: {'n_estimators': 269, 'max_depth': 8, 'min_samples_split': 7, 'min_samples_leaf': 5, 'criterion': 'entropy', 'class_weight': 'balanced', 'max_features': 20}. Best is trial 220 with value: 0.6934089481947603.\n",
      "[I 2020-08-17 21:11:25,571] Trial 244 finished with value: 0.6926487780892719 and parameters: {'n_estimators': 257, 'max_depth': 8, 'min_samples_split': 8, 'min_samples_leaf': 6, 'criterion': 'entropy', 'class_weight': 'balanced', 'max_features': 20}. Best is trial 220 with value: 0.6934089481947603.\n"
     ]
    },
    {
     "name": "stderr",
     "output_type": "stream",
     "text": [
      "[I 2020-08-17 21:11:55,952] Trial 245 finished with value: 0.6916966407101364 and parameters: {'n_estimators': 253, 'max_depth': 8, 'min_samples_split': 7, 'min_samples_leaf': 6, 'criterion': 'entropy', 'class_weight': 'balanced', 'max_features': 20}. Best is trial 220 with value: 0.6934089481947603.\n",
      "[W 2020-08-17 21:11:57,433] Trial 246 failed, because the objective function returned nan.\n",
      "[I 2020-08-17 21:12:28,164] Trial 247 finished with value: 0.6916988944793789 and parameters: {'n_estimators': 250, 'max_depth': 8, 'min_samples_split': 7, 'min_samples_leaf': 6, 'criterion': 'entropy', 'class_weight': 'balanced', 'max_features': 20}. Best is trial 220 with value: 0.6934089481947603.\n",
      "[I 2020-08-17 21:12:58,611] Trial 248 finished with value: 0.6946803258718337 and parameters: {'n_estimators': 253, 'max_depth': 8, 'min_samples_split': 7, 'min_samples_leaf': 6, 'criterion': 'entropy', 'class_weight': 'balanced', 'max_features': 20}. Best is trial 248 with value: 0.6946803258718337.\n",
      "[I 2020-08-17 21:13:29,292] Trial 249 finished with value: 0.6912440398604617 and parameters: {'n_estimators': 251, 'max_depth': 8, 'min_samples_split': 7, 'min_samples_leaf': 6, 'criterion': 'entropy', 'class_weight': 'balanced', 'max_features': 20}. Best is trial 248 with value: 0.6946803258718337.\n",
      "[I 2020-08-17 21:13:50,130] Trial 250 finished with value: 0.6420756788938432 and parameters: {'n_estimators': 256, 'max_depth': 8, 'min_samples_split': 7, 'min_samples_leaf': 6, 'criterion': 'entropy', 'class_weight': 'balanced', 'max_features': 4}. Best is trial 248 with value: 0.6946803258718337.\n",
      "[I 2020-08-17 21:14:19,172] Trial 251 finished with value: 0.6908134780794921 and parameters: {'n_estimators': 239, 'max_depth': 8, 'min_samples_split': 7, 'min_samples_leaf': 6, 'criterion': 'entropy', 'class_weight': 'balanced', 'max_features': 20}. Best is trial 248 with value: 0.6946803258718337.\n",
      "[I 2020-08-17 21:14:51,947] Trial 252 finished with value: 0.6935393748054839 and parameters: {'n_estimators': 269, 'max_depth': 8, 'min_samples_split': 7, 'min_samples_leaf': 6, 'criterion': 'entropy', 'class_weight': 'balanced', 'max_features': 20}. Best is trial 248 with value: 0.6946803258718337.\n",
      "[W 2020-08-17 21:14:53,455] Trial 253 failed, because the objective function returned nan.\n",
      "[I 2020-08-17 21:15:27,673] Trial 254 finished with value: 0.6912744439979003 and parameters: {'n_estimators': 281, 'max_depth': 8, 'min_samples_split': 7, 'min_samples_leaf': 6, 'criterion': 'entropy', 'class_weight': 'balanced', 'max_features': 19}. Best is trial 248 with value: 0.6946803258718337.\n",
      "[I 2020-08-17 21:16:00,341] Trial 255 finished with value: 0.692671645462274 and parameters: {'n_estimators': 269, 'max_depth': 8, 'min_samples_split': 7, 'min_samples_leaf': 5, 'criterion': 'entropy', 'class_weight': 'balanced', 'max_features': 20}. Best is trial 248 with value: 0.6946803258718337.\n",
      "[W 2020-08-17 21:16:01,966] Trial 256 failed, because the objective function returned nan.\n",
      "[I 2020-08-17 21:16:35,056] Trial 257 finished with value: 0.6932652258302324 and parameters: {'n_estimators': 268, 'max_depth': 8, 'min_samples_split': 7, 'min_samples_leaf': 4, 'criterion': 'entropy', 'class_weight': 'balanced', 'max_features': 20}. Best is trial 248 with value: 0.6946803258718337.\n",
      "[I 2020-08-17 21:17:07,028] Trial 258 finished with value: 0.691797064666346 and parameters: {'n_estimators': 268, 'max_depth': 8, 'min_samples_split': 6, 'min_samples_leaf': 4, 'criterion': 'entropy', 'class_weight': 'balanced', 'max_features': 19}. Best is trial 248 with value: 0.6946803258718337.\n",
      "[I 2020-08-17 21:17:38,833] Trial 259 finished with value: 0.6917492551955065 and parameters: {'n_estimators': 268, 'max_depth': 8, 'min_samples_split': 6, 'min_samples_leaf': 4, 'criterion': 'entropy', 'class_weight': 'balanced', 'max_features': 19}. Best is trial 248 with value: 0.6946803258718337.\n",
      "[I 2020-08-17 21:18:13,239] Trial 260 finished with value: 0.6946542272961066 and parameters: {'n_estimators': 287, 'max_depth': 8, 'min_samples_split': 6, 'min_samples_leaf': 5, 'criterion': 'entropy', 'class_weight': 'balanced', 'max_features': 20}. Best is trial 248 with value: 0.6946803258718337.\n",
      "[I 2020-08-17 21:18:45,957] Trial 261 finished with value: 0.6840483919763548 and parameters: {'n_estimators': 291, 'max_depth': 7, 'min_samples_split': 6, 'min_samples_leaf': 5, 'criterion': 'entropy', 'class_weight': 'balanced', 'max_features': 20}. Best is trial 248 with value: 0.6946803258718337.\n",
      "[W 2020-08-17 21:18:47,522] Trial 262 failed, because the objective function returned nan.\n",
      "[I 2020-08-17 21:19:21,050] Trial 263 finished with value: 0.6921382844926708 and parameters: {'n_estimators': 282, 'max_depth': 8, 'min_samples_split': 7, 'min_samples_leaf': 5, 'criterion': 'entropy', 'class_weight': 'balanced', 'max_features': 20}. Best is trial 248 with value: 0.6946803258718337.\n",
      "[I 2020-08-17 21:19:55,794] Trial 264 finished with value: 0.6936027547184788 and parameters: {'n_estimators': 285, 'max_depth': 8, 'min_samples_split': 7, 'min_samples_leaf': 5, 'criterion': 'entropy', 'class_weight': 'balanced', 'max_features': 20}. Best is trial 248 with value: 0.6946803258718337.\n",
      "[I 2020-08-17 21:20:29,978] Trial 265 finished with value: 0.6918416782800889 and parameters: {'n_estimators': 285, 'max_depth': 8, 'min_samples_split': 7, 'min_samples_leaf': 5, 'criterion': 'entropy', 'class_weight': 'balanced', 'max_features': 20}. Best is trial 248 with value: 0.6946803258718337.\n",
      "[I 2020-08-17 21:21:05,922] Trial 266 finished with value: 0.6941203609395296 and parameters: {'n_estimators': 294, 'max_depth': 8, 'min_samples_split': 7, 'min_samples_leaf': 5, 'criterion': 'entropy', 'class_weight': 'balanced', 'max_features': 20}. Best is trial 248 with value: 0.6946803258718337.\n",
      "[I 2020-08-17 21:21:44,605] Trial 267 finished with value: 0.693776876897272 and parameters: {'n_estimators': 300, 'max_depth': 8, 'min_samples_split': 7, 'min_samples_leaf': 5, 'criterion': 'entropy', 'class_weight': 'balanced', 'max_features': 20}. Best is trial 248 with value: 0.6946803258718337.\n",
      "[I 2020-08-17 21:22:22,173] Trial 268 finished with value: 0.6939249205469575 and parameters: {'n_estimators': 299, 'max_depth': 8, 'min_samples_split': 6, 'min_samples_leaf': 3, 'criterion': 'entropy', 'class_weight': 'balanced', 'max_features': 19}. Best is trial 248 with value: 0.6946803258718337.\n",
      "[I 2020-08-17 21:22:59,859] Trial 269 finished with value: 0.6936827391630551 and parameters: {'n_estimators': 300, 'max_depth': 8, 'min_samples_split': 6, 'min_samples_leaf': 3, 'criterion': 'entropy', 'class_weight': 'balanced', 'max_features': 19}. Best is trial 248 with value: 0.6946803258718337.\n",
      "[I 2020-08-17 21:23:35,893] Trial 270 finished with value: 0.6936914794763865 and parameters: {'n_estimators': 300, 'max_depth': 8, 'min_samples_split': 6, 'min_samples_leaf': 3, 'criterion': 'entropy', 'class_weight': 'balanced', 'max_features': 19}. Best is trial 248 with value: 0.6946803258718337.\n",
      "[I 2020-08-17 21:23:59,216] Trial 271 finished with value: 0.6314076735524515 and parameters: {'n_estimators': 297, 'max_depth': 2, 'min_samples_split': 6, 'min_samples_leaf': 3, 'criterion': 'entropy', 'class_weight': 'balanced', 'max_features': 19}. Best is trial 248 with value: 0.6946803258718337.\n",
      "[I 2020-08-17 21:24:34,908] Trial 272 finished with value: 0.6919313864166527 and parameters: {'n_estimators': 293, 'max_depth': 8, 'min_samples_split': 6, 'min_samples_leaf': 3, 'criterion': 'entropy', 'class_weight': 'balanced', 'max_features': 19}. Best is trial 248 with value: 0.6946803258718337.\n",
      "[I 2020-08-17 21:25:00,483] Trial 273 finished with value: 0.6563168003692541 and parameters: {'n_estimators': 300, 'max_depth': 8, 'min_samples_split': 6, 'min_samples_leaf': 4, 'criterion': 'entropy', 'class_weight': 'balanced', 'max_features': 5}. Best is trial 248 with value: 0.6946803258718337.\n",
      "[I 2020-08-17 21:25:35,025] Trial 274 finished with value: 0.693813527389578 and parameters: {'n_estimators': 291, 'max_depth': 8, 'min_samples_split': 6, 'min_samples_leaf': 4, 'criterion': 'entropy', 'class_weight': 'balanced', 'max_features': 19}. Best is trial 248 with value: 0.6946803258718337.\n",
      "[I 2020-08-17 21:26:09,891] Trial 275 finished with value: 0.6920723836473902 and parameters: {'n_estimators': 290, 'max_depth': 8, 'min_samples_split': 6, 'min_samples_leaf': 4, 'criterion': 'entropy', 'class_weight': 'balanced', 'max_features': 19}. Best is trial 248 with value: 0.6946803258718337.\n",
      "[I 2020-08-17 21:26:45,616] Trial 276 finished with value: 0.6951434956729752 and parameters: {'n_estimators': 278, 'max_depth': 8, 'min_samples_split': 6, 'min_samples_leaf': 3, 'criterion': 'entropy', 'class_weight': 'balanced', 'max_features': 20}. Best is trial 276 with value: 0.6951434956729752.\n",
      "[I 2020-08-17 21:27:21,980] Trial 277 finished with value: 0.6930182168836485 and parameters: {'n_estimators': 279, 'max_depth': 8, 'min_samples_split': 6, 'min_samples_leaf': 3, 'criterion': 'entropy', 'class_weight': 'balanced_subsample', 'max_features': 19}. Best is trial 276 with value: 0.6951434956729752.\n",
      "[I 2020-08-17 21:27:57,169] Trial 278 finished with value: 0.6921979029121633 and parameters: {'n_estimators': 276, 'max_depth': 8, 'min_samples_split': 6, 'min_samples_leaf': 3, 'criterion': 'entropy', 'class_weight': 'balanced_subsample', 'max_features': 18}. Best is trial 276 with value: 0.6951434956729752.\n",
      "[I 2020-08-17 21:28:33,616] Trial 279 finished with value: 0.6938025753071627 and parameters: {'n_estimators': 280, 'max_depth': 8, 'min_samples_split': 6, 'min_samples_leaf': 3, 'criterion': 'entropy', 'class_weight': 'balanced_subsample', 'max_features': 19}. Best is trial 276 with value: 0.6951434956729752.\n",
      "[I 2020-08-17 21:29:10,336] Trial 280 finished with value: 0.6921254126292895 and parameters: {'n_estimators': 279, 'max_depth': 8, 'min_samples_split': 6, 'min_samples_leaf': 3, 'criterion': 'entropy', 'class_weight': 'balanced_subsample', 'max_features': 19}. Best is trial 276 with value: 0.6951434956729752.\n",
      "[I 2020-08-17 21:29:47,123] Trial 281 finished with value: 0.6926601808610489 and parameters: {'n_estimators': 289, 'max_depth': 8, 'min_samples_split': 6, 'min_samples_leaf': 3, 'criterion': 'entropy', 'class_weight': 'balanced_subsample', 'max_features': 18}. Best is trial 276 with value: 0.6951434956729752.\n",
      "[I 2020-08-17 21:30:25,831] Trial 282 finished with value: 0.6942751894649477 and parameters: {'n_estimators': 296, 'max_depth': 8, 'min_samples_split': 6, 'min_samples_leaf': 2, 'criterion': 'entropy', 'class_weight': 'balanced_subsample', 'max_features': 19}. Best is trial 276 with value: 0.6951434956729752.\n",
      "[I 2020-08-17 21:30:59,444] Trial 283 finished with value: 0.6749901567647263 and parameters: {'n_estimators': 296, 'max_depth': 6, 'min_samples_split': 6, 'min_samples_leaf': 2, 'criterion': 'entropy', 'class_weight': 'balanced_subsample', 'max_features': 19}. Best is trial 276 with value: 0.6951434956729752.\n",
      "[I 2020-08-17 21:31:36,737] Trial 284 finished with value: 0.6946507471996636 and parameters: {'n_estimators': 285, 'max_depth': 8, 'min_samples_split': 6, 'min_samples_leaf': 2, 'criterion': 'entropy', 'class_weight': 'balanced_subsample', 'max_features': 19}. Best is trial 276 with value: 0.6951434956729752.\n",
      "[I 2020-08-17 21:32:13,331] Trial 285 finished with value: 0.6942925324850814 and parameters: {'n_estimators': 286, 'max_depth': 8, 'min_samples_split': 6, 'min_samples_leaf': 2, 'criterion': 'entropy', 'class_weight': 'balanced_subsample', 'max_features': 19}. Best is trial 276 with value: 0.6951434956729752.\n",
      "[I 2020-08-17 21:32:49,844] Trial 286 finished with value: 0.6928115947658695 and parameters: {'n_estimators': 286, 'max_depth': 8, 'min_samples_split': 6, 'min_samples_leaf': 2, 'criterion': 'entropy', 'class_weight': 'balanced_subsample', 'max_features': 18}. Best is trial 276 with value: 0.6951434956729752.\n",
      "[I 2020-08-17 21:33:29,478] Trial 287 finished with value: 0.6930661350051712 and parameters: {'n_estimators': 300, 'max_depth': 8, 'min_samples_split': 6, 'min_samples_leaf': 2, 'criterion': 'entropy', 'class_weight': 'balanced_subsample', 'max_features': 19}. Best is trial 276 with value: 0.6951434956729752.\n",
      "[I 2020-08-17 21:34:06,269] Trial 288 finished with value: 0.6940423464688783 and parameters: {'n_estimators': 294, 'max_depth': 8, 'min_samples_split': 6, 'min_samples_leaf': 2, 'criterion': 'entropy', 'class_weight': 'balanced_subsample', 'max_features': 18}. Best is trial 276 with value: 0.6951434956729752.\n",
      "[I 2020-08-17 21:34:42,874] Trial 289 finished with value: 0.694500448514966 and parameters: {'n_estimators': 287, 'max_depth': 8, 'min_samples_split': 6, 'min_samples_leaf': 2, 'criterion': 'entropy', 'class_weight': 'balanced_subsample', 'max_features': 18}. Best is trial 276 with value: 0.6951434956729752.\n",
      "[I 2020-08-17 21:35:19,632] Trial 290 finished with value: 0.695440661944464 and parameters: {'n_estimators': 286, 'max_depth': 8, 'min_samples_split': 6, 'min_samples_leaf': 2, 'criterion': 'entropy', 'class_weight': 'balanced_subsample', 'max_features': 18}. Best is trial 290 with value: 0.695440661944464.\n",
      "[I 2020-08-17 21:35:56,275] Trial 291 finished with value: 0.6936278643451043 and parameters: {'n_estimators': 286, 'max_depth': 8, 'min_samples_split': 6, 'min_samples_leaf': 2, 'criterion': 'entropy', 'class_weight': 'balanced_subsample', 'max_features': 18}. Best is trial 290 with value: 0.695440661944464.\n",
      "[I 2020-08-17 21:36:33,289] Trial 292 finished with value: 0.6929555913807744 and parameters: {'n_estimators': 293, 'max_depth': 8, 'min_samples_split': 6, 'min_samples_leaf': 2, 'criterion': 'entropy', 'class_weight': 'balanced_subsample', 'max_features': 18}. Best is trial 290 with value: 0.695440661944464.\n",
      "[I 2020-08-17 21:37:11,291] Trial 293 finished with value: 0.696948896200944 and parameters: {'n_estimators': 295, 'max_depth': 8, 'min_samples_split': 6, 'min_samples_leaf': 1, 'criterion': 'entropy', 'class_weight': 'balanced_subsample', 'max_features': 18}. Best is trial 293 with value: 0.696948896200944.\n",
      "[I 2020-08-17 21:37:48,556] Trial 294 finished with value: 0.693497091133243 and parameters: {'n_estimators': 300, 'max_depth': 8, 'min_samples_split': 6, 'min_samples_leaf': 1, 'criterion': 'entropy', 'class_weight': 'balanced_subsample', 'max_features': 17}. Best is trial 293 with value: 0.696948896200944.\n",
      "[I 2020-08-17 21:38:25,572] Trial 295 finished with value: 0.6931383507835249 and parameters: {'n_estimators': 294, 'max_depth': 8, 'min_samples_split': 6, 'min_samples_leaf': 2, 'criterion': 'entropy', 'class_weight': 'balanced_subsample', 'max_features': 18}. Best is trial 293 with value: 0.696948896200944.\n",
      "[I 2020-08-17 21:39:02,190] Trial 296 finished with value: 0.6926499372888909 and parameters: {'n_estimators': 287, 'max_depth': 8, 'min_samples_split': 6, 'min_samples_leaf': 2, 'criterion': 'entropy', 'class_weight': 'balanced_subsample', 'max_features': 18}. Best is trial 293 with value: 0.696948896200944.\n",
      "[I 2020-08-17 21:39:39,984] Trial 297 finished with value: 0.6937083330211467 and parameters: {'n_estimators': 300, 'max_depth': 8, 'min_samples_split': 6, 'min_samples_leaf': 1, 'criterion': 'entropy', 'class_weight': 'balanced_subsample', 'max_features': 18}. Best is trial 293 with value: 0.696948896200944.\n",
      "[I 2020-08-17 21:40:17,900] Trial 298 finished with value: 0.6951621115404711 and parameters: {'n_estimators': 296, 'max_depth': 8, 'min_samples_split': 6, 'min_samples_leaf': 1, 'criterion': 'entropy', 'class_weight': 'balanced_subsample', 'max_features': 18}. Best is trial 293 with value: 0.696948896200944.\n",
      "[I 2020-08-17 21:40:54,548] Trial 299 finished with value: 0.6922209997256781 and parameters: {'n_estimators': 294, 'max_depth': 8, 'min_samples_split': 5, 'min_samples_leaf': 1, 'criterion': 'entropy', 'class_weight': 'balanced_subsample', 'max_features': 17}. Best is trial 293 with value: 0.696948896200944.\n"
     ]
    },
    {
     "name": "stderr",
     "output_type": "stream",
     "text": [
      "[I 2020-08-17 21:41:24,958] Trial 300 finished with value: 0.663423065177313 and parameters: {'n_estimators': 282, 'max_depth': 5, 'min_samples_split': 6, 'min_samples_leaf': 1, 'criterion': 'entropy', 'class_weight': 'balanced_subsample', 'max_features': 18}. Best is trial 293 with value: 0.696948896200944.\n",
      "[I 2020-08-17 21:42:01,753] Trial 301 finished with value: 0.6943128231952719 and parameters: {'n_estimators': 290, 'max_depth': 8, 'min_samples_split': 6, 'min_samples_leaf': 1, 'criterion': 'entropy', 'class_weight': 'balanced_subsample', 'max_features': 18}. Best is trial 293 with value: 0.696948896200944.\n",
      "[I 2020-08-17 21:42:38,375] Trial 302 finished with value: 0.6913478055002359 and parameters: {'n_estimators': 289, 'max_depth': 8, 'min_samples_split': 5, 'min_samples_leaf': 1, 'criterion': 'entropy', 'class_weight': 'balanced_subsample', 'max_features': 17}. Best is trial 293 with value: 0.696948896200944.\n",
      "[I 2020-08-17 21:43:14,426] Trial 303 finished with value: 0.6934199033195355 and parameters: {'n_estimators': 276, 'max_depth': 8, 'min_samples_split': 6, 'min_samples_leaf': 2, 'criterion': 'entropy', 'class_weight': 'balanced_subsample', 'max_features': 18}. Best is trial 293 with value: 0.696948896200944.\n",
      "[I 2020-08-17 21:43:53,619] Trial 304 finished with value: 0.6943522060288987 and parameters: {'n_estimators': 300, 'max_depth': 8, 'min_samples_split': 6, 'min_samples_leaf': 1, 'criterion': 'entropy', 'class_weight': 'balanced_subsample', 'max_features': 18}. Best is trial 293 with value: 0.696948896200944.\n",
      "[I 2020-08-17 21:44:30,307] Trial 305 finished with value: 0.6935074764137925 and parameters: {'n_estimators': 295, 'max_depth': 8, 'min_samples_split': 6, 'min_samples_leaf': 1, 'criterion': 'entropy', 'class_weight': 'balanced_subsample', 'max_features': 17}. Best is trial 293 with value: 0.696948896200944.\n",
      "[I 2020-08-17 21:45:07,659] Trial 306 finished with value: 0.6950867660392814 and parameters: {'n_estimators': 290, 'max_depth': 8, 'min_samples_split': 6, 'min_samples_leaf': 1, 'criterion': 'entropy', 'class_weight': 'balanced_subsample', 'max_features': 18}. Best is trial 293 with value: 0.696948896200944.\n",
      "[I 2020-08-17 21:45:45,547] Trial 307 finished with value: 0.694793868073479 and parameters: {'n_estimators': 290, 'max_depth': 8, 'min_samples_split': 6, 'min_samples_leaf': 2, 'criterion': 'entropy', 'class_weight': 'balanced_subsample', 'max_features': 18}. Best is trial 293 with value: 0.696948896200944.\n",
      "[I 2020-08-17 21:46:22,287] Trial 308 finished with value: 0.6924309505280111 and parameters: {'n_estimators': 290, 'max_depth': 8, 'min_samples_split': 6, 'min_samples_leaf': 2, 'criterion': 'entropy', 'class_weight': 'balanced_subsample', 'max_features': 18}. Best is trial 293 with value: 0.696948896200944.\n",
      "[I 2020-08-17 21:46:57,737] Trial 309 finished with value: 0.6926544144602582 and parameters: {'n_estimators': 284, 'max_depth': 8, 'min_samples_split': 6, 'min_samples_leaf': 1, 'criterion': 'entropy', 'class_weight': 'balanced_subsample', 'max_features': 17}. Best is trial 293 with value: 0.696948896200944.\n",
      "[I 2020-08-17 21:47:33,438] Trial 310 finished with value: 0.6941054811608153 and parameters: {'n_estimators': 279, 'max_depth': 8, 'min_samples_split': 6, 'min_samples_leaf': 2, 'criterion': 'entropy', 'class_weight': 'balanced_subsample', 'max_features': 18}. Best is trial 293 with value: 0.696948896200944.\n",
      "[I 2020-08-17 21:48:09,179] Trial 311 finished with value: 0.6932703868971141 and parameters: {'n_estimators': 274, 'max_depth': 8, 'min_samples_split': 5, 'min_samples_leaf': 2, 'criterion': 'entropy', 'class_weight': 'balanced_subsample', 'max_features': 18}. Best is trial 293 with value: 0.696948896200944.\n",
      "[I 2020-08-17 21:48:45,417] Trial 312 finished with value: 0.6949136160616366 and parameters: {'n_estimators': 291, 'max_depth': 8, 'min_samples_split': 6, 'min_samples_leaf': 1, 'criterion': 'entropy', 'class_weight': 'balanced_subsample', 'max_features': 17}. Best is trial 293 with value: 0.696948896200944.\n",
      "[I 2020-08-17 21:49:21,689] Trial 313 finished with value: 0.6930049850027481 and parameters: {'n_estimators': 295, 'max_depth': 8, 'min_samples_split': 5, 'min_samples_leaf': 1, 'criterion': 'entropy', 'class_weight': 'balanced_subsample', 'max_features': 17}. Best is trial 293 with value: 0.696948896200944.\n",
      "[I 2020-08-17 21:49:58,904] Trial 314 finished with value: 0.6943284012066876 and parameters: {'n_estimators': 290, 'max_depth': 8, 'min_samples_split': 6, 'min_samples_leaf': 2, 'criterion': 'entropy', 'class_weight': 'balanced_subsample', 'max_features': 18}. Best is trial 293 with value: 0.696948896200944.\n",
      "[I 2020-08-17 21:50:35,106] Trial 315 finished with value: 0.6915594438733665 and parameters: {'n_estimators': 287, 'max_depth': 8, 'min_samples_split': 6, 'min_samples_leaf': 2, 'criterion': 'entropy', 'class_weight': 'balanced_subsample', 'max_features': 18}. Best is trial 293 with value: 0.696948896200944.\n",
      "[I 2020-08-17 21:51:10,668] Trial 316 finished with value: 0.6930706024968811 and parameters: {'n_estimators': 280, 'max_depth': 8, 'min_samples_split': 6, 'min_samples_leaf': 1, 'criterion': 'entropy', 'class_weight': 'balanced_subsample', 'max_features': 17}. Best is trial 293 with value: 0.696948896200944.\n",
      "[I 2020-08-17 21:51:47,332] Trial 317 finished with value: 0.6914682528316444 and parameters: {'n_estimators': 291, 'max_depth': 8, 'min_samples_split': 6, 'min_samples_leaf': 2, 'criterion': 'entropy', 'class_weight': 'balanced_subsample', 'max_features': 18}. Best is trial 293 with value: 0.696948896200944.\n",
      "[I 2020-08-17 21:52:22,777] Trial 318 finished with value: 0.6906793001547779 and parameters: {'n_estimators': 284, 'max_depth': 8, 'min_samples_split': 6, 'min_samples_leaf': 2, 'criterion': 'entropy', 'class_weight': 'balanced_subsample', 'max_features': 17}. Best is trial 293 with value: 0.696948896200944.\n",
      "[I 2020-08-17 21:53:00,958] Trial 319 finished with value: 0.695094978876705 and parameters: {'n_estimators': 296, 'max_depth': 8, 'min_samples_split': 6, 'min_samples_leaf': 1, 'criterion': 'entropy', 'class_weight': 'balanced_subsample', 'max_features': 18}. Best is trial 293 with value: 0.696948896200944.\n",
      "[I 2020-08-17 21:53:40,696] Trial 320 finished with value: 0.6939221028855329 and parameters: {'n_estimators': 295, 'max_depth': 8, 'min_samples_split': 6, 'min_samples_leaf': 1, 'criterion': 'entropy', 'class_weight': 'balanced_subsample', 'max_features': 18}. Best is trial 293 with value: 0.696948896200944.\n",
      "[I 2020-08-17 21:54:14,894] Trial 321 finished with value: 0.691590872853574 and parameters: {'n_estimators': 276, 'max_depth': 8, 'min_samples_split': 6, 'min_samples_leaf': 1, 'criterion': 'entropy', 'class_weight': 'balanced_subsample', 'max_features': 17}. Best is trial 293 with value: 0.696948896200944.\n",
      "[I 2020-08-17 21:54:50,989] Trial 322 finished with value: 0.6944305941118706 and parameters: {'n_estimators': 288, 'max_depth': 8, 'min_samples_split': 6, 'min_samples_leaf': 1, 'criterion': 'entropy', 'class_weight': 'balanced_subsample', 'max_features': 18}. Best is trial 293 with value: 0.696948896200944.\n",
      "[I 2020-08-17 21:55:26,852] Trial 323 finished with value: 0.6960504044284181 and parameters: {'n_estimators': 289, 'max_depth': 8, 'min_samples_split': 5, 'min_samples_leaf': 1, 'criterion': 'entropy', 'class_weight': 'balanced_subsample', 'max_features': 18}. Best is trial 293 with value: 0.696948896200944.\n",
      "[I 2020-08-17 21:56:03,295] Trial 324 finished with value: 0.6946462050140918 and parameters: {'n_estimators': 288, 'max_depth': 8, 'min_samples_split': 5, 'min_samples_leaf': 1, 'criterion': 'entropy', 'class_weight': 'balanced_subsample', 'max_features': 18}. Best is trial 293 with value: 0.696948896200944.\n",
      "[I 2020-08-17 21:56:39,087] Trial 325 finished with value: 0.6932975760163773 and parameters: {'n_estimators': 288, 'max_depth': 8, 'min_samples_split': 5, 'min_samples_leaf': 1, 'criterion': 'entropy', 'class_weight': 'balanced_subsample', 'max_features': 18}. Best is trial 293 with value: 0.696948896200944.\n",
      "[I 2020-08-17 21:57:14,807] Trial 326 finished with value: 0.6914166317748667 and parameters: {'n_estimators': 289, 'max_depth': 8, 'min_samples_split': 5, 'min_samples_leaf': 1, 'criterion': 'entropy', 'class_weight': 'balanced_subsample', 'max_features': 17}. Best is trial 293 with value: 0.696948896200944.\n",
      "[I 2020-08-17 21:57:50,345] Trial 327 finished with value: 0.6958230081402438 and parameters: {'n_estimators': 287, 'max_depth': 8, 'min_samples_split': 5, 'min_samples_leaf': 1, 'criterion': 'entropy', 'class_weight': 'balanced_subsample', 'max_features': 18}. Best is trial 293 with value: 0.696948896200944.\n",
      "[I 2020-08-17 21:58:25,845] Trial 328 finished with value: 0.6942495695026855 and parameters: {'n_estimators': 284, 'max_depth': 8, 'min_samples_split': 5, 'min_samples_leaf': 1, 'criterion': 'entropy', 'class_weight': 'balanced_subsample', 'max_features': 18}. Best is trial 293 with value: 0.696948896200944.\n",
      "[I 2020-08-17 21:59:01,204] Trial 329 finished with value: 0.6929451528585188 and parameters: {'n_estimators': 283, 'max_depth': 8, 'min_samples_split': 5, 'min_samples_leaf': 1, 'criterion': 'entropy', 'class_weight': 'balanced_subsample', 'max_features': 18}. Best is trial 293 with value: 0.696948896200944.\n",
      "[I 2020-08-17 21:59:37,042] Trial 330 finished with value: 0.6956822196302445 and parameters: {'n_estimators': 289, 'max_depth': 8, 'min_samples_split': 5, 'min_samples_leaf': 1, 'criterion': 'entropy', 'class_weight': 'balanced_subsample', 'max_features': 18}. Best is trial 293 with value: 0.696948896200944.\n",
      "[I 2020-08-17 22:00:10,705] Trial 331 finished with value: 0.6947067739764533 and parameters: {'n_estimators': 273, 'max_depth': 8, 'min_samples_split': 5, 'min_samples_leaf': 1, 'criterion': 'entropy', 'class_weight': 'balanced_subsample', 'max_features': 18}. Best is trial 293 with value: 0.696948896200944.\n",
      "[I 2020-08-17 22:00:45,019] Trial 332 finished with value: 0.6927048164159456 and parameters: {'n_estimators': 272, 'max_depth': 8, 'min_samples_split': 5, 'min_samples_leaf': 1, 'criterion': 'entropy', 'class_weight': 'balanced_subsample', 'max_features': 17}. Best is trial 293 with value: 0.696948896200944.\n",
      "[I 2020-08-17 22:01:21,379] Trial 333 finished with value: 0.6953681498173893 and parameters: {'n_estimators': 290, 'max_depth': 8, 'min_samples_split': 5, 'min_samples_leaf': 1, 'criterion': 'entropy', 'class_weight': 'balanced_subsample', 'max_features': 18}. Best is trial 293 with value: 0.696948896200944.\n",
      "[I 2020-08-17 22:01:56,936] Trial 334 finished with value: 0.6929834587937952 and parameters: {'n_estimators': 289, 'max_depth': 8, 'min_samples_split': 5, 'min_samples_leaf': 1, 'criterion': 'entropy', 'class_weight': 'balanced_subsample', 'max_features': 18}. Best is trial 293 with value: 0.696948896200944.\n",
      "[W 2020-08-17 22:01:58,441] Trial 335 failed, because the objective function returned nan.\n",
      "[I 2020-08-17 22:02:32,502] Trial 336 finished with value: 0.6927039591087389 and parameters: {'n_estimators': 280, 'max_depth': 8, 'min_samples_split': 5, 'min_samples_leaf': 1, 'criterion': 'entropy', 'class_weight': 'balanced_subsample', 'max_features': 18}. Best is trial 293 with value: 0.696948896200944.\n",
      "[I 2020-08-17 22:03:08,416] Trial 337 finished with value: 0.6946693068759519 and parameters: {'n_estimators': 291, 'max_depth': 8, 'min_samples_split': 5, 'min_samples_leaf': 1, 'criterion': 'entropy', 'class_weight': 'balanced_subsample', 'max_features': 18}. Best is trial 293 with value: 0.696948896200944.\n",
      "[W 2020-08-17 22:03:09,854] Trial 338 failed, because the objective function returned nan.\n",
      "[I 2020-08-17 22:03:46,180] Trial 339 finished with value: 0.6937018731153546 and parameters: {'n_estimators': 300, 'max_depth': 8, 'min_samples_split': 5, 'min_samples_leaf': 1, 'criterion': 'entropy', 'class_weight': 'balanced_subsample', 'max_features': 17}. Best is trial 293 with value: 0.696948896200944.\n",
      "[I 2020-08-17 22:04:20,881] Trial 340 finished with value: 0.6939826734680206 and parameters: {'n_estimators': 274, 'max_depth': 8, 'min_samples_split': 5, 'min_samples_leaf': 1, 'criterion': 'entropy', 'class_weight': 'balanced_subsample', 'max_features': 18}. Best is trial 293 with value: 0.696948896200944.\n",
      "[I 2020-08-17 22:04:54,997] Trial 341 finished with value: 0.6930867810729865 and parameters: {'n_estimators': 283, 'max_depth': 8, 'min_samples_split': 5, 'min_samples_leaf': 1, 'criterion': 'entropy', 'class_weight': 'balanced_subsample', 'max_features': 17}. Best is trial 293 with value: 0.696948896200944.\n",
      "[I 2020-08-17 22:05:32,480] Trial 342 finished with value: 0.6939972470554666 and parameters: {'n_estimators': 293, 'max_depth': 8, 'min_samples_split': 5, 'min_samples_leaf': 1, 'criterion': 'entropy', 'class_weight': 'balanced_subsample', 'max_features': 18}. Best is trial 293 with value: 0.696948896200944.\n",
      "[I 2020-08-17 22:06:08,367] Trial 343 finished with value: 0.6943948848805024 and parameters: {'n_estimators': 287, 'max_depth': 8, 'min_samples_split': 5, 'min_samples_leaf': 1, 'criterion': 'entropy', 'class_weight': 'balanced_subsample', 'max_features': 18}. Best is trial 293 with value: 0.696948896200944.\n",
      "[I 2020-08-17 22:06:42,993] Trial 344 finished with value: 0.6959622035897306 and parameters: {'n_estimators': 278, 'max_depth': 8, 'min_samples_split': 5, 'min_samples_leaf': 1, 'criterion': 'entropy', 'class_weight': 'balanced_subsample', 'max_features': 18}. Best is trial 293 with value: 0.696948896200944.\n",
      "[I 2020-08-17 22:07:16,988] Trial 345 finished with value: 0.693685023290349 and parameters: {'n_estimators': 279, 'max_depth': 8, 'min_samples_split': 5, 'min_samples_leaf': 1, 'criterion': 'entropy', 'class_weight': 'balanced_subsample', 'max_features': 17}. Best is trial 293 with value: 0.696948896200944.\n",
      "[I 2020-08-17 22:07:52,801] Trial 346 finished with value: 0.6949212597860327 and parameters: {'n_estimators': 286, 'max_depth': 8, 'min_samples_split': 5, 'min_samples_leaf': 1, 'criterion': 'entropy', 'class_weight': 'balanced_subsample', 'max_features': 18}. Best is trial 293 with value: 0.696948896200944.\n",
      "[I 2020-08-17 22:08:28,032] Trial 347 finished with value: 0.6956061764544934 and parameters: {'n_estimators': 285, 'max_depth': 8, 'min_samples_split': 5, 'min_samples_leaf': 1, 'criterion': 'entropy', 'class_weight': 'balanced_subsample', 'max_features': 18}. Best is trial 293 with value: 0.696948896200944.\n",
      "[I 2020-08-17 22:09:03,534] Trial 348 finished with value: 0.695547504297874 and parameters: {'n_estimators': 282, 'max_depth': 8, 'min_samples_split': 5, 'min_samples_leaf': 1, 'criterion': 'entropy', 'class_weight': 'balanced_subsample', 'max_features': 18}. Best is trial 293 with value: 0.696948896200944.\n",
      "[I 2020-08-17 22:09:38,064] Trial 349 finished with value: 0.6946840946828698 and parameters: {'n_estimators': 274, 'max_depth': 8, 'min_samples_split': 5, 'min_samples_leaf': 1, 'criterion': 'entropy', 'class_weight': 'balanced_subsample', 'max_features': 18}. Best is trial 293 with value: 0.696948896200944.\n",
      "[I 2020-08-17 22:10:12,504] Trial 350 finished with value: 0.6950740824763302 and parameters: {'n_estimators': 277, 'max_depth': 8, 'min_samples_split': 5, 'min_samples_leaf': 1, 'criterion': 'entropy', 'class_weight': 'balanced_subsample', 'max_features': 18}. Best is trial 293 with value: 0.696948896200944.\n",
      "[I 2020-08-17 22:10:47,066] Trial 351 finished with value: 0.6956169742231404 and parameters: {'n_estimators': 274, 'max_depth': 8, 'min_samples_split': 5, 'min_samples_leaf': 1, 'criterion': 'entropy', 'class_weight': 'balanced_subsample', 'max_features': 18}. Best is trial 293 with value: 0.696948896200944.\n",
      "[I 2020-08-17 22:11:19,667] Trial 352 finished with value: 0.6923951235283443 and parameters: {'n_estimators': 272, 'max_depth': 8, 'min_samples_split': 5, 'min_samples_leaf': 1, 'criterion': 'entropy', 'class_weight': 'balanced_subsample', 'max_features': 16}. Best is trial 293 with value: 0.696948896200944.\n"
     ]
    },
    {
     "name": "stderr",
     "output_type": "stream",
     "text": [
      "[I 2020-08-17 22:11:52,398] Trial 353 finished with value: 0.6930669226610823 and parameters: {'n_estimators': 265, 'max_depth': 8, 'min_samples_split': 5, 'min_samples_leaf': 1, 'criterion': 'entropy', 'class_weight': 'balanced_subsample', 'max_features': 17}. Best is trial 293 with value: 0.696948896200944.\n",
      "[I 2020-08-17 22:12:27,110] Trial 354 finished with value: 0.6958209113875101 and parameters: {'n_estimators': 278, 'max_depth': 8, 'min_samples_split': 5, 'min_samples_leaf': 1, 'criterion': 'entropy', 'class_weight': 'balanced_subsample', 'max_features': 18}. Best is trial 293 with value: 0.696948896200944.\n",
      "[I 2020-08-17 22:13:01,976] Trial 355 finished with value: 0.694405098437266 and parameters: {'n_estimators': 275, 'max_depth': 8, 'min_samples_split': 5, 'min_samples_leaf': 1, 'criterion': 'entropy', 'class_weight': 'balanced_subsample', 'max_features': 18}. Best is trial 293 with value: 0.696948896200944.\n",
      "[I 2020-08-17 22:13:36,597] Trial 356 finished with value: 0.6942408905867027 and parameters: {'n_estimators': 277, 'max_depth': 8, 'min_samples_split': 5, 'min_samples_leaf': 1, 'criterion': 'entropy', 'class_weight': 'balanced_subsample', 'max_features': 18}. Best is trial 293 with value: 0.696948896200944.\n",
      "[I 2020-08-17 22:14:10,655] Trial 357 finished with value: 0.6944069679610199 and parameters: {'n_estimators': 271, 'max_depth': 8, 'min_samples_split': 5, 'min_samples_leaf': 1, 'criterion': 'entropy', 'class_weight': 'balanced_subsample', 'max_features': 18}. Best is trial 293 with value: 0.696948896200944.\n",
      "[W 2020-08-17 22:14:12,091] Trial 358 failed, because the objective function returned nan.\n",
      "[I 2020-08-17 22:14:46,776] Trial 359 finished with value: 0.6930509203806146 and parameters: {'n_estimators': 282, 'max_depth': 8, 'min_samples_split': 5, 'min_samples_leaf': 1, 'criterion': 'entropy', 'class_weight': 'balanced_subsample', 'max_features': 17}. Best is trial 293 with value: 0.696948896200944.\n",
      "[I 2020-08-17 22:15:21,393] Trial 360 finished with value: 0.6944788383522852 and parameters: {'n_estimators': 278, 'max_depth': 8, 'min_samples_split': 5, 'min_samples_leaf': 1, 'criterion': 'entropy', 'class_weight': 'balanced_subsample', 'max_features': 18}. Best is trial 293 with value: 0.696948896200944.\n",
      "[I 2020-08-17 22:15:55,896] Trial 361 finished with value: 0.6961684999896791 and parameters: {'n_estimators': 274, 'max_depth': 8, 'min_samples_split': 5, 'min_samples_leaf': 1, 'criterion': 'entropy', 'class_weight': 'balanced_subsample', 'max_features': 18}. Best is trial 293 with value: 0.696948896200944.\n",
      "[I 2020-08-17 22:16:29,302] Trial 362 finished with value: 0.6957665443424161 and parameters: {'n_estimators': 273, 'max_depth': 8, 'min_samples_split': 5, 'min_samples_leaf': 1, 'criterion': 'entropy', 'class_weight': 'balanced_subsample', 'max_features': 17}. Best is trial 293 with value: 0.696948896200944.\n",
      "[I 2020-08-17 22:17:01,793] Trial 363 finished with value: 0.6941573281486482 and parameters: {'n_estimators': 267, 'max_depth': 8, 'min_samples_split': 5, 'min_samples_leaf': 1, 'criterion': 'entropy', 'class_weight': 'balanced_subsample', 'max_features': 17}. Best is trial 293 with value: 0.696948896200944.\n",
      "[I 2020-08-17 22:17:34,704] Trial 364 finished with value: 0.6928948747089663 and parameters: {'n_estimators': 273, 'max_depth': 8, 'min_samples_split': 5, 'min_samples_leaf': 1, 'criterion': 'entropy', 'class_weight': 'balanced_subsample', 'max_features': 16}. Best is trial 293 with value: 0.696948896200944.\n",
      "[I 2020-08-17 22:18:07,461] Trial 365 finished with value: 0.6935922917258927 and parameters: {'n_estimators': 265, 'max_depth': 8, 'min_samples_split': 5, 'min_samples_leaf': 1, 'criterion': 'entropy', 'class_weight': 'balanced_subsample', 'max_features': 17}. Best is trial 293 with value: 0.696948896200944.\n",
      "[W 2020-08-17 22:18:08,932] Trial 366 failed, because the objective function returned nan.\n",
      "[I 2020-08-17 22:18:43,005] Trial 367 finished with value: 0.6947630503216701 and parameters: {'n_estimators': 274, 'max_depth': 8, 'min_samples_split': 5, 'min_samples_leaf': 1, 'criterion': 'entropy', 'class_weight': 'balanced_subsample', 'max_features': 18}. Best is trial 293 with value: 0.696948896200944.\n",
      "[I 2020-08-17 22:19:17,840] Trial 368 finished with value: 0.6932805633389311 and parameters: {'n_estimators': 272, 'max_depth': 8, 'min_samples_split': 5, 'min_samples_leaf': 1, 'criterion': 'entropy', 'class_weight': 'balanced_subsample', 'max_features': 18}. Best is trial 293 with value: 0.696948896200944.\n",
      "[I 2020-08-17 22:19:51,971] Trial 369 finished with value: 0.6927237244707541 and parameters: {'n_estimators': 277, 'max_depth': 8, 'min_samples_split': 5, 'min_samples_leaf': 1, 'criterion': 'entropy', 'class_weight': 'balanced_subsample', 'max_features': 18}. Best is trial 293 with value: 0.696948896200944.\n",
      "[I 2020-08-17 22:20:27,387] Trial 370 finished with value: 0.6939567287668199 and parameters: {'n_estimators': 280, 'max_depth': 8, 'min_samples_split': 5, 'min_samples_leaf': 1, 'criterion': 'entropy', 'class_weight': 'balanced_subsample', 'max_features': 18}. Best is trial 293 with value: 0.696948896200944.\n",
      "[I 2020-08-17 22:21:01,364] Trial 371 finished with value: 0.6940205006211594 and parameters: {'n_estimators': 274, 'max_depth': 8, 'min_samples_split': 5, 'min_samples_leaf': 1, 'criterion': 'entropy', 'class_weight': 'balanced_subsample', 'max_features': 18}. Best is trial 293 with value: 0.696948896200944.\n",
      "[I 2020-08-17 22:21:36,845] Trial 372 finished with value: 0.6939044055645397 and parameters: {'n_estimators': 282, 'max_depth': 8, 'min_samples_split': 5, 'min_samples_leaf': 1, 'criterion': 'entropy', 'class_weight': 'balanced_subsample', 'max_features': 18}. Best is trial 293 with value: 0.696948896200944.\n",
      "[I 2020-08-17 22:22:09,700] Trial 373 finished with value: 0.6946525768027284 and parameters: {'n_estimators': 271, 'max_depth': 8, 'min_samples_split': 5, 'min_samples_leaf': 1, 'criterion': 'entropy', 'class_weight': 'balanced_subsample', 'max_features': 17}. Best is trial 293 with value: 0.696948896200944.\n",
      "[I 2020-08-17 22:22:45,629] Trial 374 finished with value: 0.6942138747017843 and parameters: {'n_estimators': 277, 'max_depth': 8, 'min_samples_split': 5, 'min_samples_leaf': 1, 'criterion': 'entropy', 'class_weight': 'balanced_subsample', 'max_features': 18}. Best is trial 293 with value: 0.696948896200944.\n",
      "[I 2020-08-17 22:23:20,125] Trial 375 finished with value: 0.6944342387876644 and parameters: {'n_estimators': 281, 'max_depth': 8, 'min_samples_split': 5, 'min_samples_leaf': 1, 'criterion': 'entropy', 'class_weight': 'balanced_subsample', 'max_features': 17}. Best is trial 293 with value: 0.696948896200944.\n",
      "[I 2020-08-17 22:23:53,010] Trial 376 finished with value: 0.6934594370235609 and parameters: {'n_estimators': 264, 'max_depth': 8, 'min_samples_split': 4, 'min_samples_leaf': 1, 'criterion': 'entropy', 'class_weight': 'balanced_subsample', 'max_features': 18}. Best is trial 293 with value: 0.696948896200944.\n",
      "[I 2020-08-17 22:24:27,896] Trial 377 finished with value: 0.6942903823968836 and parameters: {'n_estimators': 282, 'max_depth': 8, 'min_samples_split': 5, 'min_samples_leaf': 1, 'criterion': 'entropy', 'class_weight': 'balanced_subsample', 'max_features': 18}. Best is trial 293 with value: 0.696948896200944.\n",
      "[I 2020-08-17 22:25:02,198] Trial 378 finished with value: 0.6942033252550406 and parameters: {'n_estimators': 276, 'max_depth': 8, 'min_samples_split': 5, 'min_samples_leaf': 1, 'criterion': 'entropy', 'class_weight': 'balanced_subsample', 'max_features': 18}. Best is trial 293 with value: 0.696948896200944.\n",
      "[I 2020-08-17 22:25:35,348] Trial 379 finished with value: 0.694872081921195 and parameters: {'n_estimators': 270, 'max_depth': 8, 'min_samples_split': 4, 'min_samples_leaf': 1, 'criterion': 'entropy', 'class_weight': 'balanced_subsample', 'max_features': 17}. Best is trial 293 with value: 0.696948896200944.\n",
      "[I 2020-08-17 22:26:08,933] Trial 380 finished with value: 0.6931239196266612 and parameters: {'n_estimators': 270, 'max_depth': 8, 'min_samples_split': 4, 'min_samples_leaf': 1, 'criterion': 'entropy', 'class_weight': 'balanced_subsample', 'max_features': 17}. Best is trial 293 with value: 0.696948896200944.\n",
      "[I 2020-08-17 22:26:43,244] Trial 381 finished with value: 0.6943823653835131 and parameters: {'n_estimators': 284, 'max_depth': 8, 'min_samples_split': 5, 'min_samples_leaf': 1, 'criterion': 'entropy', 'class_weight': 'balanced_subsample', 'max_features': 17}. Best is trial 293 with value: 0.696948896200944.\n",
      "[W 2020-08-17 22:26:44,678] Trial 382 failed, because the objective function returned nan.\n",
      "[I 2020-08-17 22:27:19,340] Trial 383 finished with value: 0.6924266185294401 and parameters: {'n_estimators': 277, 'max_depth': 8, 'min_samples_split': 4, 'min_samples_leaf': 2, 'criterion': 'entropy', 'class_weight': 'balanced_subsample', 'max_features': 18}. Best is trial 293 with value: 0.696948896200944.\n",
      "[I 2020-08-17 22:27:52,088] Trial 384 finished with value: 0.6951442029830966 and parameters: {'n_estimators': 264, 'max_depth': 8, 'min_samples_split': 5, 'min_samples_leaf': 1, 'criterion': 'entropy', 'class_weight': 'balanced_subsample', 'max_features': 17}. Best is trial 293 with value: 0.696948896200944.\n",
      "[I 2020-08-17 22:28:27,046] Trial 385 finished with value: 0.6931680216066478 and parameters: {'n_estimators': 296, 'max_depth': 8, 'min_samples_split': 5, 'min_samples_leaf': 1, 'criterion': 'entropy', 'class_weight': 'balanced_subsample', 'max_features': 16}. Best is trial 293 with value: 0.696948896200944.\n",
      "[I 2020-08-17 22:29:02,079] Trial 386 finished with value: 0.6942585336058007 and parameters: {'n_estimators': 283, 'max_depth': 8, 'min_samples_split': 5, 'min_samples_leaf': 1, 'criterion': 'entropy', 'class_weight': 'balanced_subsample', 'max_features': 17}. Best is trial 293 with value: 0.696948896200944.\n",
      "[I 2020-08-17 22:29:32,935] Trial 387 finished with value: 0.6895411838727202 and parameters: {'n_estimators': 261, 'max_depth': 8, 'min_samples_split': 5, 'min_samples_leaf': 2, 'criterion': 'entropy', 'class_weight': 'balanced_subsample', 'max_features': 16}. Best is trial 293 with value: 0.696948896200944.\n",
      "[I 2020-08-17 22:30:05,699] Trial 388 finished with value: 0.6936320108559478 and parameters: {'n_estimators': 265, 'max_depth': 8, 'min_samples_split': 4, 'min_samples_leaf': 1, 'criterion': 'entropy', 'class_weight': 'balanced_subsample', 'max_features': 17}. Best is trial 293 with value: 0.696948896200944.\n",
      "[W 2020-08-17 22:30:07,154] Trial 389 failed, because the objective function returned nan.\n",
      "[I 2020-08-17 22:30:42,672] Trial 390 finished with value: 0.6937389597099095 and parameters: {'n_estimators': 293, 'max_depth': 8, 'min_samples_split': 5, 'min_samples_leaf': 1, 'criterion': 'entropy', 'class_weight': 'balanced_subsample', 'max_features': 17}. Best is trial 293 with value: 0.696948896200944.\n",
      "[I 2020-08-17 22:31:16,665] Trial 391 finished with value: 0.6960940639945314 and parameters: {'n_estimators': 272, 'max_depth': 8, 'min_samples_split': 5, 'min_samples_leaf': 1, 'criterion': 'entropy', 'class_weight': 'balanced_subsample', 'max_features': 18}. Best is trial 293 with value: 0.696948896200944.\n",
      "[I 2020-08-17 22:31:49,677] Trial 392 finished with value: 0.6929293044623996 and parameters: {'n_estimators': 268, 'max_depth': 8, 'min_samples_split': 5, 'min_samples_leaf': 2, 'criterion': 'entropy', 'class_weight': 'balanced_subsample', 'max_features': 18}. Best is trial 293 with value: 0.696948896200944.\n",
      "[W 2020-08-17 22:31:51,221] Trial 393 failed, because the objective function returned nan.\n",
      "[I 2020-08-17 22:32:25,633] Trial 394 finished with value: 0.6941672641052613 and parameters: {'n_estimators': 285, 'max_depth': 8, 'min_samples_split': 5, 'min_samples_leaf': 1, 'criterion': 'entropy', 'class_weight': 'balanced_subsample', 'max_features': 17}. Best is trial 293 with value: 0.696948896200944.\n",
      "[W 2020-08-17 22:32:27,096] Trial 395 failed, because the objective function returned nan.\n",
      "[I 2020-08-17 22:33:01,732] Trial 396 finished with value: 0.6930117163921158 and parameters: {'n_estimators': 279, 'max_depth': 8, 'min_samples_split': 5, 'min_samples_leaf': 2, 'criterion': 'entropy', 'class_weight': 'balanced_subsample', 'max_features': 18}. Best is trial 293 with value: 0.696948896200944.\n",
      "[W 2020-08-17 22:33:03,188] Trial 397 failed, because the objective function returned nan.\n",
      "[I 2020-08-17 22:33:38,436] Trial 398 finished with value: 0.6936362917439793 and parameters: {'n_estimators': 291, 'max_depth': 8, 'min_samples_split': 4, 'min_samples_leaf': 1, 'criterion': 'entropy', 'class_weight': 'balanced_subsample', 'max_features': 17}. Best is trial 293 with value: 0.696948896200944.\n",
      "[I 2020-08-17 22:34:03,841] Trial 399 finished with value: 0.6560216220052849 and parameters: {'n_estimators': 297, 'max_depth': 8, 'min_samples_split': 5, 'min_samples_leaf': 1, 'criterion': 'entropy', 'class_weight': 'balanced_subsample', 'max_features': 2}. Best is trial 293 with value: 0.696948896200944.\n",
      "[W 2020-08-17 22:34:05,317] Trial 400 failed, because the objective function returned nan.\n",
      "[I 2020-08-17 22:34:40,854] Trial 401 finished with value: 0.6952546391417336 and parameters: {'n_estimators': 285, 'max_depth': 8, 'min_samples_split': 5, 'min_samples_leaf': 1, 'criterion': 'entropy', 'class_weight': 'balanced_subsample', 'max_features': 18}. Best is trial 293 with value: 0.696948896200944.\n",
      "[I 2020-08-17 22:35:07,216] Trial 402 finished with value: 0.6308412556227807 and parameters: {'n_estimators': 287, 'max_depth': 3, 'min_samples_split': 5, 'min_samples_leaf': 1, 'criterion': 'entropy', 'class_weight': 'balanced_subsample', 'max_features': 17}. Best is trial 293 with value: 0.696948896200944.\n",
      "[I 2020-08-17 22:35:38,253] Trial 403 finished with value: 0.6714307234987021 and parameters: {'n_estimators': 293, 'max_depth': 6, 'min_samples_split': 5, 'min_samples_leaf': 2, 'criterion': 'entropy', 'class_weight': 'balanced_subsample', 'max_features': 16}. Best is trial 293 with value: 0.696948896200944.\n",
      "[I 2020-08-17 22:36:14,430] Trial 404 finished with value: 0.6960227034178802 and parameters: {'n_estimators': 285, 'max_depth': 8, 'min_samples_split': 5, 'min_samples_leaf': 1, 'criterion': 'entropy', 'class_weight': 'balanced_subsample', 'max_features': 19}. Best is trial 293 with value: 0.696948896200944.\n",
      "[I 2020-08-17 22:36:49,905] Trial 405 finished with value: 0.6960434391218752 and parameters: {'n_estimators': 281, 'max_depth': 8, 'min_samples_split': 5, 'min_samples_leaf': 1, 'criterion': 'entropy', 'class_weight': 'balanced_subsample', 'max_features': 19}. Best is trial 293 with value: 0.696948896200944.\n",
      "[I 2020-08-17 22:37:25,976] Trial 406 finished with value: 0.6964125102140528 and parameters: {'n_estimators': 283, 'max_depth': 8, 'min_samples_split': 5, 'min_samples_leaf': 1, 'criterion': 'entropy', 'class_weight': 'balanced_subsample', 'max_features': 19}. Best is trial 293 with value: 0.696948896200944.\n",
      "[I 2020-08-17 22:38:01,697] Trial 407 finished with value: 0.6956604275196097 and parameters: {'n_estimators': 282, 'max_depth': 8, 'min_samples_split': 5, 'min_samples_leaf': 1, 'criterion': 'entropy', 'class_weight': 'balanced_subsample', 'max_features': 19}. Best is trial 293 with value: 0.696948896200944.\n",
      "[I 2020-08-17 22:38:37,474] Trial 408 finished with value: 0.696239253920188 and parameters: {'n_estimators': 281, 'max_depth': 8, 'min_samples_split': 5, 'min_samples_leaf': 1, 'criterion': 'entropy', 'class_weight': 'balanced_subsample', 'max_features': 19}. Best is trial 293 with value: 0.696948896200944.\n",
      "[I 2020-08-17 22:39:13,580] Trial 409 finished with value: 0.6959586368946737 and parameters: {'n_estimators': 280, 'max_depth': 8, 'min_samples_split': 5, 'min_samples_leaf': 1, 'criterion': 'entropy', 'class_weight': 'balanced_subsample', 'max_features': 19}. Best is trial 293 with value: 0.696948896200944.\n"
     ]
    },
    {
     "name": "stderr",
     "output_type": "stream",
     "text": [
      "[I 2020-08-17 22:39:48,592] Trial 410 finished with value: 0.6942361678393328 and parameters: {'n_estimators': 282, 'max_depth': 8, 'min_samples_split': 5, 'min_samples_leaf': 1, 'criterion': 'entropy', 'class_weight': 'balanced_subsample', 'max_features': 19}. Best is trial 293 with value: 0.696948896200944.\n",
      "[W 2020-08-17 22:39:50,093] Trial 411 failed, because the objective function returned nan.\n",
      "[I 2020-08-17 22:40:25,697] Trial 412 finished with value: 0.6951791337067026 and parameters: {'n_estimators': 280, 'max_depth': 8, 'min_samples_split': 5, 'min_samples_leaf': 1, 'criterion': 'entropy', 'class_weight': 'balanced_subsample', 'max_features': 19}. Best is trial 293 with value: 0.696948896200944.\n",
      "[W 2020-08-17 22:40:27,142] Trial 413 failed, because the objective function returned nan.\n",
      "[I 2020-08-17 22:41:03,086] Trial 414 finished with value: 0.6939135625335986 and parameters: {'n_estimators': 280, 'max_depth': 8, 'min_samples_split': 5, 'min_samples_leaf': 1, 'criterion': 'entropy', 'class_weight': 'balanced_subsample', 'max_features': 19}. Best is trial 293 with value: 0.696948896200944.\n",
      "[W 2020-08-17 22:41:04,576] Trial 415 failed, because the objective function returned nan.\n",
      "[I 2020-08-17 22:41:40,211] Trial 416 finished with value: 0.6964054726122082 and parameters: {'n_estimators': 281, 'max_depth': 8, 'min_samples_split': 5, 'min_samples_leaf': 1, 'criterion': 'entropy', 'class_weight': 'balanced_subsample', 'max_features': 19}. Best is trial 293 with value: 0.696948896200944.\n",
      "[I 2020-08-17 22:42:15,847] Trial 417 finished with value: 0.6968867498222566 and parameters: {'n_estimators': 282, 'max_depth': 8, 'min_samples_split': 5, 'min_samples_leaf': 1, 'criterion': 'entropy', 'class_weight': 'balanced_subsample', 'max_features': 19}. Best is trial 293 with value: 0.696948896200944.\n",
      "[I 2020-08-17 22:42:51,457] Trial 418 finished with value: 0.6938977294036468 and parameters: {'n_estimators': 284, 'max_depth': 8, 'min_samples_split': 5, 'min_samples_leaf': 1, 'criterion': 'entropy', 'class_weight': 'balanced_subsample', 'max_features': 19}. Best is trial 293 with value: 0.696948896200944.\n",
      "[I 2020-08-17 22:43:27,165] Trial 419 finished with value: 0.6935992137284812 and parameters: {'n_estimators': 282, 'max_depth': 8, 'min_samples_split': 5, 'min_samples_leaf': 1, 'criterion': 'entropy', 'class_weight': 'balanced_subsample', 'max_features': 19}. Best is trial 293 with value: 0.696948896200944.\n",
      "[I 2020-08-17 22:44:03,208] Trial 420 finished with value: 0.6965120473623986 and parameters: {'n_estimators': 279, 'max_depth': 8, 'min_samples_split': 5, 'min_samples_leaf': 1, 'criterion': 'entropy', 'class_weight': 'balanced_subsample', 'max_features': 19}. Best is trial 293 with value: 0.696948896200944.\n",
      "[W 2020-08-17 22:44:04,638] Trial 421 failed, because the objective function returned nan.\n",
      "[I 2020-08-17 22:44:40,419] Trial 422 finished with value: 0.6943334402806742 and parameters: {'n_estimators': 279, 'max_depth': 8, 'min_samples_split': 5, 'min_samples_leaf': 1, 'criterion': 'entropy', 'class_weight': 'balanced_subsample', 'max_features': 19}. Best is trial 293 with value: 0.696948896200944.\n",
      "[I 2020-08-17 22:45:16,705] Trial 423 finished with value: 0.695867117165624 and parameters: {'n_estimators': 284, 'max_depth': 8, 'min_samples_split': 5, 'min_samples_leaf': 1, 'criterion': 'entropy', 'class_weight': 'balanced_subsample', 'max_features': 19}. Best is trial 293 with value: 0.696948896200944.\n",
      "[I 2020-08-17 22:45:53,310] Trial 424 finished with value: 0.6922766812457242 and parameters: {'n_estimators': 287, 'max_depth': 8, 'min_samples_split': 5, 'min_samples_leaf': 2, 'criterion': 'entropy', 'class_weight': 'balanced_subsample', 'max_features': 19}. Best is trial 293 with value: 0.696948896200944.\n",
      "[I 2020-08-17 22:46:29,521] Trial 425 finished with value: 0.6954083025356355 and parameters: {'n_estimators': 284, 'max_depth': 8, 'min_samples_split': 5, 'min_samples_leaf': 1, 'criterion': 'entropy', 'class_weight': 'balanced_subsample', 'max_features': 19}. Best is trial 293 with value: 0.696948896200944.\n",
      "[I 2020-08-17 22:47:04,328] Trial 426 finished with value: 0.6959949247382279 and parameters: {'n_estimators': 275, 'max_depth': 8, 'min_samples_split': 5, 'min_samples_leaf': 1, 'criterion': 'entropy', 'class_weight': 'balanced_subsample', 'max_features': 19}. Best is trial 293 with value: 0.696948896200944.\n",
      "[I 2020-08-17 22:47:38,588] Trial 427 finished with value: 0.6960542930871361 and parameters: {'n_estimators': 275, 'max_depth': 8, 'min_samples_split': 5, 'min_samples_leaf': 2, 'criterion': 'entropy', 'class_weight': 'balanced_subsample', 'max_features': 19}. Best is trial 293 with value: 0.696948896200944.\n",
      "[I 2020-08-17 22:48:13,373] Trial 428 finished with value: 0.6930717233107699 and parameters: {'n_estimators': 273, 'max_depth': 8, 'min_samples_split': 5, 'min_samples_leaf': 2, 'criterion': 'entropy', 'class_weight': 'balanced_subsample', 'max_features': 19}. Best is trial 293 with value: 0.696948896200944.\n",
      "[I 2020-08-17 22:48:47,885] Trial 429 finished with value: 0.6942888235200805 and parameters: {'n_estimators': 274, 'max_depth': 8, 'min_samples_split': 5, 'min_samples_leaf': 2, 'criterion': 'entropy', 'class_weight': 'balanced_subsample', 'max_features': 19}. Best is trial 293 with value: 0.696948896200944.\n",
      "[I 2020-08-17 22:49:22,828] Trial 430 finished with value: 0.6953213009394779 and parameters: {'n_estimators': 277, 'max_depth': 8, 'min_samples_split': 5, 'min_samples_leaf': 1, 'criterion': 'entropy', 'class_weight': 'balanced_subsample', 'max_features': 19}. Best is trial 293 with value: 0.696948896200944.\n",
      "[I 2020-08-17 22:49:56,683] Trial 431 finished with value: 0.6935602728295485 and parameters: {'n_estimators': 268, 'max_depth': 8, 'min_samples_split': 5, 'min_samples_leaf': 2, 'criterion': 'entropy', 'class_weight': 'balanced_subsample', 'max_features': 19}. Best is trial 293 with value: 0.696948896200944.\n",
      "[I 2020-08-17 22:50:31,244] Trial 432 finished with value: 0.6951523679231673 and parameters: {'n_estimators': 277, 'max_depth': 8, 'min_samples_split': 5, 'min_samples_leaf': 1, 'criterion': 'entropy', 'class_weight': 'balanced_subsample', 'max_features': 19}. Best is trial 293 with value: 0.696948896200944.\n",
      "[I 2020-08-17 22:51:06,230] Trial 433 finished with value: 0.6949897749872582 and parameters: {'n_estimators': 271, 'max_depth': 8, 'min_samples_split': 4, 'min_samples_leaf': 1, 'criterion': 'entropy', 'class_weight': 'balanced_subsample', 'max_features': 19}. Best is trial 293 with value: 0.696948896200944.\n",
      "[I 2020-08-17 22:51:42,117] Trial 434 finished with value: 0.6949067789166994 and parameters: {'n_estimators': 281, 'max_depth': 8, 'min_samples_split': 5, 'min_samples_leaf': 1, 'criterion': 'entropy', 'class_weight': 'balanced_subsample', 'max_features': 19}. Best is trial 293 with value: 0.696948896200944.\n",
      "[I 2020-08-17 22:52:17,087] Trial 435 finished with value: 0.6961633460173362 and parameters: {'n_estimators': 276, 'max_depth': 8, 'min_samples_split': 5, 'min_samples_leaf': 1, 'criterion': 'entropy', 'class_weight': 'balanced_subsample', 'max_features': 19}. Best is trial 293 with value: 0.696948896200944.\n",
      "[W 2020-08-17 22:52:18,516] Trial 436 failed, because the objective function returned nan.\n",
      "[W 2020-08-17 22:52:19,952] Trial 437 failed, because the objective function returned nan.\n",
      "[I 2020-08-17 22:52:54,309] Trial 438 finished with value: 0.6950605353132353 and parameters: {'n_estimators': 271, 'max_depth': 8, 'min_samples_split': 5, 'min_samples_leaf': 1, 'criterion': 'entropy', 'class_weight': 'balanced_subsample', 'max_features': 19}. Best is trial 293 with value: 0.696948896200944.\n",
      "[I 2020-08-17 22:53:30,142] Trial 439 finished with value: 0.6970897389898718 and parameters: {'n_estimators': 277, 'max_depth': 8, 'min_samples_split': 5, 'min_samples_leaf': 1, 'criterion': 'entropy', 'class_weight': 'balanced_subsample', 'max_features': 19}. Best is trial 439 with value: 0.6970897389898718.\n",
      "[I 2020-08-17 22:54:05,165] Trial 440 finished with value: 0.6955153723305896 and parameters: {'n_estimators': 275, 'max_depth': 8, 'min_samples_split': 4, 'min_samples_leaf': 1, 'criterion': 'entropy', 'class_weight': 'balanced_subsample', 'max_features': 19}. Best is trial 439 with value: 0.6970897389898718.\n",
      "[W 2020-08-17 22:54:06,617] Trial 441 failed, because the objective function returned nan.\n",
      "[I 2020-08-17 22:54:39,995] Trial 442 finished with value: 0.6949152183627458 and parameters: {'n_estimators': 268, 'max_depth': 8, 'min_samples_split': 5, 'min_samples_leaf': 1, 'criterion': 'entropy', 'class_weight': 'balanced_subsample', 'max_features': 19}. Best is trial 439 with value: 0.6970897389898718.\n",
      "[I 2020-08-17 22:55:15,521] Trial 443 finished with value: 0.6966411000277708 and parameters: {'n_estimators': 277, 'max_depth': 8, 'min_samples_split': 5, 'min_samples_leaf': 1, 'criterion': 'entropy', 'class_weight': 'balanced_subsample', 'max_features': 19}. Best is trial 439 with value: 0.6970897389898718.\n",
      "[I 2020-08-17 22:55:23,334] Trial 444 finished with value: 0.689222524106678 and parameters: {'n_estimators': 51, 'max_depth': 8, 'min_samples_split': 5, 'min_samples_leaf': 1, 'criterion': 'entropy', 'class_weight': 'balanced_subsample', 'max_features': 19}. Best is trial 439 with value: 0.6970897389898718.\n",
      "[I 2020-08-17 22:55:58,258] Trial 445 finished with value: 0.6956290744598872 and parameters: {'n_estimators': 276, 'max_depth': 8, 'min_samples_split': 5, 'min_samples_leaf': 1, 'criterion': 'entropy', 'class_weight': 'balanced_subsample', 'max_features': 19}. Best is trial 439 with value: 0.6970897389898718.\n",
      "[W 2020-08-17 22:55:59,704] Trial 446 failed, because the objective function returned nan.\n",
      "[I 2020-08-17 22:56:34,765] Trial 447 finished with value: 0.6958049583302649 and parameters: {'n_estimators': 278, 'max_depth': 8, 'min_samples_split': 5, 'min_samples_leaf': 1, 'criterion': 'entropy', 'class_weight': 'balanced_subsample', 'max_features': 19}. Best is trial 439 with value: 0.6970897389898718.\n",
      "[I 2020-08-17 22:57:04,535] Trial 448 finished with value: 0.6844669197067929 and parameters: {'n_estimators': 279, 'max_depth': 8, 'min_samples_split': 5, 'min_samples_leaf': 1, 'criterion': 'entropy', 'class_weight': 'balanced_subsample', 'max_features': 10}. Best is trial 439 with value: 0.6970897389898718.\n",
      "[I 2020-08-17 22:57:38,918] Trial 449 finished with value: 0.695255357955426 and parameters: {'n_estimators': 268, 'max_depth': 8, 'min_samples_split': 5, 'min_samples_leaf': 2, 'criterion': 'entropy', 'class_weight': 'balanced_subsample', 'max_features': 19}. Best is trial 439 with value: 0.6970897389898718.\n",
      "[I 2020-08-17 22:58:14,208] Trial 450 finished with value: 0.6953636052556132 and parameters: {'n_estimators': 279, 'max_depth': 8, 'min_samples_split': 5, 'min_samples_leaf': 1, 'criterion': 'entropy', 'class_weight': 'balanced_subsample', 'max_features': 19}. Best is trial 439 with value: 0.6970897389898718.\n",
      "[I 2020-08-17 22:58:46,979] Trial 451 finished with value: 0.6866033965398881 and parameters: {'n_estimators': 273, 'max_depth': 7, 'min_samples_split': 4, 'min_samples_leaf': 1, 'criterion': 'entropy', 'class_weight': 'balanced_subsample', 'max_features': 19}. Best is trial 439 with value: 0.6970897389898718.\n",
      "[W 2020-08-17 22:58:48,582] Trial 452 failed, because the objective function returned nan.\n",
      "[I 2020-08-17 22:59:24,560] Trial 453 finished with value: 0.6937377651238638 and parameters: {'n_estimators': 281, 'max_depth': 8, 'min_samples_split': 5, 'min_samples_leaf': 1, 'criterion': 'entropy', 'class_weight': 'balanced_subsample', 'max_features': 19}. Best is trial 439 with value: 0.6970897389898718.\n",
      "[I 2020-08-17 22:59:58,562] Trial 454 finished with value: 0.6945683541498784 and parameters: {'n_estimators': 264, 'max_depth': 8, 'min_samples_split': 5, 'min_samples_leaf': 1, 'criterion': 'entropy', 'class_weight': 'balanced_subsample', 'max_features': 19}. Best is trial 439 with value: 0.6970897389898718.\n",
      "[I 2020-08-17 23:00:33,350] Trial 455 finished with value: 0.6980635968472113 and parameters: {'n_estimators': 271, 'max_depth': 8, 'min_samples_split': 5, 'min_samples_leaf': 1, 'criterion': 'entropy', 'class_weight': 'balanced_subsample', 'max_features': 19}. Best is trial 455 with value: 0.6980635968472113.\n",
      "[I 2020-08-17 23:01:06,433] Trial 456 finished with value: 0.6948027463958097 and parameters: {'n_estimators': 258, 'max_depth': 8, 'min_samples_split': 5, 'min_samples_leaf': 2, 'criterion': 'entropy', 'class_weight': 'balanced_subsample', 'max_features': 19}. Best is trial 455 with value: 0.6980635968472113.\n",
      "[I 2020-08-17 23:01:40,091] Trial 457 finished with value: 0.6938995041350365 and parameters: {'n_estimators': 270, 'max_depth': 8, 'min_samples_split': 4, 'min_samples_leaf': 2, 'criterion': 'entropy', 'class_weight': 'balanced_subsample', 'max_features': 19}. Best is trial 455 with value: 0.6980635968472113.\n",
      "[I 2020-08-17 23:02:13,185] Trial 458 finished with value: 0.6935957520625604 and parameters: {'n_estimators': 262, 'max_depth': 8, 'min_samples_split': 5, 'min_samples_leaf': 1, 'criterion': 'entropy', 'class_weight': 'balanced_subsample', 'max_features': 19}. Best is trial 455 with value: 0.6980635968472113.\n",
      "[I 2020-08-17 23:02:40,425] Trial 459 finished with value: 0.6778775358433016 and parameters: {'n_estimators': 274, 'max_depth': 8, 'min_samples_split': 5, 'min_samples_leaf': 1, 'criterion': 'entropy', 'class_weight': 'balanced_subsample', 'max_features': 8}. Best is trial 455 with value: 0.6980635968472113.\n",
      "[I 2020-08-17 23:03:05,291] Trial 460 finished with value: 0.658169703773347 and parameters: {'n_estimators': 277, 'max_depth': 8, 'min_samples_split': 5, 'min_samples_leaf': 1, 'criterion': 'entropy', 'class_weight': 'balanced_subsample', 'max_features': 3}. Best is trial 455 with value: 0.6980635968472113.\n",
      "[I 2020-08-17 23:03:39,115] Trial 461 finished with value: 0.6871719737916032 and parameters: {'n_estimators': 269, 'max_depth': 8, 'min_samples_split': 5, 'min_samples_leaf': 15, 'criterion': 'entropy', 'class_weight': 'balanced_subsample', 'max_features': 19}. Best is trial 455 with value: 0.6980635968472113.\n",
      "[W 2020-08-17 23:03:40,584] Trial 462 failed, because the objective function returned nan.\n",
      "[I 2020-08-17 23:04:15,673] Trial 463 finished with value: 0.6965060553293002 and parameters: {'n_estimators': 276, 'max_depth': 8, 'min_samples_split': 5, 'min_samples_leaf': 1, 'criterion': 'entropy', 'class_weight': 'balanced_subsample', 'max_features': 20}. Best is trial 455 with value: 0.6980635968472113.\n",
      "[I 2020-08-17 23:04:44,333] Trial 464 finished with value: 0.6622625818091474 and parameters: {'n_estimators': 271, 'max_depth': 5, 'min_samples_split': 5, 'min_samples_leaf': 1, 'criterion': 'entropy', 'class_weight': 'balanced_subsample', 'max_features': 20}. Best is trial 455 with value: 0.6980635968472113.\n",
      "[I 2020-08-17 23:05:19,494] Trial 465 finished with value: 0.6875947221002741 and parameters: {'n_estimators': 277, 'max_depth': 8, 'min_samples_split': 5, 'min_samples_leaf': 14, 'criterion': 'entropy', 'class_weight': 'balanced_subsample', 'max_features': 20}. Best is trial 455 with value: 0.6980635968472113.\n",
      "[I 2020-08-17 23:05:54,683] Trial 466 finished with value: 0.6961298712765684 and parameters: {'n_estimators': 267, 'max_depth': 8, 'min_samples_split': 5, 'min_samples_leaf': 2, 'criterion': 'entropy', 'class_weight': 'balanced_subsample', 'max_features': 20}. Best is trial 455 with value: 0.6980635968472113.\n",
      "[W 2020-08-17 23:05:56,136] Trial 467 failed, because the objective function returned nan.\n",
      "[I 2020-08-17 23:06:30,436] Trial 468 finished with value: 0.6942626110133758 and parameters: {'n_estimators': 265, 'max_depth': 8, 'min_samples_split': 4, 'min_samples_leaf': 2, 'criterion': 'entropy', 'class_weight': 'balanced_subsample', 'max_features': 20}. Best is trial 455 with value: 0.6980635968472113.\n"
     ]
    },
    {
     "name": "stderr",
     "output_type": "stream",
     "text": [
      "[I 2020-08-17 23:07:06,084] Trial 469 finished with value: 0.6938024815868908 and parameters: {'n_estimators': 279, 'max_depth': 8, 'min_samples_split': 5, 'min_samples_leaf': 2, 'criterion': 'entropy', 'class_weight': 'balanced_subsample', 'max_features': 20}. Best is trial 455 with value: 0.6980635968472113.\n",
      "[I 2020-08-17 23:07:42,934] Trial 470 finished with value: 0.6947531206225129 and parameters: {'n_estimators': 284, 'max_depth': 8, 'min_samples_split': 5, 'min_samples_leaf': 2, 'criterion': 'entropy', 'class_weight': 'balanced_subsample', 'max_features': 20}. Best is trial 455 with value: 0.6980635968472113.\n",
      "[I 2020-08-17 23:08:17,168] Trial 471 finished with value: 0.6951560530599423 and parameters: {'n_estimators': 267, 'max_depth': 8, 'min_samples_split': 5, 'min_samples_leaf': 1, 'criterion': 'entropy', 'class_weight': 'balanced_subsample', 'max_features': 19}. Best is trial 455 with value: 0.6980635968472113.\n",
      "[I 2020-08-17 23:08:53,466] Trial 472 finished with value: 0.6971258519733159 and parameters: {'n_estimators': 276, 'max_depth': 8, 'min_samples_split': 5, 'min_samples_leaf': 1, 'criterion': 'entropy', 'class_weight': 'balanced_subsample', 'max_features': 20}. Best is trial 455 with value: 0.6980635968472113.\n",
      "[I 2020-08-17 23:09:29,382] Trial 473 finished with value: 0.6962398887326757 and parameters: {'n_estimators': 273, 'max_depth': 8, 'min_samples_split': 5, 'min_samples_leaf': 1, 'criterion': 'entropy', 'class_weight': 'balanced_subsample', 'max_features': 20}. Best is trial 455 with value: 0.6980635968472113.\n",
      "[W 2020-08-17 23:09:30,815] Trial 474 failed, because the objective function returned nan.\n",
      "[I 2020-08-17 23:10:05,898] Trial 475 finished with value: 0.6958480074053389 and parameters: {'n_estimators': 271, 'max_depth': 8, 'min_samples_split': 5, 'min_samples_leaf': 2, 'criterion': 'entropy', 'class_weight': 'balanced_subsample', 'max_features': 20}. Best is trial 455 with value: 0.6980635968472113.\n",
      "[I 2020-08-17 23:10:39,757] Trial 476 finished with value: 0.6979057285160374 and parameters: {'n_estimators': 260, 'max_depth': 8, 'min_samples_split': 4, 'min_samples_leaf': 2, 'criterion': 'entropy', 'class_weight': 'balanced_subsample', 'max_features': 20}. Best is trial 455 with value: 0.6980635968472113.\n",
      "[I 2020-08-17 23:11:14,413] Trial 477 finished with value: 0.6965813635960828 and parameters: {'n_estimators': 259, 'max_depth': 8, 'min_samples_split': 4, 'min_samples_leaf': 2, 'criterion': 'entropy', 'class_weight': 'balanced_subsample', 'max_features': 20}. Best is trial 455 with value: 0.6980635968472113.\n",
      "[I 2020-08-17 23:11:44,881] Trial 478 finished with value: 0.6848922200799623 and parameters: {'n_estimators': 251, 'max_depth': 7, 'min_samples_split': 4, 'min_samples_leaf': 2, 'criterion': 'entropy', 'class_weight': 'balanced_subsample', 'max_features': 20}. Best is trial 455 with value: 0.6980635968472113.\n",
      "[I 2020-08-17 23:12:18,136] Trial 479 finished with value: 0.6958885314682052 and parameters: {'n_estimators': 259, 'max_depth': 8, 'min_samples_split': 4, 'min_samples_leaf': 2, 'criterion': 'entropy', 'class_weight': 'balanced_subsample', 'max_features': 20}. Best is trial 455 with value: 0.6980635968472113.\n",
      "[I 2020-08-17 23:12:52,926] Trial 480 finished with value: 0.6953078730174519 and parameters: {'n_estimators': 267, 'max_depth': 8, 'min_samples_split': 4, 'min_samples_leaf': 2, 'criterion': 'entropy', 'class_weight': 'balanced_subsample', 'max_features': 20}. Best is trial 455 with value: 0.6980635968472113.\n",
      "[I 2020-08-17 23:13:18,664] Trial 481 finished with value: 0.6520373333321281 and parameters: {'n_estimators': 259, 'max_depth': 4, 'min_samples_split': 4, 'min_samples_leaf': 2, 'criterion': 'entropy', 'class_weight': 'balanced_subsample', 'max_features': 20}. Best is trial 455 with value: 0.6980635968472113.\n",
      "[I 2020-08-17 23:13:53,522] Trial 482 finished with value: 0.6951201564442833 and parameters: {'n_estimators': 264, 'max_depth': 8, 'min_samples_split': 4, 'min_samples_leaf': 2, 'criterion': 'entropy', 'class_weight': 'balanced_subsample', 'max_features': 20}. Best is trial 455 with value: 0.6980635968472113.\n",
      "[I 2020-08-17 23:14:26,815] Trial 483 finished with value: 0.6945184627713517 and parameters: {'n_estimators': 257, 'max_depth': 8, 'min_samples_split': 4, 'min_samples_leaf': 2, 'criterion': 'entropy', 'class_weight': 'balanced_subsample', 'max_features': 20}. Best is trial 455 with value: 0.6980635968472113.\n",
      "[I 2020-08-17 23:15:01,672] Trial 484 finished with value: 0.6921846041836555 and parameters: {'n_estimators': 264, 'max_depth': 8, 'min_samples_split': 5, 'min_samples_leaf': 2, 'criterion': 'entropy', 'class_weight': 'balanced_subsample', 'max_features': 20}. Best is trial 455 with value: 0.6980635968472113.\n",
      "[I 2020-08-17 23:15:36,635] Trial 485 finished with value: 0.6952719762533135 and parameters: {'n_estimators': 272, 'max_depth': 8, 'min_samples_split': 4, 'min_samples_leaf': 2, 'criterion': 'entropy', 'class_weight': 'balanced_subsample', 'max_features': 20}. Best is trial 455 with value: 0.6980635968472113.\n",
      "[I 2020-08-17 23:16:10,904] Trial 486 finished with value: 0.6967096036664981 and parameters: {'n_estimators': 263, 'max_depth': 8, 'min_samples_split': 5, 'min_samples_leaf': 1, 'criterion': 'entropy', 'class_weight': 'balanced_subsample', 'max_features': 20}. Best is trial 455 with value: 0.6980635968472113.\n",
      "[W 2020-08-17 23:16:12,329] Trial 487 failed, because the objective function returned nan.\n",
      "[W 2020-08-17 23:16:13,801] Trial 488 failed, because the objective function returned nan.\n",
      "[W 2020-08-17 23:16:15,263] Trial 489 failed, because the objective function returned nan.\n",
      "[I 2020-08-17 23:16:48,173] Trial 490 finished with value: 0.6963679131586187 and parameters: {'n_estimators': 255, 'max_depth': 8, 'min_samples_split': 5, 'min_samples_leaf': 1, 'criterion': 'entropy', 'class_weight': 'balanced_subsample', 'max_features': 20}. Best is trial 455 with value: 0.6980635968472113.\n",
      "[I 2020-08-17 23:17:21,080] Trial 491 finished with value: 0.6952983892364554 and parameters: {'n_estimators': 255, 'max_depth': 8, 'min_samples_split': 5, 'min_samples_leaf': 2, 'criterion': 'entropy', 'class_weight': 'balanced_subsample', 'max_features': 20}. Best is trial 455 with value: 0.6980635968472113.\n",
      "[W 2020-08-17 23:17:22,506] Trial 492 failed, because the objective function returned nan.\n",
      "[I 2020-08-17 23:17:55,548] Trial 493 finished with value: 0.6964208995575645 and parameters: {'n_estimators': 254, 'max_depth': 8, 'min_samples_split': 4, 'min_samples_leaf': 1, 'criterion': 'entropy', 'class_weight': 'balanced_subsample', 'max_features': 20}. Best is trial 455 with value: 0.6980635968472113.\n",
      "[I 2020-08-17 23:18:26,715] Trial 494 finished with value: 0.6962438422730675 and parameters: {'n_estimators': 238, 'max_depth': 8, 'min_samples_split': 4, 'min_samples_leaf': 1, 'criterion': 'entropy', 'class_weight': 'balanced_subsample', 'max_features': 20}. Best is trial 455 with value: 0.6980635968472113.\n",
      "[W 2020-08-17 23:18:28,143] Trial 495 failed, because the objective function returned nan.\n",
      "[I 2020-08-17 23:19:00,696] Trial 496 finished with value: 0.6962073324164477 and parameters: {'n_estimators': 251, 'max_depth': 8, 'min_samples_split': 4, 'min_samples_leaf': 2, 'criterion': 'entropy', 'class_weight': 'balanced_subsample', 'max_features': 20}. Best is trial 455 with value: 0.6980635968472113.\n",
      "[I 2020-08-17 23:19:33,244] Trial 497 finished with value: 0.6951561415320239 and parameters: {'n_estimators': 252, 'max_depth': 8, 'min_samples_split': 4, 'min_samples_leaf': 3, 'criterion': 'entropy', 'class_weight': 'balanced_subsample', 'max_features': 20}. Best is trial 455 with value: 0.6980635968472113.\n",
      "[I 2020-08-17 23:19:54,496] Trial 498 finished with value: 0.620543430470135 and parameters: {'n_estimators': 244, 'max_depth': 2, 'min_samples_split': 4, 'min_samples_leaf': 2, 'criterion': 'entropy', 'class_weight': 'balanced_subsample', 'max_features': 20}. Best is trial 455 with value: 0.6980635968472113.\n",
      "[I 2020-08-17 23:20:26,685] Trial 499 finished with value: 0.6942116777100968 and parameters: {'n_estimators': 249, 'max_depth': 8, 'min_samples_split': 4, 'min_samples_leaf': 2, 'criterion': 'entropy', 'class_weight': 'balanced_subsample', 'max_features': 20}. Best is trial 455 with value: 0.6980635968472113.\n",
      "[I 2020-08-17 23:20:57,645] Trial 500 finished with value: 0.6951791850329351 and parameters: {'n_estimators': 237, 'max_depth': 8, 'min_samples_split': 3, 'min_samples_leaf': 2, 'criterion': 'entropy', 'class_weight': 'balanced_subsample', 'max_features': 20}. Best is trial 455 with value: 0.6980635968472113.\n",
      "[I 2020-08-17 23:21:29,453] Trial 501 finished with value: 0.6936741174455172 and parameters: {'n_estimators': 245, 'max_depth': 8, 'min_samples_split': 4, 'min_samples_leaf': 2, 'criterion': 'entropy', 'class_weight': 'balanced_subsample', 'max_features': 20}. Best is trial 455 with value: 0.6980635968472113.\n",
      "[I 2020-08-17 23:22:01,958] Trial 502 finished with value: 0.6963863830144443 and parameters: {'n_estimators': 248, 'max_depth': 8, 'min_samples_split': 4, 'min_samples_leaf': 2, 'criterion': 'entropy', 'class_weight': 'balanced_subsample', 'max_features': 20}. Best is trial 455 with value: 0.6980635968472113.\n",
      "[I 2020-08-17 23:22:33,616] Trial 503 finished with value: 0.6942814044839548 and parameters: {'n_estimators': 246, 'max_depth': 8, 'min_samples_split': 4, 'min_samples_leaf': 3, 'criterion': 'entropy', 'class_weight': 'balanced_subsample', 'max_features': 20}. Best is trial 455 with value: 0.6980635968472113.\n",
      "[I 2020-08-17 23:23:07,954] Trial 504 finished with value: 0.6957480502758737 and parameters: {'n_estimators': 255, 'max_depth': 8, 'min_samples_split': 4, 'min_samples_leaf': 2, 'criterion': 'entropy', 'class_weight': 'balanced_subsample', 'max_features': 20}. Best is trial 455 with value: 0.6980635968472113.\n",
      "[I 2020-08-17 23:23:40,007] Trial 505 finished with value: 0.6933970130007489 and parameters: {'n_estimators': 248, 'max_depth': 8, 'min_samples_split': 4, 'min_samples_leaf': 2, 'criterion': 'entropy', 'class_weight': 'balanced_subsample', 'max_features': 20}. Best is trial 455 with value: 0.6980635968472113.\n",
      "[I 2020-08-17 23:24:09,063] Trial 506 finished with value: 0.6863539778789474 and parameters: {'n_estimators': 238, 'max_depth': 7, 'min_samples_split': 4, 'min_samples_leaf': 3, 'criterion': 'entropy', 'class_weight': 'balanced_subsample', 'max_features': 20}. Best is trial 455 with value: 0.6980635968472113.\n",
      "[I 2020-08-17 23:24:42,605] Trial 507 finished with value: 0.6948895213062138 and parameters: {'n_estimators': 254, 'max_depth': 8, 'min_samples_split': 4, 'min_samples_leaf': 2, 'criterion': 'entropy', 'class_weight': 'balanced_subsample', 'max_features': 20}. Best is trial 455 with value: 0.6980635968472113.\n",
      "[I 2020-08-17 23:25:15,689] Trial 508 finished with value: 0.6948585791201036 and parameters: {'n_estimators': 258, 'max_depth': 8, 'min_samples_split': 3, 'min_samples_leaf': 2, 'criterion': 'entropy', 'class_weight': 'balanced_subsample', 'max_features': 20}. Best is trial 455 with value: 0.6980635968472113.\n",
      "[I 2020-08-17 23:25:49,598] Trial 509 finished with value: 0.6954294732132563 and parameters: {'n_estimators': 261, 'max_depth': 8, 'min_samples_split': 4, 'min_samples_leaf': 2, 'criterion': 'entropy', 'class_weight': 'balanced_subsample', 'max_features': 20}. Best is trial 455 with value: 0.6980635968472113.\n",
      "[I 2020-08-17 23:26:21,980] Trial 510 finished with value: 0.6961165602335283 and parameters: {'n_estimators': 249, 'max_depth': 8, 'min_samples_split': 4, 'min_samples_leaf': 1, 'criterion': 'entropy', 'class_weight': 'balanced_subsample', 'max_features': 20}. Best is trial 455 with value: 0.6980635968472113.\n",
      "[I 2020-08-17 23:26:55,045] Trial 511 finished with value: 0.696124475498225 and parameters: {'n_estimators': 254, 'max_depth': 8, 'min_samples_split': 4, 'min_samples_leaf': 1, 'criterion': 'entropy', 'class_weight': 'balanced_subsample', 'max_features': 20}. Best is trial 455 with value: 0.6980635968472113.\n",
      "[I 2020-08-17 23:27:26,372] Trial 512 finished with value: 0.6975207417620333 and parameters: {'n_estimators': 241, 'max_depth': 8, 'min_samples_split': 4, 'min_samples_leaf': 1, 'criterion': 'entropy', 'class_weight': 'balanced_subsample', 'max_features': 20}. Best is trial 455 with value: 0.6980635968472113.\n",
      "[I 2020-08-17 23:27:57,260] Trial 513 finished with value: 0.696904127993495 and parameters: {'n_estimators': 241, 'max_depth': 8, 'min_samples_split': 4, 'min_samples_leaf': 1, 'criterion': 'entropy', 'class_weight': 'balanced_subsample', 'max_features': 20}. Best is trial 455 with value: 0.6980635968472113.\n",
      "[I 2020-08-17 23:28:27,624] Trial 514 finished with value: 0.6966043659049899 and parameters: {'n_estimators': 231, 'max_depth': 8, 'min_samples_split': 4, 'min_samples_leaf': 1, 'criterion': 'entropy', 'class_weight': 'balanced_subsample', 'max_features': 20}. Best is trial 455 with value: 0.6980635968472113.\n",
      "[I 2020-08-17 23:28:58,596] Trial 515 finished with value: 0.6966399993417891 and parameters: {'n_estimators': 234, 'max_depth': 8, 'min_samples_split': 4, 'min_samples_leaf': 1, 'criterion': 'entropy', 'class_weight': 'balanced_subsample', 'max_features': 20}. Best is trial 455 with value: 0.6980635968472113.\n",
      "[I 2020-08-17 23:29:29,114] Trial 516 finished with value: 0.6956205306940206 and parameters: {'n_estimators': 233, 'max_depth': 8, 'min_samples_split': 4, 'min_samples_leaf': 1, 'criterion': 'entropy', 'class_weight': 'balanced_subsample', 'max_features': 20}. Best is trial 455 with value: 0.6980635968472113.\n",
      "[I 2020-08-17 23:30:00,338] Trial 517 finished with value: 0.6958282595689845 and parameters: {'n_estimators': 240, 'max_depth': 8, 'min_samples_split': 4, 'min_samples_leaf': 1, 'criterion': 'entropy', 'class_weight': 'balanced_subsample', 'max_features': 20}. Best is trial 455 with value: 0.6980635968472113.\n",
      "[I 2020-08-17 23:30:30,308] Trial 518 finished with value: 0.6953609979233321 and parameters: {'n_estimators': 232, 'max_depth': 8, 'min_samples_split': 4, 'min_samples_leaf': 1, 'criterion': 'entropy', 'class_weight': 'balanced_subsample', 'max_features': 20}. Best is trial 455 with value: 0.6980635968472113.\n",
      "[I 2020-08-17 23:31:01,445] Trial 519 finished with value: 0.6945499800416395 and parameters: {'n_estimators': 235, 'max_depth': 8, 'min_samples_split': 4, 'min_samples_leaf': 1, 'criterion': 'entropy', 'class_weight': 'balanced_subsample', 'max_features': 20}. Best is trial 455 with value: 0.6980635968472113.\n",
      "[I 2020-08-17 23:31:32,569] Trial 520 finished with value: 0.6961599158324271 and parameters: {'n_estimators': 243, 'max_depth': 8, 'min_samples_split': 4, 'min_samples_leaf': 1, 'criterion': 'entropy', 'class_weight': 'balanced_subsample', 'max_features': 20}. Best is trial 455 with value: 0.6980635968472113.\n",
      "[I 2020-08-17 23:32:04,059] Trial 521 finished with value: 0.6948232865490855 and parameters: {'n_estimators': 241, 'max_depth': 8, 'min_samples_split': 3, 'min_samples_leaf': 1, 'criterion': 'entropy', 'class_weight': 'balanced_subsample', 'max_features': 20}. Best is trial 455 with value: 0.6980635968472113.\n",
      "[I 2020-08-17 23:32:33,788] Trial 522 finished with value: 0.6967826803678251 and parameters: {'n_estimators': 229, 'max_depth': 8, 'min_samples_split': 4, 'min_samples_leaf': 1, 'criterion': 'entropy', 'class_weight': 'balanced_subsample', 'max_features': 20}. Best is trial 455 with value: 0.6980635968472113.\n",
      "[W 2020-08-17 23:32:35,237] Trial 523 failed, because the objective function returned nan.\n",
      "[W 2020-08-17 23:32:36,671] Trial 524 failed, because the objective function returned nan.\n",
      "[I 2020-08-17 23:33:05,671] Trial 525 finished with value: 0.6975183987895406 and parameters: {'n_estimators': 220, 'max_depth': 8, 'min_samples_split': 4, 'min_samples_leaf': 1, 'criterion': 'entropy', 'class_weight': 'balanced_subsample', 'max_features': 20}. Best is trial 455 with value: 0.6980635968472113.\n"
     ]
    },
    {
     "name": "stderr",
     "output_type": "stream",
     "text": [
      "[I 2020-08-17 23:33:34,677] Trial 526 finished with value: 0.6987085463255431 and parameters: {'n_estimators': 218, 'max_depth': 8, 'min_samples_split': 3, 'min_samples_leaf': 1, 'criterion': 'entropy', 'class_weight': 'balanced_subsample', 'max_features': 20}. Best is trial 526 with value: 0.6987085463255431.\n",
      "[I 2020-08-17 23:34:04,029] Trial 527 finished with value: 0.6955629729450937 and parameters: {'n_estimators': 227, 'max_depth': 8, 'min_samples_split': 3, 'min_samples_leaf': 1, 'criterion': 'entropy', 'class_weight': 'balanced_subsample', 'max_features': 20}. Best is trial 526 with value: 0.6987085463255431.\n",
      "[I 2020-08-17 23:34:32,632] Trial 528 finished with value: 0.6961887382144851 and parameters: {'n_estimators': 214, 'max_depth': 8, 'min_samples_split': 3, 'min_samples_leaf': 1, 'criterion': 'entropy', 'class_weight': 'balanced_subsample', 'max_features': 20}. Best is trial 526 with value: 0.6987085463255431.\n",
      "[I 2020-08-17 23:35:01,461] Trial 529 finished with value: 0.6954398766198053 and parameters: {'n_estimators': 221, 'max_depth': 8, 'min_samples_split': 3, 'min_samples_leaf': 1, 'criterion': 'entropy', 'class_weight': 'balanced_subsample', 'max_features': 20}. Best is trial 526 with value: 0.6987085463255431.\n",
      "[I 2020-08-17 23:35:30,801] Trial 530 finished with value: 0.6961245575188076 and parameters: {'n_estimators': 223, 'max_depth': 8, 'min_samples_split': 4, 'min_samples_leaf': 1, 'criterion': 'entropy', 'class_weight': 'balanced_subsample', 'max_features': 20}. Best is trial 526 with value: 0.6987085463255431.\n",
      "[I 2020-08-17 23:36:00,705] Trial 531 finished with value: 0.6979518744223674 and parameters: {'n_estimators': 229, 'max_depth': 8, 'min_samples_split': 4, 'min_samples_leaf': 1, 'criterion': 'entropy', 'class_weight': 'balanced_subsample', 'max_features': 20}. Best is trial 526 with value: 0.6987085463255431.\n",
      "[I 2020-08-17 23:36:31,232] Trial 532 finished with value: 0.694597401851735 and parameters: {'n_estimators': 227, 'max_depth': 8, 'min_samples_split': 2, 'min_samples_leaf': 1, 'criterion': 'entropy', 'class_weight': 'balanced_subsample', 'max_features': 20}. Best is trial 526 with value: 0.6987085463255431.\n",
      "[I 2020-08-17 23:37:03,349] Trial 533 finished with value: 0.6969255394928882 and parameters: {'n_estimators': 216, 'max_depth': 8, 'min_samples_split': 4, 'min_samples_leaf': 1, 'criterion': 'entropy', 'class_weight': 'balanced_subsample', 'max_features': 20}. Best is trial 526 with value: 0.6987085463255431.\n",
      "[I 2020-08-17 23:37:33,763] Trial 534 finished with value: 0.6961352878074316 and parameters: {'n_estimators': 215, 'max_depth': 8, 'min_samples_split': 4, 'min_samples_leaf': 1, 'criterion': 'entropy', 'class_weight': 'balanced_subsample', 'max_features': 20}. Best is trial 526 with value: 0.6987085463255431.\n",
      "[W 2020-08-17 23:37:35,218] Trial 535 failed, because the objective function returned nan.\n",
      "[I 2020-08-17 23:38:07,254] Trial 536 finished with value: 0.6976751752681732 and parameters: {'n_estimators': 228, 'max_depth': 8, 'min_samples_split': 4, 'min_samples_leaf': 1, 'criterion': 'entropy', 'class_weight': 'balanced_subsample', 'max_features': 20}. Best is trial 526 with value: 0.6987085463255431.\n",
      "[I 2020-08-17 23:38:37,233] Trial 537 finished with value: 0.6954027204833433 and parameters: {'n_estimators': 230, 'max_depth': 8, 'min_samples_split': 4, 'min_samples_leaf': 1, 'criterion': 'entropy', 'class_weight': 'balanced_subsample', 'max_features': 20}. Best is trial 526 with value: 0.6987085463255431.\n",
      "[W 2020-08-17 23:38:38,666] Trial 538 failed, because the objective function returned nan.\n",
      "[I 2020-08-17 23:39:04,960] Trial 539 finished with value: 0.6761203045648315 and parameters: {'n_estimators': 218, 'max_depth': 6, 'min_samples_split': 4, 'min_samples_leaf': 1, 'criterion': 'entropy', 'class_weight': 'balanced_subsample', 'max_features': 20}. Best is trial 526 with value: 0.6987085463255431.\n",
      "[I 2020-08-17 23:39:34,153] Trial 540 finished with value: 0.6983913011519103 and parameters: {'n_estimators': 225, 'max_depth': 8, 'min_samples_split': 3, 'min_samples_leaf': 1, 'criterion': 'entropy', 'class_weight': 'balanced_subsample', 'max_features': 20}. Best is trial 526 with value: 0.6987085463255431.\n",
      "[I 2020-08-17 23:40:06,204] Trial 541 finished with value: 0.6952153490361819 and parameters: {'n_estimators': 225, 'max_depth': 8, 'min_samples_split': 3, 'min_samples_leaf': 1, 'criterion': 'entropy', 'class_weight': 'balanced_subsample', 'max_features': 20}. Best is trial 526 with value: 0.6987085463255431.\n",
      "[I 2020-08-17 23:40:32,718] Trial 542 finished with value: 0.6851528319439897 and parameters: {'n_estimators': 219, 'max_depth': 8, 'min_samples_split': 3, 'min_samples_leaf': 1, 'criterion': 'entropy', 'class_weight': 'balanced_subsample', 'max_features': 12}. Best is trial 526 with value: 0.6987085463255431.\n",
      "[I 2020-08-17 23:41:05,540] Trial 543 finished with value: 0.6953000061618185 and parameters: {'n_estimators': 226, 'max_depth': 8, 'min_samples_split': 3, 'min_samples_leaf': 1, 'criterion': 'entropy', 'class_weight': 'balanced_subsample', 'max_features': 20}. Best is trial 526 with value: 0.6987085463255431.\n",
      "[I 2020-08-17 23:41:37,089] Trial 544 finished with value: 0.6967903382867557 and parameters: {'n_estimators': 235, 'max_depth': 8, 'min_samples_split': 3, 'min_samples_leaf': 1, 'criterion': 'entropy', 'class_weight': 'balanced_subsample', 'max_features': 20}. Best is trial 526 with value: 0.6987085463255431.\n",
      "[I 2020-08-17 23:42:07,808] Trial 545 finished with value: 0.6949286818852473 and parameters: {'n_estimators': 234, 'max_depth': 8, 'min_samples_split': 3, 'min_samples_leaf': 1, 'criterion': 'entropy', 'class_weight': 'balanced_subsample', 'max_features': 20}. Best is trial 526 with value: 0.6987085463255431.\n",
      "[W 2020-08-17 23:42:09,242] Trial 546 failed, because the objective function returned nan.\n",
      "[I 2020-08-17 23:42:41,373] Trial 547 finished with value: 0.6953042561157796 and parameters: {'n_estimators': 231, 'max_depth': 8, 'min_samples_split': 3, 'min_samples_leaf': 1, 'criterion': 'entropy', 'class_weight': 'balanced_subsample', 'max_features': 20}. Best is trial 526 with value: 0.6987085463255431.\n",
      "[I 2020-08-17 23:43:13,420] Trial 548 finished with value: 0.6943450147948677 and parameters: {'n_estimators': 222, 'max_depth': 8, 'min_samples_split': 2, 'min_samples_leaf': 1, 'criterion': 'entropy', 'class_weight': 'balanced_subsample', 'max_features': 20}. Best is trial 526 with value: 0.6987085463255431.\n",
      "[I 2020-08-17 23:43:44,363] Trial 549 finished with value: 0.6950178119929747 and parameters: {'n_estimators': 210, 'max_depth': 8, 'min_samples_split': 3, 'min_samples_leaf': 1, 'criterion': 'entropy', 'class_weight': 'balanced_subsample', 'max_features': 20}. Best is trial 526 with value: 0.6987085463255431.\n",
      "[I 2020-08-17 23:44:18,629] Trial 550 finished with value: 0.6969384486655242 and parameters: {'n_estimators': 235, 'max_depth': 8, 'min_samples_split': 3, 'min_samples_leaf': 1, 'criterion': 'entropy', 'class_weight': 'balanced_subsample', 'max_features': 20}. Best is trial 526 with value: 0.6987085463255431.\n",
      "[I 2020-08-17 23:44:51,685] Trial 551 finished with value: 0.6974173845972842 and parameters: {'n_estimators': 229, 'max_depth': 8, 'min_samples_split': 3, 'min_samples_leaf': 1, 'criterion': 'entropy', 'class_weight': 'balanced_subsample', 'max_features': 20}. Best is trial 526 with value: 0.6987085463255431.\n",
      "[I 2020-08-17 23:45:24,795] Trial 552 finished with value: 0.6970056082623147 and parameters: {'n_estimators': 235, 'max_depth': 8, 'min_samples_split': 3, 'min_samples_leaf': 1, 'criterion': 'entropy', 'class_weight': 'balanced_subsample', 'max_features': 20}. Best is trial 526 with value: 0.6987085463255431.\n",
      "[I 2020-08-17 23:45:55,721] Trial 553 finished with value: 0.6962817334375876 and parameters: {'n_estimators': 229, 'max_depth': 8, 'min_samples_split': 3, 'min_samples_leaf': 1, 'criterion': 'entropy', 'class_weight': 'balanced_subsample', 'max_features': 20}. Best is trial 526 with value: 0.6987085463255431.\n",
      "[W 2020-08-17 23:45:57,312] Trial 554 failed, because the objective function returned nan.\n",
      "[I 2020-08-17 23:46:30,452] Trial 555 finished with value: 0.6957165436396948 and parameters: {'n_estimators': 235, 'max_depth': 8, 'min_samples_split': 3, 'min_samples_leaf': 1, 'criterion': 'entropy', 'class_weight': 'balanced_subsample', 'max_features': 20}. Best is trial 526 with value: 0.6987085463255431.\n",
      "[I 2020-08-17 23:47:03,024] Trial 556 finished with value: 0.6956910552376969 and parameters: {'n_estimators': 226, 'max_depth': 8, 'min_samples_split': 3, 'min_samples_leaf': 1, 'criterion': 'entropy', 'class_weight': 'balanced_subsample', 'max_features': 20}. Best is trial 526 with value: 0.6987085463255431.\n",
      "[I 2020-08-17 23:47:33,559] Trial 557 finished with value: 0.6956352978608162 and parameters: {'n_estimators': 233, 'max_depth': 8, 'min_samples_split': 3, 'min_samples_leaf': 1, 'criterion': 'entropy', 'class_weight': 'balanced_subsample', 'max_features': 20}. Best is trial 526 with value: 0.6987085463255431.\n",
      "[I 2020-08-17 23:48:04,523] Trial 558 finished with value: 0.694315218693386 and parameters: {'n_estimators': 237, 'max_depth': 8, 'min_samples_split': 3, 'min_samples_leaf': 1, 'criterion': 'entropy', 'class_weight': 'balanced_subsample', 'max_features': 20}. Best is trial 526 with value: 0.6987085463255431.\n",
      "[W 2020-08-17 23:48:05,969] Trial 559 failed, because the objective function returned nan.\n",
      "[I 2020-08-17 23:48:34,303] Trial 560 finished with value: 0.6965457486519945 and parameters: {'n_estimators': 216, 'max_depth': 8, 'min_samples_split': 3, 'min_samples_leaf': 1, 'criterion': 'entropy', 'class_weight': 'balanced_subsample', 'max_features': 20}. Best is trial 526 with value: 0.6987085463255431.\n",
      "[W 2020-08-17 23:48:35,710] Trial 561 failed, because the objective function returned nan.\n",
      "[I 2020-08-17 23:49:01,997] Trial 562 finished with value: 0.6887580275782632 and parameters: {'n_estimators': 214, 'max_depth': 7, 'min_samples_split': 3, 'min_samples_leaf': 1, 'criterion': 'entropy', 'class_weight': 'balanced_subsample', 'max_features': 20}. Best is trial 526 with value: 0.6987085463255431.\n",
      "[W 2020-08-17 23:49:03,383] Trial 563 failed, because the objective function returned nan.\n",
      "[I 2020-08-17 23:49:32,875] Trial 564 finished with value: 0.6953432337804453 and parameters: {'n_estimators': 220, 'max_depth': 8, 'min_samples_split': 3, 'min_samples_leaf': 1, 'criterion': 'entropy', 'class_weight': 'balanced_subsample', 'max_features': 20}. Best is trial 526 with value: 0.6987085463255431.\n",
      "[I 2020-08-17 23:50:03,015] Trial 565 finished with value: 0.6968385024877419 and parameters: {'n_estimators': 230, 'max_depth': 8, 'min_samples_split': 3, 'min_samples_leaf': 1, 'criterion': 'entropy', 'class_weight': 'balanced_subsample', 'max_features': 20}. Best is trial 526 with value: 0.6987085463255431.\n",
      "[I 2020-08-17 23:50:33,158] Trial 566 finished with value: 0.6972946328584759 and parameters: {'n_estimators': 228, 'max_depth': 8, 'min_samples_split': 2, 'min_samples_leaf': 1, 'criterion': 'entropy', 'class_weight': 'balanced_subsample', 'max_features': 20}. Best is trial 526 with value: 0.6987085463255431.\n",
      "[W 2020-08-17 23:50:34,570] Trial 567 failed, because the objective function returned nan.\n",
      "[W 2020-08-17 23:50:35,978] Trial 568 failed, because the objective function returned nan.\n",
      "[I 2020-08-17 23:51:05,766] Trial 569 finished with value: 0.6969179197186292 and parameters: {'n_estimators': 228, 'max_depth': 8, 'min_samples_split': 3, 'min_samples_leaf': 1, 'criterion': 'entropy', 'class_weight': 'balanced_subsample', 'max_features': 20}. Best is trial 526 with value: 0.6987085463255431.\n",
      "[W 2020-08-17 23:51:07,209] Trial 570 failed, because the objective function returned nan.\n",
      "[I 2020-08-17 23:51:36,102] Trial 571 finished with value: 0.6974575819469004 and parameters: {'n_estimators': 223, 'max_depth': 8, 'min_samples_split': 2, 'min_samples_leaf': 1, 'criterion': 'entropy', 'class_weight': 'balanced_subsample', 'max_features': 20}. Best is trial 526 with value: 0.6987085463255431.\n",
      "[I 2020-08-17 23:52:04,913] Trial 572 finished with value: 0.6948574007143203 and parameters: {'n_estimators': 223, 'max_depth': 8, 'min_samples_split': 2, 'min_samples_leaf': 1, 'criterion': 'entropy', 'class_weight': 'balanced_subsample', 'max_features': 20}. Best is trial 526 with value: 0.6987085463255431.\n",
      "[I 2020-08-17 23:52:34,699] Trial 573 finished with value: 0.6972873249565106 and parameters: {'n_estimators': 227, 'max_depth': 8, 'min_samples_split': 2, 'min_samples_leaf': 1, 'criterion': 'entropy', 'class_weight': 'balanced_subsample', 'max_features': 20}. Best is trial 526 with value: 0.6987085463255431.\n",
      "[W 2020-08-17 23:52:36,156] Trial 574 failed, because the objective function returned nan.\n",
      "[I 2020-08-17 23:53:05,678] Trial 575 finished with value: 0.696293553233365 and parameters: {'n_estimators': 227, 'max_depth': 8, 'min_samples_split': 2, 'min_samples_leaf': 1, 'criterion': 'entropy', 'class_weight': 'balanced_subsample', 'max_features': 20}. Best is trial 526 with value: 0.6987085463255431.\n",
      "[W 2020-08-17 23:53:07,077] Trial 576 failed, because the objective function returned nan.\n",
      "[I 2020-08-17 23:53:36,073] Trial 577 finished with value: 0.6942755971674981 and parameters: {'n_estimators': 222, 'max_depth': 8, 'min_samples_split': 2, 'min_samples_leaf': 1, 'criterion': 'entropy', 'class_weight': 'balanced_subsample', 'max_features': 20}. Best is trial 526 with value: 0.6987085463255431.\n",
      "[I 2020-08-17 23:54:06,618] Trial 578 finished with value: 0.6988590595247401 and parameters: {'n_estimators': 230, 'max_depth': 8, 'min_samples_split': 3, 'min_samples_leaf': 1, 'criterion': 'entropy', 'class_weight': 'balanced_subsample', 'max_features': 20}. Best is trial 578 with value: 0.6988590595247401.\n",
      "[W 2020-08-17 23:54:08,024] Trial 579 failed, because the objective function returned nan.\n",
      "[W 2020-08-17 23:54:09,468] Trial 580 failed, because the objective function returned nan.\n",
      "[W 2020-08-17 23:54:10,869] Trial 581 failed, because the objective function returned nan.\n",
      "[W 2020-08-17 23:54:12,242] Trial 582 failed, because the objective function returned nan.\n",
      "[W 2020-08-17 23:54:13,642] Trial 583 failed, because the objective function returned nan.\n",
      "[W 2020-08-17 23:54:15,233] Trial 584 failed, because the objective function returned nan.\n",
      "[W 2020-08-17 23:54:16,701] Trial 585 failed, because the objective function returned nan.\n",
      "[W 2020-08-17 23:54:18,147] Trial 586 failed, because the objective function returned nan.\n",
      "[I 2020-08-17 23:54:48,291] Trial 587 finished with value: 0.6963699627568654 and parameters: {'n_estimators': 229, 'max_depth': 8, 'min_samples_split': 2, 'min_samples_leaf': 1, 'criterion': 'entropy', 'class_weight': 'balanced_subsample', 'max_features': 20}. Best is trial 578 with value: 0.6988590595247401.\n",
      "[W 2020-08-17 23:54:49,720] Trial 588 failed, because the objective function returned nan.\n",
      "[W 2020-08-17 23:54:51,170] Trial 589 failed, because the objective function returned nan.\n",
      "[W 2020-08-17 23:54:52,633] Trial 590 failed, because the objective function returned nan.\n",
      "[I 2020-08-17 23:55:24,227] Trial 591 finished with value: 0.6948308680894096 and parameters: {'n_estimators': 241, 'max_depth': 8, 'min_samples_split': 2, 'min_samples_leaf': 1, 'criterion': 'entropy', 'class_weight': 'balanced_subsample', 'max_features': 20}. Best is trial 578 with value: 0.6988590595247401.\n",
      "[W 2020-08-17 23:55:25,663] Trial 592 failed, because the objective function returned nan.\n",
      "[W 2020-08-17 23:55:27,071] Trial 593 failed, because the objective function returned nan.\n",
      "[W 2020-08-17 23:55:28,541] Trial 594 failed, because the objective function returned nan.\n",
      "[W 2020-08-17 23:55:29,978] Trial 595 failed, because the objective function returned nan.\n",
      "[W 2020-08-17 23:55:31,381] Trial 596 failed, because the objective function returned nan.\n",
      "[W 2020-08-17 23:55:32,815] Trial 597 failed, because the objective function returned nan.\n",
      "[W 2020-08-17 23:55:34,314] Trial 598 failed, because the objective function returned nan.\n"
     ]
    },
    {
     "name": "stderr",
     "output_type": "stream",
     "text": [
      "[I 2020-08-17 23:56:03,832] Trial 599 finished with value: 0.6948789701777661 and parameters: {'n_estimators': 225, 'max_depth': 8, 'min_samples_split': 2, 'min_samples_leaf': 1, 'criterion': 'entropy', 'class_weight': 'balanced_subsample', 'max_features': 20}. Best is trial 578 with value: 0.6988590595247401.\n",
      "[I 2020-08-17 23:56:28,355] Trial 600 finished with value: 0.6923282288770646 and parameters: {'n_estimators': 209, 'max_depth': 8, 'min_samples_split': 2, 'min_samples_leaf': 1, 'criterion': 'entropy', 'class_weight': 'balanced_subsample', 'max_features': 14}. Best is trial 578 with value: 0.6988590595247401.\n",
      "[W 2020-08-17 23:56:29,780] Trial 601 failed, because the objective function returned nan.\n",
      "[I 2020-08-17 23:56:58,431] Trial 602 finished with value: 0.6980334019637924 and parameters: {'n_estimators': 218, 'max_depth': 8, 'min_samples_split': 3, 'min_samples_leaf': 1, 'criterion': 'entropy', 'class_weight': 'balanced_subsample', 'max_features': 20}. Best is trial 578 with value: 0.6988590595247401.\n",
      "[W 2020-08-17 23:56:59,848] Trial 603 failed, because the objective function returned nan.\n",
      "[W 2020-08-17 23:57:01,281] Trial 604 failed, because the objective function returned nan.\n",
      "[W 2020-08-17 23:57:02,677] Trial 605 failed, because the objective function returned nan.\n",
      "[W 2020-08-17 23:57:04,102] Trial 606 failed, because the objective function returned nan.\n",
      "[I 2020-08-17 23:57:32,973] Trial 607 finished with value: 0.6956781038939898 and parameters: {'n_estimators': 220, 'max_depth': 8, 'min_samples_split': 3, 'min_samples_leaf': 1, 'criterion': 'entropy', 'class_weight': 'balanced_subsample', 'max_features': 20}. Best is trial 578 with value: 0.6988590595247401.\n",
      "[I 2020-08-17 23:58:01,778] Trial 608 finished with value: 0.6956226237106987 and parameters: {'n_estimators': 217, 'max_depth': 8, 'min_samples_split': 2, 'min_samples_leaf': 1, 'criterion': 'entropy', 'class_weight': 'balanced_subsample', 'max_features': 20}. Best is trial 578 with value: 0.6988590595247401.\n",
      "[W 2020-08-17 23:58:03,201] Trial 609 failed, because the objective function returned nan.\n",
      "[W 2020-08-17 23:58:04,600] Trial 610 failed, because the objective function returned nan.\n",
      "[W 2020-08-17 23:58:06,024] Trial 611 failed, because the objective function returned nan.\n",
      "[W 2020-08-17 23:58:07,505] Trial 612 failed, because the objective function returned nan.\n",
      "[W 2020-08-17 23:58:08,943] Trial 613 failed, because the objective function returned nan.\n",
      "[W 2020-08-17 23:58:10,350] Trial 614 failed, because the objective function returned nan.\n",
      "[W 2020-08-17 23:58:11,761] Trial 615 failed, because the objective function returned nan.\n",
      "[I 2020-08-17 23:58:42,155] Trial 616 finished with value: 0.6947405326366922 and parameters: {'n_estimators': 234, 'max_depth': 8, 'min_samples_split': 3, 'min_samples_leaf': 1, 'criterion': 'entropy', 'class_weight': 'balanced_subsample', 'max_features': 20}. Best is trial 578 with value: 0.6988590595247401.\n",
      "[I 2020-08-17 23:59:04,323] Trial 617 finished with value: 0.6679455613559903 and parameters: {'n_estimators': 224, 'max_depth': 8, 'min_samples_split': 3, 'min_samples_leaf': 1, 'criterion': 'entropy', 'class_weight': 'balanced_subsample', 'max_features': 6}. Best is trial 578 with value: 0.6988590595247401.\n",
      "[I 2020-08-17 23:59:34,921] Trial 618 finished with value: 0.6963824208892597 and parameters: {'n_estimators': 237, 'max_depth': 8, 'min_samples_split': 3, 'min_samples_leaf': 1, 'criterion': 'entropy', 'class_weight': 'balanced_subsample', 'max_features': 20}. Best is trial 578 with value: 0.6988590595247401.\n",
      "[W 2020-08-17 23:59:36,317] Trial 619 failed, because the objective function returned nan.\n",
      "[W 2020-08-17 23:59:37,732] Trial 620 failed, because the objective function returned nan.\n",
      "[W 2020-08-17 23:59:39,164] Trial 621 failed, because the objective function returned nan.\n",
      "[W 2020-08-17 23:59:40,585] Trial 622 failed, because the objective function returned nan.\n",
      "[W 2020-08-17 23:59:42,028] Trial 623 failed, because the objective function returned nan.\n",
      "[I 2020-08-18 00:00:11,839] Trial 624 finished with value: 0.6971756712522771 and parameters: {'n_estimators': 229, 'max_depth': 8, 'min_samples_split': 3, 'min_samples_leaf': 1, 'criterion': 'entropy', 'class_weight': 'balanced_subsample', 'max_features': 20}. Best is trial 578 with value: 0.6988590595247401.\n",
      "[I 2020-08-18 00:00:42,264] Trial 625 finished with value: 0.6981078353633992 and parameters: {'n_estimators': 229, 'max_depth': 8, 'min_samples_split': 2, 'min_samples_leaf': 1, 'criterion': 'entropy', 'class_weight': 'balanced_subsample', 'max_features': 20}. Best is trial 578 with value: 0.6988590595247401.\n",
      "[W 2020-08-18 00:00:43,654] Trial 626 failed, because the objective function returned nan.\n",
      "[W 2020-08-18 00:00:45,060] Trial 627 failed, because the objective function returned nan.\n",
      "[I 2020-08-18 00:01:13,661] Trial 628 finished with value: 0.6967717071729077 and parameters: {'n_estimators': 220, 'max_depth': 8, 'min_samples_split': 2, 'min_samples_leaf': 1, 'criterion': 'entropy', 'class_weight': 'balanced_subsample', 'max_features': 20}. Best is trial 578 with value: 0.6988590595247401.\n",
      "[I 2020-08-18 00:01:40,991] Trial 629 finished with value: 0.6961483052256549 and parameters: {'n_estimators': 212, 'max_depth': 8, 'min_samples_split': 2, 'min_samples_leaf': 1, 'criterion': 'entropy', 'class_weight': 'balanced_subsample', 'max_features': 20}. Best is trial 578 with value: 0.6988590595247401.\n",
      "[I 2020-08-18 00:02:07,439] Trial 630 finished with value: 0.6934184155297163 and parameters: {'n_estimators': 205, 'max_depth': 8, 'min_samples_split': 2, 'min_samples_leaf': 1, 'criterion': 'entropy', 'class_weight': 'balanced_subsample', 'max_features': 19}. Best is trial 578 with value: 0.6988590595247401.\n"
     ]
    }
   ],
   "source": [
    "def find_hyperparam_rf(trial):\n",
    "    n_estimators = trial.suggest_int('n_estimators', 50, 300)\n",
    "    max_depth = trial.suggest_int('max_depth', 2, 8)\n",
    "    min_samples_split = trial.suggest_int('min_samples_split', 0, 10)\n",
    "    min_samples_leaf = trial.suggest_int('min_samples_leaf', 1, 15)\n",
    "    criterion = trial.suggest_categorical('criterion', ['gini', 'entropy'])\n",
    "    class_weight = trial.suggest_categorical('class_weight', ['balanced', 'balanced_subsample'])\n",
    "    max_features = trial.suggest_int('max_features', 2, 20)\n",
    "    rfc = RandomForestClassifier(oob_score = True, \n",
    "                             n_estimators = n_estimators, \n",
    "                             max_depth = max_depth, \n",
    "                             min_samples_split = min_samples_split, \n",
    "                             min_samples_leaf = min_samples_leaf, \n",
    "                             criterion = criterion, \n",
    "                             class_weight = class_weight, \n",
    "                             max_features = max_features)\n",
    "    cv = KFold(n_splits = 5, shuffle = True, random_state = 20)\n",
    "    score = np.mean(cross_val_score(rfc, X_train_ohe, y_train, scoring = 'f1_weighted', cv = cv, n_jobs = -1))\n",
    "    return (score)\n",
    "\n",
    "rfc_study = optuna.create_study(direction='maximize')\n",
    "rfc_study.optimize(find_hyperparam_rf, timeout = 12780)"
   ]
  },
  {
   "cell_type": "code",
   "execution_count": 39,
   "metadata": {},
   "outputs": [],
   "source": [
    "# save the study\n",
    "mod = open('PKL/rfc_study.pkl', 'wb')\n",
    "pickle.dump(rfc_study, mod)\n",
    "mod.close()"
   ]
  },
  {
   "cell_type": "code",
   "execution_count": 41,
   "metadata": {
    "scrolled": true
   },
   "outputs": [
    {
     "data": {
      "text/plain": [
       "{'n_estimators': 230,\n",
       " 'max_depth': 8,\n",
       " 'min_samples_split': 3,\n",
       " 'min_samples_leaf': 1,\n",
       " 'criterion': 'entropy',\n",
       " 'class_weight': 'balanced_subsample',\n",
       " 'max_features': 20}"
      ]
     },
     "execution_count": 41,
     "metadata": {},
     "output_type": "execute_result"
    }
   ],
   "source": [
    "xgb_study.best_params"
   ]
  },
  {
   "cell_type": "code",
   "execution_count": null,
   "metadata": {},
   "outputs": [],
   "source": [
    "rf = RandomForestClassifier(oob_score = True, \n",
    "                            n_estimators = 230,\n",
    "                            max_depth = 8,\n",
    "                            min_samples_split = 3,\n",
    "                            min_samples_leaf = 1,\n",
    "                            criterion = 'entropy',\n",
    "                            class_weight = 'balanced_subsample',\n",
    "                            max_features = 20)\n",
    "\n",
    "rf.fit(X_train_ohe, y_train)\n",
    "\n",
    "y_pred = rf.predict(X_test_ohe)    \n",
    "f1_test = round(f1_score(y_test, y_pred, average = 'weighted'), 3)\n",
    "acc_test = round(accuracy_score(y_test, y_pred), 3)\n",
    "\n",
    "print('Test F1 score: ', f1_test, '/ Test Accuracy: ', acc_test)\n",
    "score_keeper['rf_opt'] = (f1_test, acc_test)"
   ]
  },
  {
   "cell_type": "code",
   "execution_count": null,
   "metadata": {},
   "outputs": [],
   "source": []
  },
  {
   "cell_type": "code",
   "execution_count": null,
   "metadata": {},
   "outputs": [],
   "source": []
  },
  {
   "cell_type": "code",
   "execution_count": null,
   "metadata": {},
   "outputs": [],
   "source": []
  },
  {
   "cell_type": "code",
   "execution_count": null,
   "metadata": {},
   "outputs": [],
   "source": []
  },
  {
   "cell_type": "code",
   "execution_count": null,
   "metadata": {},
   "outputs": [],
   "source": []
  },
  {
   "cell_type": "markdown",
   "metadata": {},
   "source": [
    "## XGBoost\n",
    "I'll run XGBoost with Optuna to find the best hyperparameter."
   ]
  },
  {
   "cell_type": "code",
   "execution_count": 46,
   "metadata": {},
   "outputs": [],
   "source": [
    "import xgboost as xgb"
   ]
  },
  {
   "cell_type": "code",
   "execution_count": 54,
   "metadata": {},
   "outputs": [
    {
     "name": "stderr",
     "output_type": "stream",
     "text": [
      "[I 2020-08-18 00:16:24,841] Trial 0 finished with value: 0.7088009382983864 and parameters: {'eta': 0.29621547222690675, 'max_depth': 2, 'min_child_weight': 3, 'subsample': 0.12619641349039828, 'sampling_method': 'uniform', 'colsample_bytree': 0.5187121898701065, 'num_parallel_tree': 6}. Best is trial 0 with value: 0.7088009382983864.\n",
      "[I 2020-08-18 00:19:11,190] Trial 1 finished with value: 0.7586624806118986 and parameters: {'eta': 0.14053267296974542, 'max_depth': 6, 'min_child_weight': 3, 'subsample': 0.48363656185014225, 'sampling_method': 'uniform', 'colsample_bytree': 0.8002238810944144, 'num_parallel_tree': 1}. Best is trial 1 with value: 0.7586624806118986.\n",
      "[I 2020-08-18 00:19:37,010] Trial 2 finished with value: 0.6628615145153934 and parameters: {'eta': 0.12471338451893102, 'max_depth': 1, 'min_child_weight': 2, 'subsample': 0.8075018868147802, 'sampling_method': 'gradient_based', 'colsample_bytree': 0.12998484258556592, 'num_parallel_tree': 3}. Best is trial 1 with value: 0.7586624806118986.\n",
      "[I 2020-08-18 00:31:15,865] Trial 3 finished with value: 0.7450400488061477 and parameters: {'eta': 0.2829176992586735, 'max_depth': 5, 'min_child_weight': 8, 'subsample': 0.19680911970628473, 'sampling_method': 'uniform', 'colsample_bytree': 0.6781925623433033, 'num_parallel_tree': 10}. Best is trial 1 with value: 0.7586624806118986.\n",
      "[I 2020-08-18 00:36:04,381] Trial 4 finished with value: 0.7483373065243827 and parameters: {'eta': 0.16920674837849833, 'max_depth': 5, 'min_child_weight': 2, 'subsample': 0.9867258365961145, 'sampling_method': 'gradient_based', 'colsample_bytree': 0.7272730322565438, 'num_parallel_tree': 3}. Best is trial 1 with value: 0.7586624806118986.\n",
      "[I 2020-08-18 00:52:51,176] Trial 5 finished with value: 0.7392043810782026 and parameters: {'eta': 0.07851159384146247, 'max_depth': 4, 'min_child_weight': 8, 'subsample': 0.8355373232888261, 'sampling_method': 'uniform', 'colsample_bytree': 0.900250483776133, 'num_parallel_tree': 10}. Best is trial 1 with value: 0.7586624806118986.\n",
      "[I 2020-08-18 00:54:44,845] Trial 6 finished with value: 0.768920867348084 and parameters: {'eta': 0.05230530606701189, 'max_depth': 9, 'min_child_weight': 9, 'subsample': 0.9465398623462433, 'sampling_method': 'gradient_based', 'colsample_bytree': 0.1960869912839494, 'num_parallel_tree': 2}. Best is trial 6 with value: 0.768920867348084.\n",
      "[I 2020-08-18 00:56:05,247] Trial 7 finished with value: 0.6692335779061072 and parameters: {'eta': 0.24705993706032345, 'max_depth': 1, 'min_child_weight': 2, 'subsample': 0.20501296541631892, 'sampling_method': 'gradient_based', 'colsample_bytree': 0.6260124073304166, 'num_parallel_tree': 5}. Best is trial 6 with value: 0.768920867348084.\n",
      "[I 2020-08-18 01:00:48,564] Trial 8 finished with value: 0.7532665075852545 and parameters: {'eta': 0.37931739163865735, 'max_depth': 6, 'min_child_weight': 9, 'subsample': 0.40835761341269805, 'sampling_method': 'gradient_based', 'colsample_bytree': 0.5056034477738443, 'num_parallel_tree': 3}. Best is trial 6 with value: 0.768920867348084.\n",
      "[I 2020-08-18 01:03:07,237] Trial 9 finished with value: 0.7069882830637357 and parameters: {'eta': 0.23273256992990748, 'max_depth': 2, 'min_child_weight': 10, 'subsample': 0.758619566257464, 'sampling_method': 'gradient_based', 'colsample_bytree': 0.7258659229150313, 'num_parallel_tree': 3}. Best is trial 6 with value: 0.768920867348084.\n",
      "[I 2020-08-18 01:04:21,941] Trial 10 finished with value: 0.7739022012979279 and parameters: {'eta': 0.007312880352673051, 'max_depth': 10, 'min_child_weight': 6, 'subsample': 0.9905334543584309, 'sampling_method': 'gradient_based', 'colsample_bytree': 0.2240636052395352, 'num_parallel_tree': 1}. Best is trial 10 with value: 0.7739022012979279.\n",
      "[I 2020-08-18 01:05:17,250] Trial 11 finished with value: 0.7701145781045332 and parameters: {'eta': 0.016489591129428806, 'max_depth': 10, 'min_child_weight': 6, 'subsample': 0.9982226061659564, 'sampling_method': 'gradient_based', 'colsample_bytree': 0.14741235778559653, 'num_parallel_tree': 1}. Best is trial 10 with value: 0.7739022012979279.\n",
      "[I 2020-08-18 01:07:05,070] Trial 12 finished with value: 0.7718817157024238 and parameters: {'eta': 0.021811468134167553, 'max_depth': 10, 'min_child_weight': 6, 'subsample': 0.6614582436496041, 'sampling_method': 'gradient_based', 'colsample_bytree': 0.2935666234814866, 'num_parallel_tree': 1}. Best is trial 10 with value: 0.7739022012979279.\n",
      "[I 2020-08-18 01:15:20,619] Trial 13 finished with value: 0.7668153709907444 and parameters: {'eta': 0.016902179785537846, 'max_depth': 8, 'min_child_weight': 6, 'subsample': 0.6396398200910347, 'sampling_method': 'gradient_based', 'colsample_bytree': 0.309001356656567, 'num_parallel_tree': 6}. Best is trial 10 with value: 0.7739022012979279.\n",
      "[I 2020-08-18 01:30:33,992] Trial 14 finished with value: 0.77606295592525 and parameters: {'eta': 0.44336364540443013, 'max_depth': 10, 'min_child_weight': 5, 'subsample': 0.6592325517728721, 'sampling_method': 'gradient_based', 'colsample_bytree': 0.34557893094602377, 'num_parallel_tree': 8}. Best is trial 14 with value: 0.77606295592525.\n",
      "[I 2020-08-18 01:42:51,839] Trial 15 finished with value: 0.7679465925781244 and parameters: {'eta': 0.4706973102582228, 'max_depth': 8, 'min_child_weight': 4, 'subsample': 0.3744579907578079, 'sampling_method': 'gradient_based', 'colsample_bytree': 0.3885235755932645, 'num_parallel_tree': 8}. Best is trial 14 with value: 0.77606295592525.\n",
      "[I 2020-08-18 01:57:20,634] Trial 16 finished with value: 0.7725007402252438 and parameters: {'eta': 0.4868931278921734, 'max_depth': 8, 'min_child_weight': 0, 'subsample': 0.6020461021420107, 'sampling_method': 'gradient_based', 'colsample_bytree': 0.41015643467315216, 'num_parallel_tree': 8}. Best is trial 14 with value: 0.77606295592525.\n",
      "[I 2020-08-18 02:07:01,949] Trial 17 finished with value: 0.7762099848220413 and parameters: {'eta': 0.38510326138314255, 'max_depth': 10, 'min_child_weight': 5, 'subsample': 0.9157038838723865, 'sampling_method': 'gradient_based', 'colsample_bytree': 0.24250458182048928, 'num_parallel_tree': 8}. Best is trial 17 with value: 0.7762099848220413.\n",
      "[I 2020-08-18 02:20:40,092] Trial 18 finished with value: 0.7733096623588809 and parameters: {'eta': 0.39649299059734316, 'max_depth': 9, 'min_child_weight': 5, 'subsample': 0.8824492684756774, 'sampling_method': 'gradient_based', 'colsample_bytree': 0.38876476586317776, 'num_parallel_tree': 8}. Best is trial 17 with value: 0.7762099848220413.\n",
      "[I 2020-08-18 02:30:25,383] Trial 19 finished with value: 0.765460414674966 and parameters: {'eta': 0.4067011532437168, 'max_depth': 7, 'min_child_weight': 0, 'subsample': 0.7114748162009249, 'sampling_method': 'gradient_based', 'colsample_bytree': 0.2919743076380166, 'num_parallel_tree': 9}. Best is trial 17 with value: 0.7762099848220413.\n",
      "[I 2020-08-18 02:45:39,690] Trial 20 finished with value: 0.7741420568401269 and parameters: {'eta': 0.33909039000227204, 'max_depth': 9, 'min_child_weight': 4, 'subsample': 0.5294993536981359, 'sampling_method': 'gradient_based', 'colsample_bytree': 0.43592219349519357, 'num_parallel_tree': 7}. Best is trial 17 with value: 0.7762099848220413.\n",
      "[I 2020-08-18 03:00:58,748] Trial 21 finished with value: 0.7736393384985993 and parameters: {'eta': 0.3366368358923324, 'max_depth': 9, 'min_child_weight': 4, 'subsample': 0.5230989615031814, 'sampling_method': 'gradient_based', 'colsample_bytree': 0.44002539305833555, 'num_parallel_tree': 7}. Best is trial 17 with value: 0.7762099848220413.\n",
      "[I 2020-08-18 03:19:13,872] Trial 22 finished with value: 0.7745540952705761 and parameters: {'eta': 0.44593786246155176, 'max_depth': 10, 'min_child_weight': 5, 'subsample': 0.3569018348203349, 'sampling_method': 'gradient_based', 'colsample_bytree': 0.5655875438938136, 'num_parallel_tree': 7}. Best is trial 17 with value: 0.7762099848220413.\n"
     ]
    },
    {
     "name": "stderr",
     "output_type": "stream",
     "text": [
      "[I 2020-08-18 03:42:35,398] Trial 23 finished with value: 0.7742056501871708 and parameters: {'eta': 0.4501468434171518, 'max_depth': 10, 'min_child_weight': 5, 'subsample': 0.31708526654144276, 'sampling_method': 'gradient_based', 'colsample_bytree': 0.6017276470621973, 'num_parallel_tree': 9}. Best is trial 17 with value: 0.7762099848220413.\n",
      "[I 2020-08-18 03:53:43,135] Trial 24 finished with value: 0.7706572643982318 and parameters: {'eta': 0.4430172893004138, 'max_depth': 10, 'min_child_weight': 7, 'subsample': 0.2768872763292901, 'sampling_method': 'gradient_based', 'colsample_bytree': 0.5566128284915198, 'num_parallel_tree': 5}. Best is trial 17 with value: 0.7762099848220413.\n",
      "[I 2020-08-18 03:56:46,363] Trial 25 finished with value: 0.7464422993771185 and parameters: {'eta': 0.49117908754536893, 'max_depth': 7, 'min_child_weight': 7, 'subsample': 0.4380583457908302, 'sampling_method': 'gradient_based', 'colsample_bytree': 0.10026135123822397, 'num_parallel_tree': 7}. Best is trial 17 with value: 0.7762099848220413.\n",
      "[I 2020-08-18 04:08:59,361] Trial 26 finished with value: 0.7697512538156955 and parameters: {'eta': 0.4250735552555194, 'max_depth': 9, 'min_child_weight': 5, 'subsample': 0.3282603967673109, 'sampling_method': 'gradient_based', 'colsample_bytree': 0.3296709261805002, 'num_parallel_tree': 9}. Best is trial 17 with value: 0.7762099848220413.\n",
      "[I 2020-08-18 04:14:40,359] Trial 27 finished with value: 0.7688535866711828 and parameters: {'eta': 0.3659830249113107, 'max_depth': 8, 'min_child_weight': 3, 'subsample': 0.902232754025758, 'sampling_method': 'uniform', 'colsample_bytree': 0.23598429403324922, 'num_parallel_tree': 6}. Best is trial 17 with value: 0.7762099848220413.\n",
      "[I 2020-08-18 04:29:18,946] Trial 28 finished with value: 0.7621898478071538 and parameters: {'eta': 0.49549774518095413, 'max_depth': 7, 'min_child_weight': 7, 'subsample': 0.5887043028079137, 'sampling_method': 'gradient_based', 'colsample_bytree': 0.47951425254742386, 'num_parallel_tree': 8}. Best is trial 17 with value: 0.7762099848220413.\n"
     ]
    }
   ],
   "source": [
    "def find_hyperparam(trial):\n",
    "    eta = trial.suggest_float('eta', 0.001, 0.5)\n",
    "    max_depth = trial.suggest_int('max_depth', 1, 10)\n",
    "    min_child_weight = trial.suggest_int('min_child_weight', 0, 10)\n",
    "    subsample = trial.suggest_float('subsample', 0.1, 1.0)\n",
    "    sampling_method = trial.suggest_categorical('sampling_method', ['uniform', 'gradient_based'])\n",
    "    colsample_bytree = trial.suggest_float('colsample_bytree', 0.1, 1.0)\n",
    "    num_parallel_tree = trial.suggest_int('num_parallel_tree', 1, 10)\n",
    "    xgbc = xgb.XGBClassifier(objective = 'multi:softmax', \n",
    "                             eta = eta, \n",
    "                             num_boost_round = 999, \n",
    "                             early_stopping_rounds=10, \n",
    "                             max_depth = max_depth, \n",
    "                             min_child_weight = min_child_weight, \n",
    "                             subsample = subsample, \n",
    "                             sampling_method = sampling_method, \n",
    "                             colsample_bytree = colsample_bytree, \n",
    "                            num_parallel_tree = num_parallel_tree)\n",
    "    cv = KFold(n_splits = 5, shuffle = True, random_state = 20)\n",
    "    score = np.mean(cross_val_score(xgbc, X_train_ohe, y_train, scoring = 'f1_weighted', cv = cv, n_jobs = -1))\n",
    "    return (score)\n",
    "\n",
    "xgb_study = optuna.create_study(direction='maximize')\n",
    "xgb_study.optimize(find_hyperparam, timeout = 15000)"
   ]
  },
  {
   "cell_type": "code",
   "execution_count": 55,
   "metadata": {},
   "outputs": [],
   "source": [
    "mod = open('PKL/xgb_study.pkl', 'wb')\n",
    "pickle.dump(xgb_study, mod)\n",
    "mod.close()"
   ]
  },
  {
   "cell_type": "code",
   "execution_count": 56,
   "metadata": {},
   "outputs": [
    {
     "data": {
      "text/plain": [
       "{'eta': 0.38510326138314255,\n",
       " 'max_depth': 10,\n",
       " 'min_child_weight': 5,\n",
       " 'subsample': 0.9157038838723865,\n",
       " 'sampling_method': 'gradient_based',\n",
       " 'colsample_bytree': 0.24250458182048928,\n",
       " 'num_parallel_tree': 8}"
      ]
     },
     "execution_count": 56,
     "metadata": {},
     "output_type": "execute_result"
    }
   ],
   "source": [
    "xgb_study.best_params"
   ]
  },
  {
   "cell_type": "code",
   "execution_count": null,
   "metadata": {},
   "outputs": [],
   "source": [
    "xgbc = xgb.XGBClassifier(eta = 0.385, \n",
    "                            max_depth = 10,\n",
    "                            min_child_weight = 5,\n",
    "                            subsample = 0.916,\n",
    "                            sampling_method = 'gradient_based',\n",
    "                            colsample_bytree = 0.2425,\n",
    "                            num_parallel_tree = 8, n_jobs= -1, verbosity=1)\n",
    "\n",
    "xgbc.fit(X_train_ohe, y_train)\n",
    "\n",
    "y_pred = xgbc.predict(X_test_ohe)    \n",
    "f1_test = round(f1_score(y_test, y_pred, average = 'weighted'), 3)\n",
    "acc_test = round(accuracy_score(y_test, y_pred), 3)\n",
    "\n",
    "print('Test F1 score: ', f1_test, '/ Test Accuracy: ', acc_test)"
   ]
  },
  {
   "cell_type": "code",
   "execution_count": 77,
   "metadata": {},
   "outputs": [
    {
     "data": {
      "text/plain": [
       "<matplotlib.axes._subplots.AxesSubplot at 0x1bf49e39608>"
      ]
     },
     "execution_count": 77,
     "metadata": {},
     "output_type": "execute_result"
    },
    {
     "data": {
      "image/png": "[encoded data removed]",
      "text/plain": [
       "<Figure size 432x504 with 1 Axes>"
      ]
     },
     "metadata": {
      "needs_background": "light"
     },
     "output_type": "display_data"
    }
   ],
   "source": [
    "fig, ax = plt.subplots(figsize = (6, 7))\n",
    "xgb.plot_importance(xgbc, max_num_features = 20, ax = ax)"
   ]
  },
  {
   "cell_type": "code",
   "execution_count": null,
   "metadata": {},
   "outputs": [],
   "source": []
  },
  {
   "cell_type": "code",
   "execution_count": null,
   "metadata": {},
   "outputs": [],
   "source": []
  },
  {
   "cell_type": "code",
   "execution_count": null,
   "metadata": {},
   "outputs": [],
   "source": []
  },
  {
   "cell_type": "code",
   "execution_count": null,
   "metadata": {},
   "outputs": [],
   "source": []
  },
  {
   "cell_type": "code",
   "execution_count": null,
   "metadata": {},
   "outputs": [],
   "source": []
  },
  {
   "cell_type": "code",
   "execution_count": null,
   "metadata": {},
   "outputs": [],
   "source": []
  },
  {
   "cell_type": "code",
   "execution_count": null,
   "metadata": {},
   "outputs": [],
   "source": []
  },
  {
   "cell_type": "code",
   "execution_count": null,
   "metadata": {},
   "outputs": [],
   "source": []
  },
  {
   "cell_type": "code",
   "execution_count": 19,
   "metadata": {
    "scrolled": true
   },
   "outputs": [
    {
     "name": "stdout",
     "output_type": "stream",
     "text": [
      "Fitting 5 folds for each of 1728 candidates, totalling 8640 fits\n"
     ]
    },
    {
     "name": "stderr",
     "output_type": "stream",
     "text": [
      "[Parallel(n_jobs=-1)]: Using backend LokyBackend with 8 concurrent workers.\n",
      "[Parallel(n_jobs=-1)]: Done  34 tasks      | elapsed:   55.1s\n",
      "[Parallel(n_jobs=-1)]: Done 184 tasks      | elapsed:  4.7min\n",
      "[Parallel(n_jobs=-1)]: Done 434 tasks      | elapsed: 11.2min\n",
      "[Parallel(n_jobs=-1)]: Done 784 tasks      | elapsed: 20.7min\n",
      "[Parallel(n_jobs=-1)]: Done 1234 tasks      | elapsed: 33.2min\n",
      "[Parallel(n_jobs=-1)]: Done 1784 tasks      | elapsed: 49.1min\n",
      "[Parallel(n_jobs=-1)]: Done 2434 tasks      | elapsed: 68.4min\n",
      "[Parallel(n_jobs=-1)]: Done 3184 tasks      | elapsed: 88.1min\n",
      "[Parallel(n_jobs=-1)]: Done 4034 tasks      | elapsed: 112.7min\n",
      "[Parallel(n_jobs=-1)]: Done 4984 tasks      | elapsed: 140.5min\n",
      "[Parallel(n_jobs=-1)]: Done 6034 tasks      | elapsed: 172.3min\n",
      "[Parallel(n_jobs=-1)]: Done 7184 tasks      | elapsed: 207.4min\n",
      "[Parallel(n_jobs=-1)]: Done 8434 tasks      | elapsed: 245.4min\n",
      "[Parallel(n_jobs=-1)]: Done 8640 out of 8640 | elapsed: 253.1min finished\n"
     ]
    },
    {
     "name": "stdout",
     "output_type": "stream",
     "text": [
      "{'class_weight': 'balanced', 'criterion': 'gini', 'max_depth': 7, 'max_features': 15, 'min_samples_leaf': 2, 'min_samples_split': 6, 'n_estimators': 150} :  0.6852358948077846\n",
      "Test F1 score:  0.686 / Test Accuracy:  0.663\n"
     ]
    }
   ],
   "source": [
    "# random forest gridsearch\n",
    "params = {\n",
    "    'n_estimators': [50, 100, 150],\n",
    "    'max_depth': [3, 5, 7],\n",
    "    'min_samples_split': [2, 4, 6],\n",
    "    'min_samples_leaf': [1, 2, 5, 0.001], \n",
    "    'max_features': [3, 5, 10, 15], \n",
    "    'criterion': ['gini', 'entropy'], \n",
    "    'class_weight': ['balanced', 'balanced_subsample']\n",
    "}\n",
    "\n",
    "rf = RandomForestClassifier(oob_score = True)\n",
    "\n",
    "rf_g = GridSearchCV(rf, params, cv = 5, scoring = 'f1_weighted', verbose = 1, n_jobs = -1)\n",
    "rf_g.fit(X_train_ohe, y_train)\n",
    "\n",
    "print(rf_g.best_params_, ': ', rf_g.best_score_)\n",
    "\n",
    "y_pred = rf_g.best_estimator_.predict(X_test_ohe)    \n",
    "f1_test = round(f1_score(y_test, y_pred, average = 'weighted'), 3)\n",
    "acc_test = round(accuracy_score(y_test, y_pred), 3)\n",
    "\n",
    "print('Test F1 score: ', f1_test, '/ Test Accuracy: ', acc_test)\n",
    "score_keeper['rand_forest_gsc_1'] = (f1_test, acc_test)"
   ]
  },
  {
   "cell_type": "code",
   "execution_count": null,
   "metadata": {},
   "outputs": [],
   "source": [
    "# XGBoost_ gridsearch\n",
    "params = {\n",
    "    'eta': [0.001, 0.01, 0.1], \n",
    "    'max_depth': [3, 5, 7], \n",
    "    'min_child_weight': [0, 1, 10], \n",
    "    'subsample': [.5, .75, 1], \n",
    "}\n",
    "\n",
    "xgbc = xgb.XGBClassifier(objective = 'multi:softmax')\n",
    "xgbc_g = GridSearchCV(xgbc, params, cv = 5, scoring = 'f1_weighted', verbose = 1, n_jobs = -1)\n",
    "xgbc_g.fit(X_train_ohe, y_train)\n",
    "\n",
    "print(xgbc_g.best_params_, ': ', xgbc_g.best_score_)\n",
    "\n",
    "y_pred = xgbc_g.best_estimator_.predict(X_test_ohe)    \n",
    "f1_test = round(f1_score(y_test, y_pred, average = 'weighted'), 3)\n",
    "acc_test = round(accuracy_score(y_test, y_pred), 3)\n",
    "\n",
    "print('Test F1 score: ', f1_test, '/ Test Accuracy: ', acc_test)\n",
    "score_keeper2['xgb_gsc_v1'] = (f1_test, acc_test)\n",
    "\n",
    "mod = open('PKL/xgb_gsc_v1.pkl', 'wb')\n",
    "pickle.dump(xgbc_g.best_estimator_, mod)\n",
    "mod.close()"
   ]
  }
 ],
 "metadata": {
  "kernelspec": {
   "display_name": "Python 3",
   "language": "python",
   "name": "python3"
  },
  "language_info": {
   "codemirror_mode": {
    "name": "ipython",
    "version": 3
   },
   "file_extension": ".py",
   "mimetype": "text/x-python",
   "name": "python",
   "nbconvert_exporter": "python",
   "pygments_lexer": "ipython3",
   "version": "3.7.6"
  }
 },
 "nbformat": 4,
 "nbformat_minor": 4
}
