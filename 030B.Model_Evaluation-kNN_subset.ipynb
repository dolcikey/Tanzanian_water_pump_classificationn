{
 "cells": [
  {
   "cell_type": "markdown",
   "metadata": {},
   "source": [
    "# Model Evaluation - kNN subset\n",
    "\n",
    "Main model evaluation notebook showed that KNN using optuna to have a promissing performance. So I'll try to expand on that in the document. Additionally I will run random forest to select feature and run additional model using limited features."
   ]
  },
  {
   "cell_type": "code",
   "execution_count": 13,
   "metadata": {},
   "outputs": [],
   "source": [
    "import pandas as pd\n",
    "import numpy as np\n",
    "import matplotlib.pyplot as plt\n",
    "import seaborn as sns\n",
    "%matplotlib inline\n",
    "\n",
    "import pickle\n",
    "\n",
    "from sklearn.tree import DecisionTreeClassifier\n",
    "from sklearn.model_selection import train_test_split\n",
    "\n",
    "pd.set_option('precision', 4)\n",
    "pd.options.display.max_seq_items = None\n",
    "pd.options.display.max_columns = 50"
   ]
  },
  {
   "cell_type": "code",
   "execution_count": 14,
   "metadata": {},
   "outputs": [],
   "source": [
    "X = pd.read_pickle('PKL/X_train.pkl')\n",
    "y = pd.read_pickle('PKL/Y_train.pkl')"
   ]
  },
  {
   "cell_type": "markdown",
   "metadata": {},
   "source": [
    "## Train/Test Split\n",
    "I'm actually going to split my train data once more. It's because this is a competition dataset and I actually don't have the 'test' score result. So I will use the initial test features as a holdout set, and make another subset of train/test for validations."
   ]
  },
  {
   "cell_type": "code",
   "execution_count": 15,
   "metadata": {},
   "outputs": [],
   "source": [
    "X_train, X_test, y_train, y_test = train_test_split(X, y, random_state = 13, test_size = 0.2)"
   ]
  },
  {
   "cell_type": "code",
   "execution_count": 16,
   "metadata": {},
   "outputs": [],
   "source": [
    "# One Hot Encoding \n",
    "X_train_ohe = pd.get_dummies(X_train)\n",
    "X_test_ohe = pd.get_dummies(X_test)"
   ]
  },
  {
   "cell_type": "code",
   "execution_count": 17,
   "metadata": {
    "scrolled": true
   },
   "outputs": [
    {
     "name": "stdout",
     "output_type": "stream",
     "text": [
      "Good to go\n"
     ]
    }
   ],
   "source": [
    "# Check if they have the same features\n",
    "if X_train_ohe.shape[1] != X_test_ohe.shape[1]:\n",
    "    print([x for x in X_train_ohe.columns if x not in X_test_ohe.columns])\n",
    "    print([x for x in X_test_ohe.columns if x not in X_train_ohe.columns])\n",
    "else: \n",
    "    print ('Good to go')"
   ]
  },
  {
   "cell_type": "code",
   "execution_count": 18,
   "metadata": {},
   "outputs": [],
   "source": [
    "# If they are not the same, add the column with 0s and fix the order\n",
    "# X_test_ohe = X_test_ohe[X_train_ohe.columns]"
   ]
  },
  {
   "cell_type": "code",
   "execution_count": 19,
   "metadata": {},
   "outputs": [],
   "source": [
    "from sklearn.metrics import f1_score, balanced_accuracy_score, plot_confusion_matrix, classification_report"
   ]
  },
  {
   "cell_type": "markdown",
   "metadata": {},
   "source": [
    "## Dummy Classifier\n",
    "I'll create a dummy classifier as a baseline score."
   ]
  },
  {
   "cell_type": "code",
   "execution_count": 20,
   "metadata": {},
   "outputs": [],
   "source": [
    "#keeping score\n",
    "score_keeper = {}"
   ]
  },
  {
   "cell_type": "code",
   "execution_count": 21,
   "metadata": {},
   "outputs": [
    {
     "name": "stdout",
     "output_type": "stream",
     "text": [
      "Test F1 score:  0.455 / Test Accuracy:  0.342\n"
     ]
    }
   ],
   "source": [
    "from sklearn.dummy import DummyClassifier\n",
    "dummyc = DummyClassifier(strategy = 'stratified') # using the default stratified strategy\n",
    "dummyc.fit(X_train_ohe, y_train)\n",
    "y_pred = dummyc.predict(X_test_ohe)\n",
    "\n",
    "f1_test = round(f1_score(y_test, y_pred, average = 'weighted'), 3)\n",
    "acc_test = round(balanced_accuracy_score(y_test, y_pred), 3)\n",
    "print('Test F1 score: ', f1_test, '/ Test Accuracy: ', acc_test)\n",
    "score_keeper['baseline'] = (f1_test, acc_test)\n"
   ]
  },
  {
   "cell_type": "code",
   "execution_count": 22,
   "metadata": {},
   "outputs": [
    {
     "name": "stdout",
     "output_type": "stream",
     "text": [
      "                         precision    recall  f1-score   support\n",
      "\n",
      "             functional       0.55      0.55      0.55      4822\n",
      "functional needs repair       0.08      0.08      0.08       678\n",
      "         non functional       0.40      0.39      0.39      3410\n",
      "\n",
      "               accuracy                           0.46      8910\n",
      "              macro avg       0.34      0.34      0.34      8910\n",
      "           weighted avg       0.45      0.46      0.45      8910\n",
      "\n"
     ]
    },
    {
     "data": {
      "image/png": "[encoded data removed]",
      "text/plain": [
       "<Figure size 432x288 with 2 Axes>"
      ]
     },
     "metadata": {
      "needs_background": "light"
     },
     "output_type": "display_data"
    }
   ],
   "source": [
    "#plot_confusion_matrix(dummyc, X_test_ohe, y_test, xticks_rotation = 'vertical', cmap = plt.cm.Blues)\n",
    "print(classification_report(y_test, y_pred))"
   ]
  },
  {
   "cell_type": "markdown",
   "metadata": {},
   "source": [
    "## KNN\n",
    "First, I will run K-Nearest Neighbors using GridSearchCV. "
   ]
  },
  {
   "cell_type": "markdown",
   "metadata": {},
   "source": [
    "### Standardization\n",
    "For KNN, I will standardize all feature values."
   ]
  },
  {
   "cell_type": "code",
   "execution_count": 23,
   "metadata": {},
   "outputs": [],
   "source": [
    "from sklearn.preprocessing import StandardScaler\n",
    "\n",
    "scale = StandardScaler()\n",
    "X_train_scaled = scale.fit_transform(X_train_ohe)\n",
    "X_test_scaled = scale.transform(X_test_ohe)"
   ]
  },
  {
   "cell_type": "code",
   "execution_count": 25,
   "metadata": {},
   "outputs": [],
   "source": [
    "from sklearn.neighbors import KNeighborsClassifier\n",
    "import optuna\n",
    "from sklearn.model_selection import KFold\n",
    "from sklearn.model_selection import cross_val_score"
   ]
  },
  {
   "cell_type": "code",
   "execution_count": 26,
   "metadata": {
    "scrolled": true
   },
   "outputs": [
    {
     "name": "stderr",
     "output_type": "stream",
     "text": [
      "[I 2020-08-19 12:53:21,981] Trial 0 finished with value: 0.7344779827381714 and parameters: {'n_neighbors': 1, 'algorithm': 'ball_tree', 'leaf_size': 33, 'p': 1}. Best is trial 0 with value: 0.7344779827381714.\n",
      "[I 2020-08-19 12:59:21,332] Trial 1 finished with value: 0.7354959503837666 and parameters: {'n_neighbors': 13, 'algorithm': 'ball_tree', 'leaf_size': 16, 'p': 2}. Best is trial 1 with value: 0.7354959503837666.\n",
      "[I 2020-08-19 13:05:25,298] Trial 2 finished with value: 0.7488622778715428 and parameters: {'n_neighbors': 13, 'algorithm': 'kd_tree', 'leaf_size': 56, 'p': 1}. Best is trial 2 with value: 0.7488622778715428.\n",
      "[I 2020-08-19 13:11:30,933] Trial 3 finished with value: 0.7377936401569644 and parameters: {'n_neighbors': 6, 'algorithm': 'ball_tree', 'leaf_size': 28, 'p': 2}. Best is trial 2 with value: 0.7488622778715428.\n",
      "[I 2020-08-19 13:17:35,696] Trial 4 finished with value: 0.7454472410118377 and parameters: {'n_neighbors': 23, 'algorithm': 'kd_tree', 'leaf_size': 16, 'p': 1}. Best is trial 2 with value: 0.7488622778715428.\n",
      "[I 2020-08-19 13:20:47,084] Trial 5 finished with value: 0.7371420456454182 and parameters: {'n_neighbors': 5, 'algorithm': 'kd_tree', 'leaf_size': 37, 'p': 2}. Best is trial 2 with value: 0.7488622778715428.\n",
      "[I 2020-08-19 13:26:43,252] Trial 6 finished with value: 0.7310304643362284 and parameters: {'n_neighbors': 25, 'algorithm': 'ball_tree', 'leaf_size': 45, 'p': 2}. Best is trial 2 with value: 0.7488622778715428.\n",
      "[I 2020-08-19 13:32:59,764] Trial 7 finished with value: 0.7484633680261332 and parameters: {'n_neighbors': 17, 'algorithm': 'ball_tree', 'leaf_size': 28, 'p': 1}. Best is trial 2 with value: 0.7488622778715428.\n",
      "[I 2020-08-19 13:36:03,796] Trial 8 finished with value: 0.7378226739349655 and parameters: {'n_neighbors': 6, 'algorithm': 'kd_tree', 'leaf_size': 49, 'p': 2}. Best is trial 2 with value: 0.7488622778715428.\n",
      "[I 2020-08-19 13:40:27,297] Trial 9 finished with value: 0.7314503938508674 and parameters: {'n_neighbors': 24, 'algorithm': 'kd_tree', 'leaf_size': 44, 'p': 2}. Best is trial 2 with value: 0.7488622778715428.\n",
      "[I 2020-08-19 13:48:57,637] Trial 10 finished with value: 0.7490039017408517 and parameters: {'n_neighbors': 14, 'algorithm': 'kd_tree', 'leaf_size': 2, 'p': 1}. Best is trial 10 with value: 0.7490039017408517.\n",
      "[I 2020-08-19 13:53:36,084] Trial 11 finished with value: 0.7489337659600235 and parameters: {'n_neighbors': 14, 'algorithm': 'kd_tree', 'leaf_size': 60, 'p': 1}. Best is trial 10 with value: 0.7490039017408517.\n",
      "[I 2020-08-19 13:59:37,810] Trial 12 finished with value: 0.7474386569710407 and parameters: {'n_neighbors': 18, 'algorithm': 'kd_tree', 'leaf_size': 8, 'p': 1}. Best is trial 10 with value: 0.7490039017408517.\n",
      "[I 2020-08-19 14:13:24,131] Trial 13 finished with value: 0.7430183459208044 and parameters: {'n_neighbors': 31, 'algorithm': 'kd_tree', 'leaf_size': 2, 'p': 1}. Best is trial 10 with value: 0.7490039017408517.\n",
      "[I 2020-08-19 14:20:01,800] Trial 14 finished with value: 0.7509206049345888 and parameters: {'n_neighbors': 11, 'algorithm': 'kd_tree', 'leaf_size': 59, 'p': 1}. Best is trial 14 with value: 0.7509206049345888.\n",
      "[I 2020-08-19 14:25:33,213] Trial 15 finished with value: 0.7512165771946011 and parameters: {'n_neighbors': 9, 'algorithm': 'kd_tree', 'leaf_size': 17, 'p': 1}. Best is trial 15 with value: 0.7512165771946011.\n",
      "[I 2020-08-19 14:30:02,700] Trial 16 finished with value: 0.7512165771946011 and parameters: {'n_neighbors': 9, 'algorithm': 'kd_tree', 'leaf_size': 17, 'p': 1}. Best is trial 15 with value: 0.7512165771946011.\n",
      "[I 2020-08-19 14:33:45,812] Trial 17 finished with value: 0.7512165771946011 and parameters: {'n_neighbors': 9, 'algorithm': 'kd_tree', 'leaf_size': 17, 'p': 1}. Best is trial 15 with value: 0.7512165771946011.\n",
      "[I 2020-08-19 14:35:43,134] Trial 18 finished with value: 0.7344779827381714 and parameters: {'n_neighbors': 1, 'algorithm': 'kd_tree', 'leaf_size': 22, 'p': 1}. Best is trial 15 with value: 0.7512165771946011.\n",
      "[I 2020-08-19 14:56:57,961] Trial 19 finished with value: 0.7522755080506285 and parameters: {'n_neighbors': 8, 'algorithm': 'kd_tree', 'leaf_size': 9, 'p': 1}. Best is trial 19 with value: 0.7522755080506285.\n",
      "[I 2020-08-19 14:59:36,782] Trial 20 finished with value: 0.7429625012385118 and parameters: {'n_neighbors': 3, 'algorithm': 'kd_tree', 'leaf_size': 9, 'p': 1}. Best is trial 19 with value: 0.7522755080506285.\n",
      "[I 2020-08-19 15:03:33,580] Trial 21 finished with value: 0.7511437671351591 and parameters: {'n_neighbors': 9, 'algorithm': 'kd_tree', 'leaf_size': 10, 'p': 1}. Best is trial 19 with value: 0.7522755080506285.\n",
      "[I 2020-08-19 15:07:19,514] Trial 22 finished with value: 0.7512165771946011 and parameters: {'n_neighbors': 9, 'algorithm': 'kd_tree', 'leaf_size': 22, 'p': 1}. Best is trial 19 with value: 0.7522755080506285.\n",
      "[I 2020-08-19 15:11:36,144] Trial 23 finished with value: 0.750211994898605 and parameters: {'n_neighbors': 7, 'algorithm': 'kd_tree', 'leaf_size': 21, 'p': 1}. Best is trial 19 with value: 0.7522755080506285.\n",
      "[I 2020-08-19 15:15:13,432] Trial 24 finished with value: 0.7473631547341767 and parameters: {'n_neighbors': 4, 'algorithm': 'kd_tree', 'leaf_size': 6, 'p': 1}. Best is trial 19 with value: 0.7522755080506285.\n",
      "[I 2020-08-19 15:20:26,309] Trial 25 finished with value: 0.7470403114218644 and parameters: {'n_neighbors': 19, 'algorithm': 'kd_tree', 'leaf_size': 23, 'p': 1}. Best is trial 19 with value: 0.7522755080506285.\n",
      "[I 2020-08-19 15:25:17,441] Trial 26 finished with value: 0.7508820893939646 and parameters: {'n_neighbors': 11, 'algorithm': 'kd_tree', 'leaf_size': 13, 'p': 1}. Best is trial 19 with value: 0.7522755080506285.\n",
      "[I 2020-08-19 15:30:52,244] Trial 27 finished with value: 0.7509557490100992 and parameters: {'n_neighbors': 11, 'algorithm': 'kd_tree', 'leaf_size': 4, 'p': 1}. Best is trial 19 with value: 0.7522755080506285.\n",
      "[I 2020-08-19 15:33:47,378] Trial 28 finished with value: 0.7429625012385118 and parameters: {'n_neighbors': 3, 'algorithm': 'kd_tree', 'leaf_size': 13, 'p': 1}. Best is trial 19 with value: 0.7522755080506285.\n",
      "[I 2020-08-19 15:39:47,593] Trial 29 finished with value: 0.7522755080506285 and parameters: {'n_neighbors': 8, 'algorithm': 'ball_tree', 'leaf_size': 34, 'p': 1}. Best is trial 19 with value: 0.7522755080506285.\n",
      "[I 2020-08-19 15:45:19,585] Trial 30 finished with value: 0.7344799567633495 and parameters: {'n_neighbors': 2, 'algorithm': 'ball_tree', 'leaf_size': 36, 'p': 1}. Best is trial 19 with value: 0.7522755080506285.\n",
      "[I 2020-08-19 15:51:07,401] Trial 31 finished with value: 0.7522755080506285 and parameters: {'n_neighbors': 8, 'algorithm': 'ball_tree', 'leaf_size': 32, 'p': 1}. Best is trial 19 with value: 0.7522755080506285.\n",
      "[I 2020-08-19 15:56:54,802] Trial 32 finished with value: 0.7503030840460915 and parameters: {'n_neighbors': 7, 'algorithm': 'ball_tree', 'leaf_size': 33, 'p': 1}. Best is trial 19 with value: 0.7522755080506285.\n",
      "[I 2020-08-19 16:02:01,194] Trial 33 finished with value: 0.7498226316895396 and parameters: {'n_neighbors': 12, 'algorithm': 'ball_tree', 'leaf_size': 40, 'p': 1}. Best is trial 19 with value: 0.7522755080506285.\n",
      "[I 2020-08-19 16:08:01,179] Trial 34 finished with value: 0.7522755080506285 and parameters: {'n_neighbors': 8, 'algorithm': 'ball_tree', 'leaf_size': 29, 'p': 1}. Best is trial 19 with value: 0.7522755080506285.\n",
      "[I 2020-08-19 16:15:08,084] Trial 35 finished with value: 0.7487452454667238 and parameters: {'n_neighbors': 15, 'algorithm': 'ball_tree', 'leaf_size': 29, 'p': 1}. Best is trial 19 with value: 0.7522755080506285.\n",
      "[I 2020-08-19 16:21:02,966] Trial 36 finished with value: 0.7503030840460915 and parameters: {'n_neighbors': 7, 'algorithm': 'ball_tree', 'leaf_size': 32, 'p': 1}. Best is trial 19 with value: 0.7522755080506285.\n",
      "[I 2020-08-19 16:27:35,801] Trial 37 finished with value: 0.7485840866778383 and parameters: {'n_neighbors': 5, 'algorithm': 'ball_tree', 'leaf_size': 26, 'p': 1}. Best is trial 19 with value: 0.7522755080506285.\n"
     ]
    },
    {
     "name": "stderr",
     "output_type": "stream",
     "text": [
      "[I 2020-08-19 16:41:31,742] Trial 38 finished with value: 0.7264455947174213 and parameters: {'n_neighbors': 1, 'algorithm': 'ball_tree', 'leaf_size': 37, 'p': 2}. Best is trial 19 with value: 0.7522755080506285.\n",
      "[I 2020-08-19 16:50:20,853] Trial 39 finished with value: 0.7468486372347253 and parameters: {'n_neighbors': 20, 'algorithm': 'ball_tree', 'leaf_size': 42, 'p': 1}. Best is trial 19 with value: 0.7522755080506285.\n"
     ]
    }
   ],
   "source": [
    "def find_hyperp_KNN(trial):\n",
    "    n_neighbors = trial.suggest_int('n_neighbors', 1, 31)\n",
    "    algorithm = trial.suggest_categorical('algorithm', ['ball_tree', 'kd_tree'])\n",
    "    leaf_size = trial.suggest_int('leaf_size', 2, 60)\n",
    "    p = trial.suggest_categorical('p', [1, 2])\n",
    "    knc = KNeighborsClassifier(weights = 'distance', \n",
    "                             n_neighbors = n_neighbors, \n",
    "                             algorithm = algorithm, \n",
    "                             leaf_size = leaf_size, \n",
    "                             p = p, n_jobs = 2)\n",
    "    cv = KFold(n_splits = 5, shuffle = True, random_state = 20)\n",
    "    score = np.mean(cross_val_score(knc, X_train_scaled, y_train, scoring = 'f1_weighted', cv = cv, n_jobs = 2))\n",
    "    return (score)\n",
    "\n",
    "knn_study = optuna.create_study(direction='maximize')\n",
    "knn_study.optimize(find_hyperp_KNN, timeout = 4*60*60) # run for 4 hours"
   ]
  },
  {
   "cell_type": "code",
   "execution_count": 27,
   "metadata": {},
   "outputs": [],
   "source": [
    "# saving the study \n",
    "#mod = open('PKL/knn_study.pkl', 'wb')\n",
    "#pickle.dump(knn_study, mod)\n",
    "#mod.close()"
   ]
  },
  {
   "cell_type": "code",
   "execution_count": 28,
   "metadata": {},
   "outputs": [
    {
     "data": {
      "text/plain": [
       "{'n_neighbors': 8, 'algorithm': 'kd_tree', 'leaf_size': 9, 'p': 1}"
      ]
     },
     "execution_count": 28,
     "metadata": {},
     "output_type": "execute_result"
    }
   ],
   "source": [
    "knn_study.best_params"
   ]
  },
  {
   "cell_type": "code",
   "execution_count": 30,
   "metadata": {
    "scrolled": true
   },
   "outputs": [
    {
     "name": "stdout",
     "output_type": "stream",
     "text": [
      "Test F1 score:  0.761 / Test Accuracy:  0.636\n"
     ]
    }
   ],
   "source": [
    "# Testing the best params on the test set\n",
    "knc_opt = KNeighborsClassifier(algorithm = 'kd_tree', leaf_size = 9, n_neighbors=8, p =1, weights = 'distance')\n",
    "knc_opt.fit(X_train_scaled, y_train)\n",
    "\n",
    "y_pred = knc_opt.predict(X_test_scaled)    \n",
    "f1_test = round(f1_score(y_test, y_pred, average = 'weighted'), 3)\n",
    "acc_test = round(balanced_accuracy_score(y_test, y_pred), 3)\n",
    "\n",
    "print('Test F1 score: ', f1_test, '/ Test Accuracy: ', acc_test)\n",
    "score_keeper['knn_opt'] = (f1_test, acc_test)"
   ]
  },
  {
   "cell_type": "code",
   "execution_count": 31,
   "metadata": {},
   "outputs": [
    {
     "name": "stdout",
     "output_type": "stream",
     "text": [
      "                         precision    recall  f1-score   support\n",
      "\n",
      "             functional       0.79      0.84      0.81      4822\n",
      "functional needs repair       0.45      0.32      0.37       678\n",
      "         non functional       0.78      0.75      0.76      3410\n",
      "\n",
      "               accuracy                           0.77      8910\n",
      "              macro avg       0.67      0.64      0.65      8910\n",
      "           weighted avg       0.76      0.77      0.76      8910\n",
      "\n"
     ]
    },
    {
     "data": {
      "image/png": "[encoded data removed]",
      "text/plain": [
       "<Figure size 432x288 with 2 Axes>"
      ]
     },
     "metadata": {
      "needs_background": "light"
     },
     "output_type": "display_data"
    }
   ],
   "source": [
    "plot_confusion_matrix(knc_opt, X_test_scaled, y_test, xticks_rotation = 'vertical', cmap = plt.cm.Blues)\n",
    "print(classification_report(y_test, y_pred))"
   ]
  },
  {
   "cell_type": "markdown",
   "metadata": {},
   "source": [
    "Unfortunately even with the many hours of parameter tuning. This KNN did not improve too much, even though its recall rate for minority class improved a bit. KNN takes in all features and derive its prediction based on the location. So it does not do any feature selection itself, so maybe I should try removing some of the noisy feature data. I'll fit random forest to determine features with low feature importance. (Full random forest model is running on the main file.)"
   ]
  },
  {
   "cell_type": "markdown",
   "metadata": {},
   "source": [
    "## Subsetting Features"
   ]
  },
  {
   "cell_type": "code",
   "execution_count": 39,
   "metadata": {},
   "outputs": [],
   "source": [
    "from sklearn.ensemble import RandomForestClassifier\n",
    "from sklearn.feature_selection import SelectFromModel"
   ]
  },
  {
   "cell_type": "code",
   "execution_count": null,
   "metadata": {},
   "outputs": [],
   "source": [
    "# select features from a simple random forest model\n",
    "feat_select = SelectFromModel(RandomForestClassifier(n_estimators = 100))\n",
    "feat_select.fit(X_train_ohe, y_train)"
   ]
  },
  {
   "cell_type": "code",
   "execution_count": 46,
   "metadata": {
    "scrolled": true
   },
   "outputs": [],
   "source": [
    "# subset to above average importance feature\n",
    "X_train_limit = X_train_ohe[X_train_ohe.columns[feat_select.get_support()]]\n",
    "X_test_limit = X_test_ohe[X_train_limit.columns]"
   ]
  },
  {
   "cell_type": "code",
   "execution_count": 47,
   "metadata": {},
   "outputs": [],
   "source": [
    "# scale\n",
    "X_train_limit_scaled = scale.fit_transform(X_train_limit)\n",
    "X_test_limit_scaled = scale.transform(X_test_limit)"
   ]
  },
  {
   "cell_type": "code",
   "execution_count": 49,
   "metadata": {},
   "outputs": [
    {
     "name": "stdout",
     "output_type": "stream",
     "text": [
      "Test F1 score:  0.763 / Test Accuracy:  0.632\n"
     ]
    }
   ],
   "source": [
    "# Testing using the simple params on the other test \n",
    "knc_limit = KNeighborsClassifier(weights = 'distance')\n",
    "knc_limit.fit(X_train_limit_scaled, y_train)\n",
    "\n",
    "y_pred = knc_limit.predict(X_test_limit_scaled)    \n",
    "f1_test = round(f1_score(y_test, y_pred, average = 'weighted'), 3)\n",
    "acc_test = round(balanced_accuracy_score(y_test, y_pred), 3)\n",
    "\n",
    "print('Test F1 score: ', f1_test, '/ Test Accuracy: ', acc_test)\n",
    "score_keeper['knn_limit'] = (f1_test, acc_test)"
   ]
  },
  {
   "cell_type": "code",
   "execution_count": 51,
   "metadata": {},
   "outputs": [
    {
     "name": "stdout",
     "output_type": "stream",
     "text": [
      "                         precision    recall  f1-score   support\n",
      "\n",
      "             functional       0.79      0.84      0.82      4822\n",
      "functional needs repair       0.41      0.30      0.34       678\n",
      "         non functional       0.78      0.76      0.77      3410\n",
      "\n",
      "               accuracy                           0.77      8910\n",
      "              macro avg       0.66      0.63      0.64      8910\n",
      "           weighted avg       0.76      0.77      0.76      8910\n",
      "\n"
     ]
    },
    {
     "data": {
      "image/png": "[encoded data removed]",
      "text/plain": [
       "<Figure size 432x288 with 2 Axes>"
      ]
     },
     "metadata": {
      "needs_background": "light"
     },
     "output_type": "display_data"
    }
   ],
   "source": [
    "plot_confusion_matrix(knc_limit, X_test_limit_scaled, y_test, xticks_rotation = 'vertical', cmap = plt.cm.Blues)\n",
    "print(classification_report(y_test, y_pred))"
   ]
  },
  {
   "cell_type": "markdown",
   "metadata": {},
   "source": [
    "It didn't improve much, but did not drop. So at least for KNN these extra features are not overly complicating our model. I'll try to optimize it with optuna again using selected features. "
   ]
  },
  {
   "cell_type": "markdown",
   "metadata": {},
   "source": [
    "## Optimization on Subset"
   ]
  },
  {
   "cell_type": "code",
   "execution_count": 52,
   "metadata": {},
   "outputs": [
    {
     "name": "stderr",
     "output_type": "stream",
     "text": [
      "[I 2020-08-19 18:35:35,212] Trial 0 finished with value: 0.7603107561150155 and parameters: {'n_neighbors': 24, 'algorithm': 'ball_tree', 'leaf_size': 21, 'p': 1}. Best is trial 0 with value: 0.7603107561150155.\n",
      "[I 2020-08-19 18:36:42,608] Trial 1 finished with value: 0.7525935562232415 and parameters: {'n_neighbors': 29, 'algorithm': 'kd_tree', 'leaf_size': 27, 'p': 2}. Best is trial 0 with value: 0.7603107561150155.\n",
      "[I 2020-08-19 18:38:12,414] Trial 2 finished with value: 0.7534040876021982 and parameters: {'n_neighbors': 17, 'algorithm': 'kd_tree', 'leaf_size': 6, 'p': 2}. Best is trial 0 with value: 0.7603107561150155.\n",
      "[I 2020-08-19 18:39:03,951] Trial 3 finished with value: 0.7607738888551656 and parameters: {'n_neighbors': 8, 'algorithm': 'kd_tree', 'leaf_size': 43, 'p': 1}. Best is trial 3 with value: 0.7607738888551656.\n",
      "[I 2020-08-19 18:40:06,055] Trial 4 finished with value: 0.7601457227970163 and parameters: {'n_neighbors': 22, 'algorithm': 'kd_tree', 'leaf_size': 39, 'p': 1}. Best is trial 3 with value: 0.7607738888551656.\n",
      "[I 2020-08-19 18:41:07,543] Trial 5 finished with value: 0.7433429565842674 and parameters: {'n_neighbors': 3, 'algorithm': 'ball_tree', 'leaf_size': 41, 'p': 2}. Best is trial 3 with value: 0.7607738888551656.\n",
      "[I 2020-08-19 18:41:34,193] Trial 6 finished with value: 0.731296129103465 and parameters: {'n_neighbors': 1, 'algorithm': 'kd_tree', 'leaf_size': 42, 'p': 2}. Best is trial 3 with value: 0.7607738888551656.\n",
      "[I 2020-08-19 18:42:36,912] Trial 7 finished with value: 0.7521698409163099 and parameters: {'n_neighbors': 24, 'algorithm': 'ball_tree', 'leaf_size': 33, 'p': 2}. Best is trial 3 with value: 0.7607738888551656.\n",
      "[I 2020-08-19 18:43:38,296] Trial 8 finished with value: 0.7607822719911865 and parameters: {'n_neighbors': 8, 'algorithm': 'ball_tree', 'leaf_size': 20, 'p': 1}. Best is trial 8 with value: 0.7607822719911865.\n",
      "[I 2020-08-19 18:44:34,303] Trial 9 finished with value: 0.7531327723822631 and parameters: {'n_neighbors': 13, 'algorithm': 'kd_tree', 'leaf_size': 37, 'p': 2}. Best is trial 8 with value: 0.7607822719911865.\n",
      "[I 2020-08-19 18:45:39,789] Trial 10 finished with value: 0.7607822719911865 and parameters: {'n_neighbors': 8, 'algorithm': 'ball_tree', 'leaf_size': 60, 'p': 1}. Best is trial 8 with value: 0.7607822719911865.\n",
      "[I 2020-08-19 19:32:26,796] Trial 11 finished with value: 0.7590438852600861 and parameters: {'n_neighbors': 7, 'algorithm': 'ball_tree', 'leaf_size': 13, 'p': 1}. Best is trial 8 with value: 0.7607822719911865.\n",
      "[I 2020-08-19 19:33:47,756] Trial 12 finished with value: 0.7610974405223473 and parameters: {'n_neighbors': 11, 'algorithm': 'ball_tree', 'leaf_size': 59, 'p': 1}. Best is trial 12 with value: 0.7610974405223473.\n",
      "[I 2020-08-19 19:35:03,362] Trial 13 finished with value: 0.7596039496400481 and parameters: {'n_neighbors': 14, 'algorithm': 'ball_tree', 'leaf_size': 59, 'p': 1}. Best is trial 12 with value: 0.7610974405223473.\n",
      "[I 2020-08-19 19:36:11,953] Trial 14 finished with value: 0.7610589278793428 and parameters: {'n_neighbors': 11, 'algorithm': 'ball_tree', 'leaf_size': 51, 'p': 1}. Best is trial 12 with value: 0.7610974405223473.\n",
      "[I 2020-08-19 19:37:17,193] Trial 15 finished with value: 0.7597202557198868 and parameters: {'n_neighbors': 18, 'algorithm': 'ball_tree', 'leaf_size': 51, 'p': 1}. Best is trial 12 with value: 0.7610974405223473.\n",
      "[I 2020-08-19 19:38:22,852] Trial 16 finished with value: 0.7599109523568799 and parameters: {'n_neighbors': 12, 'algorithm': 'ball_tree', 'leaf_size': 52, 'p': 1}. Best is trial 12 with value: 0.7610974405223473.\n",
      "[I 2020-08-19 19:39:26,206] Trial 17 finished with value: 0.7566089105677672 and parameters: {'n_neighbors': 5, 'algorithm': 'ball_tree', 'leaf_size': 52, 'p': 1}. Best is trial 12 with value: 0.7610974405223473.\n",
      "[I 2020-08-19 19:40:29,767] Trial 18 finished with value: 0.7610974405223473 and parameters: {'n_neighbors': 11, 'algorithm': 'ball_tree', 'leaf_size': 58, 'p': 1}. Best is trial 12 with value: 0.7610974405223473.\n",
      "[I 2020-08-19 19:41:33,130] Trial 19 finished with value: 0.7597066661099741 and parameters: {'n_neighbors': 20, 'algorithm': 'ball_tree', 'leaf_size': 60, 'p': 1}. Best is trial 12 with value: 0.7610974405223473.\n",
      "[I 2020-08-19 19:42:37,631] Trial 20 finished with value: 0.7597426091376361 and parameters: {'n_neighbors': 15, 'algorithm': 'ball_tree', 'leaf_size': 47, 'p': 1}. Best is trial 12 with value: 0.7610974405223473.\n",
      "[I 2020-08-19 19:43:40,423] Trial 21 finished with value: 0.7610974405223473 and parameters: {'n_neighbors': 11, 'algorithm': 'ball_tree', 'leaf_size': 56, 'p': 1}. Best is trial 12 with value: 0.7610974405223473.\n",
      "[I 2020-08-19 19:44:44,133] Trial 22 finished with value: 0.7610974405223473 and parameters: {'n_neighbors': 11, 'algorithm': 'ball_tree', 'leaf_size': 58, 'p': 1}. Best is trial 12 with value: 0.7610974405223473.\n",
      "[I 2020-08-19 19:45:46,990] Trial 23 finished with value: 0.7606182443729715 and parameters: {'n_neighbors': 10, 'algorithm': 'ball_tree', 'leaf_size': 56, 'p': 1}. Best is trial 12 with value: 0.7610974405223473.\n",
      "[I 2020-08-19 19:46:50,766] Trial 24 finished with value: 0.7566089105677672 and parameters: {'n_neighbors': 5, 'algorithm': 'ball_tree', 'leaf_size': 47, 'p': 1}. Best is trial 12 with value: 0.7610974405223473.\n",
      "[I 2020-08-19 19:47:55,813] Trial 25 finished with value: 0.7593149197062516 and parameters: {'n_neighbors': 16, 'algorithm': 'ball_tree', 'leaf_size': 55, 'p': 1}. Best is trial 12 with value: 0.7610974405223473.\n",
      "[I 2020-08-19 19:48:59,445] Trial 26 finished with value: 0.7606182443729715 and parameters: {'n_neighbors': 10, 'algorithm': 'ball_tree', 'leaf_size': 47, 'p': 1}. Best is trial 12 with value: 0.7610974405223473.\n",
      "[I 2020-08-19 19:50:04,453] Trial 27 finished with value: 0.7566089105677672 and parameters: {'n_neighbors': 5, 'algorithm': 'ball_tree', 'leaf_size': 56, 'p': 1}. Best is trial 12 with value: 0.7610974405223473.\n",
      "[I 2020-08-19 19:51:07,716] Trial 28 finished with value: 0.7596039496400481 and parameters: {'n_neighbors': 14, 'algorithm': 'ball_tree', 'leaf_size': 60, 'p': 1}. Best is trial 12 with value: 0.7610974405223473.\n",
      "[I 2020-08-19 19:52:11,671] Trial 29 finished with value: 0.7603143637960548 and parameters: {'n_neighbors': 19, 'algorithm': 'ball_tree', 'leaf_size': 33, 'p': 1}. Best is trial 12 with value: 0.7610974405223473.\n",
      "[I 2020-08-19 19:53:12,071] Trial 30 finished with value: 0.7374179851483771 and parameters: {'n_neighbors': 1, 'algorithm': 'ball_tree', 'leaf_size': 26, 'p': 1}. Best is trial 12 with value: 0.7610974405223473.\n",
      "[I 2020-08-19 19:54:16,249] Trial 31 finished with value: 0.7610974405223473 and parameters: {'n_neighbors': 11, 'algorithm': 'ball_tree', 'leaf_size': 56, 'p': 1}. Best is trial 12 with value: 0.7610974405223473.\n",
      "[I 2020-08-19 19:55:20,147] Trial 32 finished with value: 0.7599109523568799 and parameters: {'n_neighbors': 12, 'algorithm': 'ball_tree', 'leaf_size': 55, 'p': 1}. Best is trial 12 with value: 0.7610974405223473.\n",
      "[I 2020-08-19 19:56:25,048] Trial 33 finished with value: 0.7613632632874138 and parameters: {'n_neighbors': 9, 'algorithm': 'ball_tree', 'leaf_size': 49, 'p': 1}. Best is trial 33 with value: 0.7613632632874138.\n",
      "[I 2020-08-19 19:57:29,906] Trial 34 finished with value: 0.7613632632874138 and parameters: {'n_neighbors': 9, 'algorithm': 'ball_tree', 'leaf_size': 45, 'p': 1}. Best is trial 33 with value: 0.7613632632874138.\n",
      "[I 2020-08-19 19:58:33,064] Trial 35 finished with value: 0.7590823228847986 and parameters: {'n_neighbors': 7, 'algorithm': 'ball_tree', 'leaf_size': 45, 'p': 1}. Best is trial 33 with value: 0.7613632632874138.\n",
      "[I 2020-08-19 20:18:32,413] Trial 36 finished with value: 0.7596921082887489 and parameters: {'n_neighbors': 29, 'algorithm': 'kd_tree', 'leaf_size': 38, 'p': 1}. Best is trial 33 with value: 0.7613632632874138.\n",
      "[I 2020-08-19 20:19:40,170] Trial 37 finished with value: 0.7433429565842674 and parameters: {'n_neighbors': 3, 'algorithm': 'ball_tree', 'leaf_size': 49, 'p': 2}. Best is trial 33 with value: 0.7613632632874138.\n"
     ]
    },
    {
     "name": "stderr",
     "output_type": "stream",
     "text": [
      "[I 2020-08-19 20:20:35,544] Trial 38 finished with value: 0.7614006555439972 and parameters: {'n_neighbors': 9, 'algorithm': 'kd_tree', 'leaf_size': 43, 'p': 1}. Best is trial 38 with value: 0.7614006555439972.\n",
      "[I 2020-08-19 20:21:31,189] Trial 39 finished with value: 0.7614006555439972 and parameters: {'n_neighbors': 9, 'algorithm': 'kd_tree', 'leaf_size': 43, 'p': 1}. Best is trial 38 with value: 0.7614006555439972.\n",
      "[I 2020-08-19 20:22:20,911] Trial 40 finished with value: 0.7516620668373866 and parameters: {'n_neighbors': 7, 'algorithm': 'kd_tree', 'leaf_size': 41, 'p': 2}. Best is trial 38 with value: 0.7614006555439972.\n",
      "[I 2020-08-19 20:23:13,757] Trial 41 finished with value: 0.7614006555439972 and parameters: {'n_neighbors': 9, 'algorithm': 'kd_tree', 'leaf_size': 36, 'p': 1}. Best is trial 38 with value: 0.7614006555439972.\n",
      "[I 2020-08-19 20:24:05,258] Trial 42 finished with value: 0.7614006555439972 and parameters: {'n_neighbors': 9, 'algorithm': 'kd_tree', 'leaf_size': 36, 'p': 1}. Best is trial 38 with value: 0.7614006555439972.\n",
      "[I 2020-08-19 20:24:45,317] Trial 43 finished with value: 0.749902352039652 and parameters: {'n_neighbors': 3, 'algorithm': 'kd_tree', 'leaf_size': 29, 'p': 1}. Best is trial 38 with value: 0.7614006555439972.\n",
      "[I 2020-08-19 20:25:33,151] Trial 44 finished with value: 0.7585951217700179 and parameters: {'n_neighbors': 6, 'algorithm': 'kd_tree', 'leaf_size': 33, 'p': 1}. Best is trial 38 with value: 0.7614006555439972.\n",
      "[I 2020-08-19 20:26:25,597] Trial 45 finished with value: 0.7614006555439972 and parameters: {'n_neighbors': 9, 'algorithm': 'kd_tree', 'leaf_size': 36, 'p': 1}. Best is trial 38 with value: 0.7614006555439972.\n",
      "[I 2020-08-19 20:27:17,011] Trial 46 finished with value: 0.7614006555439972 and parameters: {'n_neighbors': 9, 'algorithm': 'kd_tree', 'leaf_size': 36, 'p': 1}. Best is trial 38 with value: 0.7614006555439972.\n",
      "[I 2020-08-19 20:28:14,237] Trial 47 finished with value: 0.7531327723822631 and parameters: {'n_neighbors': 13, 'algorithm': 'kd_tree', 'leaf_size': 35, 'p': 2}. Best is trial 38 with value: 0.7614006555439972.\n",
      "[I 2020-08-19 20:31:28,244] Trial 48 finished with value: 0.7498799822748886 and parameters: {'n_neighbors': 3, 'algorithm': 'kd_tree', 'leaf_size': 26, 'p': 1}. Best is trial 38 with value: 0.7614006555439972.\n",
      "[I 2020-08-19 21:02:23,006] Trial 49 finished with value: 0.7607738888551656 and parameters: {'n_neighbors': 8, 'algorithm': 'kd_tree', 'leaf_size': 41, 'p': 1}. Best is trial 38 with value: 0.7614006555439972.\n",
      "[I 2020-08-19 21:03:14,853] Trial 50 finished with value: 0.7585951217700179 and parameters: {'n_neighbors': 6, 'algorithm': 'kd_tree', 'leaf_size': 36, 'p': 1}. Best is trial 38 with value: 0.7614006555439972.\n",
      "[I 2020-08-19 21:04:11,225] Trial 51 finished with value: 0.7614006555439972 and parameters: {'n_neighbors': 9, 'algorithm': 'kd_tree', 'leaf_size': 39, 'p': 1}. Best is trial 38 with value: 0.7614006555439972.\n",
      "[I 2020-08-19 21:05:19,095] Trial 52 finished with value: 0.7599138977855306 and parameters: {'n_neighbors': 27, 'algorithm': 'kd_tree', 'leaf_size': 31, 'p': 1}. Best is trial 38 with value: 0.7614006555439972.\n",
      "[I 2020-08-19 21:06:12,624] Trial 53 finished with value: 0.7614006555439972 and parameters: {'n_neighbors': 9, 'algorithm': 'kd_tree', 'leaf_size': 37, 'p': 1}. Best is trial 38 with value: 0.7614006555439972.\n",
      "[I 2020-08-19 21:07:09,127] Trial 54 finished with value: 0.7601028493519054 and parameters: {'n_neighbors': 13, 'algorithm': 'kd_tree', 'leaf_size': 39, 'p': 1}. Best is trial 38 with value: 0.7614006555439972.\n",
      "[I 2020-08-19 21:07:55,254] Trial 55 finished with value: 0.7586644773177189 and parameters: {'n_neighbors': 6, 'algorithm': 'kd_tree', 'leaf_size': 22, 'p': 1}. Best is trial 38 with value: 0.7614006555439972.\n",
      "[I 2020-08-19 21:08:38,298] Trial 56 finished with value: 0.7533827629648067 and parameters: {'n_neighbors': 4, 'algorithm': 'kd_tree', 'leaf_size': 43, 'p': 1}. Best is trial 38 with value: 0.7614006555439972.\n",
      "[I 2020-08-19 21:09:29,539] Trial 57 finished with value: 0.7607738888551656 and parameters: {'n_neighbors': 8, 'algorithm': 'kd_tree', 'leaf_size': 39, 'p': 1}. Best is trial 38 with value: 0.7614006555439972.\n",
      "[I 2020-08-19 21:10:22,894] Trial 58 finished with value: 0.7605806357214928 and parameters: {'n_neighbors': 10, 'algorithm': 'kd_tree', 'leaf_size': 31, 'p': 1}. Best is trial 38 with value: 0.7614006555439972.\n",
      "[I 2020-08-19 21:11:18,417] Trial 59 finished with value: 0.7598841340685412 and parameters: {'n_neighbors': 12, 'algorithm': 'kd_tree', 'leaf_size': 34, 'p': 1}. Best is trial 38 with value: 0.7614006555439972.\n",
      "[I 2020-08-19 21:12:15,757] Trial 60 finished with value: 0.7530158757331958 and parameters: {'n_neighbors': 15, 'algorithm': 'kd_tree', 'leaf_size': 28, 'p': 2}. Best is trial 38 with value: 0.7614006555439972.\n",
      "[I 2020-08-19 21:13:08,444] Trial 61 finished with value: 0.7614006555439972 and parameters: {'n_neighbors': 9, 'algorithm': 'kd_tree', 'leaf_size': 44, 'p': 1}. Best is trial 38 with value: 0.7614006555439972.\n",
      "[I 2020-08-19 21:13:57,727] Trial 62 finished with value: 0.7590262108320148 and parameters: {'n_neighbors': 7, 'algorithm': 'kd_tree', 'leaf_size': 40, 'p': 1}. Best is trial 38 with value: 0.7614006555439972.\n",
      "[I 2020-08-19 21:15:21,653] Trial 63 finished with value: 0.7605516826136246 and parameters: {'n_neighbors': 10, 'algorithm': 'kd_tree', 'leaf_size': 2, 'p': 1}. Best is trial 38 with value: 0.7614006555439972.\n",
      "[I 2020-08-19 21:16:12,548] Trial 64 finished with value: 0.7607738888551656 and parameters: {'n_neighbors': 8, 'algorithm': 'kd_tree', 'leaf_size': 45, 'p': 1}. Best is trial 38 with value: 0.7614006555439972.\n",
      "[I 2020-08-19 21:17:04,555] Trial 65 finished with value: 0.7607738888551656 and parameters: {'n_neighbors': 8, 'algorithm': 'kd_tree', 'leaf_size': 36, 'p': 1}. Best is trial 38 with value: 0.7614006555439972.\n",
      "[I 2020-08-19 21:18:01,791] Trial 66 finished with value: 0.7601028493519054 and parameters: {'n_neighbors': 13, 'algorithm': 'kd_tree', 'leaf_size': 42, 'p': 1}. Best is trial 38 with value: 0.7614006555439972.\n",
      "[I 2020-08-19 21:29:40,146] Trial 67 finished with value: 0.7598841340685412 and parameters: {'n_neighbors': 12, 'algorithm': 'kd_tree', 'leaf_size': 43, 'p': 1}. Best is trial 38 with value: 0.7614006555439972.\n",
      "[I 2020-08-19 21:31:05,224] Trial 68 finished with value: 0.7614006555439972 and parameters: {'n_neighbors': 9, 'algorithm': 'kd_tree', 'leaf_size': 38, 'p': 1}. Best is trial 38 with value: 0.7614006555439972.\n",
      "[I 2020-08-19 21:32:04,052] Trial 69 finished with value: 0.7605806357214928 and parameters: {'n_neighbors': 10, 'algorithm': 'kd_tree', 'leaf_size': 38, 'p': 1}. Best is trial 38 with value: 0.7614006555439972.\n",
      "[I 2020-08-19 21:32:54,090] Trial 70 finished with value: 0.7585951217700179 and parameters: {'n_neighbors': 6, 'algorithm': 'kd_tree', 'leaf_size': 43, 'p': 1}. Best is trial 38 with value: 0.7614006555439972.\n",
      "[I 2020-08-19 21:33:50,965] Trial 71 finished with value: 0.7614006555439972 and parameters: {'n_neighbors': 9, 'algorithm': 'kd_tree', 'leaf_size': 35, 'p': 1}. Best is trial 38 with value: 0.7614006555439972.\n",
      "[I 2020-08-19 21:34:42,773] Trial 72 finished with value: 0.7590262108320148 and parameters: {'n_neighbors': 7, 'algorithm': 'kd_tree', 'leaf_size': 32, 'p': 1}. Best is trial 38 with value: 0.7614006555439972.\n",
      "[I 2020-08-19 21:35:40,335] Trial 73 finished with value: 0.7610299982896347 and parameters: {'n_neighbors': 11, 'algorithm': 'kd_tree', 'leaf_size': 40, 'p': 1}. Best is trial 38 with value: 0.7614006555439972.\n",
      "[I 2020-08-19 21:36:23,236] Trial 74 finished with value: 0.7533827629648067 and parameters: {'n_neighbors': 4, 'algorithm': 'kd_tree', 'leaf_size': 34, 'p': 1}. Best is trial 38 with value: 0.7614006555439972.\n",
      "[I 2020-08-19 21:37:23,782] Trial 75 finished with value: 0.7605806357214928 and parameters: {'n_neighbors': 10, 'algorithm': 'kd_tree', 'leaf_size': 46, 'p': 1}. Best is trial 38 with value: 0.7614006555439972.\n"
     ]
    },
    {
     "name": "stderr",
     "output_type": "stream",
     "text": [
      "[I 2020-08-19 21:38:39,353] Trial 76 finished with value: 0.7595709002354207 and parameters: {'n_neighbors': 14, 'algorithm': 'kd_tree', 'leaf_size': 37, 'p': 1}. Best is trial 38 with value: 0.7614006555439972.\n",
      "[I 2020-08-19 21:39:36,298] Trial 77 finished with value: 0.7614006555439972 and parameters: {'n_neighbors': 9, 'algorithm': 'kd_tree', 'leaf_size': 49, 'p': 1}. Best is trial 38 with value: 0.7614006555439972.\n",
      "[I 2020-08-19 21:40:31,677] Trial 78 finished with value: 0.7590262108320148 and parameters: {'n_neighbors': 7, 'algorithm': 'kd_tree', 'leaf_size': 38, 'p': 1}. Best is trial 38 with value: 0.7614006555439972.\n",
      "[I 2020-08-19 21:41:29,561] Trial 79 finished with value: 0.7598841340685412 and parameters: {'n_neighbors': 12, 'algorithm': 'kd_tree', 'leaf_size': 49, 'p': 1}. Best is trial 38 with value: 0.7614006555439972.\n",
      "[I 2020-08-19 21:42:22,836] Trial 80 finished with value: 0.7607738888551656 and parameters: {'n_neighbors': 8, 'algorithm': 'kd_tree', 'leaf_size': 30, 'p': 1}. Best is trial 38 with value: 0.7614006555439972.\n",
      "[I 2020-08-19 21:43:25,089] Trial 81 finished with value: 0.7614006555439972 and parameters: {'n_neighbors': 9, 'algorithm': 'kd_tree', 'leaf_size': 36, 'p': 1}. Best is trial 38 with value: 0.7614006555439972.\n",
      "[I 2020-08-19 21:44:21,501] Trial 82 finished with value: 0.7610299982896347 and parameters: {'n_neighbors': 11, 'algorithm': 'kd_tree', 'leaf_size': 35, 'p': 1}. Best is trial 38 with value: 0.7614006555439972.\n",
      "[I 2020-08-19 21:45:15,678] Trial 83 finished with value: 0.7614006555439972 and parameters: {'n_neighbors': 9, 'algorithm': 'kd_tree', 'leaf_size': 40, 'p': 1}. Best is trial 38 with value: 0.7614006555439972.\n",
      "[I 2020-08-19 21:46:12,779] Trial 84 finished with value: 0.7605806357214928 and parameters: {'n_neighbors': 10, 'algorithm': 'kd_tree', 'leaf_size': 32, 'p': 1}. Best is trial 38 with value: 0.7614006555439972.\n",
      "[I 2020-08-19 21:47:05,656] Trial 85 finished with value: 0.7566307490544133 and parameters: {'n_neighbors': 5, 'algorithm': 'kd_tree', 'leaf_size': 41, 'p': 1}. Best is trial 38 with value: 0.7614006555439972.\n",
      "[I 2020-08-19 21:48:24,092] Trial 86 finished with value: 0.7605806357214928 and parameters: {'n_neighbors': 10, 'algorithm': 'kd_tree', 'leaf_size': 38, 'p': 1}. Best is trial 38 with value: 0.7614006555439972.\n",
      "[I 2020-08-19 21:49:19,516] Trial 87 finished with value: 0.7607738888551656 and parameters: {'n_neighbors': 8, 'algorithm': 'kd_tree', 'leaf_size': 34, 'p': 1}. Best is trial 38 with value: 0.7614006555439972.\n",
      "[I 2020-08-19 21:50:13,882] Trial 88 finished with value: 0.7534864289839955 and parameters: {'n_neighbors': 9, 'algorithm': 'kd_tree', 'leaf_size': 37, 'p': 2}. Best is trial 38 with value: 0.7614006555439972.\n",
      "[I 2020-08-19 21:51:10,871] Trial 89 finished with value: 0.7610299982896347 and parameters: {'n_neighbors': 11, 'algorithm': 'kd_tree', 'leaf_size': 52, 'p': 1}. Best is trial 38 with value: 0.7614006555439972.\n",
      "[I 2020-08-19 21:52:00,837] Trial 90 finished with value: 0.7585951217700179 and parameters: {'n_neighbors': 6, 'algorithm': 'kd_tree', 'leaf_size': 45, 'p': 1}. Best is trial 38 with value: 0.7614006555439972.\n",
      "[I 2020-08-19 21:52:57,167] Trial 91 finished with value: 0.7614006555439972 and parameters: {'n_neighbors': 9, 'algorithm': 'kd_tree', 'leaf_size': 43, 'p': 1}. Best is trial 38 with value: 0.7614006555439972.\n",
      "[I 2020-08-19 21:53:49,859] Trial 92 finished with value: 0.7607738888551656 and parameters: {'n_neighbors': 8, 'algorithm': 'kd_tree', 'leaf_size': 40, 'p': 1}. Best is trial 38 with value: 0.7614006555439972.\n",
      "[I 2020-08-19 21:54:54,384] Trial 93 finished with value: 0.7590262108320148 and parameters: {'n_neighbors': 7, 'algorithm': 'kd_tree', 'leaf_size': 47, 'p': 1}. Best is trial 38 with value: 0.7614006555439972.\n",
      "[I 2020-08-19 21:55:57,883] Trial 94 finished with value: 0.7605806357214928 and parameters: {'n_neighbors': 10, 'algorithm': 'kd_tree', 'leaf_size': 42, 'p': 1}. Best is trial 38 with value: 0.7614006555439972.\n",
      "[I 2020-08-19 21:56:58,122] Trial 95 finished with value: 0.7614006555439972 and parameters: {'n_neighbors': 9, 'algorithm': 'kd_tree', 'leaf_size': 39, 'p': 1}. Best is trial 38 with value: 0.7614006555439972.\n",
      "[I 2020-08-19 21:57:56,933] Trial 96 finished with value: 0.7610299982896347 and parameters: {'n_neighbors': 11, 'algorithm': 'kd_tree', 'leaf_size': 44, 'p': 1}. Best is trial 38 with value: 0.7614006555439972.\n",
      "[I 2020-08-19 21:58:51,540] Trial 97 finished with value: 0.7614006555439972 and parameters: {'n_neighbors': 9, 'algorithm': 'kd_tree', 'leaf_size': 48, 'p': 1}. Best is trial 38 with value: 0.7614006555439972.\n",
      "[I 2020-08-19 21:59:56,633] Trial 98 finished with value: 0.7598841340685412 and parameters: {'n_neighbors': 12, 'algorithm': 'kd_tree', 'leaf_size': 50, 'p': 1}. Best is trial 38 with value: 0.7614006555439972.\n",
      "[I 2020-08-19 22:01:02,215] Trial 99 finished with value: 0.7590262108320148 and parameters: {'n_neighbors': 7, 'algorithm': 'kd_tree', 'leaf_size': 52, 'p': 1}. Best is trial 38 with value: 0.7614006555439972.\n",
      "[I 2020-08-19 22:02:08,560] Trial 100 finished with value: 0.7566307490544133 and parameters: {'n_neighbors': 5, 'algorithm': 'kd_tree', 'leaf_size': 35, 'p': 1}. Best is trial 38 with value: 0.7614006555439972.\n",
      "[I 2020-08-19 22:03:16,434] Trial 101 finished with value: 0.7614006555439972 and parameters: {'n_neighbors': 9, 'algorithm': 'kd_tree', 'leaf_size': 37, 'p': 1}. Best is trial 38 with value: 0.7614006555439972.\n",
      "[I 2020-08-19 22:04:28,016] Trial 102 finished with value: 0.7605806357214928 and parameters: {'n_neighbors': 10, 'algorithm': 'kd_tree', 'leaf_size': 33, 'p': 1}. Best is trial 38 with value: 0.7614006555439972.\n",
      "[I 2020-08-19 22:05:38,460] Trial 103 finished with value: 0.7607738888551656 and parameters: {'n_neighbors': 8, 'algorithm': 'kd_tree', 'leaf_size': 42, 'p': 1}. Best is trial 38 with value: 0.7614006555439972.\n",
      "[I 2020-08-19 22:06:45,273] Trial 104 finished with value: 0.7590262108320148 and parameters: {'n_neighbors': 7, 'algorithm': 'kd_tree', 'leaf_size': 36, 'p': 1}. Best is trial 38 with value: 0.7614006555439972.\n",
      "[I 2020-08-19 22:07:55,401] Trial 105 finished with value: 0.7614006555439972 and parameters: {'n_neighbors': 9, 'algorithm': 'kd_tree', 'leaf_size': 35, 'p': 1}. Best is trial 38 with value: 0.7614006555439972.\n",
      "[I 2020-08-19 22:08:58,758] Trial 106 finished with value: 0.7610299982896347 and parameters: {'n_neighbors': 11, 'algorithm': 'kd_tree', 'leaf_size': 54, 'p': 1}. Best is trial 38 with value: 0.7614006555439972.\n",
      "[I 2020-08-19 22:10:10,851] Trial 107 finished with value: 0.7607738888551656 and parameters: {'n_neighbors': 8, 'algorithm': 'kd_tree', 'leaf_size': 30, 'p': 1}. Best is trial 38 with value: 0.7614006555439972.\n",
      "[I 2020-08-19 22:11:13,833] Trial 108 finished with value: 0.7585951217700179 and parameters: {'n_neighbors': 6, 'algorithm': 'kd_tree', 'leaf_size': 39, 'p': 1}. Best is trial 38 with value: 0.7614006555439972.\n",
      "[I 2020-08-19 22:12:12,897] Trial 109 finished with value: 0.7531327723822631 and parameters: {'n_neighbors': 13, 'algorithm': 'kd_tree', 'leaf_size': 40, 'p': 2}. Best is trial 38 with value: 0.7614006555439972.\n",
      "[I 2020-08-19 22:13:23,362] Trial 110 finished with value: 0.7601457227970163 and parameters: {'n_neighbors': 22, 'algorithm': 'kd_tree', 'leaf_size': 32, 'p': 1}. Best is trial 38 with value: 0.7614006555439972.\n",
      "[I 2020-08-19 22:14:21,409] Trial 111 finished with value: 0.7614006555439972 and parameters: {'n_neighbors': 9, 'algorithm': 'kd_tree', 'leaf_size': 48, 'p': 1}. Best is trial 38 with value: 0.7614006555439972.\n",
      "[I 2020-08-19 22:15:19,242] Trial 112 finished with value: 0.7605806357214928 and parameters: {'n_neighbors': 10, 'algorithm': 'kd_tree', 'leaf_size': 46, 'p': 1}. Best is trial 38 with value: 0.7614006555439972.\n",
      "[I 2020-08-19 22:16:19,484] Trial 113 finished with value: 0.7614006555439972 and parameters: {'n_neighbors': 9, 'algorithm': 'kd_tree', 'leaf_size': 44, 'p': 1}. Best is trial 38 with value: 0.7614006555439972.\n"
     ]
    },
    {
     "name": "stderr",
     "output_type": "stream",
     "text": [
      "[I 2020-08-19 22:17:19,810] Trial 114 finished with value: 0.7598841340685412 and parameters: {'n_neighbors': 12, 'algorithm': 'kd_tree', 'leaf_size': 44, 'p': 1}. Best is trial 38 with value: 0.7614006555439972.\n",
      "[I 2020-08-19 22:18:11,729] Trial 115 finished with value: 0.7607738888551656 and parameters: {'n_neighbors': 8, 'algorithm': 'kd_tree', 'leaf_size': 41, 'p': 1}. Best is trial 38 with value: 0.7614006555439972.\n",
      "[I 2020-08-19 22:19:16,283] Trial 116 finished with value: 0.7614006555439972 and parameters: {'n_neighbors': 9, 'algorithm': 'kd_tree', 'leaf_size': 39, 'p': 1}. Best is trial 38 with value: 0.7614006555439972.\n",
      "[I 2020-08-19 22:20:13,370] Trial 117 finished with value: 0.7605806357214928 and parameters: {'n_neighbors': 10, 'algorithm': 'kd_tree', 'leaf_size': 36, 'p': 1}. Best is trial 38 with value: 0.7614006555439972.\n",
      "[I 2020-08-19 22:21:10,125] Trial 118 finished with value: 0.7614006555439972 and parameters: {'n_neighbors': 9, 'algorithm': 'kd_tree', 'leaf_size': 37, 'p': 1}. Best is trial 38 with value: 0.7614006555439972.\n",
      "[I 2020-08-19 22:22:00,551] Trial 119 finished with value: 0.7590262108320148 and parameters: {'n_neighbors': 7, 'algorithm': 'kd_tree', 'leaf_size': 41, 'p': 1}. Best is trial 38 with value: 0.7614006555439972.\n",
      "[I 2020-08-19 22:22:59,439] Trial 120 finished with value: 0.7605806357214928 and parameters: {'n_neighbors': 10, 'algorithm': 'kd_tree', 'leaf_size': 43, 'p': 1}. Best is trial 38 with value: 0.7614006555439972.\n",
      "[I 2020-08-19 22:23:54,708] Trial 121 finished with value: 0.7614006555439972 and parameters: {'n_neighbors': 9, 'algorithm': 'kd_tree', 'leaf_size': 38, 'p': 1}. Best is trial 38 with value: 0.7614006555439972.\n",
      "[I 2020-08-19 22:24:50,644] Trial 122 finished with value: 0.7607738888551656 and parameters: {'n_neighbors': 8, 'algorithm': 'kd_tree', 'leaf_size': 34, 'p': 1}. Best is trial 38 with value: 0.7614006555439972.\n",
      "[I 2020-08-19 22:25:51,258] Trial 123 finished with value: 0.7607738888551656 and parameters: {'n_neighbors': 8, 'algorithm': 'kd_tree', 'leaf_size': 39, 'p': 1}. Best is trial 38 with value: 0.7614006555439972.\n",
      "[I 2020-08-19 22:26:49,214] Trial 124 finished with value: 0.7610299982896347 and parameters: {'n_neighbors': 11, 'algorithm': 'kd_tree', 'leaf_size': 36, 'p': 1}. Best is trial 38 with value: 0.7614006555439972.\n",
      "[I 2020-08-19 22:27:52,583] Trial 125 finished with value: 0.7610299982896347 and parameters: {'n_neighbors': 11, 'algorithm': 'kd_tree', 'leaf_size': 48, 'p': 1}. Best is trial 38 with value: 0.7614006555439972.\n",
      "[I 2020-08-19 22:28:48,570] Trial 126 finished with value: 0.7614006555439972 and parameters: {'n_neighbors': 9, 'algorithm': 'kd_tree', 'leaf_size': 46, 'p': 1}. Best is trial 38 with value: 0.7614006555439972.\n",
      "[I 2020-08-19 22:29:40,724] Trial 127 finished with value: 0.7607738888551656 and parameters: {'n_neighbors': 8, 'algorithm': 'kd_tree', 'leaf_size': 46, 'p': 1}. Best is trial 38 with value: 0.7614006555439972.\n",
      "[I 2020-08-19 22:30:48,460] Trial 128 finished with value: 0.7614006555439972 and parameters: {'n_neighbors': 9, 'algorithm': 'kd_tree', 'leaf_size': 48, 'p': 1}. Best is trial 38 with value: 0.7614006555439972.\n",
      "[I 2020-08-19 22:31:55,253] Trial 129 finished with value: 0.7590262108320148 and parameters: {'n_neighbors': 7, 'algorithm': 'kd_tree', 'leaf_size': 50, 'p': 1}. Best is trial 38 with value: 0.7614006555439972.\n",
      "[I 2020-08-19 22:32:55,128] Trial 130 finished with value: 0.7605806357214928 and parameters: {'n_neighbors': 10, 'algorithm': 'kd_tree', 'leaf_size': 40, 'p': 1}. Best is trial 38 with value: 0.7614006555439972.\n",
      "[I 2020-08-19 22:33:51,142] Trial 131 finished with value: 0.7614006555439972 and parameters: {'n_neighbors': 9, 'algorithm': 'kd_tree', 'leaf_size': 38, 'p': 1}. Best is trial 38 with value: 0.7614006555439972.\n",
      "[I 2020-08-19 22:34:43,751] Trial 132 finished with value: 0.7614006555439972 and parameters: {'n_neighbors': 9, 'algorithm': 'kd_tree', 'leaf_size': 33, 'p': 1}. Best is trial 38 with value: 0.7614006555439972.\n"
     ]
    }
   ],
   "source": [
    "def find_hyperp_KNN_sel(trial):\n",
    "    n_neighbors = trial.suggest_int('n_neighbors', 1, 31)\n",
    "    algorithm = trial.suggest_categorical('algorithm', ['ball_tree', 'kd_tree'])\n",
    "    leaf_size = trial.suggest_int('leaf_size', 2, 60)\n",
    "    p = trial.suggest_categorical('p', [1, 2])\n",
    "    knc = KNeighborsClassifier(weights = 'distance', \n",
    "                             n_neighbors = n_neighbors, \n",
    "                             algorithm = algorithm, \n",
    "                             leaf_size = leaf_size, \n",
    "                             p = p, n_jobs = 2)\n",
    "    cv = KFold(n_splits = 5, shuffle = True, random_state = 20)\n",
    "    score = np.mean(cross_val_score(knc, X_train_limit_scaled, y_train, scoring = 'f1_weighted', cv = cv, n_jobs = 2))\n",
    "    return (score)\n",
    "\n",
    "knn_study_2 = optuna.create_study(direction='maximize')\n",
    "knn_study_2.optimize(find_hyperp_KNN_sel, timeout = 4*60*60) # run for 3 hours"
   ]
  },
  {
   "cell_type": "code",
   "execution_count": 53,
   "metadata": {},
   "outputs": [],
   "source": [
    "# saving the study \n",
    "mod = open('PKL/knn_study_2.pkl', 'wb')\n",
    "pickle.dump(knn_study_2, mod)\n",
    "mod.close()"
   ]
  },
  {
   "cell_type": "code",
   "execution_count": 54,
   "metadata": {
    "scrolled": true
   },
   "outputs": [
    {
     "data": {
      "text/plain": [
       "{'n_neighbors': 9, 'algorithm': 'kd_tree', 'leaf_size': 43, 'p': 1}"
      ]
     },
     "execution_count": 54,
     "metadata": {},
     "output_type": "execute_result"
    }
   ],
   "source": [
    "knn_study_2.best_params"
   ]
  },
  {
   "cell_type": "code",
   "execution_count": 55,
   "metadata": {},
   "outputs": [
    {
     "name": "stdout",
     "output_type": "stream",
     "text": [
      "Test F1 score:  0.765 / Test Accuracy:  0.632\n"
     ]
    }
   ],
   "source": [
    "# Testing the best params on the test set\n",
    "knn_opt_limit = KNeighborsClassifier(algorithm = 'kd_tree', leaf_size = 43, n_neighbors=9, p =1, weights = 'distance')\n",
    "knn_opt_limit.fit(X_train_limit_scaled, y_train)\n",
    "\n",
    "y_pred = knn_opt_limit.predict(X_test_limit_scaled)    \n",
    "f1_test = round(f1_score(y_test, y_pred, average = 'weighted'), 3)\n",
    "acc_test = round(balanced_accuracy_score(y_test, y_pred), 3)\n",
    "\n",
    "print('Test F1 score: ', f1_test, '/ Test Accuracy: ', acc_test)\n",
    "score_keeper['knn_opt_limit'] = (f1_test, acc_test)"
   ]
  },
  {
   "cell_type": "code",
   "execution_count": 56,
   "metadata": {},
   "outputs": [
    {
     "name": "stdout",
     "output_type": "stream",
     "text": [
      "                         precision    recall  f1-score   support\n",
      "\n",
      "             functional       0.79      0.85      0.82      4822\n",
      "functional needs repair       0.44      0.29      0.35       678\n",
      "         non functional       0.79      0.75      0.77      3410\n",
      "\n",
      "               accuracy                           0.77      8910\n",
      "              macro avg       0.67      0.63      0.65      8910\n",
      "           weighted avg       0.76      0.77      0.76      8910\n",
      "\n"
     ]
    },
    {
     "data": {
      "image/png": "[encoded data removed]",
      "text/plain": [
       "<Figure size 432x288 with 2 Axes>"
      ]
     },
     "metadata": {
      "needs_background": "light"
     },
     "output_type": "display_data"
    }
   ],
   "source": [
    "plot_confusion_matrix(knn_opt_limit, X_test_limit_scaled, y_test, \n",
    "                      xticks_rotation = 'vertical', cmap = plt.cm.Blues)\n",
    "print(classification_report(y_test, y_pred))"
   ]
  },
  {
   "cell_type": "code",
   "execution_count": 71,
   "metadata": {},
   "outputs": [
    {
     "name": "stdout",
     "output_type": "stream",
     "text": [
      "Test F1 score:  0.761 / Test Accuracy:  0.627\n"
     ]
    }
   ],
   "source": [
    "# Simple parameter did the best, let's try to increase the n_neighbors to fix some overfit issue.\n",
    "knc_limit_addK = KNeighborsClassifier(n_neighbors = 7, weights = 'distance')\n",
    "knc_limit_addK.fit(X_train_limit_scaled, y_train)\n",
    "\n",
    "y_pred = knc_limit_addK.predict(X_test_limit_scaled)    \n",
    "f1_test = round(f1_score(y_test, y_pred, average = 'weighted'), 3)\n",
    "acc_test = round(balanced_accuracy_score(y_test, y_pred), 3)\n",
    "\n",
    "print('Test F1 score: ', f1_test, '/ Test Accuracy: ', acc_test)\n",
    "score_keeper['knn_limit_K7'] = (f1_test, acc_test)"
   ]
  },
  {
   "cell_type": "code",
   "execution_count": 73,
   "metadata": {},
   "outputs": [
    {
     "data": {
      "text/plain": [
       "Index(['amount_tsh', 'date_recorded', 'gps_height', 'longitude', 'latitude',\n",
       "       'population', 'public_meeting', 'permit', 'construction_year',\n",
       "       'basin_lat', 'basin_long', 'dist_to_basin', 'lga_lat', 'lga_long',\n",
       "       'dist_to_lga', 'funder_government of tanzania', 'funder_others',\n",
       "       'installer_dwe', 'installer_government', 'installer_others',\n",
       "       'subvillage_others', 'region_iringa', 'district_code_1',\n",
       "       'district_code_2', 'district_code_3', 'district_code_4',\n",
       "       'scheme_management_vwc', 'scheme_management_wug', 'management_vwc',\n",
       "       'management_wug', 'payment_type_annually', 'payment_type_monthly',\n",
       "       'payment_type_never pay', 'payment_type_on failure',\n",
       "       'payment_type_per bucket', 'payment_type_unknown',\n",
       "       'water_quality_salty', 'water_quality_soft', 'water_quality_unknown',\n",
       "       'quantity_dry', 'quantity_enough', 'quantity_insufficient',\n",
       "       'quantity_seasonal', 'source_machine dbh',\n",
       "       'source_rainwater harvesting', 'source_river', 'source_shallow well',\n",
       "       'source_spring', 'waterpoint_type_communal standpipe',\n",
       "       'waterpoint_type_communal standpipe multiple',\n",
       "       'waterpoint_type_hand pump', 'waterpoint_type_other',\n",
       "       'built_recent_00s', 'built_recent_70s', 'built_recent_80s',\n",
       "       'built_recent_90s', 'built_recent_after05', 'built_recent_others',\n",
       "       'n_wells_village_less_than_10', 'n_wells_village_more_than50',\n",
       "       'n_wells_village_more_than_10', 'n_wells_village_more_than_100',\n",
       "       'n_wells_village_more_than_300', 'extraction_type_c_gravity',\n",
       "       'extraction_type_c_india mark ii', 'extraction_type_c_mono',\n",
       "       'extraction_type_c_nira/tanira', 'extraction_type_c_other',\n",
       "       'extraction_type_c_submersible', 'extraction_type_c_swn 80'],\n",
       "      dtype='object')"
      ]
     },
     "execution_count": 73,
     "metadata": {},
     "output_type": "execute_result"
    }
   ],
   "source": [
    "X_test_limit.columns"
   ]
  },
  {
   "cell_type": "code",
   "execution_count": null,
   "metadata": {},
   "outputs": [],
   "source": []
  }
 ],
 "metadata": {
  "kernelspec": {
   "display_name": "Python 3",
   "language": "python",
   "name": "python3"
  },
  "language_info": {
   "codemirror_mode": {
    "name": "ipython",
    "version": 3
   },
   "file_extension": ".py",
   "mimetype": "text/x-python",
   "name": "python",
   "nbconvert_exporter": "python",
   "pygments_lexer": "ipython3",
   "version": "3.7.4"
  }
 },
 "nbformat": 4,
 "nbformat_minor": 4
}
