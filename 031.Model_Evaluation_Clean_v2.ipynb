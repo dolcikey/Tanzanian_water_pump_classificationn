{
 "cells": [
  {
   "cell_type": "markdown",
   "metadata": {},
   "source": [
    "# Model Evaluation\n",
    "\n",
    "In this notebook, we will test multiple model and evaluate to choose the best one."
   ]
  },
  {
   "cell_type": "code",
   "execution_count": 1,
   "metadata": {},
   "outputs": [],
   "source": [
    "import pandas as pd\n",
    "import numpy as np\n",
    "import matplotlib.pyplot as plt\n",
    "import seaborn as sns\n",
    "%matplotlib inline\n",
    "\n",
    "import pickle\n",
    "\n",
    "from sklearn.tree import DecisionTreeClassifier\n",
    "from sklearn.model_selection import train_test_split\n",
    "\n",
    "pd.set_option('precision', 4)\n",
    "pd.options.display.max_seq_items = None\n",
    "pd.options.display.max_columns = 50"
   ]
  },
  {
   "cell_type": "code",
   "execution_count": 2,
   "metadata": {},
   "outputs": [],
   "source": [
    "# Importing data\n",
    "X = pd.read_pickle('PKL/X_train.pkl')\n",
    "y = pd.read_pickle('PKL/Y_train.pkl')"
   ]
  },
  {
   "cell_type": "markdown",
   "metadata": {},
   "source": [
    "## Train/Test Split\n",
    "We will split the train data once more. It's because this is a competition dataset and we actually don't have the 'test' score result. So we will use the test set we created from the initial training set as a holdout set to actually see our performance of the final model. The final test set, which we don't have the labels for, will be used to make a prediction in the final testing notebook. "
   ]
  },
  {
   "cell_type": "code",
   "execution_count": 3,
   "metadata": {},
   "outputs": [],
   "source": [
    "X_train, X_test, y_train, y_test = train_test_split(X, y, random_state = 13, test_size = 0.2)"
   ]
  },
  {
   "cell_type": "markdown",
   "metadata": {},
   "source": [
    "## Preprocessing\n",
    "We will be utilizing mostly KNN and tree-based algorithms. We will first turn categorical features to binary dummies."
   ]
  },
  {
   "cell_type": "code",
   "execution_count": 4,
   "metadata": {},
   "outputs": [],
   "source": [
    "# Turning all categorical features to dummies \n",
    "X_train_ohe = pd.get_dummies(X_train)\n",
    "X_test_ohe = pd.get_dummies(X_test)"
   ]
  },
  {
   "cell_type": "code",
   "execution_count": 5,
   "metadata": {},
   "outputs": [
    {
     "name": "stdout",
     "output_type": "stream",
     "text": [
      "Good to go\n"
     ]
    }
   ],
   "source": [
    "# Check if training and testing sets have the same features\n",
    "if X_train_ohe.shape[1] != X_test_ohe.shape[1]:\n",
    "    print([x for x in X_train_ohe.columns if x not in X_test_ohe.columns])\n",
    "    print([x for x in X_test_ohe.columns if x not in X_train_ohe.columns])\n",
    "else: \n",
    "    print ('Good to go')"
   ]
  },
  {
   "cell_type": "code",
   "execution_count": 6,
   "metadata": {},
   "outputs": [],
   "source": [
    "# If they are not the same, add the column with 0s and fix the order\n",
    "# X_test_ohe[colname] = 0\n",
    "# X_test_ohe = X_test_ohe[X_train_ohe.columns]"
   ]
  },
  {
   "cell_type": "markdown",
   "metadata": {},
   "source": [
    "## Class Imbalance Issue\n",
    "Our dataset has high class imbalance issue. We will mostly deal with this by setting the class weight within each model, but in some cases where imbalance weight is not adequately dealt with by algorithm we test with resampled set using SMOTE."
   ]
  },
  {
   "cell_type": "code",
   "execution_count": 6,
   "metadata": {},
   "outputs": [],
   "source": [
    "from imblearn.over_sampling import SMOTE\n",
    "smote = SMOTE()\n",
    "X_train_res, y_train_res = smote.fit_sample(X_train_ohe, y_train)"
   ]
  },
  {
   "cell_type": "markdown",
   "metadata": {},
   "source": [
    "## Evaluation Metrics\n",
    "Our target is multi-class with imbalance issue. To focus on the imbalance of minority classes, we will use balanced accuracy score as our primary metrics. This computes the average accuracy score weighted by the inverse prevalence of the true classes (both positive and negative). So it accounts for the imbalance more rigorously then the weighted f1 score, which only takes the number of positive cases into account. Additionally we will also look at the weighted f1 score to capture the predictive performance for overall classes. It calculates the f1 score for each class and find the average weighted by the number of actual positive cases in each class, so naturally penalizes if minority recall is low.\n",
    "\n",
    "In terms of prediction within each class, we rather want to overpredict 'needs repair'(minority) or 'non functional' cases  than the functional cases. Because the condition of the well is crucial for survival of surrounding population. Specifically, we want the recall of the non functional and needs repair cases to be high because false positive of minority classes is better than missing those actually needing repairs. I will look at this breakdown using the classification report."
   ]
  },
  {
   "cell_type": "code",
   "execution_count": 7,
   "metadata": {},
   "outputs": [],
   "source": [
    "from sklearn.metrics import f1_score, balanced_accuracy_score, plot_confusion_matrix, classification_report"
   ]
  },
  {
   "cell_type": "markdown",
   "metadata": {},
   "source": [
    "## Dummy Classifier\n",
    "We'll first create a dummy classifier as a baseline score."
   ]
  },
  {
   "cell_type": "code",
   "execution_count": 10,
   "metadata": {},
   "outputs": [
    {
     "name": "stdout",
     "output_type": "stream",
     "text": [
      "Test F1 score:  0.446 / Test Accuracy:  0.337\n"
     ]
    }
   ],
   "source": [
    "from sklearn.dummy import DummyClassifier\n",
    "dummyc = DummyClassifier(strategy = 'stratified') # using the default stratified strategy\n",
    "dummyc.fit(X_train_ohe, y_train)\n",
    "y_pred = dummyc.predict(X_test_ohe)\n",
    "\n",
    "f1_test = round(f1_score(y_test, y_pred, average = 'weighted'), 3)\n",
    "acc_test = round(balanced_accuracy_score(y_test, y_pred), 3)\n",
    "print('Test F1 score: ', f1_test, '/ Test Accuracy: ', acc_test)"
   ]
  },
  {
   "cell_type": "code",
   "execution_count": 11,
   "metadata": {},
   "outputs": [
    {
     "name": "stdout",
     "output_type": "stream",
     "text": [
      "                         precision    recall  f1-score   support\n",
      "\n",
      "             functional       0.54      0.54      0.54      4822\n",
      "functional needs repair       0.09      0.08      0.08       678\n",
      "         non functional       0.38      0.39      0.38      3410\n",
      "\n",
      "               accuracy                           0.45      8910\n",
      "              macro avg       0.34      0.34      0.34      8910\n",
      "           weighted avg       0.45      0.45      0.45      8910\n",
      "\n"
     ]
    },
    {
     "data": {
      "image/png": "[encoded data removed]",
      "text/plain": [
       "<Figure size 432x288 with 2 Axes>"
      ]
     },
     "metadata": {
      "needs_background": "light"
     },
     "output_type": "display_data"
    }
   ],
   "source": [
    "plot_confusion_matrix(dummyc, X_test_ohe, y_test, xticks_rotation = 'vertical', cmap = plt.cm.Blues)\n",
    "print(classification_report(y_test, y_pred))"
   ]
  },
  {
   "cell_type": "markdown",
   "metadata": {},
   "source": [
    "Our stratified dummy classifier shows the weighted F1 score around .45 and less balanced accuracy. Dummy classifier is consistently wrong on all cases but recall for minority classes are especially bad."
   ]
  },
  {
   "cell_type": "markdown",
   "metadata": {},
   "source": [
    "## kNearestNeighbors\n",
    "Now we will run K-Nearest Neighbors using GridSearchCV. "
   ]
  },
  {
   "cell_type": "markdown",
   "metadata": {},
   "source": [
    "### Standardization\n",
    "For kNN, all feature values need to be standardized."
   ]
  },
  {
   "cell_type": "code",
   "execution_count": 8,
   "metadata": {},
   "outputs": [],
   "source": [
    "from sklearn.preprocessing import StandardScaler\n",
    "\n",
    "scale = StandardScaler()\n",
    "X_train_scaled = scale.fit_transform(X_train_ohe)\n",
    "X_test_scaled = scale.transform(X_test_ohe)\n",
    "\n",
    "X_train_res_scaled = scale.fit_transform(X_train_res)"
   ]
  },
  {
   "cell_type": "markdown",
   "metadata": {},
   "source": [
    "### Scoring Function\n",
    "Function to return weighted F1 and balanced accuracy score"
   ]
  },
  {
   "cell_type": "code",
   "execution_count": 9,
   "metadata": {},
   "outputs": [],
   "source": [
    "def scoring(y_test, y_pred):\n",
    "    f1_test = round(f1_score(y_test, y_pred, average = 'weighted'), 3)\n",
    "    acc_test = round(balanced_accuracy_score(y_test, y_pred), 3)\n",
    "    print('Test F1 score: ', f1_test, '/ Test Accuracy: ', acc_test)"
   ]
  },
  {
   "cell_type": "markdown",
   "metadata": {},
   "source": [
    "### kNN with GridSearchCV"
   ]
  },
  {
   "cell_type": "markdown",
   "metadata": {},
   "source": [
    "Finding the optimal value for K using GridSearchCV."
   ]
  },
  {
   "cell_type": "code",
   "execution_count": 10,
   "metadata": {},
   "outputs": [],
   "source": [
    "from sklearn.neighbors import KNeighborsClassifier\n",
    "from sklearn.model_selection import GridSearchCV"
   ]
  },
  {
   "cell_type": "code",
   "execution_count": 15,
   "metadata": {
    "scrolled": true
   },
   "outputs": [
    {
     "name": "stdout",
     "output_type": "stream",
     "text": [
      "Fitting 5 folds for each of 8 candidates, totalling 40 fits\n"
     ]
    },
    {
     "name": "stderr",
     "output_type": "stream",
     "text": [
      "[Parallel(n_jobs=-1)]: Using backend LokyBackend with 8 concurrent workers.\n",
      "[Parallel(n_jobs=-1)]: Done  40 out of  40 | elapsed: 15.4min finished\n"
     ]
    },
    {
     "data": {
      "text/plain": [
       "GridSearchCV(cv=5, estimator=KNeighborsClassifier(weights='distance'),\n",
       "             n_jobs=-1, param_grid={'n_neighbors': range(1, 16, 2)},\n",
       "             scoring='balanced_accuracy', verbose=1)"
      ]
     },
     "execution_count": 15,
     "metadata": {},
     "output_type": "execute_result"
    }
   ],
   "source": [
    "params = {\n",
    "    'n_neighbors': range(1, 16, 2), # setting K\n",
    "}\n",
    "\n",
    "knc = KNeighborsClassifier(weights = 'distance') \n",
    "knc_g = GridSearchCV(knc, params, cv = 5, scoring = 'balanced_accuracy', verbose = 1, n_jobs = -1)\n",
    "knc_g.fit(X_train_scaled, y_train)\n",
    "#print(knc_g.best_params_, ': ', knc_g.best_score_)"
   ]
  },
  {
   "cell_type": "code",
   "execution_count": 16,
   "metadata": {},
   "outputs": [
    {
     "name": "stdout",
     "output_type": "stream",
     "text": [
      "Test F1 score:  0.741 / Test Accuracy:  0.622\n",
      "                         precision    recall  f1-score   support\n",
      "\n",
      "             functional       0.78      0.81      0.79      4822\n",
      "functional needs repair       0.39      0.32      0.35       678\n",
      "         non functional       0.75      0.74      0.74      3410\n",
      "\n",
      "               accuracy                           0.74      8910\n",
      "              macro avg       0.64      0.62      0.63      8910\n",
      "           weighted avg       0.74      0.74      0.74      8910\n",
      "\n"
     ]
    }
   ],
   "source": [
    "# KNN performance on the test set\n",
    "y_pred = knc_g.predict(X_test_scaled)    \n",
    "scoring(y_test, y_pred)\n",
    "print(classification_report(y_test, y_pred))\n",
    "# Test F1 score:  0.741 / Test Accuracy:  0.622\n",
    "# Recall for functional needs repair: 0.32"
   ]
  },
  {
   "cell_type": "code",
   "execution_count": null,
   "metadata": {},
   "outputs": [],
   "source": [
    "y_train_pred = knc_g.predict(X_train_scaled)    \n",
    "f1_test = round(f1_score(y_train, y_train_pred, average = 'weighted'), 3)\n",
    "f1_test\n",
    "# 0.998"
   ]
  },
  {
   "cell_type": "markdown",
   "metadata": {},
   "source": [
    "Overall improvement from the dummy model, but the recall of needs repair class is still low. Looking at training score (.99) shows that it's highly overfitting. In this document we'll see if different optimization method finds a better hyperparameter.  \n",
    "\n",
    "*Future consideration - In 030B file under eunjoo branch, we explored more into limiting features using random forest feature selection for KNN as KNN does not select features and can make the model messy. As a summary, after Random Forest feature selection, the performance didn't improve, but also didn't drop. So we know for KNN those extra features could be unnecessarily complicating our model. For the sake of keeping it consistent with the rest of models, we will keep all features (they have been already selected based on intuition in the EDA notebook) for now. But we may consider dropping some of those features in the future.*"
   ]
  },
  {
   "cell_type": "code",
   "execution_count": 30,
   "metadata": {},
   "outputs": [],
   "source": [
    "# saving the model \n",
    "#mod = open('PKL/knn_gsc.pkl', 'wb')\n",
    "#pickle.dump(knc_g.best_estimator_, mod)\n",
    "#mod.close()\n",
    "# Reload the model\n",
    "#knc_g = pickle.load(open('PKL/knn_gsc.pkl', 'rb'))"
   ]
  },
  {
   "cell_type": "markdown",
   "metadata": {},
   "source": [
    "### kNN with Optuna\n",
    "Now we want to try different optimization method to make sure we have the best hyperparmeter for KNN. This time we'll use optuna to explore even more hyperparameters. We'll cap the time to what it took to be same as the time it took to complete GridSearch above."
   ]
  },
  {
   "cell_type": "code",
   "execution_count": 11,
   "metadata": {},
   "outputs": [],
   "source": [
    "import optuna\n",
    "from sklearn.model_selection import KFold\n",
    "from sklearn.model_selection import cross_val_score"
   ]
  },
  {
   "cell_type": "code",
   "execution_count": 19,
   "metadata": {
    "scrolled": true
   },
   "outputs": [
    {
     "name": "stderr",
     "output_type": "stream",
     "text": [
      "[I 2020-08-23 14:12:56,309] Trial 0 finished with value: 0.6241109524591881 and parameters: {'n_neighbors': 21, 'algorithm': 'kd_tree', 'leaf_size': 8, 'p': 1}. Best is trial 0 with value: 0.6241109524591881.\n",
      "[I 2020-08-23 14:17:03,858] Trial 1 finished with value: 0.6138424591785228 and parameters: {'n_neighbors': 13, 'algorithm': 'ball_tree', 'leaf_size': 57, 'p': 2}. Best is trial 0 with value: 0.6241109524591881.\n",
      "[I 2020-08-23 14:20:47,069] Trial 2 finished with value: 0.6212834696398344 and parameters: {'n_neighbors': 26, 'algorithm': 'kd_tree', 'leaf_size': 48, 'p': 1}. Best is trial 0 with value: 0.6241109524591881.\n",
      "[I 2020-08-23 14:25:02,426] Trial 3 finished with value: 0.6242868465865195 and parameters: {'n_neighbors': 20, 'algorithm': 'ball_tree', 'leaf_size': 21, 'p': 1}. Best is trial 3 with value: 0.6242868465865195.\n",
      "[I 2020-08-23 14:28:21,393] Trial 4 finished with value: 0.6264078004705633 and parameters: {'n_neighbors': 17, 'algorithm': 'kd_tree', 'leaf_size': 12, 'p': 1}. Best is trial 4 with value: 0.6264078004705633.\n"
     ]
    }
   ],
   "source": [
    "def find_hyperp_KNN(trial):\n",
    "    n_neighbors = trial.suggest_int('n_neighbors', 1, 31)\n",
    "    algorithm = trial.suggest_categorical('algorithm', ['ball_tree', 'kd_tree'])\n",
    "    leaf_size = trial.suggest_int('leaf_size', 2, 60)\n",
    "    p = trial.suggest_categorical('p', [1, 2])\n",
    "    knc = KNeighborsClassifier(weights = 'distance', \n",
    "                             n_neighbors = n_neighbors, \n",
    "                             algorithm = algorithm, \n",
    "                             leaf_size = leaf_size, \n",
    "                             p = p)\n",
    "    cv = KFold(n_splits = 5, shuffle = True, random_state = 20)\n",
    "    score = np.mean(cross_val_score(knc, X_train_scaled, y_train, scoring = 'balanced_accuracy', cv = cv, n_jobs = -1))\n",
    "    return (score)\n",
    "\n",
    "# initiating the optuna study\n",
    "knn_study = optuna.create_study(direction='maximize')\n",
    "\n",
    "# optimization process\n",
    "knn_study.optimize(find_hyperp_KNN, timeout = 16*60)"
   ]
  },
  {
   "cell_type": "code",
   "execution_count": 32,
   "metadata": {},
   "outputs": [],
   "source": [
    "# saving the study \n",
    "#mod = open('PKL/knn_study.pkl', 'wb')\n",
    "#pickle.dump(knn_study, mod)\n",
    "#mod.close()\n",
    "# Reload the study\n",
    "#knn_study = pickle.load(open('PKL/knn_study.pkl', 'rb'))"
   ]
  },
  {
   "cell_type": "code",
   "execution_count": 21,
   "metadata": {},
   "outputs": [
    {
     "name": "stdout",
     "output_type": "stream",
     "text": [
      "Test F1 score:  0.759 / Test Accuracy:  0.63\n",
      "                         precision    recall  f1-score   support\n",
      "\n",
      "             functional       0.78      0.85      0.81      4822\n",
      "functional needs repair       0.47      0.30      0.37       678\n",
      "         non functional       0.78      0.74      0.76      3410\n",
      "\n",
      "               accuracy                           0.77      8910\n",
      "              macro avg       0.68      0.63      0.65      8910\n",
      "           weighted avg       0.76      0.77      0.76      8910\n",
      "\n"
     ]
    }
   ],
   "source": [
    "# Testing the best params on the test set\n",
    "knc_opt = KNeighborsClassifier(**knn_study.best_params, weights = 'distance')\n",
    "knc_opt.fit(X_train_scaled, y_train)\n",
    "\n",
    "y_pred = knc_opt.predict(X_test_scaled)    \n",
    "scoring(y_test, y_pred)\n",
    "print(classification_report(y_test, y_pred))\n",
    "# Test F1 score:  0.753 / Test Accuracy:  0.631\n",
    "# functional needs repair recall = 0.32"
   ]
  },
  {
   "cell_type": "markdown",
   "metadata": {},
   "source": [
    "Recall score for the needs repair class is still low but the overall performance and the recall for non-functional improved slightly."
   ]
  },
  {
   "cell_type": "code",
   "execution_count": 22,
   "metadata": {},
   "outputs": [],
   "source": [
    "# saving the model\n",
    "#mod = open('PKL/knc_opt_model.pkl', 'wb')\n",
    "#pickle.dump(knc_opt, mod)\n",
    "#mod.close()"
   ]
  },
  {
   "cell_type": "code",
   "execution_count": 35,
   "metadata": {},
   "outputs": [],
   "source": [
    "#knc_study = pickle.load(open('PKL/knc_opt_model.pkl', 'rb'))"
   ]
  },
  {
   "cell_type": "markdown",
   "metadata": {},
   "source": [
    "### SMOTE - kNN \n",
    "Since kNN consistently failed to improve recall score for the minority class, we'll try to run it with SMOTE resampled set."
   ]
  },
  {
   "cell_type": "markdown",
   "metadata": {},
   "source": [
    "#### Simple kNN\n",
    "Running kNN with default parameters"
   ]
  },
  {
   "cell_type": "code",
   "execution_count": 26,
   "metadata": {},
   "outputs": [
    {
     "name": "stdout",
     "output_type": "stream",
     "text": [
      "Test F1 score:  0.719 / Test Accuracy:  0.625\n"
     ]
    }
   ],
   "source": [
    "knnSimple = KNeighborsClassifier(n_jobs = -1)\n",
    "knnSimple.fit(X_train_res_scaled, y_train_res)\n",
    "y_pred = knnSimple.predict(X_test_scaled)\n",
    "\n",
    "scoring(y_test, y_pred)\n",
    "# Test F1 score:  0.717 / Test Accuracy:  0.656\n",
    "# needs repair recall = 0.54"
   ]
  },
  {
   "cell_type": "markdown",
   "metadata": {},
   "source": [
    "Minority recall score has improved! let's try to optimize hyperparmeters."
   ]
  },
  {
   "cell_type": "code",
   "execution_count": 27,
   "metadata": {},
   "outputs": [],
   "source": [
    "#mod = open('PKL/knnSimple.pkl', 'wb')\n",
    "#pickle.dump(knnSimple, mod)\n",
    "#mod.close()"
   ]
  },
  {
   "cell_type": "code",
   "execution_count": 37,
   "metadata": {},
   "outputs": [],
   "source": [
    "#knnSimple = pickle.load(open('PKL/knnSimple.pkl', 'rb'))"
   ]
  },
  {
   "cell_type": "markdown",
   "metadata": {},
   "source": [
    "#### kNN with Optuna"
   ]
  },
  {
   "cell_type": "code",
   "execution_count": 28,
   "metadata": {},
   "outputs": [
    {
     "name": "stderr",
     "output_type": "stream",
     "text": [
      "[I 2020-08-23 14:59:48,105] Trial 0 finished with value: 0.8091345039701233 and parameters: {'n_neighbors': 6, 'p': 1, 'leaf_size': 25, 'algorithm': 'kd_tree'}. Best is trial 0 with value: 0.8091345039701233.\n",
      "[I 2020-08-23 15:04:55,104] Trial 1 finished with value: 0.8091345039701233 and parameters: {'n_neighbors': 9, 'p': 2, 'leaf_size': 11, 'algorithm': 'ball_tree'}. Best is trial 0 with value: 0.8091345039701233.\n",
      "[I 2020-08-23 15:10:04,354] Trial 2 finished with value: 0.8091345039701233 and parameters: {'n_neighbors': 1, 'p': 1, 'leaf_size': 18, 'algorithm': 'kd_tree'}. Best is trial 0 with value: 0.8091345039701233.\n",
      "[I 2020-08-23 15:15:10,416] Trial 3 finished with value: 0.8091345039701233 and parameters: {'n_neighbors': 5, 'p': 2, 'leaf_size': 36, 'algorithm': 'kd_tree'}. Best is trial 0 with value: 0.8091345039701233.\n",
      "[I 2020-08-23 15:20:16,558] Trial 4 finished with value: 0.8091345039701233 and parameters: {'n_neighbors': 8, 'p': 1, 'leaf_size': 26, 'algorithm': 'ball_tree'}. Best is trial 0 with value: 0.8091345039701233.\n",
      "[I 2020-08-23 15:25:23,310] Trial 5 finished with value: 0.8091345039701233 and parameters: {'n_neighbors': 6, 'p': 2, 'leaf_size': 35, 'algorithm': 'ball_tree'}. Best is trial 0 with value: 0.8091345039701233.\n",
      "[I 2020-08-23 15:30:29,381] Trial 6 finished with value: 0.8091345039701233 and parameters: {'n_neighbors': 10, 'p': 2, 'leaf_size': 7, 'algorithm': 'kd_tree'}. Best is trial 0 with value: 0.8091345039701233.\n",
      "[I 2020-08-23 15:35:33,038] Trial 7 finished with value: 0.8091345039701233 and parameters: {'n_neighbors': 8, 'p': 1, 'leaf_size': 3, 'algorithm': 'kd_tree'}. Best is trial 0 with value: 0.8091345039701233.\n",
      "[I 2020-08-23 15:40:38,126] Trial 8 finished with value: 0.8091345039701233 and parameters: {'n_neighbors': 5, 'p': 2, 'leaf_size': 49, 'algorithm': 'kd_tree'}. Best is trial 0 with value: 0.8091345039701233.\n",
      "[I 2020-08-23 15:45:48,417] Trial 9 finished with value: 0.8091345039701233 and parameters: {'n_neighbors': 6, 'p': 1, 'leaf_size': 18, 'algorithm': 'kd_tree'}. Best is trial 0 with value: 0.8091345039701233.\n",
      "[I 2020-08-23 15:50:52,833] Trial 10 finished with value: 0.8091345039701233 and parameters: {'n_neighbors': 2, 'p': 1, 'leaf_size': 49, 'algorithm': 'kd_tree'}. Best is trial 0 with value: 0.8091345039701233.\n",
      "[I 2020-08-23 15:55:57,594] Trial 11 finished with value: 0.8091345039701233 and parameters: {'n_neighbors': 10, 'p': 2, 'leaf_size': 13, 'algorithm': 'ball_tree'}. Best is trial 0 with value: 0.8091345039701233.\n"
     ]
    }
   ],
   "source": [
    "def knn_objective(trial): \n",
    "    knn_neighbors = trial.suggest_int('n_neighbors', 1,10) \n",
    "    knn_p = trial.suggest_categorical('p', [1, 2])\n",
    "    knn_leaf_size = trial.suggest_int('leaf_size', 2, 50)\n",
    "    knn_algorithm = trial.suggest_categorical('algorithm', ['ball_tree', 'kd_tree'])\n",
    "    \n",
    "    knn = KNeighborsClassifier(n_neighbors = knn_neighbors, \n",
    "                               p = knn_p, \n",
    "                               leaf_size = knn_leaf_size,\n",
    "                               algorithm =  knn_algorithm)\n",
    "    cv = KFold(n_splits = 5, shuffle = True, random_state = 20)\n",
    "    score = np.mean(cross_val_score(knc, X_train_res_scaled, y_train_res, scoring = 'balanced_accuracy', \n",
    "                                    cv = cv, n_jobs = -1))\n",
    "    return (score)\n",
    "\n",
    "# initiating the optuna study\n",
    "knn_optuna = optuna.create_study(direction='maximize')\n",
    "\n",
    "# optimization process\n",
    "knn_optuna.optimize(knn_objective, n_trials = 100, timeout = 60*60)"
   ]
  },
  {
   "cell_type": "code",
   "execution_count": 30,
   "metadata": {},
   "outputs": [
    {
     "name": "stdout",
     "output_type": "stream",
     "text": [
      "Test F1 score:  0.73 / Test Accuracy:  0.635\n",
      "                         precision    recall  f1-score   support\n",
      "\n",
      "             functional       0.77      0.80      0.79      4822\n",
      "functional needs repair       0.32      0.42      0.37       678\n",
      "         non functional       0.77      0.68      0.72      3410\n",
      "\n",
      "               accuracy                           0.73      8910\n",
      "              macro avg       0.62      0.64      0.63      8910\n",
      "           weighted avg       0.74      0.73      0.73      8910\n",
      "\n"
     ]
    }
   ],
   "source": [
    "# Testing the best params on the test set\n",
    "knnOptuna = KNeighborsClassifier(**knn_optuna.best_params)\n",
    "knnOptuna.fit(X_train_res_scaled, y_train_res)\n",
    "\n",
    "y_pred = knnOptuna.predict(X_test_scaled)    \n",
    "scoring(y_test, y_pred)\n",
    "print(classification_report(y_test, y_pred))\n",
    "\n",
    "# Test F1 score:  0.742 / Test Accuracy:  0.567\n",
    "# functional needs repair recall = 0.46"
   ]
  },
  {
   "cell_type": "markdown",
   "metadata": {},
   "source": [
    "Optuna hyperparameter did not improved our performance."
   ]
  },
  {
   "cell_type": "code",
   "execution_count": 31,
   "metadata": {},
   "outputs": [],
   "source": [
    "# saving model\n",
    "#mod = open('PKL/knnOptuna.pkl', 'wb')\n",
    "#pickle.dump(knnOptuna, mod)\n",
    "#mod.close()"
   ]
  },
  {
   "cell_type": "code",
   "execution_count": 39,
   "metadata": {},
   "outputs": [],
   "source": [
    "#knnOptuna = pickle.load(open('PKL/knnOptuna.pkl', 'rb'))"
   ]
  },
  {
   "cell_type": "markdown",
   "metadata": {},
   "source": [
    "## Simple Decision Trees\n",
    "Since we have a lot of features, tree-based model might deal better by ignoring less important features. We will first try with a simple tree."
   ]
  },
  {
   "cell_type": "code",
   "execution_count": 33,
   "metadata": {},
   "outputs": [
    {
     "name": "stdout",
     "output_type": "stream",
     "text": [
      "Test F1 score:  0.73 / Test Accuracy:  0.635\n"
     ]
    }
   ],
   "source": [
    "dtcSimple = DecisionTreeClassifier(criterion = 'gini', \n",
    "                                   max_depth = 20, \n",
    "                                   class_weight = 'balanced')\n",
    "dtcSimple.fit(X_train_res_scaled, y_train_res)\n",
    "y_pred_dtcSimple = dtcSimple.predict(X_test_scaled)\n",
    "scoring(y_test, y_pred)\n",
    "# Test F1 score:  0.728 / Test Accuracy:  0.642\n",
    "# functional needs repair recall = 0.45"
   ]
  },
  {
   "cell_type": "code",
   "execution_count": 34,
   "metadata": {},
   "outputs": [],
   "source": [
    "# saving model\n",
    "#mod = open('PKL/dtcSimple.pkl', 'wb')\n",
    "#pickle.dump(dtcSimple, mod)\n",
    "#mod.close()"
   ]
  },
  {
   "cell_type": "code",
   "execution_count": 41,
   "metadata": {},
   "outputs": [],
   "source": [
    "#dtcSimple = pickle.load(open('PKL/dtcSimple.pkl', 'rb'))"
   ]
  },
  {
   "cell_type": "markdown",
   "metadata": {},
   "source": [
    "About similar performance as kNN."
   ]
  },
  {
   "cell_type": "markdown",
   "metadata": {},
   "source": [
    "## Random Forest \n",
    "We will run random forest optimized by Optuna."
   ]
  },
  {
   "cell_type": "code",
   "execution_count": 12,
   "metadata": {},
   "outputs": [],
   "source": [
    "from sklearn.ensemble import BaggingClassifier, RandomForestClassifier"
   ]
  },
  {
   "cell_type": "code",
   "execution_count": 68,
   "metadata": {
    "scrolled": true
   },
   "outputs": [
    {
     "name": "stderr",
     "output_type": "stream",
     "text": [
      "[I 2020-08-23 21:03:03,785] Trial 47 finished with value: 0.7235648411767576 and parameters: {'n_estimators': 653, 'max_depth': 9, 'min_samples_split': 2, 'min_samples_leaf': 9, 'criterion': 'entropy', 'class_weight': 'balanced', 'max_features': 11}. Best is trial 21 with value: 0.7646655292923293.\n",
      "[I 2020-08-23 21:06:55,122] Trial 48 finished with value: 0.7312747762280674 and parameters: {'n_estimators': 587, 'max_depth': 8, 'min_samples_split': 10, 'min_samples_leaf': 1, 'criterion': 'gini', 'class_weight': 'balanced_subsample', 'max_features': 44}. Best is trial 21 with value: 0.7646655292923293.\n",
      "[I 2020-08-23 21:07:18,274] Trial 49 finished with value: 0.7128896889037618 and parameters: {'n_estimators': 202, 'max_depth': 10, 'min_samples_split': 6, 'min_samples_leaf': 1, 'criterion': 'entropy', 'class_weight': 'balanced_subsample', 'max_features': 2}. Best is trial 21 with value: 0.7646655292923293.\n",
      "[I 2020-08-23 21:08:20,403] Trial 50 finished with value: 0.6331643030226903 and parameters: {'n_estimators': 681, 'max_depth': 2, 'min_samples_split': 2, 'min_samples_leaf': 10, 'criterion': 'gini', 'class_weight': 'balanced', 'max_features': 16}. Best is trial 21 with value: 0.7646655292923293.\n",
      "[I 2020-08-23 21:10:05,187] Trial 51 finished with value: 0.6528429758028387 and parameters: {'n_estimators': 599, 'max_depth': 4, 'min_samples_split': 6, 'min_samples_leaf': 5, 'criterion': 'entropy', 'class_weight': 'balanced_subsample', 'max_features': 25}. Best is trial 21 with value: 0.7646655292923293.\n",
      "[I 2020-08-23 21:14:20,347] Trial 52 finished with value: 0.7581614079864251 and parameters: {'n_estimators': 644, 'max_depth': 10, 'min_samples_split': 8, 'min_samples_leaf': 6, 'criterion': 'entropy', 'class_weight': 'balanced_subsample', 'max_features': 37}. Best is trial 21 with value: 0.7646655292923293.\n",
      "[I 2020-08-23 21:18:24,481] Trial 53 finished with value: 0.745813188278051 and parameters: {'n_estimators': 626, 'max_depth': 9, 'min_samples_split': 4, 'min_samples_leaf': 4, 'criterion': 'entropy', 'class_weight': 'balanced_subsample', 'max_features': 39}. Best is trial 21 with value: 0.7646655292923293.\n",
      "[I 2020-08-23 21:23:08,774] Trial 54 finished with value: 0.7571740822345325 and parameters: {'n_estimators': 654, 'max_depth': 10, 'min_samples_split': 8, 'min_samples_leaf': 8, 'criterion': 'entropy', 'class_weight': 'balanced_subsample', 'max_features': 42}. Best is trial 21 with value: 0.7646655292923293.\n",
      "[I 2020-08-23 21:25:38,129] Trial 55 finished with value: 0.7575093590727022 and parameters: {'n_estimators': 560, 'max_depth': 10, 'min_samples_split': 8, 'min_samples_leaf': 2, 'criterion': 'entropy', 'class_weight': 'balanced_subsample', 'max_features': 20}. Best is trial 21 with value: 0.7646655292923293.\n",
      "[I 2020-08-23 21:29:36,131] Trial 56 finished with value: 0.7462786813460618 and parameters: {'n_estimators': 506, 'max_depth': 9, 'min_samples_split': 3, 'min_samples_leaf': 3, 'criterion': 'entropy', 'class_weight': 'balanced_subsample', 'max_features': 50}. Best is trial 21 with value: 0.7646655292923293.\n",
      "[I 2020-08-23 21:31:48,170] Trial 57 finished with value: 0.7581240218025893 and parameters: {'n_estimators': 349, 'max_depth': 10, 'min_samples_split': 9, 'min_samples_leaf': 7, 'criterion': 'entropy', 'class_weight': 'balanced_subsample', 'max_features': 34}. Best is trial 21 with value: 0.7646655292923293.\n"
     ]
    }
   ],
   "source": [
    "def find_hyperparam_rf(trial):\n",
    "    n_estimators = trial.suggest_int('n_estimators', 100, 700)\n",
    "    max_depth = trial.suggest_int('max_depth', 2, 10)\n",
    "    min_samples_split = trial.suggest_int('min_samples_split', 2, 10)\n",
    "    min_samples_leaf = trial.suggest_int('min_samples_leaf', 1, 10)\n",
    "    criterion = trial.suggest_categorical('criterion', ['gini', 'entropy'])\n",
    "    class_weight = trial.suggest_categorical('class_weight', ['balanced', 'balanced_subsample'])\n",
    "    max_features = trial.suggest_int('max_features', 2, 100)\n",
    "    min_weight_fraction_leaf = trial.suggest_loguniform('min_weight_fraction_leaf', 0, 0.1),\n",
    "    max_leaf_nodes= trial.suggest_int('max_features', 10, 100)\n",
    "    rfc = RandomForestClassifier(oob_score = True, \n",
    "                             n_estimators = n_estimators, \n",
    "                             max_depth = max_depth, \n",
    "                             min_samples_split = min_samples_split, \n",
    "                             min_samples_leaf = min_samples_leaf, \n",
    "                             criterion = criterion, \n",
    "                             class_weight = class_weight, \n",
    "                             max_features = max_features,\n",
    "                                min_weight_fraction_leaf=min_weight_fraction_leaf,\n",
    "                                max_leaf_nodes = max_leaf_nodes)\n",
    "    cv = KFold(n_splits = 5, shuffle = True, random_state = 20)\n",
    "    score = np.mean(cross_val_score(rfc, X_train_res_scaled, y_train_res, scoring = 'balanced_accuracy', cv = cv, n_jobs = -1))\n",
    "    return (score)\n",
    "\n",
    "#rfc_study = optuna.create_study(direction='maximize')\n",
    "rfc_study.optimize(find_hyperparam_rf, timeout = 60*30, n_trials = 100)"
   ]
  },
  {
   "cell_type": "code",
   "execution_count": null,
   "metadata": {},
   "outputs": [],
   "source": [
    "rf = RandomForestClassifier(oob_score = True, **rfc_study.best_params)\n",
    "\n",
    "rf.fit(X_train_res_scaled, y_train_res)\n",
    "y_pred = rf.predict(X_test_scaled)  \n",
    "scoring(y_test, y_pred)\n",
    "# Test F1 score:  0.731 / Test Accuracy:  0.694\n",
    "# functional needs repair recall = 0.66"
   ]
  },
  {
   "cell_type": "markdown",
   "metadata": {},
   "source": [
    "Much better performance in predicting the positive minority cases even though overall F1 score has dropped slightly. This model seems to be weighing the minority recall better. "
   ]
  },
  {
   "cell_type": "code",
   "execution_count": 69,
   "metadata": {},
   "outputs": [],
   "source": [
    "# save the study\n",
    "mod = open('PKL/rfc_study.pkl', 'wb')\n",
    "pickle.dump(rfc_study, mod)\n",
    "mod.close()\n",
    "# Reload the study\n",
    "#rfc_study = pickle.load(open('PKL/rfc_study.pkl', 'rb'))"
   ]
  },
  {
   "cell_type": "code",
   "execution_count": 16,
   "metadata": {},
   "outputs": [],
   "source": [
    "# save the model\n",
    "#mod = open('PKL/rf_model.pkl', 'wb')\n",
    "#pickle.dump(rf, mod)\n",
    "#mod.close()"
   ]
  },
  {
   "cell_type": "code",
   "execution_count": 43,
   "metadata": {},
   "outputs": [],
   "source": [
    "#rf_model = pickle.load(open('PKL/rf_model.pkl', 'rb'))"
   ]
  },
  {
   "cell_type": "code",
   "execution_count": 21,
   "metadata": {},
   "outputs": [
    {
     "data": {
      "text/html": [
       "<div>\n",
       "<style scoped>\n",
       "    .dataframe tbody tr th:only-of-type {\n",
       "        vertical-align: middle;\n",
       "    }\n",
       "\n",
       "    .dataframe tbody tr th {\n",
       "        vertical-align: top;\n",
       "    }\n",
       "\n",
       "    .dataframe thead th {\n",
       "        text-align: right;\n",
       "    }\n",
       "</style>\n",
       "<table border=\"1\" class=\"dataframe\">\n",
       "  <thead>\n",
       "    <tr style=\"text-align: right;\">\n",
       "      <th></th>\n",
       "      <th>feat_importance</th>\n",
       "    </tr>\n",
       "  </thead>\n",
       "  <tbody>\n",
       "    <tr>\n",
       "      <th>quantity_dry</th>\n",
       "      <td>0.1169</td>\n",
       "    </tr>\n",
       "    <tr>\n",
       "      <th>quantity_enough</th>\n",
       "      <td>0.0465</td>\n",
       "    </tr>\n",
       "    <tr>\n",
       "      <th>extraction_type_c_other</th>\n",
       "      <td>0.0464</td>\n",
       "    </tr>\n",
       "    <tr>\n",
       "      <th>longitude</th>\n",
       "      <td>0.0373</td>\n",
       "    </tr>\n",
       "    <tr>\n",
       "      <th>waterpoint_type_other</th>\n",
       "      <td>0.0342</td>\n",
       "    </tr>\n",
       "    <tr>\n",
       "      <th>waterpoint_type_hand pump</th>\n",
       "      <td>0.0287</td>\n",
       "    </tr>\n",
       "    <tr>\n",
       "      <th>lga_long</th>\n",
       "      <td>0.0277</td>\n",
       "    </tr>\n",
       "    <tr>\n",
       "      <th>construction_year</th>\n",
       "      <td>0.0273</td>\n",
       "    </tr>\n",
       "    <tr>\n",
       "      <th>built_recent_after05</th>\n",
       "      <td>0.0260</td>\n",
       "    </tr>\n",
       "    <tr>\n",
       "      <th>latitude</th>\n",
       "      <td>0.0256</td>\n",
       "    </tr>\n",
       "    <tr>\n",
       "      <th>dist_to_basin</th>\n",
       "      <td>0.0235</td>\n",
       "    </tr>\n",
       "    <tr>\n",
       "      <th>lga_bariadi</th>\n",
       "      <td>0.0230</td>\n",
       "    </tr>\n",
       "    <tr>\n",
       "      <th>amount_tsh</th>\n",
       "      <td>0.0195</td>\n",
       "    </tr>\n",
       "    <tr>\n",
       "      <th>extraction_type_c_gravity</th>\n",
       "      <td>0.0182</td>\n",
       "    </tr>\n",
       "    <tr>\n",
       "      <th>lga_lat</th>\n",
       "      <td>0.0179</td>\n",
       "    </tr>\n",
       "  </tbody>\n",
       "</table>\n",
       "</div>"
      ],
      "text/plain": [
       "                           feat_importance\n",
       "quantity_dry                        0.1169\n",
       "quantity_enough                     0.0465\n",
       "extraction_type_c_other             0.0464\n",
       "longitude                           0.0373\n",
       "waterpoint_type_other               0.0342\n",
       "waterpoint_type_hand pump           0.0287\n",
       "lga_long                            0.0277\n",
       "construction_year                   0.0273\n",
       "built_recent_after05                0.0260\n",
       "latitude                            0.0256\n",
       "dist_to_basin                       0.0235\n",
       "lga_bariadi                         0.0230\n",
       "amount_tsh                          0.0195\n",
       "extraction_type_c_gravity           0.0182\n",
       "lga_lat                             0.0179"
      ]
     },
     "execution_count": 21,
     "metadata": {},
     "output_type": "execute_result"
    }
   ],
   "source": [
    "# feature importance\n",
    "rf_feats = pd.DataFrame(rf.feature_importances_,\n",
    "                        index = X_train_ohe.columns,\n",
    "                        columns=['feat_importance']).sort_values('feat_importance',ascending=False)\n",
    "rf_feats.head(15)"
   ]
  },
  {
   "cell_type": "markdown",
   "metadata": {},
   "source": [
    "## XGBoost\n",
    "Now we'll try to run XGBoost with Optuna."
   ]
  },
  {
   "cell_type": "code",
   "execution_count": 22,
   "metadata": {},
   "outputs": [],
   "source": [
    "import xgboost as xgb"
   ]
  },
  {
   "cell_type": "code",
   "execution_count": 24,
   "metadata": {
    "scrolled": true
   },
   "outputs": [
    {
     "name": "stderr",
     "output_type": "stream",
     "text": [
      "[I 2020-08-23 18:10:44,309] Trial 0 finished with value: 0.8176475208185494 and parameters: {'eta': 0.002066899961526538, 'max_depth': 7, 'subsample': 0.5757376665463694, 'sampling_method': 'gradient_based', 'colsample_bytree': 0.8559395623731328}. Best is trial 0 with value: 0.8176475208185494.\n",
      "[I 2020-08-23 18:14:12,831] Trial 1 finished with value: 0.84227813203974 and parameters: {'eta': 0.002490717467547169, 'max_depth': 12, 'subsample': 0.19339450088588866, 'sampling_method': 'gradient_based', 'colsample_bytree': 0.48641003240449887}. Best is trial 1 with value: 0.84227813203974.\n",
      "[I 2020-08-23 18:16:15,528] Trial 2 finished with value: 0.810678631086029 and parameters: {'eta': 0.01422864245439714, 'max_depth': 7, 'subsample': 0.1849934650470781, 'sampling_method': 'gradient_based', 'colsample_bytree': 0.46882892890374533}. Best is trial 1 with value: 0.84227813203974.\n",
      "[I 2020-08-23 18:18:02,906] Trial 3 finished with value: 0.8173296341472419 and parameters: {'eta': 0.13350623246783097, 'max_depth': 8, 'subsample': 0.28411525891527084, 'sampling_method': 'gradient_based', 'colsample_bytree': 0.27113649602753986}. Best is trial 1 with value: 0.84227813203974.\n",
      "[I 2020-08-23 18:20:19,840] Trial 4 finished with value: 0.8372873613463205 and parameters: {'eta': 0.29374497633634106, 'max_depth': 13, 'subsample': 0.1682047190150505, 'sampling_method': 'uniform', 'colsample_bytree': 0.28417617020039443}. Best is trial 1 with value: 0.84227813203974.\n",
      "[I 2020-08-23 18:21:33,277] Trial 5 finished with value: 0.81831934246662 and parameters: {'eta': 0.0024863897845063872, 'max_depth': 11, 'subsample': 0.29584311110088457, 'sampling_method': 'uniform', 'colsample_bytree': 0.11037967207437481}. Best is trial 1 with value: 0.84227813203974.\n",
      "[I 2020-08-23 18:25:10,743] Trial 6 finished with value: 0.7887600550845885 and parameters: {'eta': 0.01866101548469517, 'max_depth': 5, 'subsample': 0.5059188877954691, 'sampling_method': 'gradient_based', 'colsample_bytree': 0.7951304273110913}. Best is trial 1 with value: 0.84227813203974.\n",
      "[I 2020-08-23 18:28:16,739] Trial 7 finished with value: 0.8394905176591086 and parameters: {'eta': 0.024549161011322856, 'max_depth': 10, 'subsample': 0.4572474074532945, 'sampling_method': 'uniform', 'colsample_bytree': 0.32361606944540566}. Best is trial 1 with value: 0.84227813203974.\n",
      "[I 2020-08-23 18:30:32,544] Trial 8 finished with value: 0.8153173607595019 and parameters: {'eta': 0.060919023130184366, 'max_depth': 8, 'subsample': 0.1488911980469914, 'sampling_method': 'uniform', 'colsample_bytree': 0.5064587578320746}. Best is trial 1 with value: 0.84227813203974.\n",
      "[I 2020-08-23 18:32:53,004] Trial 9 finished with value: 0.7692424122751602 and parameters: {'eta': 0.2959651222547928, 'max_depth': 4, 'subsample': 0.7282498145638738, 'sampling_method': 'gradient_based', 'colsample_bytree': 0.6650715520082174}. Best is trial 1 with value: 0.84227813203974.\n",
      "[I 2020-08-23 18:34:20,155] Trial 10 finished with value: 0.8246500036814608 and parameters: {'eta': 0.0011864002987645782, 'max_depth': 15, 'subsample': 0.10056423833072804, 'sampling_method': 'gradient_based', 'colsample_bytree': 0.15846420204938372}. Best is trial 1 with value: 0.84227813203974.\n",
      "[I 2020-08-23 18:38:02,438] Trial 11 finished with value: 0.8444138633983369 and parameters: {'eta': 0.006722505286512194, 'max_depth': 11, 'subsample': 0.3945165408091133, 'sampling_method': 'uniform', 'colsample_bytree': 0.389373619928488}. Best is trial 11 with value: 0.8444138633983369.\n",
      "[I 2020-08-23 18:42:33,596] Trial 12 finished with value: 0.853001977984348 and parameters: {'eta': 0.0058099241095611875, 'max_depth': 15, 'subsample': 0.24413935159612157, 'sampling_method': 'uniform', 'colsample_bytree': 0.46775978072718827}. Best is trial 12 with value: 0.853001977984348.\n",
      "[I 2020-08-23 18:45:16,242] Trial 13 finished with value: 0.8489784497618071 and parameters: {'eta': 0.006403398275552192, 'max_depth': 15, 'subsample': 0.3681607529884306, 'sampling_method': 'uniform', 'colsample_bytree': 0.20128676924646846}. Best is trial 12 with value: 0.853001977984348.\n",
      "[I 2020-08-23 18:47:25,533] Trial 14 finished with value: 0.8423460069811284 and parameters: {'eta': 0.006196934826236609, 'max_depth': 15, 'subsample': 0.24410404647776981, 'sampling_method': 'uniform', 'colsample_bytree': 0.18983291000579972}. Best is trial 12 with value: 0.853001977984348.\n",
      "[I 2020-08-23 19:05:38,055] Trial 15 finished with value: 0.8558804613805208 and parameters: {'eta': 0.0057790380218066695, 'max_depth': 14, 'subsample': 0.9626562954673942, 'sampling_method': 'uniform', 'colsample_bytree': 0.20036919868049527}. Best is trial 15 with value: 0.8558804613805208.\n"
     ]
    }
   ],
   "source": [
    "def find_hyperparam(trial):\n",
    "    eta = trial.suggest_loguniform('eta', 0.001, 0.5)\n",
    "    max_depth = trial.suggest_int('max_depth', 1, 15)\n",
    "    #min_child_weight = trial.suggest_int('min_child_weight', 0, 10)\n",
    "    subsample = trial.suggest_loguniform('subsample', 0.1, 1.0)\n",
    "    sampling_method = trial.suggest_categorical('sampling_method', ['uniform', 'gradient_based'])\n",
    "    colsample_bytree = trial.suggest_loguniform('colsample_bytree', 0.1, 1.0)\n",
    "    xgbc = xgb.XGBClassifier(objective = 'multi:softmax', \n",
    "                             eta = eta, \n",
    "                             num_boost_round = 999, \n",
    "                             early_stopping_rounds=10, \n",
    "                             max_depth = max_depth, \n",
    "                             #min_child_weight = min_child_weight, \n",
    "                             subsample = subsample, \n",
    "                             sampling_method = sampling_method, \n",
    "                             colsample_bytree = colsample_bytree)\n",
    "    cv = KFold(n_splits = 5, shuffle = True, random_state = 20)\n",
    "    score = np.mean(cross_val_score(xgbc, X_train_res_scaled, y_train_res, scoring = 'balanced_accuracy', cv = cv, n_jobs = -1))\n",
    "    return (score)\n",
    "\n",
    "xgb_study = optuna.create_study(direction='maximize')\n",
    "xgb_study.optimize(find_hyperparam, timeout = 60*60, n_trials = 100)"
   ]
  },
  {
   "cell_type": "code",
   "execution_count": 26,
   "metadata": {
    "scrolled": true
   },
   "outputs": [
    {
     "name": "stdout",
     "output_type": "stream",
     "text": [
      "Test F1 score:  0.761 / Test Accuracy:  0.671\n"
     ]
    }
   ],
   "source": [
    "# fitting and testing on the test set\n",
    "\n",
    "xgbc = xgb.XGBClassifier(**xgb_study.best_params, n_jobs= -1, verbosity=1)\n",
    "\n",
    "xgbc.fit(X_train_res_scaled, y_train_res)\n",
    "y_pred = xgbc.predict(X_test_scaled)    \n",
    "scoring(y_test, y_pred)\n",
    "# Test F1 score:  0.802 / Test Accuracy:  0.664\n",
    "# functional needs repair recall = 0.31"
   ]
  },
  {
   "cell_type": "markdown",
   "metadata": {},
   "source": [
    "Top majority classes are doing so much better, but the minority class recall score dropped significantly from random forest model. We'll try to oversampling the minority classes and try again."
   ]
  },
  {
   "cell_type": "code",
   "execution_count": 27,
   "metadata": {},
   "outputs": [],
   "source": [
    "#Saving study\n",
    "#mod = open('PKL/xgb_study.pkl', 'wb')\n",
    "#pickle.dump(xgb_study, mod)\n",
    "#mod.close()\n",
    "# Reload the study\n",
    "#xgb_study = pickle.load(open('PKL/xgb_study.pkl', 'rb'))"
   ]
  },
  {
   "cell_type": "code",
   "execution_count": 28,
   "metadata": {},
   "outputs": [],
   "source": [
    "# saving model\n",
    "#mod = open('PKL/xgbc_model.pkl', 'wb')\n",
    "#pickle.dump(xgbc, mod)\n",
    "#mod.close()"
   ]
  },
  {
   "cell_type": "code",
   "execution_count": 45,
   "metadata": {},
   "outputs": [],
   "source": [
    "#xgbc_model = pickle.load(open('PKL/xgbc_model.pkl', 'rb'))"
   ]
  },
  {
   "cell_type": "markdown",
   "metadata": {},
   "source": [
    "## Voting Classifier\n",
    "Now I will try to run a voting classifier using some of the above models. Since many of the models did better with with minority classes oversampled, I will use oversampled data for voting."
   ]
  },
  {
   "cell_type": "code",
   "execution_count": 56,
   "metadata": {},
   "outputs": [
    {
     "data": {
      "text/plain": [
       "VotingClassifier(estimators=[('knc_g',\n",
       "                              KNeighborsClassifier(n_neighbors=3,\n",
       "                                                   weights='distance')),\n",
       "                             ('knc_study',\n",
       "                              KNeighborsClassifier(algorithm='kd_tree',\n",
       "                                                   leaf_size=12, n_neighbors=17,\n",
       "                                                   p=1, weights='distance')),\n",
       "                             ('knnSimple', KNeighborsClassifier(n_jobs=-1)),\n",
       "                             ('knnOptuna',\n",
       "                              KNeighborsClassifier(algorithm='kd_tree',\n",
       "                                                   leaf_size=25, n_neighbors=6,\n",
       "                                                   p=1)),\n",
       "                             ('dtcSimple',\n",
       "                              Dec...\n",
       "                              RandomForestClassifier(class_weight='balanced_subsample',\n",
       "                                                     criterion='entropy',\n",
       "                                                     max_depth=10,\n",
       "                                                     max_features=38,\n",
       "                                                     n_estimators=643,\n",
       "                                                     oob_score=True)),\n",
       "                             ('xgbc_model',\n",
       "                              XGBClassifier(colsample_bytree=0.20036919868049527,\n",
       "                                            eta=0.0057790380218066695,\n",
       "                                            max_depth=14, missing=nan,\n",
       "                                            n_jobs=-1,\n",
       "                                            objective='multi:softprob',\n",
       "                                            sampling_method='uniform',\n",
       "                                            subsample=0.9626562954673942))],\n",
       "                 n_jobs=-1)"
      ]
     },
     "execution_count": 56,
     "metadata": {},
     "output_type": "execute_result"
    }
   ],
   "source": [
    "from sklearn.ensemble import VotingClassifier\n",
    "\n",
    "voting_c_all = VotingClassifier(estimators = [('knc_g', knc_g), \n",
    "                                          ('knc_study', knc_study), \n",
    "                                          ('knnSimple', knnSimple),\n",
    "                                          ('knnOptuna', knnOptuna),\n",
    "                                          ('dtcSimple', dtcSimple),\n",
    "                                          ('rf_model', rf_model),\n",
    "                                          ('xgbc_model', xgbc_model)\n",
    "                                         ], \n",
    "                            voting = 'hard', \n",
    "                           n_jobs = -1)\n",
    "voting_c_all.fit(X_train_res_scaled, y_train_res)"
   ]
  },
  {
   "cell_type": "code",
   "execution_count": 57,
   "metadata": {},
   "outputs": [
    {
     "name": "stdout",
     "output_type": "stream",
     "text": [
      "Test F1 score:  0.756 / Test Accuracy:  0.66\n",
      "                         precision    recall  f1-score   support\n",
      "\n",
      "             functional       0.79      0.82      0.81      4822\n",
      "functional needs repair       0.35      0.44      0.39       678\n",
      "         non functional       0.81      0.71      0.76      3410\n",
      "\n",
      "               accuracy                           0.75      8910\n",
      "              macro avg       0.65      0.66      0.65      8910\n",
      "           weighted avg       0.76      0.75      0.76      8910\n",
      "\n"
     ]
    }
   ],
   "source": [
    "y_pred = voting_c_all.predict(X_test_scaled)    \n",
    "scoring(y_test, y_pred)\n",
    "\n",
    "print(classification_report(y_test, y_pred))\n",
    "# Test F1 score:  0.77 / Test Accuracy:  0.671\n",
    "# functional needs repair recall = 0.43"
   ]
  },
  {
   "cell_type": "markdown",
   "metadata": {},
   "source": [
    "Overall performance did not improve compare to random fores."
   ]
  },
  {
   "cell_type": "code",
   "execution_count": 58,
   "metadata": {},
   "outputs": [],
   "source": [
    "# save model\n",
    "mod = open('PKL/voting_equal_full.pkl', 'wb')\n",
    "pickle.dump(voting_c_all, mod)\n",
    "mod.close()"
   ]
  },
  {
   "cell_type": "code",
   "execution_count": 14,
   "metadata": {},
   "outputs": [],
   "source": [
    "# Reload the model\n",
    "#voting_c_all = pickle.load(open('PKL/voting_equal_full.pkl', 'rb'))"
   ]
  },
  {
   "cell_type": "markdown",
   "metadata": {},
   "source": [
    "## Logistic Regression with Lasso Regularization\n",
    "Lastly we will look at running logistic regression with lasso penalty."
   ]
  },
  {
   "cell_type": "code",
   "execution_count": 59,
   "metadata": {},
   "outputs": [],
   "source": [
    "from sklearn.linear_model import Lasso, LogisticRegression"
   ]
  },
  {
   "cell_type": "code",
   "execution_count": 60,
   "metadata": {},
   "outputs": [],
   "source": [
    "LogRegLasso = LogisticRegression(penalty = 'l1', \n",
    "                                 tol = 0.0001, \n",
    "                                 C = 1, \n",
    "                                 solver='liblinear', \n",
    "                                 class_weight = 'balanced', \n",
    "                                 max_iter = 300)"
   ]
  },
  {
   "cell_type": "code",
   "execution_count": 61,
   "metadata": {},
   "outputs": [
    {
     "name": "stdout",
     "output_type": "stream",
     "text": [
      "Test F1 score:  0.313 / Test Accuracy:  0.553\n",
      "                         precision    recall  f1-score   support\n",
      "\n",
      "             functional       0.97      0.05      0.09      4822\n",
      "functional needs repair       0.15      0.84      0.25       678\n",
      "         non functional       0.55      0.78      0.64      3410\n",
      "\n",
      "               accuracy                           0.39      8910\n",
      "              macro avg       0.56      0.55      0.33      8910\n",
      "           weighted avg       0.75      0.39      0.31      8910\n",
      "\n"
     ]
    }
   ],
   "source": [
    "LogRegLasso.fit(X_train_res_scaled, y_train_res)\n",
    "y_pred_lasso = LogRegLasso.predict(X_test_scaled)\n",
    "scoring(y_test, y_pred_lasso)\n",
    "print(classification_report(y_test, y_pred_lasso))\n",
    "# Test F1 score:  0.68 / Test Accuracy:  0.695\n",
    "# functional needs repair recall = 0.71"
   ]
  },
  {
   "cell_type": "code",
   "execution_count": 62,
   "metadata": {},
   "outputs": [],
   "source": [
    "# saving model\n",
    "mod = open('PKL/LogRegLasso.pkl', 'wb')\n",
    "pickle.dump(LogRegLasso, mod)\n",
    "mod.close()"
   ]
  },
  {
   "cell_type": "markdown",
   "metadata": {},
   "source": [
    "## Final Voting with Logistic Regression\n",
    "We will run the hard vote with logistic regression included."
   ]
  },
  {
   "cell_type": "code",
   "execution_count": 63,
   "metadata": {},
   "outputs": [
    {
     "data": {
      "text/plain": [
       "VotingClassifier(estimators=[('knc_g',\n",
       "                              KNeighborsClassifier(n_neighbors=3,\n",
       "                                                   weights='distance')),\n",
       "                             ('knc_study',\n",
       "                              KNeighborsClassifier(algorithm='kd_tree',\n",
       "                                                   leaf_size=12, n_neighbors=17,\n",
       "                                                   p=1, weights='distance')),\n",
       "                             ('knnSimple', KNeighborsClassifier(n_jobs=-1)),\n",
       "                             ('knnOptuna',\n",
       "                              KNeighborsClassifier(algorithm='kd_tree',\n",
       "                                                   leaf_size=25, n_neighbors=6,\n",
       "                                                   p=1)),\n",
       "                             ('dtcSimple',\n",
       "                              Dec...\n",
       "                                                     n_estimators=643,\n",
       "                                                     oob_score=True)),\n",
       "                             ('xgbc_model',\n",
       "                              XGBClassifier(colsample_bytree=0.20036919868049527,\n",
       "                                            eta=0.0057790380218066695,\n",
       "                                            max_depth=14, missing=nan,\n",
       "                                            n_jobs=-1,\n",
       "                                            objective='multi:softprob',\n",
       "                                            sampling_method='uniform',\n",
       "                                            subsample=0.9626562954673942)),\n",
       "                             ('LogRegLasso',\n",
       "                              LogisticRegression(C=1, class_weight='balanced',\n",
       "                                                 max_iter=300, penalty='l1',\n",
       "                                                 solver='liblinear'))],\n",
       "                 n_jobs=-1)"
      ]
     },
     "execution_count": 63,
     "metadata": {},
     "output_type": "execute_result"
    }
   ],
   "source": [
    "from sklearn.ensemble import VotingClassifier\n",
    "\n",
    "voting_c_all2 = VotingClassifier(estimators = [('knc_g', knc_g), \n",
    "                                          ('knc_study', knc_study), \n",
    "                                          ('knnSimple', knnSimple),\n",
    "                                          ('knnOptuna', knnOptuna),\n",
    "                                          ('dtcSimple', dtcSimple),\n",
    "                                          ('rf_model', rf_model),\n",
    "                                          ('xgbc_model', xgbc_model),\n",
    "                                          ('LogRegLasso', LogRegLasso),\n",
    "                                         ], \n",
    "                            voting = 'hard', \n",
    "                           n_jobs = -1)\n",
    "voting_c_all2.fit(X_train_res_scaled, y_train_res)"
   ]
  },
  {
   "cell_type": "code",
   "execution_count": 64,
   "metadata": {},
   "outputs": [
    {
     "name": "stdout",
     "output_type": "stream",
     "text": [
      "Test F1 score:  0.756 / Test Accuracy:  0.669\n",
      "                         precision    recall  f1-score   support\n",
      "\n",
      "             functional       0.79      0.81      0.80      4822\n",
      "functional needs repair       0.35      0.47      0.40       678\n",
      "         non functional       0.81      0.72      0.76      3410\n",
      "\n",
      "               accuracy                           0.75      8910\n",
      "              macro avg       0.65      0.67      0.65      8910\n",
      "           weighted avg       0.76      0.75      0.76      8910\n",
      "\n"
     ]
    }
   ],
   "source": [
    "y_pred = voting_c_all2.predict(X_test_scaled)    \n",
    "scoring(y_test, y_pred)\n",
    "\n",
    "print(classification_report(y_test, y_pred))"
   ]
  },
  {
   "cell_type": "code",
   "execution_count": 65,
   "metadata": {},
   "outputs": [],
   "source": [
    "mod = open('PKL/voting_equal_full2.pkl', 'wb')\n",
    "pickle.dump(voting_c_all2, mod)\n",
    "mod.close()"
   ]
  },
  {
   "cell_type": "code",
   "execution_count": null,
   "metadata": {},
   "outputs": [],
   "source": []
  }
 ],
 "metadata": {
  "kernelspec": {
   "display_name": "Python 3",
   "language": "python",
   "name": "python3"
  }
 },
 "nbformat": 4,
 "nbformat_minor": 4
}
