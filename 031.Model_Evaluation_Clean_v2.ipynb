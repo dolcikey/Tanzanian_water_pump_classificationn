{
 "cells": [
  {
   "cell_type": "markdown",
   "metadata": {},
   "source": [
    "# Model Evaluation\n",
    "\n",
    "In this notebook, we will test multiple model and evaluate to choose the best one."
   ]
  },
  {
   "cell_type": "code",
   "execution_count": 26,
   "metadata": {
    "scrolled": true
   },
   "outputs": [],
   "source": [
    "import pandas as pd\n",
    "import numpy as np\n",
    "import matplotlib.pyplot as plt\n",
    "%matplotlib inline\n",
    "\n",
    "import pickle\n",
    "\n",
    "from sklearn.tree import DecisionTreeClassifier\n",
    "from sklearn.model_selection import train_test_split\n",
    "\n",
    "pd.set_option('precision', 4)\n",
    "pd.options.display.max_seq_items = None\n",
    "pd.options.display.max_columns = 50"
   ]
  },
  {
   "cell_type": "code",
   "execution_count": 27,
   "metadata": {},
   "outputs": [],
   "source": [
    "# Importing data\n",
    "X = pd.read_pickle('PKL/X_train.pkl')\n",
    "y = pd.read_pickle('PKL/Y_train.pkl')"
   ]
  },
  {
   "cell_type": "markdown",
   "metadata": {},
   "source": [
    "## Train/Test Split\n",
    "We will split the train data once more. It's because this is a competition dataset and we actually don't have the 'test' score result. So we will use the test set we created from the initial training set as a holdout set to actually see our performance of the final model. The final test set, which we don't have the labels for, will be used to make a prediction in the final testing notebook. "
   ]
  },
  {
   "cell_type": "code",
   "execution_count": 28,
   "metadata": {},
   "outputs": [],
   "source": [
    "X_train, X_test, y_train, y_test = train_test_split(X, y, random_state = 13, test_size = 0.2)"
   ]
  },
  {
   "cell_type": "markdown",
   "metadata": {},
   "source": [
    "## Preprocessing\n",
    "We will be utilizing mostly KNN and tree-based algorithms. We will first turn categorical features to binary dummies."
   ]
  },
  {
   "cell_type": "code",
   "execution_count": 29,
   "metadata": {},
   "outputs": [],
   "source": [
    "# Turning all categorical features to dummies \n",
    "X_train = pd.get_dummies(X_train)\n",
    "X_test = pd.get_dummies(X_test)"
   ]
  },
  {
   "cell_type": "code",
   "execution_count": 30,
   "metadata": {},
   "outputs": [
    {
     "name": "stdout",
     "output_type": "stream",
     "text": [
      "Good to go\n"
     ]
    }
   ],
   "source": [
    "# Check if training and testing sets have the same features\n",
    "if X_train.shape[1] != X_test.shape[1]:\n",
    "    print('only in train:', [x for x in X_train.columns if x not in X_test.columns])\n",
    "    print('only in test:',[x for x in X_test.columns if x not in X_train.columns])\n",
    "else: \n",
    "    print ('Good to go')"
   ]
  },
  {
   "cell_type": "code",
   "execution_count": 9,
   "metadata": {},
   "outputs": [],
   "source": [
    "# If they are not the same, add the column with 0s and fix the order\n",
    "# X_test[colname] = 0\n",
    "# X_test = X_test[X_train.columns]"
   ]
  },
  {
   "cell_type": "markdown",
   "metadata": {},
   "source": [
    "## Class Imbalance Issue\n",
    "Our dataset has high class imbalance issue. We will mostly deal with this by setting the class weight within each model, but in some cases where imbalance weight is not adequately dealt with by algorithm we test with resampled set using SMOTE."
   ]
  },
  {
   "cell_type": "code",
   "execution_count": 31,
   "metadata": {},
   "outputs": [],
   "source": [
    "from imblearn.over_sampling import SMOTE"
   ]
  },
  {
   "cell_type": "code",
   "execution_count": 32,
   "metadata": {
    "pycharm": {
     "is_executing": true
    }
   },
   "outputs": [],
   "source": [
    "smote = SMOTE()\n",
    "X_train, y_train = smote.fit_sample(X_train, y_train)"
   ]
  },
  {
   "cell_type": "markdown",
   "metadata": {},
   "source": [
    "## Evaluation Metrics\n",
    "Our target is multi-class with imbalance issue. To focus on the imbalance of minority classes, we will also look at the macro f1 score to capture the predictive performance for overall classes. It calculates the f1 score for each class and find the average so naturally take class imbalance into account."
   ]
  },
  {
   "cell_type": "code",
   "execution_count": 33,
   "metadata": {},
   "outputs": [],
   "source": [
    "from sklearn.metrics import cohen_kappa_score, f1_score, accuracy_score, plot_confusion_matrix, classification_report"
   ]
  },
  {
   "cell_type": "markdown",
   "metadata": {},
   "source": [
    "## Feature Selection\n",
    "To optimize the process, I will subset features based on a few random decision trees."
   ]
  },
  {
   "cell_type": "code",
   "execution_count": 34,
   "metadata": {
    "pycharm": {
     "name": "#%%\n"
    }
   },
   "outputs": [
    {
     "data": {
      "text/plain": [
       "440"
      ]
     },
     "execution_count": 34,
     "metadata": {},
     "output_type": "execute_result"
    }
   ],
   "source": [
    "original_feats = X_train.columns\n",
    "len(original_feats)"
   ]
  },
  {
   "cell_type": "code",
   "execution_count": 35,
   "metadata": {},
   "outputs": [],
   "source": [
    "from sklearn.ensemble import ExtraTreesClassifier\n",
    "from sklearn.feature_selection import SelectFromModel"
   ]
  },
  {
   "cell_type": "code",
   "execution_count": 36,
   "metadata": {
    "pycharm": {
     "name": "#%%\n"
    }
   },
   "outputs": [],
   "source": [
    "etc = ExtraTreesClassifier(n_estimators=100, n_jobs=-1, class_weight='balanced', random_state = 23)\n",
    "etc = etc.fit(X_train, y_train)\n",
    "model = SelectFromModel(etc, prefit=True, threshold = 1e-4)"
   ]
  },
  {
   "cell_type": "code",
   "execution_count": 37,
   "metadata": {},
   "outputs": [],
   "source": [
    "X_train_new = model.transform(X_train)\n",
    "new_feats = original_feats[model.get_support()]"
   ]
  },
  {
   "cell_type": "code",
   "execution_count": 38,
   "metadata": {},
   "outputs": [
    {
     "data": {
      "text/plain": [
       "393"
      ]
     },
     "execution_count": 38,
     "metadata": {},
     "output_type": "execute_result"
    }
   ],
   "source": [
    "len(new_feats)"
   ]
  },
  {
   "cell_type": "code",
   "execution_count": 39,
   "metadata": {},
   "outputs": [],
   "source": [
    "X_test_new = model.transform(X_test)"
   ]
  },
  {
   "cell_type": "code",
   "execution_count": 40,
   "metadata": {},
   "outputs": [],
   "source": [
    "X_train = X_train_new\n",
    "X_test = X_test_new"
   ]
  },
  {
   "cell_type": "markdown",
   "metadata": {},
   "source": [
    "### Standardization\n",
    "Since we will be testing kNN, all feature values need to be standardized."
   ]
  },
  {
   "cell_type": "code",
   "execution_count": 41,
   "metadata": {},
   "outputs": [],
   "source": [
    "from sklearn.preprocessing import StandardScaler"
   ]
  },
  {
   "cell_type": "code",
   "execution_count": 42,
   "metadata": {},
   "outputs": [],
   "source": [
    "scale = StandardScaler()\n",
    "X_train = scale.fit_transform(X_train)\n",
    "X_test= scale.transform(X_test)"
   ]
  },
  {
   "cell_type": "code",
   "execution_count": 43,
   "metadata": {},
   "outputs": [],
   "source": [
    "# Save out train/validation \n",
    "mod = open('PKL/new_feats.pkl', 'wb')\n",
    "pickle.dump(new_feats, mod)\n",
    "mod.close()\n",
    "\n",
    "mod = open('PKL/TRAIN_X_train.pkl', 'wb')\n",
    "pickle.dump(X_train, mod)\n",
    "mod.close()\n",
    "\n",
    "mod = open('PKL/TRAIN_X_test.pkl', 'wb')\n",
    "pickle.dump(X_test, mod)\n",
    "mod.close()\n",
    "\n",
    "mod = open('PKL/TRAIN_Y_train.pkl', 'wb')\n",
    "pickle.dump(y_train, mod)\n",
    "mod.close()\n",
    "\n",
    "mod = open('PKL/TRAIN_Y_test.pkl', 'wb')\n",
    "pickle.dump(y_test, mod)\n",
    "mod.close()"
   ]
  },
  {
   "cell_type": "code",
   "execution_count": 2,
   "metadata": {},
   "outputs": [],
   "source": [
    "# reload\n",
    "X_train = pickle.load(open('PKL/TRAIN_X_train.pkl', 'rb'))\n",
    "X_test = pickle.load(open('PKL/TRAIN_X_test.pkl', 'rb'))\n",
    "y_train = pickle.load(open('PKL/TRAIN_Y_train.pkl', 'rb'))\n",
    "y_test = pickle.load(open('PKL/TRAIN_Y_test.pkl', 'rb'))"
   ]
  },
  {
   "cell_type": "markdown",
   "metadata": {},
   "source": [
    "## Dummy Classifier\n",
    "We'll first create a dummy classifier as a baseline score."
   ]
  },
  {
   "cell_type": "code",
   "execution_count": 44,
   "metadata": {},
   "outputs": [],
   "source": [
    "scorer = {}"
   ]
  },
  {
   "cell_type": "code",
   "execution_count": 45,
   "metadata": {},
   "outputs": [],
   "source": [
    "from sklearn.dummy import DummyClassifier"
   ]
  },
  {
   "cell_type": "code",
   "execution_count": 46,
   "metadata": {
    "pycharm": {
     "name": "#%%\n"
    }
   },
   "outputs": [
    {
     "name": "stdout",
     "output_type": "stream",
     "text": [
      "Accuracy:  0.33 Test F1 score:  0.294 / Cohen Kappa:  -0.006\n"
     ]
    }
   ],
   "source": [
    "dummyc = DummyClassifier(strategy = 'stratified') # using the default stratified strategy\n",
    "dummyc.fit(X_train, y_train)\n",
    "y_pred = dummyc.predict(X_test)\n",
    "\n",
    "accuracy = round(accuracy_score(y_test, y_pred), 3)\n",
    "f1_test = round(f1_score(y_test, y_pred, average = 'macro'), 3)\n",
    "ck_test = round(cohen_kappa_score(y_test, y_pred), 3)\n",
    "print('Accuracy: ', accuracy, 'Test F1 score: ', f1_test, '/ Cohen Kappa: ', ck_test)\n",
    "scorer['dummy'] = (accuracy, f1_test, ck_test)"
   ]
  },
  {
   "cell_type": "code",
   "execution_count": 47,
   "metadata": {},
   "outputs": [
    {
     "name": "stdout",
     "output_type": "stream",
     "text": [
      "                         precision    recall  f1-score   support\n",
      "\n",
      "             functional       0.54      0.33      0.41      4822\n",
      "functional needs repair       0.07      0.32      0.12       678\n",
      "         non functional       0.38      0.33      0.35      3410\n",
      "\n",
      "               accuracy                           0.33      8910\n",
      "              macro avg       0.33      0.33      0.29      8910\n",
      "           weighted avg       0.44      0.33      0.37      8910\n",
      "\n"
     ]
    },
    {
     "data": {
      "image/png": "[encoded data removed]",
      "text/plain": [
       "<Figure size 432x288 with 2 Axes>"
      ]
     },
     "metadata": {
      "needs_background": "light"
     },
     "output_type": "display_data"
    }
   ],
   "source": [
    "plot_confusion_matrix(dummyc, X_test, y_test, xticks_rotation = 'vertical', cmap = plt.cm.Blues)\n",
    "print(classification_report(y_test, y_pred))"
   ]
  },
  {
   "cell_type": "markdown",
   "metadata": {},
   "source": [
    "Our stratified dummy classifier shows the weighted F1 score around .45 and less balanced accuracy. Dummy classifier is consistently wrong on all cases but recall for minority classes are especially bad.\n"
   ]
  },
  {
   "cell_type": "markdown",
   "metadata": {},
   "source": [
    "## kNearestNeighbors\n",
    "Now we will run K-Nearest Neighbors using GridSearchCV. "
   ]
  },
  {
   "cell_type": "markdown",
   "metadata": {},
   "source": [
    "### Scoring Function\n",
    "Function to return weighted F1 and balanced accuracy score"
   ]
  },
  {
   "cell_type": "code",
   "execution_count": 48,
   "metadata": {},
   "outputs": [],
   "source": [
    "def scoring(y_test, y_pred, text, scorer = scorer):\n",
    "    accuracy = round(accuracy_score(y_test, y_pred), 3)\n",
    "    f1_test = round(f1_score(y_test, y_pred, average = 'macro'), 3)\n",
    "    ck_test = round(cohen_kappa_score(y_test, y_pred), 3)\n",
    "    print('Accuracy: ', accuracy, 'Test F1 score: ', f1_test, '/ Cohen Kappa: ', ck_test)\n",
    "    scorer[text] = (accuracy, f1_test, ck_test)\n",
    "    return scorer"
   ]
  },
  {
   "cell_type": "markdown",
   "metadata": {},
   "source": [
    "### kNN with GridSearchCV"
   ]
  },
  {
   "cell_type": "markdown",
   "metadata": {},
   "source": [
    "Finding the optimal value for K using GridSearchCV."
   ]
  },
  {
   "cell_type": "code",
   "execution_count": 14,
   "metadata": {},
   "outputs": [],
   "source": [
    "from sklearn.neighbors import KNeighborsClassifier\n",
    "from sklearn.model_selection import GridSearchCV"
   ]
  },
  {
   "cell_type": "code",
   "execution_count": 102,
   "metadata": {
    "scrolled": true
   },
   "outputs": [
    {
     "name": "stdout",
     "output_type": "stream",
     "text": [
      "Fitting 5 folds for each of 8 candidates, totalling 40 fits\n"
     ]
    },
    {
     "name": "stderr",
     "output_type": "stream",
     "text": [
      "[Parallel(n_jobs=-1)]: Using backend LokyBackend with 8 concurrent workers.\n",
      "[Parallel(n_jobs=-1)]: Done  40 out of  40 | elapsed: 26.2min finished\n"
     ]
    },
    {
     "name": "stdout",
     "output_type": "stream",
     "text": [
      "{'n_neighbors': 3} :  0.8045265348595214\n"
     ]
    }
   ],
   "source": [
    "params = {\n",
    "    'n_neighbors': range(1, 16, 2), # setting K\n",
    "}\n",
    "\n",
    "knc = KNeighborsClassifier(weights = 'distance') \n",
    "knc_g = GridSearchCV(knc, params, cv = 5, scoring = 'accuracy', verbose = 1, n_jobs = -1)\n",
    "knc_g.fit(X_train, y_train)\n",
    "print(knc_g.best_params_, ': ', knc_g.best_score_)"
   ]
  },
  {
   "cell_type": "code",
   "execution_count": 103,
   "metadata": {},
   "outputs": [
    {
     "name": "stdout",
     "output_type": "stream",
     "text": [
      "Accuracy:  0.745 Test F1 score:  0.633 / Cohen Kappa:  0.541\n",
      "                         precision    recall  f1-score   support\n",
      "\n",
      "             functional       0.80      0.79      0.80      4822\n",
      "functional needs repair       0.35      0.36      0.35       678\n",
      "         non functional       0.75      0.75      0.75      3410\n",
      "\n",
      "               accuracy                           0.75      8910\n",
      "              macro avg       0.63      0.63      0.63      8910\n",
      "           weighted avg       0.75      0.75      0.75      8910\n",
      "\n"
     ]
    }
   ],
   "source": [
    "# KNN performance on the test set\n",
    "y_pred = knc_g.predict(X_test)\n",
    "scoring(y_test, y_pred, 'knn gridsearch')\n",
    "print(classification_report(y_test, y_pred))\n",
    "# Accuracy:  0.745 Test F1 score:  0.633 / Cohen Kappa:  0.541\n",
    "# Recall for functional needs repair: 0.36"
   ]
  },
  {
   "cell_type": "code",
   "execution_count": 104,
   "metadata": {},
   "outputs": [],
   "source": [
    "# saving the model \n",
    "mod = open('PKL/knn_gsc.pkl', 'wb')\n",
    "pickle.dump(knc_g.best_estimator_, mod)\n",
    "mod.close()"
   ]
  },
  {
   "cell_type": "code",
   "execution_count": null,
   "metadata": {},
   "outputs": [],
   "source": [
    "# Reload the model\n",
    "#knc_g = pickle.load(open('PKL/knn_gsc.pkl', 'rb'))"
   ]
  },
  {
   "cell_type": "markdown",
   "metadata": {},
   "source": [
    "### kNN with Optuna\n",
    "Now we want to try different optimization method to make sure we have the best hyperparmeter for KNN. This time we'll use optuna to explore even more hyperparameters. We'll cap the time to what it took to be same as the time it took to complete GridSearch above."
   ]
  },
  {
   "cell_type": "code",
   "execution_count": 49,
   "metadata": {},
   "outputs": [],
   "source": [
    "import optuna\n",
    "from sklearn.model_selection import KFold\n",
    "from sklearn.model_selection import cross_val_score"
   ]
  },
  {
   "cell_type": "code",
   "execution_count": 51,
   "metadata": {
    "scrolled": true
   },
   "outputs": [],
   "source": [
    "def find_hyperp_KNN(trial):\n",
    "    n_neighbors = trial.suggest_int('n_neighbors', 1, 31)\n",
    "    algorithm = trial.suggest_categorical('algorithm', ['ball_tree', 'kd_tree'])\n",
    "    #leaf_size = trial.suggest_int('leaf_size', 2, 60)\n",
    "    p = trial.suggest_categorical('p', [1, 2])\n",
    "    knc = KNeighborsClassifier(weights = 'distance', \n",
    "                             n_neighbors = n_neighbors, \n",
    "                             algorithm = algorithm, \n",
    "                             #leaf_size = leaf_size, \n",
    "                             p = p)\n",
    "    cv = KFold(n_splits = 5, shuffle = True, random_state = 20)\n",
    "    score = np.mean(cross_val_score(knc, X_train, y_train, scoring = 'accuracy', cv = cv, n_jobs = -1))\n",
    "    return (score)\n",
    "\n",
    "# initiating the optuna study\n",
    "#knn_study = optuna.create_study(direction='maximize')\n",
    "\n",
    "# optimization process\n",
    "#knn_study.optimize(find_hyperp_KNN, n_trials=1)"
   ]
  },
  {
   "cell_type": "code",
   "execution_count": null,
   "metadata": {},
   "outputs": [],
   "source": [
    "# saving the study \n",
    "mod = open('PKL/knn_study.pkl', 'wb')\n",
    "pickle.dump(knn_study, mod)\n",
    "mod.close()"
   ]
  },
  {
   "cell_type": "code",
   "execution_count": 50,
   "metadata": {},
   "outputs": [],
   "source": [
    "# Reload the study\n",
    "knn_study = pickle.load(open('PKL/knn_study.pkl', 'rb'))"
   ]
  },
  {
   "cell_type": "code",
   "execution_count": 51,
   "metadata": {},
   "outputs": [
    {
     "name": "stdout",
     "output_type": "stream",
     "text": [
      "Accuracy:  0.752 Test F1 score:  0.641 / Cohen Kappa:  0.553\n",
      "                         precision    recall  f1-score   support\n",
      "\n",
      "             functional       0.80      0.80      0.80      4822\n",
      "functional needs repair       0.36      0.36      0.36       678\n",
      "         non functional       0.76      0.76      0.76      3410\n",
      "\n",
      "               accuracy                           0.75      8910\n",
      "              macro avg       0.64      0.64      0.64      8910\n",
      "           weighted avg       0.75      0.75      0.75      8910\n",
      "\n"
     ]
    }
   ],
   "source": [
    "# Testing the best params on the test set\n",
    "knc_opt = KNeighborsClassifier(**knn_study.best_params, weights = 'distance', n_jobs = -1)\n",
    "knc_opt.fit(X_train, y_train)\n",
    "\n",
    "y_pred = knc_opt.predict(X_test)\n",
    "scoring(y_test, y_pred, 'knn optuna')\n",
    "print(classification_report(y_test, y_pred))\n",
    "# Accuracy:  0.752 Test F1 score:  0.641 / Cohen Kappa:  0.553\n",
    "# functional needs repair recall = 0.36"
   ]
  },
  {
   "cell_type": "markdown",
   "metadata": {},
   "source": [
    "Recall score for the needs repair class is still low but the overall performance and the recall for non-functional improved slightly."
   ]
  },
  {
   "cell_type": "code",
   "execution_count": 52,
   "metadata": {},
   "outputs": [],
   "source": [
    "# saving the model\n",
    "mod = open('PKL/knc_opt_model.pkl', 'wb')\n",
    "pickle.dump(knc_opt, mod)\n",
    "mod.close()"
   ]
  },
  {
   "cell_type": "code",
   "execution_count": 17,
   "metadata": {},
   "outputs": [],
   "source": [
    "knc_study = pickle.load(open('PKL/knc_opt_model.pkl', 'rb'))"
   ]
  },
  {
   "cell_type": "markdown",
   "metadata": {},
   "source": [
    "## Random Forest \n",
    "We will run random forest optimized by Optuna."
   ]
  },
  {
   "cell_type": "code",
   "execution_count": 53,
   "metadata": {},
   "outputs": [],
   "source": [
    "from sklearn.ensemble import RandomForestClassifier"
   ]
  },
  {
   "cell_type": "code",
   "execution_count": 21,
   "metadata": {
    "scrolled": true
   },
   "outputs": [
    {
     "name": "stderr",
     "output_type": "stream",
     "text": [
      "[I 2020-08-29 11:10:01,548] Trial 155 finished with value: 0.7715574054804023 and parameters: {'n_estimators': 656, 'min_samples_split': 3, 'min_samples_leaf': 1, 'criterion': 'gini', 'class_weight': 'balanced_subsample', 'max_features': 171, 'min_weight_fraction_leaf': 2.5986003060716383e-06, 'max_leaf_nodes': 156}. Best is trial 155 with value: 0.7715574054804023.\n",
      "[I 2020-08-29 11:48:28,830] Trial 156 finished with value: 0.7710718002081165 and parameters: {'n_estimators': 655, 'min_samples_split': 3, 'min_samples_leaf': 1, 'criterion': 'gini', 'class_weight': 'balanced_subsample', 'max_features': 174, 'min_weight_fraction_leaf': 2.421247637383259e-06, 'max_leaf_nodes': 155}. Best is trial 155 with value: 0.7715574054804023.\n",
      "[I 2020-08-29 12:34:57,943] Trial 157 finished with value: 0.7709503988900451 and parameters: {'n_estimators': 652, 'min_samples_split': 3, 'min_samples_leaf': 1, 'criterion': 'gini', 'class_weight': 'balanced_subsample', 'max_features': 212, 'min_weight_fraction_leaf': 2.69286762938686e-06, 'max_leaf_nodes': 155}. Best is trial 155 with value: 0.7715574054804023.\n",
      "[I 2020-08-29 13:17:59,356] Trial 158 finished with value: 0.7625737079431149 and parameters: {'n_estimators': 653, 'min_samples_split': 3, 'min_samples_leaf': 2, 'criterion': 'gini', 'class_weight': 'balanced_subsample', 'max_features': 208, 'min_weight_fraction_leaf': 2.4101933629703963e-07, 'max_leaf_nodes': 132}. Best is trial 155 with value: 0.7715574054804023.\n",
      "[I 2020-08-29 14:00:17,185] Trial 159 finished with value: 0.7700312174817897 and parameters: {'n_estimators': 625, 'min_samples_split': 3, 'min_samples_leaf': 2, 'criterion': 'gini', 'class_weight': 'balanced_subsample', 'max_features': 218, 'min_weight_fraction_leaf': 6.096217876718951e-06, 'max_leaf_nodes': 154}. Best is trial 155 with value: 0.7715574054804023.\n",
      "[I 2020-08-29 14:31:48,464] Trial 160 finished with value: 0.7702219909816164 and parameters: {'n_estimators': 652, 'min_samples_split': 3, 'min_samples_leaf': 2, 'criterion': 'gini', 'class_weight': 'balanced_subsample', 'max_features': 216, 'min_weight_fraction_leaf': 3.0996045213640193e-06, 'max_leaf_nodes': 154}. Best is trial 155 with value: 0.7715574054804023.\n",
      "[I 2020-08-29 15:05:32,416] Trial 161 finished with value: 0.7693374956642387 and parameters: {'n_estimators': 650, 'min_samples_split': 3, 'min_samples_leaf': 2, 'criterion': 'gini', 'class_weight': 'balanced_subsample', 'max_features': 223, 'min_weight_fraction_leaf': 5.353932964199977e-06, 'max_leaf_nodes': 154}. Best is trial 155 with value: 0.7715574054804023.\n",
      "[I 2020-08-29 15:49:08,568] Trial 162 finished with value: 0.7697016996184529 and parameters: {'n_estimators': 610, 'min_samples_split': 3, 'min_samples_leaf': 2, 'criterion': 'gini', 'class_weight': 'balanced_subsample', 'max_features': 229, 'min_weight_fraction_leaf': 7.402882193808951e-06, 'max_leaf_nodes': 156}. Best is trial 155 with value: 0.7715574054804023.\n",
      "[I 2020-08-29 16:41:46,889] Trial 163 finished with value: 0.7707596253902185 and parameters: {'n_estimators': 634, 'min_samples_split': 3, 'min_samples_leaf': 2, 'criterion': 'gini', 'class_weight': 'balanced_subsample', 'max_features': 216, 'min_weight_fraction_leaf': 6.346371596484581e-06, 'max_leaf_nodes': 156}. Best is trial 155 with value: 0.7715574054804023.\n",
      "[I 2020-08-29 17:30:01,673] Trial 164 finished with value: 0.7706208810267082 and parameters: {'n_estimators': 614, 'min_samples_split': 3, 'min_samples_leaf': 2, 'criterion': 'gini', 'class_weight': 'balanced_subsample', 'max_features': 221, 'min_weight_fraction_leaf': 8.595334746941946e-06, 'max_leaf_nodes': 157}. Best is trial 155 with value: 0.7715574054804023.\n"
     ]
    }
   ],
   "source": [
    "def find_hyperparam_rf(trial):\n",
    "    n_estimators = trial.suggest_int('n_estimators', 100, 700)\n",
    "    #max_depth = trial.suggest_int('max_depth', 2, 10)\n",
    "    min_samples_split = trial.suggest_int('min_samples_split', 2, 10)\n",
    "    min_samples_leaf = trial.suggest_int('min_samples_leaf', 1, 10)\n",
    "    criterion = trial.suggest_categorical('criterion', ['gini', 'entropy'])\n",
    "    class_weight = trial.suggest_categorical('class_weight', ['balanced', 'balanced_subsample'])\n",
    "    max_features = trial.suggest_int('max_features', 2, X_train.shape[1])\n",
    "    min_weight_fraction_leaf = trial.suggest_loguniform('min_weight_fraction_leaf', 1e-7, 0.1)\n",
    "    max_leaf_nodes= trial.suggest_int('max_leaf_nodes', 10, 200)\n",
    "    rfc = RandomForestClassifier(oob_score = True, \n",
    "                                 n_estimators = n_estimators,\n",
    "                                 #max_depth = max_depth, \n",
    "                                 min_samples_split = min_samples_split,\n",
    "                                 min_samples_leaf = min_samples_leaf,\n",
    "                                 criterion = criterion,\n",
    "                                 class_weight = class_weight, \n",
    "                                 max_features = max_features,\n",
    "                                 min_weight_fraction_leaf=min_weight_fraction_leaf,\n",
    "                                 max_leaf_nodes = max_leaf_nodes\n",
    "                                )\n",
    "    cv = KFold(n_splits = 5, shuffle = True, random_state = 20)\n",
    "    score = np.mean(cross_val_score(rfc, X_train, y_train,\n",
    "                                    scoring = 'accuracy', cv = cv, n_jobs = 4))\n",
    "    return (score)\n",
    "\n",
    "#rfc_study = optuna.create_study(direction='maximize')\n",
    "rfc_study.optimize(find_hyperparam_rf, n_trials = 10)"
   ]
  },
  {
   "cell_type": "code",
   "execution_count": 54,
   "metadata": {},
   "outputs": [
    {
     "name": "stdout",
     "output_type": "stream",
     "text": [
      "Accuracy:  0.739 Test F1 score:  0.64 / Cohen Kappa:  0.528\n",
      "                         precision    recall  f1-score   support\n",
      "\n",
      "             functional       0.76      0.84      0.80      4822\n",
      "functional needs repair       0.35      0.45      0.39       678\n",
      "         non functional       0.83      0.66      0.73      3410\n",
      "\n",
      "               accuracy                           0.74      8910\n",
      "              macro avg       0.65      0.65      0.64      8910\n",
      "           weighted avg       0.75      0.74      0.74      8910\n",
      "\n"
     ]
    }
   ],
   "source": [
    "rf = RandomForestClassifier(oob_score = True, **rfc_study.best_params, n_jobs = -1)\n",
    "\n",
    "rf.fit(X_train, y_train)\n",
    "y_pred_rf = rf.predict(X_test)\n",
    "scoring(y_test, y_pred_rf, 'random forest optuna')\n",
    "print(classification_report(y_test, y_pred_rf))\n",
    "# Accuracy:  0.74 Test F1 score:  0.642 / Cohen Kappa:  0.528\n",
    "# functional needs repair recall = 0.45"
   ]
  },
  {
   "cell_type": "markdown",
   "metadata": {},
   "source": [
    "Much better performance in predicting the positive minority cases even though overall F1 score has dropped slightly. This model seems to be weighing the minority recall better. "
   ]
  },
  {
   "cell_type": "code",
   "execution_count": 23,
   "metadata": {},
   "outputs": [],
   "source": [
    "# save the study\n",
    "mod = open('PKL/rfc_study.pkl', 'wb')\n",
    "pickle.dump(rfc_study, mod)\n",
    "mod.close()"
   ]
  },
  {
   "cell_type": "code",
   "execution_count": 20,
   "metadata": {},
   "outputs": [],
   "source": [
    "# Reload the study\n",
    "#rfc_study = pickle.load(open('PKL/rfc_study.pkl', 'rb'))"
   ]
  },
  {
   "cell_type": "code",
   "execution_count": 55,
   "metadata": {},
   "outputs": [],
   "source": [
    "# save the model\n",
    "mod = open('PKL/rf_model.pkl', 'wb')\n",
    "pickle.dump(rf, mod)\n",
    "mod.close()"
   ]
  },
  {
   "cell_type": "code",
   "execution_count": null,
   "metadata": {},
   "outputs": [],
   "source": [
    "#rf_model = pickle.load(open('PKL/rf_model.pkl', 'rb'))"
   ]
  },
  {
   "cell_type": "code",
   "execution_count": 56,
   "metadata": {},
   "outputs": [
    {
     "data": {
      "text/html": [
       "<div>\n",
       "<style scoped>\n",
       "    .dataframe tbody tr th:only-of-type {\n",
       "        vertical-align: middle;\n",
       "    }\n",
       "\n",
       "    .dataframe tbody tr th {\n",
       "        vertical-align: top;\n",
       "    }\n",
       "\n",
       "    .dataframe thead th {\n",
       "        text-align: right;\n",
       "    }\n",
       "</style>\n",
       "<table border=\"1\" class=\"dataframe\">\n",
       "  <thead>\n",
       "    <tr style=\"text-align: right;\">\n",
       "      <th></th>\n",
       "      <th>feat_importance</th>\n",
       "    </tr>\n",
       "  </thead>\n",
       "  <tbody>\n",
       "    <tr>\n",
       "      <th>quantity_dry</th>\n",
       "      <td>0.1593</td>\n",
       "    </tr>\n",
       "    <tr>\n",
       "      <th>quantity_enough</th>\n",
       "      <td>0.0532</td>\n",
       "    </tr>\n",
       "    <tr>\n",
       "      <th>extraction_type_c_other</th>\n",
       "      <td>0.0511</td>\n",
       "    </tr>\n",
       "    <tr>\n",
       "      <th>longitude</th>\n",
       "      <td>0.0435</td>\n",
       "    </tr>\n",
       "    <tr>\n",
       "      <th>waterpoint_type_hand pump</th>\n",
       "      <td>0.0397</td>\n",
       "    </tr>\n",
       "    <tr>\n",
       "      <th>waterpoint_type_other</th>\n",
       "      <td>0.0365</td>\n",
       "    </tr>\n",
       "    <tr>\n",
       "      <th>quantity_insufficient</th>\n",
       "      <td>0.0358</td>\n",
       "    </tr>\n",
       "    <tr>\n",
       "      <th>lga_bariadi</th>\n",
       "      <td>0.0336</td>\n",
       "    </tr>\n",
       "    <tr>\n",
       "      <th>year_built_after05</th>\n",
       "      <td>0.0326</td>\n",
       "    </tr>\n",
       "    <tr>\n",
       "      <th>quantity_seasonal</th>\n",
       "      <td>0.0298</td>\n",
       "    </tr>\n",
       "  </tbody>\n",
       "</table>\n",
       "</div>"
      ],
      "text/plain": [
       "                           feat_importance\n",
       "quantity_dry                        0.1593\n",
       "quantity_enough                     0.0532\n",
       "extraction_type_c_other             0.0511\n",
       "longitude                           0.0435\n",
       "waterpoint_type_hand pump           0.0397\n",
       "waterpoint_type_other               0.0365\n",
       "quantity_insufficient               0.0358\n",
       "lga_bariadi                         0.0336\n",
       "year_built_after05                  0.0326\n",
       "quantity_seasonal                   0.0298"
      ]
     },
     "execution_count": 56,
     "metadata": {},
     "output_type": "execute_result"
    }
   ],
   "source": [
    "# feature importance\n",
    "rf_feats = pd.DataFrame(rf.feature_importances_,\n",
    "                        index = new_feats,\n",
    "                        columns=['feat_importance']).sort_values('feat_importance',ascending=False)\n",
    "rf_feats.head(10)"
   ]
  },
  {
   "cell_type": "code",
   "execution_count": 57,
   "metadata": {},
   "outputs": [
    {
     "data": {
      "text/html": [
       "<div>\n",
       "<style scoped>\n",
       "    .dataframe tbody tr th:only-of-type {\n",
       "        vertical-align: middle;\n",
       "    }\n",
       "\n",
       "    .dataframe tbody tr th {\n",
       "        vertical-align: top;\n",
       "    }\n",
       "\n",
       "    .dataframe thead th {\n",
       "        text-align: right;\n",
       "    }\n",
       "</style>\n",
       "<table border=\"1\" class=\"dataframe\">\n",
       "  <thead>\n",
       "    <tr style=\"text-align: right;\">\n",
       "      <th></th>\n",
       "      <th>feat_importance</th>\n",
       "    </tr>\n",
       "  </thead>\n",
       "  <tbody>\n",
       "    <tr>\n",
       "      <th>installer_acra</th>\n",
       "      <td>0.0</td>\n",
       "    </tr>\n",
       "    <tr>\n",
       "      <th>scheme_management_trust</th>\n",
       "      <td>0.0</td>\n",
       "    </tr>\n",
       "    <tr>\n",
       "      <th>lga_sumbawanga urban</th>\n",
       "      <td>0.0</td>\n",
       "    </tr>\n",
       "    <tr>\n",
       "      <th>funder_unhcr</th>\n",
       "      <td>0.0</td>\n",
       "    </tr>\n",
       "    <tr>\n",
       "      <th>funder_villagers</th>\n",
       "      <td>0.0</td>\n",
       "    </tr>\n",
       "    <tr>\n",
       "      <th>source_unknown</th>\n",
       "      <td>0.0</td>\n",
       "    </tr>\n",
       "    <tr>\n",
       "      <th>installer_unicef</th>\n",
       "      <td>0.0</td>\n",
       "    </tr>\n",
       "    <tr>\n",
       "      <th>funder_water</th>\n",
       "      <td>0.0</td>\n",
       "    </tr>\n",
       "    <tr>\n",
       "      <th>lga_ludewa</th>\n",
       "      <td>0.0</td>\n",
       "    </tr>\n",
       "    <tr>\n",
       "      <th>lga_morogoro rural</th>\n",
       "      <td>0.0</td>\n",
       "    </tr>\n",
       "  </tbody>\n",
       "</table>\n",
       "</div>"
      ],
      "text/plain": [
       "                         feat_importance\n",
       "installer_acra                       0.0\n",
       "scheme_management_trust              0.0\n",
       "lga_sumbawanga urban                 0.0\n",
       "funder_unhcr                         0.0\n",
       "funder_villagers                     0.0\n",
       "source_unknown                       0.0\n",
       "installer_unicef                     0.0\n",
       "funder_water                         0.0\n",
       "lga_ludewa                           0.0\n",
       "lga_morogoro rural                   0.0"
      ]
     },
     "execution_count": 57,
     "metadata": {},
     "output_type": "execute_result"
    }
   ],
   "source": [
    "rf_feats.tail(10)"
   ]
  },
  {
   "cell_type": "markdown",
   "metadata": {},
   "source": [
    "## XGBoost\n",
    "Now we'll try to run XGBoost with Optuna."
   ]
  },
  {
   "cell_type": "code",
   "execution_count": 58,
   "metadata": {},
   "outputs": [],
   "source": [
    "import xgboost as xgb"
   ]
  },
  {
   "cell_type": "code",
   "execution_count": 76,
   "metadata": {
    "scrolled": true
   },
   "outputs": [
    {
     "name": "stderr",
     "output_type": "stream",
     "text": [
      "[I 2020-08-29 23:44:13,347] Trial 133 finished with value: 0.8208463406174126 and parameters: {'eta': 0.4406484853286029, 'max_depth': 22, 'subsample': 0.5605334276779828, 'sampling_method': 'gradient_based', 'colsample_bytree': 0.18404785484772998, 'colsample_bylevel': 0.7039789009061859, 'colsample_bynode': 0.08544926992361919}. Best is trial 109 with value: 0.8634061741241761.\n",
      "[I 2020-08-29 23:47:38,691] Trial 134 finished with value: 0.8595907041276447 and parameters: {'eta': 0.36119348227329096, 'max_depth': 18, 'subsample': 0.5079194876308873, 'sampling_method': 'gradient_based', 'colsample_bytree': 0.49693254851185814, 'colsample_bylevel': 0.4449910843315671, 'colsample_bynode': 0.9948275227899105}. Best is trial 109 with value: 0.8634061741241761.\n",
      "[I 2020-08-29 23:48:43,943] Trial 135 finished with value: 0.8299167533818939 and parameters: {'eta': 0.11371039447029847, 'max_depth': 11, 'subsample': 0.43188241920432063, 'sampling_method': 'gradient_based', 'colsample_bytree': 0.7485277209542832, 'colsample_bylevel': 0.5603190820910974, 'colsample_bynode': 0.18014397184762035}. Best is trial 109 with value: 0.8634061741241761.\n",
      "[I 2020-08-29 23:54:01,484] Trial 136 finished with value: 0.8638224072147068 and parameters: {'eta': 0.1695163093002697, 'max_depth': 50, 'subsample': 0.5188579251033432, 'sampling_method': 'gradient_based', 'colsample_bytree': 0.3781973039166968, 'colsample_bylevel': 0.7383433954160524, 'colsample_bynode': 0.7869803005385871}. Best is trial 136 with value: 0.8638224072147068.\n",
      "[I 2020-08-29 23:59:48,730] Trial 137 finished with value: 0.8613943808532779 and parameters: {'eta': 0.18197958004426648, 'max_depth': 50, 'subsample': 0.5347466427326222, 'sampling_method': 'gradient_based', 'colsample_bytree': 0.4021168177136865, 'colsample_bylevel': 0.7740810116292824, 'colsample_bynode': 0.7811225594044241}. Best is trial 136 with value: 0.8638224072147068.\n",
      "[I 2020-08-30 00:06:12,712] Trial 138 finished with value: 0.8611168921262575 and parameters: {'eta': 0.06839268341222146, 'max_depth': 50, 'subsample': 0.5340960155362825, 'sampling_method': 'gradient_based', 'colsample_bytree': 0.41988077324055634, 'colsample_bylevel': 0.739190670291028, 'colsample_bynode': 0.8693561105078647}. Best is trial 136 with value: 0.8638224072147068.\n",
      "[I 2020-08-30 00:08:36,348] Trial 139 finished with value: 0.8583940339923691 and parameters: {'eta': 0.15904335829392152, 'max_depth': 49, 'subsample': 0.4507663975027609, 'sampling_method': 'gradient_based', 'colsample_bytree': 0.3371074244442245, 'colsample_bylevel': 0.4974854267073412, 'colsample_bynode': 0.4645988386056391}. Best is trial 136 with value: 0.8638224072147068.\n",
      "[I 2020-08-30 00:11:48,215] Trial 140 finished with value: 0.8556191467221644 and parameters: {'eta': 0.19916847946624408, 'max_depth': 45, 'subsample': 0.5238421735390116, 'sampling_method': 'uniform', 'colsample_bytree': 0.20178154499331644, 'colsample_bylevel': 0.7426528779618736, 'colsample_bynode': 0.7814593164541316}. Best is trial 136 with value: 0.8638224072147068.\n",
      "[I 2020-08-30 00:12:15,098] Trial 141 finished with value: 0.6855012140131806 and parameters: {'eta': 0.10664060552959487, 'max_depth': 45, 'subsample': 0.46594866514710553, 'sampling_method': 'gradient_based', 'colsample_bytree': 0.13997476578333007, 'colsample_bylevel': 0.3322280866811471, 'colsample_bynode': 0.011455379010528928}. Best is trial 136 with value: 0.8638224072147068.\n",
      "[I 2020-08-30 00:13:10,011] Trial 142 finished with value: 0.8331599028789455 and parameters: {'eta': 0.2557274492492026, 'max_depth': 45, 'subsample': 0.420552820430193, 'sampling_method': 'gradient_based', 'colsample_bytree': 0.2959893726379228, 'colsample_bylevel': 0.06764588325343152, 'colsample_bynode': 0.962796830202012}. Best is trial 136 with value: 0.8638224072147068.\n",
      "[I 2020-08-30 00:13:46,672] Trial 143 finished with value: 0.807457509538675 and parameters: {'eta': 0.7758208613301036, 'max_depth': 48, 'subsample': 0.5675968589364717, 'sampling_method': 'uniform', 'colsample_bytree': 0.500888023912271, 'colsample_bylevel': 0.391949397097972, 'colsample_bynode': 0.0273024875590388}. Best is trial 136 with value: 0.8638224072147068.\n",
      "[I 2020-08-30 00:16:44,065] Trial 144 finished with value: 0.861064862989941 and parameters: {'eta': 0.1345012232558657, 'max_depth': 40, 'subsample': 0.5035835337502061, 'sampling_method': 'gradient_based', 'colsample_bytree': 0.37312281243484857, 'colsample_bylevel': 0.630133499340516, 'colsample_bynode': 0.45142332777389443}. Best is trial 136 with value: 0.8638224072147068.\n",
      "[I 2020-08-30 00:19:58,693] Trial 145 finished with value: 0.8603884842178287 and parameters: {'eta': 0.4208926468247964, 'max_depth': 32, 'subsample': 0.6011222305656232, 'sampling_method': 'gradient_based', 'colsample_bytree': 0.5783161247039057, 'colsample_bylevel': 0.8100921068394175, 'colsample_bynode': 0.29835418113907125}. Best is trial 136 with value: 0.8638224072147068.\n",
      "[I 2020-08-30 00:21:13,344] Trial 146 finished with value: 0.7623829344432883 and parameters: {'eta': 0.004087496747945, 'max_depth': 42, 'subsample': 0.5340465259372177, 'sampling_method': 'gradient_based', 'colsample_bytree': 0.1054649997432486, 'colsample_bylevel': 0.5073125577895051, 'colsample_bynode': 0.7283915862637321}. Best is trial 136 with value: 0.8638224072147068.\n",
      "[I 2020-08-30 00:27:52,343] Trial 147 finished with value: 0.8609261186264308 and parameters: {'eta': 0.059970431465179, 'max_depth': 50, 'subsample': 0.5239247182590484, 'sampling_method': 'gradient_based', 'colsample_bytree': 0.42743475927935437, 'colsample_bylevel': 0.7754704783771634, 'colsample_bynode': 0.8725629074115112}. Best is trial 136 with value: 0.8638224072147068.\n",
      "[I 2020-08-30 00:32:39,818] Trial 148 finished with value: 0.8592265001734305 and parameters: {'eta': 0.08898203407321692, 'max_depth': 48, 'subsample': 0.546866226614527, 'sampling_method': 'gradient_based', 'colsample_bytree': 0.2609821992571897, 'colsample_bylevel': 0.7417937525308174, 'colsample_bynode': 0.9838430038568444}. Best is trial 136 with value: 0.8638224072147068.\n",
      "[I 2020-08-30 00:36:42,188] Trial 149 finished with value: 0.8591571279916753 and parameters: {'eta': 0.0678635572437736, 'max_depth': 20, 'subsample': 0.5766587976503093, 'sampling_method': 'gradient_based', 'colsample_bytree': 0.7115303179386663, 'colsample_bylevel': 0.4178654186460955, 'colsample_bynode': 0.8243930918200834}. Best is trial 136 with value: 0.8638224072147068.\n",
      "[I 2020-08-30 00:39:25,876] Trial 150 finished with value: 0.8488380159556017 and parameters: {'eta': 0.03406874339969688, 'max_depth': 23, 'subsample': 0.49197125272557674, 'sampling_method': 'gradient_based', 'colsample_bytree': 0.428457290365732, 'colsample_bylevel': 0.5958777869602531, 'colsample_bynode': 0.5345038738180932}. Best is trial 136 with value: 0.8638224072147068.\n",
      "[I 2020-08-30 00:43:41,209] Trial 151 finished with value: 0.8620013874436351 and parameters: {'eta': 0.22195008278270184, 'max_depth': 27, 'subsample': 0.6462680722845352, 'sampling_method': 'gradient_based', 'colsample_bytree': 0.5355491380585852, 'colsample_bylevel': 0.9932295507659232, 'colsample_bynode': 0.3870107260254751}. Best is trial 136 with value: 0.8638224072147068.\n"
     ]
    }
   ],
   "source": [
    "def find_hyperparam(trial):\n",
    "    eta = trial.suggest_loguniform('eta', 0.001, 1)\n",
    "    max_depth = trial.suggest_int('max_depth', 1, 50)\n",
    "    #min_child_weight = trial.suggest_int('min_child_weight', 0, 10)\n",
    "    subsample = trial.suggest_loguniform('subsample', 0.4, 1.0)\n",
    "    sampling_method = trial.suggest_categorical('sampling_method', ['uniform', 'gradient_based'])\n",
    "    colsample_bytree = trial.suggest_loguniform('colsample_bytree', 0.01, 1.0)\n",
    "    colsample_bylevel = trial.suggest_loguniform('colsample_bylevel', 0.01, 1.0)\n",
    "    colsample_bynode = trial.suggest_loguniform('colsample_bynode', 0.01, 1.0)\n",
    "\n",
    "    xgbc = xgb.XGBClassifier(objective = 'multi:softmax', \n",
    "                             eta = eta, \n",
    "                             max_depth = max_depth, \n",
    "                             #min_child_weight = min_child_weight, \n",
    "                             subsample = subsample, \n",
    "                             #sampling_method = sampling_method, \n",
    "                             colsample_bytree = colsample_bytree, \n",
    "                             colsample_bynode = colsample_bynode, \n",
    "                             colsample_bylevel = colsample_bylevel)\n",
    "    cv = KFold(n_splits = 5, shuffle = True, random_state = 20)\n",
    "    score = np.mean(cross_val_score(xgbc, X_train, y_train, \n",
    "                                    scoring = 'accuracy', cv = cv, \n",
    "                                    n_jobs = -1))\n",
    "    return (score)\n",
    "\n",
    "#xgb_study = optuna.create_study(direction='maximize')\n",
    "xgb_study.optimize(find_hyperparam, timeout = 60*60, n_trials = 100)"
   ]
  },
  {
   "cell_type": "code",
   "execution_count": 77,
   "metadata": {},
   "outputs": [],
   "source": [
    "#Saving study\n",
    "mod = open('PKL/xgb_study.pkl', 'wb')\n",
    "pickle.dump(xgb_study, mod)\n",
    "mod.close()"
   ]
  },
  {
   "cell_type": "code",
   "execution_count": 78,
   "metadata": {},
   "outputs": [
    {
     "name": "stderr",
     "output_type": "stream",
     "text": [
      "[I 2020-08-30 00:47:40,374] Trial 152 finished with value: 0.8627818244883801 and parameters: {'eta': 0.20901443157388108, 'max_depth': 27, 'subsample': 0.6454705796184516, 'sampling_method': 'gradient_based', 'colsample_bytree': 0.57920626068807, 'colsample_bylevel': 0.8419327562454327, 'colsample_bynode': 0.39170204559711025}. Best is trial 136 with value: 0.8638224072147068.\n",
      "[I 2020-08-30 00:50:42,253] Trial 153 finished with value: 0.8623829344432881 and parameters: {'eta': 0.18448520753630662, 'max_depth': 26, 'subsample': 0.6617827364041515, 'sampling_method': 'gradient_based', 'colsample_bytree': 0.33655820079803317, 'colsample_bylevel': 0.9821887257898622, 'colsample_bynode': 0.407232961221747}. Best is trial 136 with value: 0.8638224072147068.\n",
      "[I 2020-08-30 00:56:17,502] Trial 154 finished with value: 0.8625216788067984 and parameters: {'eta': 0.13066545451136005, 'max_depth': 27, 'subsample': 0.6376923892497782, 'sampling_method': 'uniform', 'colsample_bytree': 0.7824668391012616, 'colsample_bylevel': 0.9785906578366041, 'colsample_bynode': 0.36776051965064693}. Best is trial 136 with value: 0.8638224072147068.\n",
      "[I 2020-08-30 00:59:03,489] Trial 155 finished with value: 0.8613943808532779 and parameters: {'eta': 0.11551326629961982, 'max_depth': 28, 'subsample': 0.658717002774531, 'sampling_method': 'uniform', 'colsample_bytree': 0.8010522842257194, 'colsample_bylevel': 0.9068835963981582, 'colsample_bynode': 0.15341829953374486}. Best is trial 136 with value: 0.8638224072147068.\n",
      "[I 2020-08-30 01:01:32,307] Trial 156 finished with value: 0.8610301768990635 and parameters: {'eta': 0.14257597200896327, 'max_depth': 30, 'subsample': 0.620145860986233, 'sampling_method': 'uniform', 'colsample_bytree': 0.3343735944693882, 'colsample_bylevel': 0.8567172443256679, 'colsample_bynode': 0.31830463573364354}. Best is trial 136 with value: 0.8638224072147068.\n",
      "[I 2020-08-30 01:05:29,377] Trial 157 finished with value: 0.8631460284425945 and parameters: {'eta': 0.2215774777368455, 'max_depth': 26, 'subsample': 0.6563399570710042, 'sampling_method': 'uniform', 'colsample_bytree': 0.5288601612715568, 'colsample_bylevel': 0.9905426121977597, 'colsample_bynode': 0.3668991303600688}. Best is trial 136 with value: 0.8638224072147068.\n",
      "[I 2020-08-30 01:08:43,604] Trial 158 finished with value: 0.8604231703087063 and parameters: {'eta': 0.28676089825357565, 'max_depth': 24, 'subsample': 0.7136544669278826, 'sampling_method': 'uniform', 'colsample_bytree': 0.6803334041763068, 'colsample_bylevel': 0.8916770622700617, 'colsample_bynode': 0.26115067538670417}. Best is trial 136 with value: 0.8638224072147068.\n",
      "[I 2020-08-30 01:11:29,050] Trial 159 finished with value: 0.8618799861255637 and parameters: {'eta': 0.20135632963746217, 'max_depth': 32, 'subsample': 0.7383040450987, 'sampling_method': 'uniform', 'colsample_bytree': 0.4808654942151152, 'colsample_bylevel': 0.9825050187742674, 'colsample_bynode': 0.21235310659912016}. Best is trial 136 with value: 0.8638224072147068.\n",
      "[I 2020-08-30 01:15:59,406] Trial 160 finished with value: 0.8623655913978494 and parameters: {'eta': 0.08537440208886642, 'max_depth': 26, 'subsample': 0.6597925185778796, 'sampling_method': 'uniform', 'colsample_bytree': 0.8243669613477372, 'colsample_bylevel': 0.6596819946624395, 'colsample_bynode': 0.4104561963331095}. Best is trial 136 with value: 0.8638224072147068.\n",
      "[I 2020-08-30 01:20:36,951] Trial 161 finished with value: 0.8620013874436351 and parameters: {'eta': 0.08565686245484566, 'max_depth': 26, 'subsample': 0.6661039525800646, 'sampling_method': 'uniform', 'colsample_bytree': 0.8684012075735028, 'colsample_bylevel': 0.6430970284804298, 'colsample_bynode': 0.4139245861833005}. Best is trial 136 with value: 0.8638224072147068.\n",
      "[I 2020-08-30 01:22:19,605] Trial 162 finished with value: 0.8369406867845994 and parameters: {'eta': 0.045577164599390055, 'max_depth': 29, 'subsample': 0.6012722245880078, 'sampling_method': 'uniform', 'colsample_bytree': 0.2372275637228701, 'colsample_bylevel': 0.6715793848204515, 'colsample_bynode': 0.3417782287274657}. Best is trial 136 with value: 0.8638224072147068.\n",
      "[I 2020-08-30 01:22:43,608] Trial 163 finished with value: 0.6375997225112731 and parameters: {'eta': 0.09976515223922226, 'max_depth': 32, 'subsample': 0.635666636213459, 'sampling_method': 'uniform', 'colsample_bytree': 0.013305062256783563, 'colsample_bylevel': 0.11388391196010227, 'colsample_bynode': 0.3760503327244697}. Best is trial 136 with value: 0.8638224072147068.\n",
      "[I 2020-08-30 01:25:37,803] Trial 164 finished with value: 0.8626777662157474 and parameters: {'eta': 0.13027329923437508, 'max_depth': 24, 'subsample': 0.7315840569670624, 'sampling_method': 'uniform', 'colsample_bytree': 0.5882329893540266, 'colsample_bylevel': 0.4698239962664106, 'colsample_bynode': 0.4881427124228002}. Best is trial 136 with value: 0.8638224072147068.\n",
      "[I 2020-08-30 01:27:31,276] Trial 165 finished with value: 0.8599895941727368 and parameters: {'eta': 0.1294135351714092, 'max_depth': 24, 'subsample': 0.7357123306246197, 'sampling_method': 'uniform', 'colsample_bytree': 0.2941145252778791, 'colsample_bylevel': 0.455480241503453, 'colsample_bynode': 0.5400228052515647}. Best is trial 136 with value: 0.8638224072147068.\n",
      "[I 2020-08-30 01:28:52,091] Trial 166 finished with value: 0.858324661810614 and parameters: {'eta': 0.3167278193084954, 'max_depth': 22, 'subsample': 0.7723206755930753, 'sampling_method': 'uniform', 'colsample_bytree': 0.5739810305367398, 'colsample_bylevel': 0.1768985242056526, 'colsample_bynode': 0.47860994832155074}. Best is trial 136 with value: 0.8638224072147068.\n",
      "[I 2020-08-30 01:36:25,102] Trial 167 finished with value: 0.8631460284425945 and parameters: {'eta': 0.17036450122839242, 'max_depth': 26, 'subsample': 0.6663644470177094, 'sampling_method': 'uniform', 'colsample_bytree': 0.7434448582951357, 'colsample_bylevel': 0.8525481931044926, 'colsample_bynode': 0.656571051739072}. Best is trial 136 with value: 0.8638224072147068.\n",
      "[I 2020-08-30 01:42:29,003] Trial 168 finished with value: 0.8637010058966353 and parameters: {'eta': 0.16700522539688425, 'max_depth': 30, 'subsample': 0.7253291439389399, 'sampling_method': 'uniform', 'colsample_bytree': 0.5012123585720871, 'colsample_bylevel': 0.8608699903694625, 'colsample_bynode': 0.6852741498267597}. Best is trial 136 with value: 0.8638224072147068.\n",
      "[I 2020-08-30 01:50:10,782] Trial 169 finished with value: 0.8632847728061048 and parameters: {'eta': 0.2516431360905329, 'max_depth': 28, 'subsample': 0.8232337380224888, 'sampling_method': 'uniform', 'colsample_bytree': 0.7334053804096108, 'colsample_bylevel': 0.8406800376858358, 'colsample_bynode': 0.6695848723831896}. Best is trial 136 with value: 0.8638224072147068.\n"
     ]
    }
   ],
   "source": [
    "xgb_study.optimize(find_hyperparam, timeout = 60*60)"
   ]
  },
  {
   "cell_type": "code",
   "execution_count": 79,
   "metadata": {},
   "outputs": [],
   "source": [
    "#Saving study\n",
    "mod = open('PKL/xgb_study.pkl', 'wb')\n",
    "pickle.dump(xgb_study, mod)\n",
    "mod.close()"
   ]
  },
  {
   "cell_type": "code",
   "execution_count": 80,
   "metadata": {},
   "outputs": [
    {
     "name": "stderr",
     "output_type": "stream",
     "text": [
      "[I 2020-08-30 01:56:59,656] Trial 170 finished with value: 0.8637703780783905 and parameters: {'eta': 0.26579606873510975, 'max_depth': 35, 'subsample': 0.8411252606461457, 'sampling_method': 'uniform', 'colsample_bytree': 0.6302547139403325, 'colsample_bylevel': 0.8303708827942395, 'colsample_bynode': 0.615979934424675}. Best is trial 136 with value: 0.8638224072147068.\n",
      "[I 2020-08-30 02:03:21,530] Trial 171 finished with value: 0.8630593132154006 and parameters: {'eta': 0.2447083670087442, 'max_depth': 36, 'subsample': 0.8569780331597605, 'sampling_method': 'uniform', 'colsample_bytree': 0.5149523743658705, 'colsample_bylevel': 0.844397138319969, 'colsample_bynode': 0.6742574905402753}. Best is trial 136 with value: 0.8638224072147068.\n",
      "[I 2020-08-30 02:07:26,436] Trial 172 finished with value: 0.8624002774887269 and parameters: {'eta': 0.28901684544232065, 'max_depth': 35, 'subsample': 0.847781587053561, 'sampling_method': 'uniform', 'colsample_bytree': 0.4720183676716282, 'colsample_bylevel': 0.5602390708174882, 'colsample_bynode': 0.6433560664102034}. Best is trial 136 with value: 0.8638224072147068.\n",
      "[I 2020-08-30 02:14:51,376] Trial 173 finished with value: 0.8606659729448491 and parameters: {'eta': 0.5227894374501874, 'max_depth': 37, 'subsample': 0.8422175298421639, 'sampling_method': 'uniform', 'colsample_bytree': 0.6940775040056792, 'colsample_bylevel': 0.847481367916659, 'colsample_bynode': 0.6558361409082983}. Best is trial 136 with value: 0.8638224072147068.\n",
      "[I 2020-08-30 02:23:15,615] Trial 174 finished with value: 0.8614290669441556 and parameters: {'eta': 0.2585533265526306, 'max_depth': 30, 'subsample': 0.9128902290220462, 'sampling_method': 'uniform', 'colsample_bytree': 0.9189829711856212, 'colsample_bylevel': 0.7118216074717615, 'colsample_bynode': 0.6775089997548435}. Best is trial 136 with value: 0.8638224072147068.\n",
      "[I 2020-08-30 02:26:39,587] Trial 175 finished with value: 0.8626951092611863 and parameters: {'eta': 0.1683592342367149, 'max_depth': 34, 'subsample': 0.8736210622046776, 'sampling_method': 'uniform', 'colsample_bytree': 0.3745579298365098, 'colsample_bylevel': 0.6023163124716202, 'colsample_bynode': 0.5884373064260965}. Best is trial 136 with value: 0.8638224072147068.\n",
      "[I 2020-08-30 02:32:46,920] Trial 176 finished with value: 0.8629725979882068 and parameters: {'eta': 0.24903720396553203, 'max_depth': 39, 'subsample': 0.8027652476170489, 'sampling_method': 'uniform', 'colsample_bytree': 0.48429264640383685, 'colsample_bylevel': 0.7960786269735659, 'colsample_bynode': 0.702178656241587}. Best is trial 136 with value: 0.8638224072147068.\n",
      "[I 2020-08-30 02:38:25,943] Trial 177 finished with value: 0.8609954908081858 and parameters: {'eta': 0.3483538693593536, 'max_depth': 37, 'subsample': 0.808509067059586, 'sampling_method': 'uniform', 'colsample_bytree': 0.4636412376153591, 'colsample_bylevel': 0.8044281399336078, 'colsample_bynode': 0.7102271555211498}. Best is trial 136 with value: 0.8638224072147068.\n",
      "[I 2020-08-30 02:44:34,072] Trial 178 finished with value: 0.8634061741241762 and parameters: {'eta': 0.22155274929549354, 'max_depth': 39, 'subsample': 0.8861542305994784, 'sampling_method': 'uniform', 'colsample_bytree': 0.5229311722605126, 'colsample_bylevel': 0.882613310631064, 'colsample_bynode': 0.5750541622409808}. Best is trial 136 with value: 0.8638224072147068.\n",
      "[I 2020-08-30 02:50:54,412] Trial 179 finished with value: 0.8641866111689213 and parameters: {'eta': 0.22332320992985571, 'max_depth': 31, 'subsample': 0.9594893349969855, 'sampling_method': 'uniform', 'colsample_bytree': 0.6357998963460803, 'colsample_bylevel': 0.8841559099413454, 'colsample_bynode': 0.5604486343504106}. Best is trial 179 with value: 0.8641866111689213.\n"
     ]
    }
   ],
   "source": [
    "xgb_study.optimize(find_hyperparam, timeout = 60*60)"
   ]
  },
  {
   "cell_type": "code",
   "execution_count": 81,
   "metadata": {},
   "outputs": [],
   "source": [
    "#Saving study\n",
    "mod = open('PKL/xgb_study.pkl', 'wb')\n",
    "pickle.dump(xgb_study, mod)\n",
    "mod.close()"
   ]
  },
  {
   "cell_type": "code",
   "execution_count": 82,
   "metadata": {},
   "outputs": [
    {
     "name": "stderr",
     "output_type": "stream",
     "text": [
      "[I 2020-08-30 02:56:02,818] Trial 180 finished with value: 0.8626257370794311 and parameters: {'eta': 0.15250619336696455, 'max_depth': 33, 'subsample': 0.9699865824570763, 'sampling_method': 'uniform', 'colsample_bytree': 0.620227746311205, 'colsample_bylevel': 0.7025882416300882, 'colsample_bynode': 0.5339353109736529}. Best is trial 179 with value: 0.8641866111689213.\n",
      "[I 2020-08-30 03:04:13,543] Trial 181 finished with value: 0.8614637530350329 and parameters: {'eta': 0.3860032002396564, 'max_depth': 30, 'subsample': 0.9229564781341889, 'sampling_method': 'uniform', 'colsample_bytree': 0.7524480588199132, 'colsample_bylevel': 0.9955691429635786, 'colsample_bynode': 0.5938181733085145}. Best is trial 179 with value: 0.8641866111689213.\n",
      "[I 2020-08-30 03:10:38,089] Trial 182 finished with value: 0.8639784946236558 and parameters: {'eta': 0.18797724932664234, 'max_depth': 28, 'subsample': 0.8837028731736397, 'sampling_method': 'uniform', 'colsample_bytree': 0.6446031915054233, 'colsample_bylevel': 0.9028458940715471, 'colsample_bynode': 0.5732009634322301}. Best is trial 179 with value: 0.8641866111689213.\n",
      "[I 2020-08-30 03:14:51,398] Trial 183 finished with value: 0.8607873742629206 and parameters: {'eta': 0.4595191547910297, 'max_depth': 31, 'subsample': 0.8873279238413035, 'sampling_method': 'uniform', 'colsample_bytree': 0.6502640088457553, 'colsample_bylevel': 0.5465406109457415, 'colsample_bynode': 0.5714629333729436}. Best is trial 179 with value: 0.8641866111689213.\n",
      "[I 2020-08-30 03:21:58,102] Trial 184 finished with value: 0.8629899410336455 and parameters: {'eta': 0.1784729013353823, 'max_depth': 29, 'subsample': 0.7579220341913396, 'sampling_method': 'uniform', 'colsample_bytree': 0.884338946816937, 'colsample_bylevel': 0.9070773375870208, 'colsample_bynode': 0.45371244575261077}. Best is trial 179 with value: 0.8641866111689213.\n",
      "[I 2020-08-30 03:27:23,255] Trial 185 finished with value: 0.8622441900797779 and parameters: {'eta': 0.2192823519479564, 'max_depth': 28, 'subsample': 0.9978391666414909, 'sampling_method': 'uniform', 'colsample_bytree': 0.9992431037322304, 'colsample_bylevel': 0.32471903072952574, 'colsample_bynode': 0.8674607190620993}. Best is trial 179 with value: 0.8641866111689213.\n",
      "[I 2020-08-30 03:32:36,838] Trial 186 finished with value: 0.8624349635796046 and parameters: {'eta': 0.3094030523854893, 'max_depth': 39, 'subsample': 0.9395091472364411, 'sampling_method': 'uniform', 'colsample_bytree': 0.3815264217175764, 'colsample_bylevel': 0.7357618503710057, 'colsample_bynode': 0.7815940544618086}. Best is trial 179 with value: 0.8641866111689213.\n",
      "[I 2020-08-30 03:39:24,072] Trial 187 finished with value: 0.8632327436697885 and parameters: {'eta': 0.1591273913590474, 'max_depth': 31, 'subsample': 0.8962176927299649, 'sampling_method': 'uniform', 'colsample_bytree': 0.7345563934047812, 'colsample_bylevel': 0.907354730751373, 'colsample_bynode': 0.49931007852373066}. Best is trial 179 with value: 0.8641866111689213.\n",
      "[I 2020-08-30 03:44:33,980] Trial 188 finished with value: 0.8632327436697885 and parameters: {'eta': 0.17003902546101557, 'max_depth': 35, 'subsample': 0.8902923052396766, 'sampling_method': 'uniform', 'colsample_bytree': 0.7279610632131719, 'colsample_bylevel': 0.6128582852564406, 'colsample_bynode': 0.5001421533972066}. Best is trial 179 with value: 0.8641866111689213.\n",
      "[I 2020-08-30 03:49:17,303] Trial 189 finished with value: 0.8631460284425945 and parameters: {'eta': 0.11476024571763946, 'max_depth': 34, 'subsample': 0.8849918367835995, 'sampling_method': 'uniform', 'colsample_bytree': 0.6346818133906642, 'colsample_bylevel': 0.6208119073504902, 'colsample_bynode': 0.5102968982163367}. Best is trial 179 with value: 0.8641866111689213.\n",
      "[I 2020-08-30 03:53:11,389] Trial 190 finished with value: 0.8631460284425945 and parameters: {'eta': 0.14797087013213625, 'max_depth': 33, 'subsample': 0.8222637339475055, 'sampling_method': 'uniform', 'colsample_bytree': 0.5535431560549476, 'colsample_bylevel': 0.5160627092409995, 'colsample_bynode': 0.5511816311619419}. Best is trial 179 with value: 0.8641866111689213.\n"
     ]
    }
   ],
   "source": [
    "xgb_study.optimize(find_hyperparam, timeout = 60*60)"
   ]
  },
  {
   "cell_type": "code",
   "execution_count": 83,
   "metadata": {},
   "outputs": [],
   "source": [
    "#Saving study\n",
    "mod = open('PKL/xgb_study.pkl', 'wb')\n",
    "pickle.dump(xgb_study, mod)\n",
    "mod.close()"
   ]
  },
  {
   "cell_type": "code",
   "execution_count": 84,
   "metadata": {
    "scrolled": true
   },
   "outputs": [
    {
     "name": "stdout",
     "output_type": "stream",
     "text": [
      "Accuracy:  0.776 Test F1 score:  0.679 / Cohen Kappa:  0.595\n",
      "                         precision    recall  f1-score   support\n",
      "\n",
      "             functional       0.80      0.84      0.82      4822\n",
      "functional needs repair       0.40      0.46      0.43       678\n",
      "         non functional       0.83      0.74      0.78      3410\n",
      "\n",
      "               accuracy                           0.78      8910\n",
      "              macro avg       0.68      0.68      0.68      8910\n",
      "           weighted avg       0.78      0.78      0.78      8910\n",
      "\n"
     ]
    }
   ],
   "source": [
    "# fitting and testing on the test set\n",
    "\n",
    "xgbc = xgb.XGBClassifier(**xgb_study.best_params, verbosity=1, tree_method = 'gpu_hist')\n",
    "\n",
    "xgbc.fit(X_train, y_train)\n",
    "y_pred = xgbc.predict(X_test)    \n",
    "scoring(y_test, y_pred, 'xgboost')\n",
    "print(classification_report(y_test, y_pred))\n",
    "\n",
    "# Accuracy:  0.776 Test F1 score:  0.679 / Cohen Kappa:  0.595\n",
    "# functional needs repair recall = 0.46"
   ]
  },
  {
   "cell_type": "markdown",
   "metadata": {},
   "source": [
    "Top majority classes are doing so much better, but the minority class recall score dropped significantly from random forest model. We'll try to oversampling the minority classes and try again."
   ]
  },
  {
   "cell_type": "code",
   "execution_count": null,
   "metadata": {},
   "outputs": [],
   "source": [
    "\n",
    "# Reload the study\n",
    "#xgb_study = pickle.load(open('PKL/xgb_study.pkl', 'rb'))"
   ]
  },
  {
   "cell_type": "code",
   "execution_count": 85,
   "metadata": {},
   "outputs": [],
   "source": [
    "# saving model\n",
    "mod = open('PKL/xgbc_model.pkl', 'wb')\n",
    "pickle.dump(xgbc, mod)\n",
    "mod.close()"
   ]
  },
  {
   "cell_type": "code",
   "execution_count": null,
   "metadata": {},
   "outputs": [],
   "source": [
    "#xgbc_model = pickle.load(open('PKL/xgbc_model.pkl', 'rb'))"
   ]
  },
  {
   "cell_type": "markdown",
   "metadata": {},
   "source": [
    "## Voting Classifier\n",
    "Now I will try to run a voting classifier using some of the above models. Since many of the models did better with with minority classes oversampled, I will use oversampled data for voting."
   ]
  },
  {
   "cell_type": "code",
   "execution_count": 86,
   "metadata": {},
   "outputs": [
    {
     "data": {
      "text/plain": [
       "VotingClassifier(estimators=[('knc_opt',\n",
       "                              KNeighborsClassifier(algorithm='kd_tree',\n",
       "                                                   leaf_size=59, n_neighbors=3,\n",
       "                                                   p=1, weights='distance')),\n",
       "                             ('rf',\n",
       "                              RandomForestClassifier(class_weight='balanced_subsample',\n",
       "                                                     max_features=171,\n",
       "                                                     max_leaf_nodes=156,\n",
       "                                                     min_samples_split=3,\n",
       "                                                     min_weight_fraction_leaf=2.5986003060716383e-06,\n",
       "                                                     n_estimators=656,\n",
       "                                                     n_jobs=-1,\n",
       "                                                     oob_score=True)),\n",
       "                             ('xgbc...\n",
       "                                            interaction_constraints='',\n",
       "                                            learning_rate=0.300000012,\n",
       "                                            max_delta_step=0, max_depth=6,\n",
       "                                            min_child_weight=1, missing=nan,\n",
       "                                            monotone_constraints='()',\n",
       "                                            n_estimators=100, n_jobs=-1,\n",
       "                                            num_parallel_tree=1,\n",
       "                                            objective='multi:softprob',\n",
       "                                            random_state=0, reg_alpha=0,\n",
       "                                            reg_lambda=1, scale_pos_weight=None,\n",
       "                                            subsample=1, tree_method='exact',\n",
       "                                            validate_parameters=1,\n",
       "                                            verbosity=1))],\n",
       "                 n_jobs=-1, voting='soft')"
      ]
     },
     "execution_count": 86,
     "metadata": {},
     "output_type": "execute_result"
    }
   ],
   "source": [
    "from sklearn.ensemble import VotingClassifier\n",
    "\n",
    "voting_c_soft = VotingClassifier(estimators = [\n",
    "                                          ('knc_opt', knc_opt),\n",
    "                                          ('rf', rf),\n",
    "                                          ('xgbc', xgbc)\n",
    "                                         ], \n",
    "                            voting = 'soft', \n",
    "                           n_jobs = -1)\n",
    "voting_c_soft.fit(X_train, y_train)"
   ]
  },
  {
   "cell_type": "code",
   "execution_count": 87,
   "metadata": {},
   "outputs": [
    {
     "name": "stdout",
     "output_type": "stream",
     "text": [
      "Accuracy:  0.79 Test F1 score:  0.688 / Cohen Kappa:  0.619\n",
      "                         precision    recall  f1-score   support\n",
      "\n",
      "             functional       0.82      0.85      0.83      4822\n",
      "functional needs repair       0.43      0.43      0.43       678\n",
      "         non functional       0.83      0.78      0.80      3410\n",
      "\n",
      "               accuracy                           0.79      8910\n",
      "              macro avg       0.69      0.69      0.69      8910\n",
      "           weighted avg       0.79      0.79      0.79      8910\n",
      "\n"
     ]
    }
   ],
   "source": [
    "y_pred = voting_c_soft.predict(X_test)    \n",
    "scoring(y_test, y_pred, 'voting')\n",
    "print(classification_report(y_test, y_pred))\n",
    "\n",
    "# Test F1 score:  0.77 / Test Accuracy:  0.671\n",
    "# functional needs repair recall = 0.43"
   ]
  },
  {
   "cell_type": "code",
   "execution_count": null,
   "metadata": {},
   "outputs": [],
   "source": []
  },
  {
   "cell_type": "code",
   "execution_count": 88,
   "metadata": {},
   "outputs": [],
   "source": [
    "# save model\n",
    "mod = open('PKL/voting_c_soft.pkl', 'wb')\n",
    "pickle.dump(voting_c_soft, mod)\n",
    "mod.close()"
   ]
  },
  {
   "cell_type": "code",
   "execution_count": null,
   "metadata": {},
   "outputs": [],
   "source": [
    "# Reload the model\n",
    "#voting_c_soft = pickle.load(open('PKL/voting_c_soft.pkl', 'rb'))"
   ]
  },
  {
   "cell_type": "markdown",
   "metadata": {},
   "source": [
    "### Hard voting"
   ]
  },
  {
   "cell_type": "code",
   "execution_count": 89,
   "metadata": {},
   "outputs": [
    {
     "data": {
      "text/plain": [
       "VotingClassifier(estimators=[('knc_opt',\n",
       "                              KNeighborsClassifier(algorithm='kd_tree',\n",
       "                                                   leaf_size=59, n_neighbors=3,\n",
       "                                                   p=1, weights='distance')),\n",
       "                             ('rf',\n",
       "                              RandomForestClassifier(class_weight='balanced_subsample',\n",
       "                                                     max_features=171,\n",
       "                                                     max_leaf_nodes=156,\n",
       "                                                     min_samples_split=3,\n",
       "                                                     min_weight_fraction_leaf=2.5986003060716383e-06,\n",
       "                                                     n_estimators=656,\n",
       "                                                     n_jobs=-1,\n",
       "                                                     oob_score=True)),\n",
       "                             ('xgbc...\n",
       "                                            interaction_constraints='',\n",
       "                                            learning_rate=0.300000012,\n",
       "                                            max_delta_step=0, max_depth=6,\n",
       "                                            min_child_weight=1, missing=nan,\n",
       "                                            monotone_constraints='()',\n",
       "                                            n_estimators=100, n_jobs=-1,\n",
       "                                            num_parallel_tree=1,\n",
       "                                            objective='multi:softprob',\n",
       "                                            random_state=0, reg_alpha=0,\n",
       "                                            reg_lambda=1, scale_pos_weight=None,\n",
       "                                            subsample=1, tree_method='exact',\n",
       "                                            validate_parameters=1,\n",
       "                                            verbosity=1))],\n",
       "                 n_jobs=-1)"
      ]
     },
     "execution_count": 89,
     "metadata": {},
     "output_type": "execute_result"
    }
   ],
   "source": [
    "voting_c_hard = VotingClassifier(estimators = [\n",
    "                                          ('knc_opt', knc_opt),\n",
    "                                          ('rf', rf),\n",
    "                                          ('xgbc', xgbc)\n",
    "                                         ], \n",
    "                            voting = 'hard', \n",
    "                           n_jobs = -1)\n",
    "voting_c_hard.fit(X_train, y_train)"
   ]
  },
  {
   "cell_type": "code",
   "execution_count": 90,
   "metadata": {},
   "outputs": [
    {
     "name": "stdout",
     "output_type": "stream",
     "text": [
      "Accuracy:  0.778 Test F1 score:  0.676 / Cohen Kappa:  0.596\n",
      "                         precision    recall  f1-score   support\n",
      "\n",
      "             functional       0.79      0.86      0.82      4822\n",
      "functional needs repair       0.41      0.44      0.42       678\n",
      "         non functional       0.85      0.73      0.78      3410\n",
      "\n",
      "               accuracy                           0.78      8910\n",
      "              macro avg       0.68      0.67      0.68      8910\n",
      "           weighted avg       0.78      0.78      0.78      8910\n",
      "\n"
     ]
    }
   ],
   "source": [
    "y_pred = voting_c_hard.predict(X_test)    \n",
    "scoring(y_test, y_pred, 'voting')\n",
    "print(classification_report(y_test, y_pred))\n",
    "\n",
    "# Test F1 score:  0.77 / Test Accuracy:  0.671\n",
    "# functional needs repair recall = 0.43"
   ]
  },
  {
   "cell_type": "code",
   "execution_count": 91,
   "metadata": {},
   "outputs": [],
   "source": [
    "# save model\n",
    "mod = open('PKL/voting_c_hard.pkl', 'wb')\n",
    "pickle.dump(voting_c_hard, mod)\n",
    "mod.close()"
   ]
  },
  {
   "cell_type": "code",
   "execution_count": null,
   "metadata": {},
   "outputs": [],
   "source": [
    "# Reload the model\n",
    "#voting_c_hard = pickle.load(open('PKL/voting_c_hard.pkl', 'rb'))"
   ]
  },
  {
   "cell_type": "markdown",
   "metadata": {},
   "source": [
    "### Soft with more weights to XGBoost"
   ]
  },
  {
   "cell_type": "code",
   "execution_count": 92,
   "metadata": {},
   "outputs": [
    {
     "data": {
      "text/plain": [
       "VotingClassifier(estimators=[('knc_opt',\n",
       "                              KNeighborsClassifier(algorithm='kd_tree',\n",
       "                                                   leaf_size=59, n_neighbors=3,\n",
       "                                                   p=1, weights='distance')),\n",
       "                             ('rf',\n",
       "                              RandomForestClassifier(class_weight='balanced_subsample',\n",
       "                                                     max_features=171,\n",
       "                                                     max_leaf_nodes=156,\n",
       "                                                     min_samples_split=3,\n",
       "                                                     min_weight_fraction_leaf=2.5986003060716383e-06,\n",
       "                                                     n_estimators=656,\n",
       "                                                     n_jobs=-1,\n",
       "                                                     oob_score=True)),\n",
       "                             ('xgbc...\n",
       "                                            learning_rate=0.300000012,\n",
       "                                            max_delta_step=0, max_depth=6,\n",
       "                                            min_child_weight=1, missing=nan,\n",
       "                                            monotone_constraints='()',\n",
       "                                            n_estimators=100, n_jobs=-1,\n",
       "                                            num_parallel_tree=1,\n",
       "                                            objective='multi:softprob',\n",
       "                                            random_state=0, reg_alpha=0,\n",
       "                                            reg_lambda=1, scale_pos_weight=None,\n",
       "                                            subsample=1, tree_method='exact',\n",
       "                                            validate_parameters=1,\n",
       "                                            verbosity=1))],\n",
       "                 n_jobs=-1, voting='soft', weights=[1, 1, 1.5])"
      ]
     },
     "execution_count": 92,
     "metadata": {},
     "output_type": "execute_result"
    }
   ],
   "source": [
    "voting_c_soft_w = VotingClassifier(estimators = [\n",
    "                                          ('knc_opt', knc_opt),\n",
    "                                          ('rf', rf),\n",
    "                                          ('xgbc', xgbc)\n",
    "                                         ], \n",
    "                            voting = 'soft', weights = [1, 1, 1.5],\n",
    "                           n_jobs = -1)\n",
    "voting_c_soft_w.fit(X_train, y_train)"
   ]
  },
  {
   "cell_type": "code",
   "execution_count": 93,
   "metadata": {},
   "outputs": [
    {
     "name": "stdout",
     "output_type": "stream",
     "text": [
      "Accuracy:  0.789 Test F1 score:  0.688 / Cohen Kappa:  0.618\n",
      "                         precision    recall  f1-score   support\n",
      "\n",
      "             functional       0.81      0.85      0.83      4822\n",
      "functional needs repair       0.43      0.44      0.43       678\n",
      "         non functional       0.83      0.77      0.80      3410\n",
      "\n",
      "               accuracy                           0.79      8910\n",
      "              macro avg       0.69      0.69      0.69      8910\n",
      "           weighted avg       0.79      0.79      0.79      8910\n",
      "\n"
     ]
    }
   ],
   "source": [
    "y_pred = voting_c_soft_w.predict(X_test)    \n",
    "scoring(y_test, y_pred, 'voting')\n",
    "print(classification_report(y_test, y_pred))\n",
    "\n",
    "# Test F1 score:  0.77 / Test Accuracy:  0.671\n",
    "# functional needs repair recall = 0.43"
   ]
  },
  {
   "cell_type": "code",
   "execution_count": 94,
   "metadata": {},
   "outputs": [],
   "source": [
    "# save model\n",
    "mod = open('PKL/voting_c_soft_w.pkl', 'wb')\n",
    "pickle.dump(voting_c_soft_w, mod)\n",
    "mod.close()"
   ]
  },
  {
   "cell_type": "code",
   "execution_count": null,
   "metadata": {},
   "outputs": [],
   "source": [
    "# Reload the model\n",
    "#voting_c_soft = pickle.load(open('PKL/voting_c_soft.pkl', 'rb'))"
   ]
  },
  {
   "cell_type": "code",
   "execution_count": 97,
   "metadata": {},
   "outputs": [],
   "source": [
    "from sklearn.linear_model import SGDClassifier"
   ]
  },
  {
   "cell_type": "code",
   "execution_count": 107,
   "metadata": {},
   "outputs": [
    {
     "name": "stdout",
     "output_type": "stream",
     "text": [
      "Accuracy:  0.721 Test F1 score:  0.609 / Cohen Kappa:  0.5\n"
     ]
    },
    {
     "data": {
      "text/plain": [
       "{'dummy': (0.33, 0.294, -0.006),\n",
       " 'knn optuna': (0.752, 0.641, 0.553),\n",
       " 'random forest optuna': (0.739, 0.64, 0.528),\n",
       " 'xgboost': (0.776, 0.679, 0.595),\n",
       " 'voting': (0.789, 0.688, 0.618),\n",
       " 'SGDC': (0.721, 0.609, 0.5)}"
      ]
     },
     "execution_count": 107,
     "metadata": {},
     "output_type": "execute_result"
    }
   ],
   "source": [
    "SGDC = SGDClassifier(loss = 'log', penalty='elasticnet', \n",
    "                     max_iter=1000, tol=1e-3)\n",
    "SGDC.fit(X_train, y_train)\n",
    "y_pred = SGDC.predict(X_test)\n",
    "scoring(y_test, y_pred, 'SGDC')\n"
   ]
  },
  {
   "cell_type": "code",
   "execution_count": 111,
   "metadata": {},
   "outputs": [],
   "source": [
    "feat_importance = pd.DataFrame(SGDC.coef_.T, columns = SGDC.classes_, index = new_feats)"
   ]
  },
  {
   "cell_type": "code",
   "execution_count": 118,
   "metadata": {},
   "outputs": [
    {
     "data": {
      "text/html": [
       "<div>\n",
       "<style scoped>\n",
       "    .dataframe tbody tr th:only-of-type {\n",
       "        vertical-align: middle;\n",
       "    }\n",
       "\n",
       "    .dataframe tbody tr th {\n",
       "        vertical-align: top;\n",
       "    }\n",
       "\n",
       "    .dataframe thead th {\n",
       "        text-align: right;\n",
       "    }\n",
       "</style>\n",
       "<table border=\"1\" class=\"dataframe\">\n",
       "  <thead>\n",
       "    <tr style=\"text-align: right;\">\n",
       "      <th></th>\n",
       "      <th>functional</th>\n",
       "      <th>functional needs repair</th>\n",
       "      <th>non functional</th>\n",
       "    </tr>\n",
       "  </thead>\n",
       "  <tbody>\n",
       "    <tr>\n",
       "      <th>zero_gps_height</th>\n",
       "      <td>-0.1149</td>\n",
       "      <td>0.7935</td>\n",
       "      <td>-0.5102</td>\n",
       "    </tr>\n",
       "    <tr>\n",
       "      <th>extraction_type_c_gravity</th>\n",
       "      <td>1.1832</td>\n",
       "      <td>0.7132</td>\n",
       "      <td>-0.5590</td>\n",
       "    </tr>\n",
       "    <tr>\n",
       "      <th>region_kigoma</th>\n",
       "      <td>-0.1515</td>\n",
       "      <td>0.4531</td>\n",
       "      <td>-0.1545</td>\n",
       "    </tr>\n",
       "    <tr>\n",
       "      <th>region_singida</th>\n",
       "      <td>0.2190</td>\n",
       "      <td>0.4333</td>\n",
       "      <td>-0.8397</td>\n",
       "    </tr>\n",
       "    <tr>\n",
       "      <th>gps_height</th>\n",
       "      <td>0.0000</td>\n",
       "      <td>0.4161</td>\n",
       "      <td>-0.2863</td>\n",
       "    </tr>\n",
       "    <tr>\n",
       "      <th>region_morogoro</th>\n",
       "      <td>0.4695</td>\n",
       "      <td>0.4074</td>\n",
       "      <td>-0.3351</td>\n",
       "    </tr>\n",
       "    <tr>\n",
       "      <th>district_code_1</th>\n",
       "      <td>0.3417</td>\n",
       "      <td>0.3743</td>\n",
       "      <td>-0.3276</td>\n",
       "    </tr>\n",
       "    <tr>\n",
       "      <th>lga_bukombe</th>\n",
       "      <td>-0.0472</td>\n",
       "      <td>0.3176</td>\n",
       "      <td>-0.1185</td>\n",
       "    </tr>\n",
       "    <tr>\n",
       "      <th>lga_bariadi</th>\n",
       "      <td>0.0000</td>\n",
       "      <td>0.2991</td>\n",
       "      <td>0.0000</td>\n",
       "    </tr>\n",
       "    <tr>\n",
       "      <th>extraction_type_c_submersible</th>\n",
       "      <td>0.6848</td>\n",
       "      <td>0.2924</td>\n",
       "      <td>-0.3025</td>\n",
       "    </tr>\n",
       "  </tbody>\n",
       "</table>\n",
       "</div>"
      ],
      "text/plain": [
       "                               functional  functional needs repair  \\\n",
       "zero_gps_height                   -0.1149                   0.7935   \n",
       "extraction_type_c_gravity          1.1832                   0.7132   \n",
       "region_kigoma                     -0.1515                   0.4531   \n",
       "region_singida                     0.2190                   0.4333   \n",
       "gps_height                         0.0000                   0.4161   \n",
       "region_morogoro                    0.4695                   0.4074   \n",
       "district_code_1                    0.3417                   0.3743   \n",
       "lga_bukombe                       -0.0472                   0.3176   \n",
       "lga_bariadi                        0.0000                   0.2991   \n",
       "extraction_type_c_submersible      0.6848                   0.2924   \n",
       "\n",
       "                               non functional  \n",
       "zero_gps_height                       -0.5102  \n",
       "extraction_type_c_gravity             -0.5590  \n",
       "region_kigoma                         -0.1545  \n",
       "region_singida                        -0.8397  \n",
       "gps_height                            -0.2863  \n",
       "region_morogoro                       -0.3351  \n",
       "district_code_1                       -0.3276  \n",
       "lga_bukombe                           -0.1185  \n",
       "lga_bariadi                            0.0000  \n",
       "extraction_type_c_submersible         -0.3025  "
      ]
     },
     "execution_count": 118,
     "metadata": {},
     "output_type": "execute_result"
    }
   ],
   "source": [
    "feat_importance.sort_values(by = 'functional needs repair', ascending = False).head(10)"
   ]
  },
  {
   "cell_type": "code",
   "execution_count": null,
   "metadata": {},
   "outputs": [],
   "source": []
  }
 ],
 "metadata": {
  "kernelspec": {
   "display_name": "Python 3",
   "language": "python",
   "name": "python3"
  },
  "language_info": {
   "codemirror_mode": {
    "name": "ipython",
    "version": 3
   },
   "file_extension": ".py",
   "mimetype": "text/x-python",
   "name": "python",
   "nbconvert_exporter": "python",
   "pygments_lexer": "ipython3",
   "version": "3.8.5"
  }
 },
 "nbformat": 4,
 "nbformat_minor": 4
}
