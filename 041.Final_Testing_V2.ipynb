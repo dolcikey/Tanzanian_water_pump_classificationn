{
 "cells": [
  {
   "cell_type": "markdown",
   "metadata": {},
   "source": [
    "# Final Testing\n",
    "\n",
    "In this notebook, we test the final model on a holdout set (set aside from competition training set) before we deploy our model for final submission. Also we create a prediction set from the competition test set."
   ]
  },
  {
   "cell_type": "code",
   "execution_count": 1,
   "metadata": {},
   "outputs": [],
   "source": [
    "import pandas as pd\n",
    "import numpy as np\n",
    "import pickle\n",
    "import matplotlib.pyplot as plt\n",
    "%matplotlib inline\n",
    "from sklearn.metrics import accuracy_score, plot_confusion_matrix, classification_report"
   ]
  },
  {
   "cell_type": "code",
   "execution_count": 7,
   "metadata": {},
   "outputs": [],
   "source": [
    "# import holdout test set\n",
    "X_train = pd.read_pickle('PKL/X_train.pkl')\n",
    "y_train = pd.read_pickle('PKL/y_train.pkl')\n",
    "X_test = pd.read_pickle('PKL/X_test.pkl')\n",
    "y_test = pd.read_pickle('PKL/y_test.pkl')"
   ]
  },
  {
   "cell_type": "markdown",
   "metadata": {},
   "source": [
    "## Preprocessing train and test set"
   ]
  },
  {
   "cell_type": "code",
   "execution_count": 8,
   "metadata": {},
   "outputs": [],
   "source": [
    "newfeats = pickle.load(open('PKL/new_feats.pkl', 'rb'))"
   ]
  },
  {
   "cell_type": "code",
   "execution_count": 9,
   "metadata": {},
   "outputs": [
    {
     "name": "stdout",
     "output_type": "stream",
     "text": [
      "Good to go\n"
     ]
    }
   ],
   "source": [
    "# one-hot-encoding and standardization (if final model is KNN)\n",
    "X_train = pd.get_dummies(X_train)\n",
    "X_test = pd.get_dummies(X_test)\n",
    "\n",
    "# Check if they have the same features\n",
    "if X_train.shape[1] != X_test.shape[1]:\n",
    "    print([x for x in X_train.columns if x not in X_test.columns])\n",
    "    print([x for x in X_test.columns if x not in X_train.columns])\n",
    "else: \n",
    "    print ('Good to go')\n",
    "\n",
    "X_train = X_train[newfeats]\n",
    "X_test = X_test[newfeats]\n",
    "\n",
    "# Resample training set\n",
    "from imblearn.over_sampling import SMOTE\n",
    "smote = SMOTE()\n",
    "X_train, y_train = smote.fit_sample(X_train, y_train)\n",
    "\n",
    "# Standardizing training and testing set\n",
    "from sklearn.preprocessing import StandardScaler\n",
    "\n",
    "scale = StandardScaler()\n",
    "X_train = scale.fit_transform(X_train)\n",
    "X_test = scale.transform(X_test)"
   ]
  },
  {
   "cell_type": "markdown",
   "metadata": {},
   "source": [
    "### Dummy Prediction\n",
    "Here we will look at the performance of stratified baseline model first."
   ]
  },
  {
   "cell_type": "code",
   "execution_count": 10,
   "metadata": {},
   "outputs": [
    {
     "name": "stdout",
     "output_type": "stream",
     "text": [
      "Accuracy:  0.335\n",
      "                         precision    recall  f1-score   support\n",
      "\n",
      "             functional       0.56      0.33      0.42      8217\n",
      "functional needs repair       0.07      0.33      0.11      1008\n",
      "         non functional       0.39      0.34      0.36      5625\n",
      "\n",
      "               accuracy                           0.34     14850\n",
      "              macro avg       0.34      0.33      0.30     14850\n",
      "           weighted avg       0.46      0.34      0.37     14850\n",
      "\n"
     ]
    },
    {
     "data": {
      "image/png": "[encoded data removed]",
      "text/plain": [
       "<Figure size 432x288 with 2 Axes>"
      ]
     },
     "metadata": {
      "needs_background": "light"
     },
     "output_type": "display_data"
    }
   ],
   "source": [
    "from sklearn.dummy import DummyClassifier\n",
    "dummyc = DummyClassifier(strategy = 'stratified') # using the default stratified strategy\n",
    "dummyc.fit(X_train, y_train)\n",
    "y_pred = dummyc.predict(X_test)\n",
    "\n",
    "accuracy = round(accuracy_score(y_test, y_pred), 3)\n",
    "\n",
    "print('Accuracy: ', accuracy)\n",
    "\n",
    "plot_confusion_matrix(dummyc, X_test, y_test, xticks_rotation = 'vertical', cmap = plt.cm.Blues)\n",
    "\n",
    "print(classification_report(y_test, y_pred))"
   ]
  },
  {
   "cell_type": "markdown",
   "metadata": {},
   "source": [
    "## Final Model Performance\n",
    "Now we will import our final model, fit to the full training set, run prediction on the test set."
   ]
  },
  {
   "cell_type": "code",
   "execution_count": 12,
   "metadata": {},
   "outputs": [
    {
     "data": {
      "text/plain": [
       "VotingClassifier(estimators=[('knc_study',\n",
       "                              KNeighborsClassifier(algorithm='kd_tree',\n",
       "                                                   n_jobs=-1, n_neighbors=4,\n",
       "                                                   p=1, weights='distance')),\n",
       "                             ('rf_model',\n",
       "                              RandomForestClassifier(class_weight='balanced',\n",
       "                                                     max_features=135,\n",
       "                                                     max_leaf_nodes=200,\n",
       "                                                     min_samples_leaf=2,\n",
       "                                                     min_samples_split=5,\n",
       "                                                     min_weight_fraction_leaf=2.2193985313288622e-07,\n",
       "                                                     n_estimators=466,\n",
       "                                                     n_jobs=-1,\n",
       "                                                     oob_score...\n",
       "                                            max_delta_step=0, max_depth=36,\n",
       "                                            min_child_weight=1, missing=nan,\n",
       "                                            monotone_constraints='()',\n",
       "                                            n_estimators=100, n_jobs=0,\n",
       "                                            num_parallel_tree=1,\n",
       "                                            objective='multi:softprob',\n",
       "                                            random_state=0, reg_alpha=0,\n",
       "                                            reg_lambda=1,\n",
       "                                            sampling_method='uniform',\n",
       "                                            scale_pos_weight=None,\n",
       "                                            subsample=0.4778081513429783,\n",
       "                                            tree_method='exact',\n",
       "                                            validate_parameters=1,\n",
       "                                            verbosity=1))],\n",
       "                 n_jobs=-1, voting='soft')"
      ]
     },
     "execution_count": 12,
     "metadata": {},
     "output_type": "execute_result"
    }
   ],
   "source": [
    "# import model\n",
    "final_model = pickle.load(open('PKL/voting_c_soft.pkl', 'rb'))\n",
    "# fit the full training set\n",
    "final_model.fit(X_train, y_train)"
   ]
  },
  {
   "cell_type": "code",
   "execution_count": 13,
   "metadata": {
    "scrolled": false
   },
   "outputs": [
    {
     "name": "stdout",
     "output_type": "stream",
     "text": [
      "Accuracy:  0.798\n",
      "                         precision    recall  f1-score   support\n",
      "\n",
      "             functional       0.83      0.85      0.84      8217\n",
      "functional needs repair       0.42      0.48      0.45      1008\n",
      "         non functional       0.83      0.78      0.81      5625\n",
      "\n",
      "               accuracy                           0.80     14850\n",
      "              macro avg       0.69      0.70      0.70     14850\n",
      "           weighted avg       0.80      0.80      0.80     14850\n",
      "\n"
     ]
    },
    {
     "data": {
      "text/plain": [
       "<sklearn.metrics._plot.confusion_matrix.ConfusionMatrixDisplay at 0x1b5beecac10>"
      ]
     },
     "execution_count": 13,
     "metadata": {},
     "output_type": "execute_result"
    },
    {
     "data": {
      "image/png": "[encoded data removed]",
      "text/plain": [
       "<Figure size 432x288 with 2 Axes>"
      ]
     },
     "metadata": {
      "needs_background": "light"
     },
     "output_type": "display_data"
    }
   ],
   "source": [
    "# predict and plot performance\n",
    "y_pred = final_model.predict(X_test)\n",
    "\n",
    "accuracy = round(accuracy_score(y_test, y_pred), 3)\n",
    "\n",
    "print('Accuracy: ', accuracy)\n",
    "print(classification_report(y_test, y_pred))\n",
    "\n",
    "plot_confusion_matrix(final_model, X_test, y_test, xticks_rotation = 'vertical', cmap = plt.cm.Blues)\n",
    "\n"
   ]
  },
  {
   "cell_type": "markdown",
   "metadata": {},
   "source": [
    "Sensitivity for the minority class is great. It's overpredicting the minority class, which is better than underpredicting the minority class in our case. Overall accuracy is probably not as good as other model including voting classifier and XGBoost, but knowing when the well is not functioning is much more important than knowing when the well is functioning."
   ]
  },
  {
   "cell_type": "code",
   "execution_count": null,
   "metadata": {},
   "outputs": [],
   "source": []
  },
  {
   "cell_type": "markdown",
   "metadata": {},
   "source": [
    "**(Below are for competition submission, not relevant for the project.)**\n",
    "\n",
    "Now we will make a prediction for the competition test set. We don't have the labels for this data, but we will output a prediction."
   ]
  },
  {
   "cell_type": "code",
   "execution_count": 14,
   "metadata": {},
   "outputs": [
    {
     "data": {
      "text/plain": [
       "VotingClassifier(estimators=[('knc_study',\n",
       "                              KNeighborsClassifier(algorithm='kd_tree',\n",
       "                                                   n_jobs=-1, n_neighbors=4,\n",
       "                                                   p=1, weights='distance')),\n",
       "                             ('rf_model',\n",
       "                              RandomForestClassifier(class_weight='balanced',\n",
       "                                                     max_features=135,\n",
       "                                                     max_leaf_nodes=200,\n",
       "                                                     min_samples_leaf=2,\n",
       "                                                     min_samples_split=5,\n",
       "                                                     min_weight_fraction_leaf=2.2193985313288622e-07,\n",
       "                                                     n_estimators=466,\n",
       "                                                     n_jobs=-1,\n",
       "                                                     oob_score...\n",
       "                                            max_delta_step=0, max_depth=36,\n",
       "                                            min_child_weight=1, missing=nan,\n",
       "                                            monotone_constraints='()',\n",
       "                                            n_estimators=100, n_jobs=0,\n",
       "                                            num_parallel_tree=1,\n",
       "                                            objective='multi:softprob',\n",
       "                                            random_state=0, reg_alpha=0,\n",
       "                                            reg_lambda=1,\n",
       "                                            sampling_method='uniform',\n",
       "                                            scale_pos_weight=None,\n",
       "                                            subsample=0.4778081513429783,\n",
       "                                            tree_method='exact',\n",
       "                                            validate_parameters=1,\n",
       "                                            verbosity=1))],\n",
       "                 n_jobs=-1, voting='soft')"
      ]
     },
     "execution_count": 14,
     "metadata": {},
     "output_type": "execute_result"
    }
   ],
   "source": [
    "# fit the full dataset\n",
    "X_full = pd.read_pickle('PKL/X_full.pkl')\n",
    "y_full = pd.read_pickle('PKL/y_full.pkl')\n",
    "# get dummies\n",
    "X_full = pd.get_dummies(X_full)\n",
    "X_full = X_full[newfeats]\n",
    "# resample\n",
    "X_full, y_full = smote.fit_sample(X_full, y_full)\n",
    "# standardize\n",
    "scale = StandardScaler()\n",
    "X_full = scale.fit_transform(X_full)\n",
    "# final fit\n",
    "final_model.fit(X_full, y_full)"
   ]
  },
  {
   "cell_type": "code",
   "execution_count": 25,
   "metadata": {},
   "outputs": [],
   "source": [
    "# import the final test set\n",
    "X_submission = pd.read_csv('DATA/TEST_VALUES.csv')"
   ]
  },
  {
   "cell_type": "code",
   "execution_count": 27,
   "metadata": {},
   "outputs": [],
   "source": [
    "ids = X_submission['id']"
   ]
  },
  {
   "cell_type": "code",
   "execution_count": 28,
   "metadata": {
    "scrolled": true
   },
   "outputs": [],
   "source": [
    "# run preprocessing on test set\n",
    "from importlib import reload \n",
    "import preprocessing_pipeline\n",
    "reload( preprocessing_pipeline )\n",
    "from preprocessing_pipeline import preprocessing\n",
    "\n",
    "\n",
    "X_submission = preprocessing(X_submission)\n",
    "\n",
    "# one-hot-encoding and standardization (if final model is KNN)\n",
    "X_submission = pd.get_dummies(X_submission)\n",
    "\n",
    "X_submission = X_submission[newfeats]\n",
    "    \n",
    "# standardize\n",
    "X_submission = scale.transform(X_submission)"
   ]
  },
  {
   "cell_type": "code",
   "execution_count": 29,
   "metadata": {},
   "outputs": [],
   "source": [
    "# predict and plot performance\n",
    "y_pred = final_model.predict(X_submission)"
   ]
  },
  {
   "cell_type": "code",
   "execution_count": 33,
   "metadata": {},
   "outputs": [],
   "source": [
    "submission = pd.DataFrame(zip(ids, y_pred), columns = ['id', 'status_group'])"
   ]
  },
  {
   "cell_type": "code",
   "execution_count": 34,
   "metadata": {},
   "outputs": [],
   "source": [
    "# save the submission\n",
    "submission.to_csv('submission.csv', index = False)"
   ]
  },
  {
   "cell_type": "code",
   "execution_count": null,
   "metadata": {},
   "outputs": [],
   "source": []
  }
 ],
 "metadata": {
  "kernelspec": {
   "display_name": "Python 3",
   "language": "python",
   "name": "python3"
  },
  "language_info": {
   "codemirror_mode": {
    "name": "ipython",
    "version": 3
   },
   "file_extension": ".py",
   "mimetype": "text/x-python",
   "name": "python",
   "nbconvert_exporter": "python",
   "pygments_lexer": "ipython3",
   "version": "3.8.5"
  }
 },
 "nbformat": 4,
 "nbformat_minor": 2
}
