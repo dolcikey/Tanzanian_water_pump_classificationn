{
 "cells": [
  {
   "cell_type": "markdown",
   "metadata": {},
   "source": [
    "### MODEL EVALUATION WITH OPTUNA\n",
    "\n",
    "Optuna models I ran separately due to computational issues. "
   ]
  },
  {
   "cell_type": "code",
   "execution_count": 14,
   "metadata": {},
   "outputs": [],
   "source": [
    "import pandas as pd\n",
    "import numpy as np\n",
    "import matplotlib.pyplot as plt\n",
    "import seaborn as sns\n",
    "%matplotlib inline\n",
    "\n",
    "import pickle\n",
    "from sklearn.preprocessing import OneHotEncoder\n",
    "from sklearn.preprocessing import MinMaxScaler, StandardScaler\n",
    "from imblearn.over_sampling import SMOTE\n",
    "\n",
    "from sklearn.model_selection import train_test_split\n",
    "from sklearn.model_selection import GridSearchCV\n",
    "import optuna\n",
    "\n",
    "from sklearn.linear_model import Lasso, Ridge, LogisticRegression\n",
    "\n",
    "from sklearn.neighbors import KNeighborsClassifier\n",
    "from sklearn.model_selection import KFold\n",
    "from sklearn.model_selection import cross_val_score\n",
    "\n",
    "from sklearn.tree import DecisionTreeClassifier\n",
    "from sklearn.ensemble import RandomForestClassifier\n",
    "from sklearn.ensemble import BaggingClassifier, RandomForestRegressor, ExtraTreesRegressor\n",
    "from sklearn.ensemble import VotingClassifier\n",
    "\n",
    "from sklearn.metrics import f1_score, accuracy_score, roc_auc_score, SCORERS, balanced_accuracy_score\n",
    "from sklearn.metrics import f1_score, accuracy_score, roc_auc_score, SCORERS, balanced_accuracy_score, plot_confusion_matrix, classification_report\n",
    "\n",
    "\n",
    "\n",
    "pd.set_option('precision', 4)\n",
    "pd.options.display.max_seq_items = None\n",
    "pd.options.display.max_columns = 50"
   ]
  },
  {
   "cell_type": "code",
   "execution_count": 3,
   "metadata": {},
   "outputs": [],
   "source": [
    "X = pd.read_pickle('PKL/X_train.pkl')\n",
    "y = pd.read_pickle('PKL/y_train.pkl')"
   ]
  },
  {
   "cell_type": "code",
   "execution_count": 4,
   "metadata": {},
   "outputs": [],
   "source": [
    "X_train, X_test, y_train, y_test = train_test_split(X, y, random_state = 13, test_size = 0.2)"
   ]
  },
  {
   "cell_type": "markdown",
   "metadata": {},
   "source": [
    "### Get Dummies"
   ]
  },
  {
   "cell_type": "code",
   "execution_count": 5,
   "metadata": {},
   "outputs": [],
   "source": [
    "X_train_ohe = pd.get_dummies(X_train)\n",
    "X_test_ohe = pd.get_dummies(X_test)"
   ]
  },
  {
   "cell_type": "code",
   "execution_count": 6,
   "metadata": {},
   "outputs": [
    {
     "data": {
      "text/plain": [
       "[]"
      ]
     },
     "execution_count": 6,
     "metadata": {},
     "output_type": "execute_result"
    }
   ],
   "source": [
    "[x for x in X_train.columns if x not in X_test.columns]"
   ]
  },
  {
   "cell_type": "code",
   "execution_count": 7,
   "metadata": {},
   "outputs": [
    {
     "data": {
      "text/plain": [
       "[]"
      ]
     },
     "execution_count": 7,
     "metadata": {},
     "output_type": "execute_result"
    }
   ],
   "source": [
    "[x for x in X_test.columns if x not in X_train.columns]"
   ]
  },
  {
   "cell_type": "code",
   "execution_count": 8,
   "metadata": {},
   "outputs": [],
   "source": [
    "scale = StandardScaler()\n",
    "X_train = scale.fit_transform(X_train_ohe)\n",
    "X_test = scale.transform(X_test_ohe)"
   ]
  },
  {
   "cell_type": "code",
   "execution_count": 9,
   "metadata": {},
   "outputs": [],
   "source": [
    "smote = SMOTE()\n",
    "X_train, y_train = smote.fit_sample(X_train, y_train) "
   ]
  },
  {
   "cell_type": "code",
   "execution_count": null,
   "metadata": {},
   "outputs": [],
   "source": []
  },
  {
   "cell_type": "markdown",
   "metadata": {},
   "source": [
    "### KNN OPTUNA\n",
    "\n",
    "First I will start with a simple KNN. \n",
    "Then we will use Optuna to run and attempt to find the best model. "
   ]
  },
  {
   "cell_type": "code",
   "execution_count": 516,
   "metadata": {},
   "outputs": [],
   "source": [
    "def knn_objective(trial): \n",
    "    knn_neighbors = trial.suggest_int('n_neighbors', 1,10) \n",
    "    knn_p = trial.suggest_categorical('p', [1, 2])\n",
    "    knn_leaf_size = trial.suggest_int('leaf_size', 2, 50)\n",
    "    knn_algorithm = trial.suggest_categorical('algorithm', ['ball_tree', 'kd_tree'])\n",
    "    \n",
    "    knn = KNeighborsClassifier(n_neighbors = knn_neighbors, \n",
    "                               p = knn_p, \n",
    "                               leaf_size = knn_leaf_size,\n",
    "                                algorithm =  knn_algorithm)\n",
    "    cv = KFold(n_splits = 5, shuffle = True, random_state = 20)\n",
    "    \n",
    "    knn.fit(X_train, y_train)\n",
    "    y_pred_optuna = knn.predict(X_test)\n",
    "    return (1 - f1_score(y_test, y_pred_optuna, average = 'weighted'))"
   ]
  },
  {
   "cell_type": "code",
   "execution_count": null,
   "metadata": {},
   "outputs": [],
   "source": [
    "study = optuna.create_study()"
   ]
  },
  {
   "cell_type": "code",
   "execution_count": null,
   "metadata": {},
   "outputs": [
    {
     "name": "stderr",
     "output_type": "stream",
     "text": [
      "[I 2020-08-20 08:10:02,743] Trial 0 finished with value: 0.2525007574872148 and parameters: {'n_neighbors': 6, 'p': 1, 'leaf_size': 38, 'algorithm': 'kd_tree'}. Best is trial 0 with value: 0.2525007574872148.\n",
      "[I 2020-08-20 08:29:52,961] Trial 1 finished with value: 0.26217077385548193 and parameters: {'n_neighbors': 10, 'p': 1, 'leaf_size': 18, 'algorithm': 'ball_tree'}. Best is trial 0 with value: 0.2525007574872148.\n",
      "[I 2020-08-20 09:02:01,508] Trial 2 finished with value: 0.24328000217342982 and parameters: {'n_neighbors': 2, 'p': 1, 'leaf_size': 6, 'algorithm': 'ball_tree'}. Best is trial 2 with value: 0.24328000217342982.\n",
      "[I 2020-08-20 09:14:35,998] Trial 3 finished with value: 0.2640357918244377 and parameters: {'n_neighbors': 9, 'p': 1, 'leaf_size': 30, 'algorithm': 'kd_tree'}. Best is trial 2 with value: 0.24328000217342982.\n",
      "[I 2020-08-20 09:19:49,937] Trial 4 finished with value: 0.2736111234120412 and parameters: {'n_neighbors': 5, 'p': 2, 'leaf_size': 50, 'algorithm': 'kd_tree'}. Best is trial 2 with value: 0.24328000217342982.\n",
      "[I 2020-08-20 09:24:32,935] Trial 5 finished with value: 0.28291761109090807 and parameters: {'n_neighbors': 7, 'p': 2, 'leaf_size': 23, 'algorithm': 'kd_tree'}. Best is trial 2 with value: 0.24328000217342982.\n",
      "[I 2020-08-20 09:38:41,208] Trial 6 finished with value: 0.2629344709939757 and parameters: {'n_neighbors': 3, 'p': 2, 'leaf_size': 30, 'algorithm': 'ball_tree'}. Best is trial 2 with value: 0.24328000217342982.\n"
     ]
    }
   ],
   "source": [
    "study.optimize(knn_objective, n_trials = 100)"
   ]
  },
  {
   "cell_type": "code",
   "execution_count": null,
   "metadata": {},
   "outputs": [],
   "source": []
  },
  {
   "cell_type": "markdown",
   "metadata": {},
   "source": [
    "### DECISION TREE OPTUNA"
   ]
  },
  {
   "cell_type": "markdown",
   "metadata": {},
   "source": [
    "### Decision Tree with Optuna"
   ]
  },
  {
   "cell_type": "code",
   "execution_count": 494,
   "metadata": {},
   "outputs": [],
   "source": [
    "def dtc_objective(trial): \n",
    "    dtc_criterion = trial.suggest_categorical('criterion', ['gini', 'entropy'])\n",
    "    dtc_splitter = trial.suggest_categorical('n_neighbors', ['best', 'random']) \n",
    "    dtc_maxdepth = trial.sugguest_int('max_depth', 1,10)\n",
    "    dtc_maxfeatures = trial.suggest_int('max_features', .01, .7)\n",
    "    \n",
    "    dtc = DecisionTreeClassifier(criterion = dtc_criterion, \n",
    "                                 splitter = dtc_splitter, \n",
    "                                 max_depth = dtc_maxdepth, \n",
    "                                 max_features = dtc_maxfeatures, \n",
    "                                class_weight = 'balanced')\n",
    "    \n",
    "    dtc.fit(X_train, y_train)\n",
    "    y_pred_dtc= dtc.predict(X_test)\n",
    "    return (1 - f1_score(y_test, y_pred_dtc, average = 'weighted'))"
   ]
  },
  {
   "cell_type": "code",
   "execution_count": null,
   "metadata": {},
   "outputs": [],
   "source": [
    "study = optuna.create_study()"
   ]
  },
  {
   "cell_type": "code",
   "execution_count": null,
   "metadata": {},
   "outputs": [],
   "source": [
    "study.optimize(dtc_objective, n_trials = 100)"
   ]
  },
  {
   "cell_type": "code",
   "execution_count": null,
   "metadata": {},
   "outputs": [],
   "source": []
  },
  {
   "cell_type": "markdown",
   "metadata": {},
   "source": [
    "### RANDOM FOREST CLASSIFICATION OPTUNA"
   ]
  },
  {
   "cell_type": "code",
   "execution_count": 20,
   "metadata": {},
   "outputs": [],
   "source": [
    "def objective(trial): \n",
    "    rfc_max_depth = trial.suggest_int('max_depth', 5,10)\n",
    "    rfc_n_estimators = trial.suggest_int('n_estimators', 300, 700) \n",
    "    rfc_max_features = trial.suggest_loguniform('max_features', .001, .2)\n",
    "    rfc_criterion = trial.suggest_categorical('criterion', ['gini', 'entropy'])\n",
    "    \n",
    "    rfc = RandomForestClassifier(random_state = 1, max_depth = rfc_max_depth, n_estimators = rfc_n_estimators,\n",
    "                                 max_features = rfc_max_features, criterion = rfc_criterion, class_weight = 'balanced')\n",
    "    rfc.fit(X_train, y_train)\n",
    "    y_pred_optuna = rfc.predict(X_test)\n",
    "    return (1 - f1_score(y_test, y_pred_optuna, average = 'weighted'))"
   ]
  },
  {
   "cell_type": "code",
   "execution_count": 21,
   "metadata": {},
   "outputs": [],
   "source": [
    "study = optuna.create_study()"
   ]
  },
  {
   "cell_type": "code",
   "execution_count": null,
   "metadata": {},
   "outputs": [],
   "source": [
    "study.optimize(objective, n_trials = 100)"
   ]
  },
  {
   "cell_type": "code",
   "execution_count": null,
   "metadata": {},
   "outputs": [],
   "source": []
  },
  {
   "cell_type": "markdown",
   "metadata": {},
   "source": [
    "## After trials "
   ]
  },
  {
   "cell_type": "code",
   "execution_count": 10,
   "metadata": {},
   "outputs": [],
   "source": [
    "rfcOptunaLinux = RandomForestClassifier(random_state = 1, \n",
    "                                   n_estimators = 418, \n",
    "                                   max_depth = 10, \n",
    "                                   max_features = .13154680725540335, \n",
    "                                   class_weight = 'balanced', \n",
    "                                   criterion = 'gini')"
   ]
  },
  {
   "cell_type": "code",
   "execution_count": 11,
   "metadata": {},
   "outputs": [],
   "source": [
    "rfcOptunaLinux.fit(X_train, y_train)\n",
    "y_pred_rfcOptunaLinux = rfcOptunaLinux.predict(X_test)"
   ]
  },
  {
   "cell_type": "code",
   "execution_count": 12,
   "metadata": {},
   "outputs": [
    {
     "name": "stdout",
     "output_type": "stream",
     "text": [
      "F1:  0.7349713159724476\n",
      "Accuracy:  0.6796134396559133\n"
     ]
    }
   ],
   "source": [
    "print('F1: ', f1_score(y_test, y_pred_rfcOptunaLinux, average = 'weighted'))\n",
    "print('Accuracy: ', balanced_accuracy_score(y_test, y_pred_rfcOptunaLinux))"
   ]
  },
  {
   "cell_type": "code",
   "execution_count": 15,
   "metadata": {},
   "outputs": [
    {
     "name": "stdout",
     "output_type": "stream",
     "text": [
      "                         precision    recall  f1-score   support\n",
      "\n",
      "             functional       0.78      0.80      0.79      4822\n",
      "functional needs repair       0.28      0.61      0.38       678\n",
      "         non functional       0.87      0.63      0.73      3410\n",
      "\n",
      "               accuracy                           0.72      8910\n",
      "              macro avg       0.64      0.68      0.63      8910\n",
      "           weighted avg       0.77      0.72      0.73      8910\n",
      "\n"
     ]
    }
   ],
   "source": [
    "print(classification_report(y_test, y_pred_rfcOptunaLinux))"
   ]
  },
  {
   "cell_type": "code",
   "execution_count": 16,
   "metadata": {},
   "outputs": [],
   "source": [
    "mod = open('PKL/rfcOptunaLinux.pkl', 'wb')\n",
    "pickle.dump(rfcOptunaLinux, mod)\n",
    "mod.close()"
   ]
  },
  {
   "cell_type": "code",
   "execution_count": null,
   "metadata": {},
   "outputs": [],
   "source": []
  },
  {
   "cell_type": "code",
   "execution_count": 17,
   "metadata": {},
   "outputs": [],
   "source": [
    "rfcOptunaLinux2 = RandomForestClassifier(random_state = 1, \n",
    "                                   n_estimators = 562, \n",
    "                                   max_depth = 10, \n",
    "                                   max_features = 0.073233610990557501, \n",
    "                                   class_weight = 'balanced', \n",
    "                                   criterion = 'gini', \n",
    "                                         n_jobs = -1)"
   ]
  },
  {
   "cell_type": "code",
   "execution_count": 18,
   "metadata": {},
   "outputs": [],
   "source": [
    "rfcOptunaLinux2.fit(X_train, y_train)\n",
    "y_pred_rfcOptunaLinux2 = rfcOptunaLinux2.predict(X_test)"
   ]
  },
  {
   "cell_type": "code",
   "execution_count": 19,
   "metadata": {},
   "outputs": [
    {
     "name": "stdout",
     "output_type": "stream",
     "text": [
      "F1:  0.7344743059151204\n",
      "Accuracy:  0.684361800500234\n"
     ]
    }
   ],
   "source": [
    "print('F1: ', f1_score(y_test, y_pred_rfcOptunaLinux2, average = 'weighted'))\n",
    "print('Accuracy: ', balanced_accuracy_score(y_test, y_pred_rfcOptunaLinux2))"
   ]
  },
  {
   "cell_type": "code",
   "execution_count": 20,
   "metadata": {},
   "outputs": [
    {
     "name": "stdout",
     "output_type": "stream",
     "text": [
      "                         precision    recall  f1-score   support\n",
      "\n",
      "             functional       0.79      0.78      0.78      4822\n",
      "functional needs repair       0.28      0.62      0.38       678\n",
      "         non functional       0.84      0.65      0.74      3410\n",
      "\n",
      "               accuracy                           0.72      8910\n",
      "              macro avg       0.64      0.68      0.63      8910\n",
      "           weighted avg       0.77      0.72      0.73      8910\n",
      "\n"
     ]
    }
   ],
   "source": [
    "print(classification_report(y_test, y_pred_rfcOptunaLinux2))"
   ]
  },
  {
   "cell_type": "code",
   "execution_count": 21,
   "metadata": {},
   "outputs": [],
   "source": [
    "mod = open('PKL/rfcOptunaLinux2.pkl', 'wb')\n",
    "pickle.dump(rfcOptunaLinux2, mod)\n",
    "mod.close()"
   ]
  },
  {
   "cell_type": "code",
   "execution_count": null,
   "metadata": {},
   "outputs": [],
   "source": []
  }
 ],
 "metadata": {
  "kernelspec": {
   "display_name": "Python 3",
   "language": "python",
   "name": "python3"
  },
  "language_info": {
   "codemirror_mode": {
    "name": "ipython",
    "version": 3
   },
   "file_extension": ".py",
   "mimetype": "text/x-python",
   "name": "python",
   "nbconvert_exporter": "python",
   "pygments_lexer": "ipython3",
   "version": "3.7.6"
  }
 },
 "nbformat": 4,
 "nbformat_minor": 4
}
