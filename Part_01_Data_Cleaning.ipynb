{
 "cells": [
  {
   "cell_type": "markdown",
   "metadata": {},
   "source": [
    "### Tanzinian Water Pump Classification ###"
   ]
  },
  {
   "cell_type": "markdown",
   "metadata": {},
   "source": [
    "### Data Cleaning"
   ]
  },
  {
   "cell_type": "markdown",
   "metadata": {},
   "source": [
    "This notebook serves a purpose to show data cleaning for the training labels and values data. \n",
    "Here we will deal with null values, missing values, and outliers. "
   ]
  },
  {
   "cell_type": "markdown",
   "metadata": {},
   "source": [
    " "
   ]
  },
  {
   "cell_type": "code",
   "execution_count": 2,
   "metadata": {},
   "outputs": [],
   "source": [
    "import pandas as pd\n",
    "import seaborn as sns\n",
    "import matplotlib.pyplot as plt\n",
    "%matplotlib inline\n",
    "import pickle \n",
    "import numpy as np\n",
    "\n",
    "pd.set_option('precision', 4)\n",
    "pd.options.display.max_seq_items = None\n"
   ]
  },
  {
   "cell_type": "markdown",
   "metadata": {},
   "source": [
    "### Read in training labels and values: "
   ]
  },
  {
   "cell_type": "code",
   "execution_count": 3,
   "metadata": {},
   "outputs": [],
   "source": [
    "Y = pd.read_csv('DATA/TRAINING_LABELS.csv')\n",
    "df = pd.read_csv('DATA/TRAINING_VALUES.csv', index_col = 0)"
   ]
  },
  {
   "cell_type": "code",
   "execution_count": 4,
   "metadata": {},
   "outputs": [],
   "source": [
    "# Merge Y to the data frame after we looked at values below\n",
    "\n",
    "df = df.merge(Y, on = 'id')"
   ]
  },
  {
   "cell_type": "code",
   "execution_count": 5,
   "metadata": {},
   "outputs": [
    {
     "data": {
      "text/plain": [
       "(59400, 41)"
      ]
     },
     "execution_count": 5,
     "metadata": {},
     "output_type": "execute_result"
    }
   ],
   "source": [
    "df.shape"
   ]
  },
  {
   "cell_type": "markdown",
   "metadata": {},
   "source": [
    " "
   ]
  },
  {
   "cell_type": "markdown",
   "metadata": {},
   "source": [
    "First, we look at the training values to assess the data we have and to get a feel for it. "
   ]
  },
  {
   "cell_type": "code",
   "execution_count": 187,
   "metadata": {},
   "outputs": [
    {
     "data": {
      "text/html": [
       "<div>\n",
       "<style scoped>\n",
       "    .dataframe tbody tr th:only-of-type {\n",
       "        vertical-align: middle;\n",
       "    }\n",
       "\n",
       "    .dataframe tbody tr th {\n",
       "        vertical-align: top;\n",
       "    }\n",
       "\n",
       "    .dataframe thead th {\n",
       "        text-align: right;\n",
       "    }\n",
       "</style>\n",
       "<table border=\"1\" class=\"dataframe\">\n",
       "  <thead>\n",
       "    <tr style=\"text-align: right;\">\n",
       "      <th></th>\n",
       "      <th>id</th>\n",
       "      <th>amount_tsh</th>\n",
       "      <th>date_recorded</th>\n",
       "      <th>funder</th>\n",
       "      <th>gps_height</th>\n",
       "      <th>installer</th>\n",
       "      <th>longitude</th>\n",
       "      <th>latitude</th>\n",
       "      <th>wpt_name</th>\n",
       "      <th>num_private</th>\n",
       "      <th>...</th>\n",
       "      <th>water_quality</th>\n",
       "      <th>quality_group</th>\n",
       "      <th>quantity</th>\n",
       "      <th>quantity_group</th>\n",
       "      <th>source</th>\n",
       "      <th>source_type</th>\n",
       "      <th>source_class</th>\n",
       "      <th>waterpoint_type</th>\n",
       "      <th>waterpoint_type_group</th>\n",
       "      <th>status_group</th>\n",
       "    </tr>\n",
       "  </thead>\n",
       "  <tbody>\n",
       "    <tr>\n",
       "      <th>0</th>\n",
       "      <td>69572</td>\n",
       "      <td>6000.0</td>\n",
       "      <td>2011-03-14</td>\n",
       "      <td>Roman</td>\n",
       "      <td>1390</td>\n",
       "      <td>Roman</td>\n",
       "      <td>34.9381</td>\n",
       "      <td>-9.8563</td>\n",
       "      <td>none</td>\n",
       "      <td>0</td>\n",
       "      <td>...</td>\n",
       "      <td>soft</td>\n",
       "      <td>good</td>\n",
       "      <td>enough</td>\n",
       "      <td>enough</td>\n",
       "      <td>spring</td>\n",
       "      <td>spring</td>\n",
       "      <td>groundwater</td>\n",
       "      <td>communal standpipe</td>\n",
       "      <td>communal standpipe</td>\n",
       "      <td>functional</td>\n",
       "    </tr>\n",
       "    <tr>\n",
       "      <th>1</th>\n",
       "      <td>8776</td>\n",
       "      <td>0.0</td>\n",
       "      <td>2013-03-06</td>\n",
       "      <td>Grumeti</td>\n",
       "      <td>1399</td>\n",
       "      <td>GRUMETI</td>\n",
       "      <td>34.6988</td>\n",
       "      <td>-2.1475</td>\n",
       "      <td>Zahanati</td>\n",
       "      <td>0</td>\n",
       "      <td>...</td>\n",
       "      <td>soft</td>\n",
       "      <td>good</td>\n",
       "      <td>insufficient</td>\n",
       "      <td>insufficient</td>\n",
       "      <td>rainwater harvesting</td>\n",
       "      <td>rainwater harvesting</td>\n",
       "      <td>surface</td>\n",
       "      <td>communal standpipe</td>\n",
       "      <td>communal standpipe</td>\n",
       "      <td>functional</td>\n",
       "    </tr>\n",
       "    <tr>\n",
       "      <th>2</th>\n",
       "      <td>34310</td>\n",
       "      <td>25.0</td>\n",
       "      <td>2013-02-25</td>\n",
       "      <td>Lottery Club</td>\n",
       "      <td>686</td>\n",
       "      <td>World vision</td>\n",
       "      <td>37.4607</td>\n",
       "      <td>-3.8213</td>\n",
       "      <td>Kwa Mahundi</td>\n",
       "      <td>0</td>\n",
       "      <td>...</td>\n",
       "      <td>soft</td>\n",
       "      <td>good</td>\n",
       "      <td>enough</td>\n",
       "      <td>enough</td>\n",
       "      <td>dam</td>\n",
       "      <td>dam</td>\n",
       "      <td>surface</td>\n",
       "      <td>communal standpipe multiple</td>\n",
       "      <td>communal standpipe</td>\n",
       "      <td>functional</td>\n",
       "    </tr>\n",
       "    <tr>\n",
       "      <th>3</th>\n",
       "      <td>67743</td>\n",
       "      <td>0.0</td>\n",
       "      <td>2013-01-28</td>\n",
       "      <td>Unicef</td>\n",
       "      <td>263</td>\n",
       "      <td>UNICEF</td>\n",
       "      <td>38.4862</td>\n",
       "      <td>-11.1553</td>\n",
       "      <td>Zahanati Ya Nanyumbu</td>\n",
       "      <td>0</td>\n",
       "      <td>...</td>\n",
       "      <td>soft</td>\n",
       "      <td>good</td>\n",
       "      <td>dry</td>\n",
       "      <td>dry</td>\n",
       "      <td>machine dbh</td>\n",
       "      <td>borehole</td>\n",
       "      <td>groundwater</td>\n",
       "      <td>communal standpipe multiple</td>\n",
       "      <td>communal standpipe</td>\n",
       "      <td>non functional</td>\n",
       "    </tr>\n",
       "    <tr>\n",
       "      <th>4</th>\n",
       "      <td>19728</td>\n",
       "      <td>0.0</td>\n",
       "      <td>2011-07-13</td>\n",
       "      <td>Action In A</td>\n",
       "      <td>0</td>\n",
       "      <td>Artisan</td>\n",
       "      <td>31.1308</td>\n",
       "      <td>-1.8254</td>\n",
       "      <td>Shuleni</td>\n",
       "      <td>0</td>\n",
       "      <td>...</td>\n",
       "      <td>soft</td>\n",
       "      <td>good</td>\n",
       "      <td>seasonal</td>\n",
       "      <td>seasonal</td>\n",
       "      <td>rainwater harvesting</td>\n",
       "      <td>rainwater harvesting</td>\n",
       "      <td>surface</td>\n",
       "      <td>communal standpipe</td>\n",
       "      <td>communal standpipe</td>\n",
       "      <td>functional</td>\n",
       "    </tr>\n",
       "  </tbody>\n",
       "</table>\n",
       "<p>5 rows × 41 columns</p>\n",
       "</div>"
      ],
      "text/plain": [
       "      id  amount_tsh date_recorded        funder  gps_height     installer  \\\n",
       "0  69572      6000.0    2011-03-14         Roman        1390         Roman   \n",
       "1   8776         0.0    2013-03-06       Grumeti        1399       GRUMETI   \n",
       "2  34310        25.0    2013-02-25  Lottery Club         686  World vision   \n",
       "3  67743         0.0    2013-01-28        Unicef         263        UNICEF   \n",
       "4  19728         0.0    2011-07-13   Action In A           0       Artisan   \n",
       "\n",
       "   longitude  latitude              wpt_name  num_private  ... water_quality  \\\n",
       "0    34.9381   -9.8563                  none            0  ...          soft   \n",
       "1    34.6988   -2.1475              Zahanati            0  ...          soft   \n",
       "2    37.4607   -3.8213           Kwa Mahundi            0  ...          soft   \n",
       "3    38.4862  -11.1553  Zahanati Ya Nanyumbu            0  ...          soft   \n",
       "4    31.1308   -1.8254               Shuleni            0  ...          soft   \n",
       "\n",
       "  quality_group      quantity  quantity_group                source  \\\n",
       "0          good        enough          enough                spring   \n",
       "1          good  insufficient    insufficient  rainwater harvesting   \n",
       "2          good        enough          enough                   dam   \n",
       "3          good           dry             dry           machine dbh   \n",
       "4          good      seasonal        seasonal  rainwater harvesting   \n",
       "\n",
       "            source_type source_class              waterpoint_type  \\\n",
       "0                spring  groundwater           communal standpipe   \n",
       "1  rainwater harvesting      surface           communal standpipe   \n",
       "2                   dam      surface  communal standpipe multiple   \n",
       "3              borehole  groundwater  communal standpipe multiple   \n",
       "4  rainwater harvesting      surface           communal standpipe   \n",
       "\n",
       "  waterpoint_type_group    status_group  \n",
       "0    communal standpipe      functional  \n",
       "1    communal standpipe      functional  \n",
       "2    communal standpipe      functional  \n",
       "3    communal standpipe  non functional  \n",
       "4    communal standpipe      functional  \n",
       "\n",
       "[5 rows x 41 columns]"
      ]
     },
     "execution_count": 187,
     "metadata": {},
     "output_type": "execute_result"
    }
   ],
   "source": [
    "df.head()"
   ]
  },
  {
   "cell_type": "markdown",
   "metadata": {},
   "source": [
    " "
   ]
  },
  {
   "cell_type": "code",
   "execution_count": 188,
   "metadata": {},
   "outputs": [
    {
     "data": {
      "text/html": [
       "<div>\n",
       "<style scoped>\n",
       "    .dataframe tbody tr th:only-of-type {\n",
       "        vertical-align: middle;\n",
       "    }\n",
       "\n",
       "    .dataframe tbody tr th {\n",
       "        vertical-align: top;\n",
       "    }\n",
       "\n",
       "    .dataframe thead th {\n",
       "        text-align: right;\n",
       "    }\n",
       "</style>\n",
       "<table border=\"1\" class=\"dataframe\">\n",
       "  <thead>\n",
       "    <tr style=\"text-align: right;\">\n",
       "      <th></th>\n",
       "      <th>id</th>\n",
       "      <th>amount_tsh</th>\n",
       "      <th>gps_height</th>\n",
       "      <th>longitude</th>\n",
       "      <th>latitude</th>\n",
       "      <th>num_private</th>\n",
       "      <th>region_code</th>\n",
       "      <th>district_code</th>\n",
       "      <th>population</th>\n",
       "      <th>construction_year</th>\n",
       "    </tr>\n",
       "  </thead>\n",
       "  <tbody>\n",
       "    <tr>\n",
       "      <th>count</th>\n",
       "      <td>59400.0000</td>\n",
       "      <td>59400.0000</td>\n",
       "      <td>59400.0000</td>\n",
       "      <td>59400.0000</td>\n",
       "      <td>5.9400e+04</td>\n",
       "      <td>59400.0000</td>\n",
       "      <td>59400.0000</td>\n",
       "      <td>59400.0000</td>\n",
       "      <td>59400.0000</td>\n",
       "      <td>59400.0000</td>\n",
       "    </tr>\n",
       "    <tr>\n",
       "      <th>mean</th>\n",
       "      <td>37115.1318</td>\n",
       "      <td>317.6504</td>\n",
       "      <td>668.2972</td>\n",
       "      <td>34.0774</td>\n",
       "      <td>-5.7060e+00</td>\n",
       "      <td>0.4741</td>\n",
       "      <td>15.2970</td>\n",
       "      <td>5.6297</td>\n",
       "      <td>179.9100</td>\n",
       "      <td>1300.6525</td>\n",
       "    </tr>\n",
       "    <tr>\n",
       "      <th>std</th>\n",
       "      <td>21453.1284</td>\n",
       "      <td>2997.5746</td>\n",
       "      <td>693.1164</td>\n",
       "      <td>6.5674</td>\n",
       "      <td>2.9460e+00</td>\n",
       "      <td>12.2362</td>\n",
       "      <td>17.5874</td>\n",
       "      <td>9.6336</td>\n",
       "      <td>471.4822</td>\n",
       "      <td>951.6205</td>\n",
       "    </tr>\n",
       "    <tr>\n",
       "      <th>min</th>\n",
       "      <td>0.0000</td>\n",
       "      <td>0.0000</td>\n",
       "      <td>-90.0000</td>\n",
       "      <td>0.0000</td>\n",
       "      <td>-1.1649e+01</td>\n",
       "      <td>0.0000</td>\n",
       "      <td>1.0000</td>\n",
       "      <td>0.0000</td>\n",
       "      <td>0.0000</td>\n",
       "      <td>0.0000</td>\n",
       "    </tr>\n",
       "    <tr>\n",
       "      <th>25%</th>\n",
       "      <td>18519.7500</td>\n",
       "      <td>0.0000</td>\n",
       "      <td>0.0000</td>\n",
       "      <td>33.0903</td>\n",
       "      <td>-8.5406e+00</td>\n",
       "      <td>0.0000</td>\n",
       "      <td>5.0000</td>\n",
       "      <td>2.0000</td>\n",
       "      <td>0.0000</td>\n",
       "      <td>0.0000</td>\n",
       "    </tr>\n",
       "    <tr>\n",
       "      <th>50%</th>\n",
       "      <td>37061.5000</td>\n",
       "      <td>0.0000</td>\n",
       "      <td>369.0000</td>\n",
       "      <td>34.9087</td>\n",
       "      <td>-5.0216e+00</td>\n",
       "      <td>0.0000</td>\n",
       "      <td>12.0000</td>\n",
       "      <td>3.0000</td>\n",
       "      <td>25.0000</td>\n",
       "      <td>1986.0000</td>\n",
       "    </tr>\n",
       "    <tr>\n",
       "      <th>75%</th>\n",
       "      <td>55656.5000</td>\n",
       "      <td>20.0000</td>\n",
       "      <td>1319.2500</td>\n",
       "      <td>37.1784</td>\n",
       "      <td>-3.3262e+00</td>\n",
       "      <td>0.0000</td>\n",
       "      <td>17.0000</td>\n",
       "      <td>5.0000</td>\n",
       "      <td>215.0000</td>\n",
       "      <td>2004.0000</td>\n",
       "    </tr>\n",
       "    <tr>\n",
       "      <th>max</th>\n",
       "      <td>74247.0000</td>\n",
       "      <td>350000.0000</td>\n",
       "      <td>2770.0000</td>\n",
       "      <td>40.3452</td>\n",
       "      <td>-2.0000e-08</td>\n",
       "      <td>1776.0000</td>\n",
       "      <td>99.0000</td>\n",
       "      <td>80.0000</td>\n",
       "      <td>30500.0000</td>\n",
       "      <td>2013.0000</td>\n",
       "    </tr>\n",
       "  </tbody>\n",
       "</table>\n",
       "</div>"
      ],
      "text/plain": [
       "               id   amount_tsh  gps_height   longitude    latitude  \\\n",
       "count  59400.0000   59400.0000  59400.0000  59400.0000  5.9400e+04   \n",
       "mean   37115.1318     317.6504    668.2972     34.0774 -5.7060e+00   \n",
       "std    21453.1284    2997.5746    693.1164      6.5674  2.9460e+00   \n",
       "min        0.0000       0.0000    -90.0000      0.0000 -1.1649e+01   \n",
       "25%    18519.7500       0.0000      0.0000     33.0903 -8.5406e+00   \n",
       "50%    37061.5000       0.0000    369.0000     34.9087 -5.0216e+00   \n",
       "75%    55656.5000      20.0000   1319.2500     37.1784 -3.3262e+00   \n",
       "max    74247.0000  350000.0000   2770.0000     40.3452 -2.0000e-08   \n",
       "\n",
       "       num_private  region_code  district_code  population  construction_year  \n",
       "count   59400.0000   59400.0000     59400.0000  59400.0000         59400.0000  \n",
       "mean        0.4741      15.2970         5.6297    179.9100          1300.6525  \n",
       "std        12.2362      17.5874         9.6336    471.4822           951.6205  \n",
       "min         0.0000       1.0000         0.0000      0.0000             0.0000  \n",
       "25%         0.0000       5.0000         2.0000      0.0000             0.0000  \n",
       "50%         0.0000      12.0000         3.0000     25.0000          1986.0000  \n",
       "75%         0.0000      17.0000         5.0000    215.0000          2004.0000  \n",
       "max      1776.0000      99.0000        80.0000  30500.0000          2013.0000  "
      ]
     },
     "execution_count": 188,
     "metadata": {},
     "output_type": "execute_result"
    }
   ],
   "source": [
    "df.describe()"
   ]
  },
  {
   "cell_type": "code",
   "execution_count": 189,
   "metadata": {},
   "outputs": [
    {
     "data": {
      "text/plain": [
       "(59400, 41)"
      ]
     },
     "execution_count": 189,
     "metadata": {},
     "output_type": "execute_result"
    }
   ],
   "source": [
    "df.shape"
   ]
  },
  {
   "cell_type": "markdown",
   "metadata": {},
   "source": [
    "### Assessing our Target ###\n",
    "Looking at the values below, we will want to handle this class imbalance later. \n"
   ]
  },
  {
   "cell_type": "code",
   "execution_count": 190,
   "metadata": {},
   "outputs": [
    {
     "data": {
      "text/plain": [
       "functional                 32259\n",
       "non functional             22824\n",
       "functional needs repair     4317\n",
       "Name: status_group, dtype: int64"
      ]
     },
     "execution_count": 190,
     "metadata": {},
     "output_type": "execute_result"
    }
   ],
   "source": [
    "Y.status_group.value_counts()"
   ]
  },
  {
   "cell_type": "markdown",
   "metadata": {},
   "source": [
    " "
   ]
  },
  {
   "cell_type": "markdown",
   "metadata": {},
   "source": [
    "### Dealing with NaN and Null Values; Checking for Duplicates\n",
    "\n",
    "We have a lot of null values: funder, installer, subvillage, public_meeting, scheme_management,\n",
    "    scheme_name, and permit. \n"
   ]
  },
  {
   "cell_type": "code",
   "execution_count": 191,
   "metadata": {},
   "outputs": [
    {
     "data": {
      "text/plain": [
       "id                           0\n",
       "amount_tsh                   0\n",
       "date_recorded                0\n",
       "funder                    3635\n",
       "gps_height                   0\n",
       "installer                 3655\n",
       "longitude                    0\n",
       "latitude                     0\n",
       "wpt_name                     0\n",
       "num_private                  0\n",
       "basin                        0\n",
       "subvillage                 371\n",
       "region                       0\n",
       "region_code                  0\n",
       "district_code                0\n",
       "lga                          0\n",
       "ward                         0\n",
       "population                   0\n",
       "public_meeting            3334\n",
       "recorded_by                  0\n",
       "scheme_management         3877\n",
       "scheme_name              28166\n",
       "permit                    3056\n",
       "construction_year            0\n",
       "extraction_type              0\n",
       "extraction_type_group        0\n",
       "extraction_type_class        0\n",
       "management                   0\n",
       "management_group             0\n",
       "payment                      0\n",
       "payment_type                 0\n",
       "water_quality                0\n",
       "quality_group                0\n",
       "quantity                     0\n",
       "quantity_group               0\n",
       "source                       0\n",
       "source_type                  0\n",
       "source_class                 0\n",
       "waterpoint_type              0\n",
       "waterpoint_type_group        0\n",
       "status_group                 0\n",
       "dtype: int64"
      ]
     },
     "execution_count": 191,
     "metadata": {},
     "output_type": "execute_result"
    }
   ],
   "source": [
    "df.isnull().sum()"
   ]
  },
  {
   "cell_type": "markdown",
   "metadata": {},
   "source": [
    " "
   ]
  },
  {
   "cell_type": "markdown",
   "metadata": {},
   "source": [
    "Let's deal with the null values first. "
   ]
  },
  {
   "cell_type": "markdown",
   "metadata": {},
   "source": [
    "### Funder\n",
    "\n",
    "Fill in missing or null values with 'Unknown'"
   ]
  },
  {
   "cell_type": "code",
   "execution_count": 192,
   "metadata": {},
   "outputs": [],
   "source": [
    "#df.funder.value_counts()"
   ]
  },
  {
   "cell_type": "code",
   "execution_count": 193,
   "metadata": {},
   "outputs": [],
   "source": [
    "#df.installer.value_counts()"
   ]
  },
  {
   "cell_type": "code",
   "execution_count": 194,
   "metadata": {},
   "outputs": [],
   "source": [
    "df['funder'] = df.funder.fillna('Unknown')\n",
    "df['installer'] = df.installer.fillna('Unknown')"
   ]
  },
  {
   "cell_type": "markdown",
   "metadata": {},
   "source": [
    "### Subvillage"
   ]
  },
  {
   "cell_type": "code",
   "execution_count": 195,
   "metadata": {},
   "outputs": [],
   "source": [
    "#df.subvillage.value_counts()"
   ]
  },
  {
   "cell_type": "code",
   "execution_count": 196,
   "metadata": {},
   "outputs": [],
   "source": [
    "#df.subvillage.isnull().sum()"
   ]
  },
  {
   "cell_type": "code",
   "execution_count": 197,
   "metadata": {},
   "outputs": [],
   "source": [
    "freq_subvil = df.groupby(['region']).subvillage.apply(lambda x: x.value_counts().index[0])"
   ]
  },
  {
   "cell_type": "code",
   "execution_count": 198,
   "metadata": {},
   "outputs": [],
   "source": [
    "df['subvillage'] = np.where(df.subvillage.isnull(), \n",
    "                            freq_subvil[df.region], \n",
    "                            df.subvillage)"
   ]
  },
  {
   "cell_type": "markdown",
   "metadata": {},
   "source": [
    "### Public Meeting\n",
    "Given True is the majority value for public meetings, we want to fill in True. "
   ]
  },
  {
   "cell_type": "code",
   "execution_count": 199,
   "metadata": {},
   "outputs": [],
   "source": [
    "#df.public_meeting.value_counts()"
   ]
  },
  {
   "cell_type": "code",
   "execution_count": 200,
   "metadata": {},
   "outputs": [],
   "source": [
    "df['public_meeting'] = df.public_meeting.fillna(True)"
   ]
  },
  {
   "cell_type": "markdown",
   "metadata": {},
   "source": [
    "### Scheme Management and Scheme Name \n",
    "Fill in the na values Unknown for managment and None for name. "
   ]
  },
  {
   "cell_type": "code",
   "execution_count": 201,
   "metadata": {},
   "outputs": [],
   "source": [
    "#df.scheme_management.value_counts()"
   ]
  },
  {
   "cell_type": "code",
   "execution_count": 202,
   "metadata": {},
   "outputs": [],
   "source": [
    "#df.scheme_name.value_counts()"
   ]
  },
  {
   "cell_type": "code",
   "execution_count": 203,
   "metadata": {},
   "outputs": [],
   "source": [
    "df['scheme_management'] = df.scheme_management.fillna('Unknown')\n",
    "df['scheme_name'] = df.scheme_name.fillna('None')"
   ]
  },
  {
   "cell_type": "markdown",
   "metadata": {},
   "source": [
    "### Permit"
   ]
  },
  {
   "cell_type": "markdown",
   "metadata": {},
   "source": [
    "If highly class imbalanced, impute the majority, if not assign random bool. "
   ]
  },
  {
   "cell_type": "code",
   "execution_count": 204,
   "metadata": {},
   "outputs": [],
   "source": [
    "#df.permit.value_counts()"
   ]
  },
  {
   "cell_type": "code",
   "execution_count": 205,
   "metadata": {},
   "outputs": [],
   "source": [
    "rand_choice = np.random.choice([True, False], df.permit.isnull().sum())"
   ]
  },
  {
   "cell_type": "code",
   "execution_count": 206,
   "metadata": {},
   "outputs": [],
   "source": [
    "df['permit']= df.permit.mask(df.permit.isnull(), np.random.choice([True, False], size=len(df)))"
   ]
  },
  {
   "cell_type": "code",
   "execution_count": 207,
   "metadata": {},
   "outputs": [],
   "source": [
    "df['permit'] = df.permit.astype('bool')"
   ]
  },
  {
   "cell_type": "markdown",
   "metadata": {},
   "source": [
    "### Double Check for Nulls and Duplicates"
   ]
  },
  {
   "cell_type": "code",
   "execution_count": 208,
   "metadata": {},
   "outputs": [
    {
     "data": {
      "text/plain": [
       "id                       0\n",
       "amount_tsh               0\n",
       "date_recorded            0\n",
       "funder                   0\n",
       "gps_height               0\n",
       "installer                0\n",
       "longitude                0\n",
       "latitude                 0\n",
       "wpt_name                 0\n",
       "num_private              0\n",
       "basin                    0\n",
       "subvillage               0\n",
       "region                   0\n",
       "region_code              0\n",
       "district_code            0\n",
       "lga                      0\n",
       "ward                     0\n",
       "population               0\n",
       "public_meeting           0\n",
       "recorded_by              0\n",
       "scheme_management        0\n",
       "scheme_name              0\n",
       "permit                   0\n",
       "construction_year        0\n",
       "extraction_type          0\n",
       "extraction_type_group    0\n",
       "extraction_type_class    0\n",
       "management               0\n",
       "management_group         0\n",
       "payment                  0\n",
       "payment_type             0\n",
       "water_quality            0\n",
       "quality_group            0\n",
       "quantity                 0\n",
       "quantity_group           0\n",
       "source                   0\n",
       "source_type              0\n",
       "source_class             0\n",
       "waterpoint_type          0\n",
       "waterpoint_type_group    0\n",
       "status_group             0\n",
       "dtype: int64"
      ]
     },
     "execution_count": 208,
     "metadata": {},
     "output_type": "execute_result"
    }
   ],
   "source": [
    "df.isnull().sum()"
   ]
  },
  {
   "cell_type": "code",
   "execution_count": 209,
   "metadata": {},
   "outputs": [
    {
     "data": {
      "text/html": [
       "<div>\n",
       "<style scoped>\n",
       "    .dataframe tbody tr th:only-of-type {\n",
       "        vertical-align: middle;\n",
       "    }\n",
       "\n",
       "    .dataframe tbody tr th {\n",
       "        vertical-align: top;\n",
       "    }\n",
       "\n",
       "    .dataframe thead th {\n",
       "        text-align: right;\n",
       "    }\n",
       "</style>\n",
       "<table border=\"1\" class=\"dataframe\">\n",
       "  <thead>\n",
       "    <tr style=\"text-align: right;\">\n",
       "      <th></th>\n",
       "      <th>id</th>\n",
       "      <th>amount_tsh</th>\n",
       "      <th>date_recorded</th>\n",
       "      <th>funder</th>\n",
       "      <th>gps_height</th>\n",
       "      <th>installer</th>\n",
       "      <th>longitude</th>\n",
       "      <th>latitude</th>\n",
       "      <th>wpt_name</th>\n",
       "      <th>num_private</th>\n",
       "      <th>...</th>\n",
       "      <th>water_quality</th>\n",
       "      <th>quality_group</th>\n",
       "      <th>quantity</th>\n",
       "      <th>quantity_group</th>\n",
       "      <th>source</th>\n",
       "      <th>source_type</th>\n",
       "      <th>source_class</th>\n",
       "      <th>waterpoint_type</th>\n",
       "      <th>waterpoint_type_group</th>\n",
       "      <th>status_group</th>\n",
       "    </tr>\n",
       "  </thead>\n",
       "  <tbody>\n",
       "  </tbody>\n",
       "</table>\n",
       "<p>0 rows × 41 columns</p>\n",
       "</div>"
      ],
      "text/plain": [
       "Empty DataFrame\n",
       "Columns: [id, amount_tsh, date_recorded, funder, gps_height, installer, longitude, latitude, wpt_name, num_private, basin, subvillage, region, region_code, district_code, lga, ward, population, public_meeting, recorded_by, scheme_management, scheme_name, permit, construction_year, extraction_type, extraction_type_group, extraction_type_class, management, management_group, payment, payment_type, water_quality, quality_group, quantity, quantity_group, source, source_type, source_class, waterpoint_type, waterpoint_type_group, status_group]\n",
       "Index: []\n",
       "\n",
       "[0 rows x 41 columns]"
      ]
     },
     "execution_count": 209,
     "metadata": {},
     "output_type": "execute_result"
    }
   ],
   "source": [
    "df[df.duplicated('id')]"
   ]
  },
  {
   "cell_type": "markdown",
   "metadata": {},
   "source": [
    " Null values have been removed. No duplicates were found. \n",
    " While we don't have null values now, many of our values are not correct. "
   ]
  },
  {
   "cell_type": "markdown",
   "metadata": {},
   "source": [
    " "
   ]
  },
  {
   "cell_type": "markdown",
   "metadata": {},
   "source": [
    "### Data Abnormalities and Outliers\n"
   ]
  },
  {
   "cell_type": "markdown",
   "metadata": {},
   "source": [
    "Several of our features seem to be a little off on the numbers. For construction year, these values have a lot of zero values This may take additional research so that imputed values have significance. "
   ]
  },
  {
   "cell_type": "code",
   "execution_count": 210,
   "metadata": {},
   "outputs": [
    {
     "data": {
      "text/plain": [
       "Index(['id', 'amount_tsh', 'date_recorded', 'funder', 'gps_height',\n",
       "       'installer', 'longitude', 'latitude', 'wpt_name', 'num_private',\n",
       "       'basin', 'subvillage', 'region', 'region_code', 'district_code', 'lga',\n",
       "       'ward', 'population', 'public_meeting', 'recorded_by',\n",
       "       'scheme_management', 'scheme_name', 'permit', 'construction_year',\n",
       "       'extraction_type', 'extraction_type_group', 'extraction_type_class',\n",
       "       'management', 'management_group', 'payment', 'payment_type',\n",
       "       'water_quality', 'quality_group', 'quantity', 'quantity_group',\n",
       "       'source', 'source_type', 'source_class', 'waterpoint_type',\n",
       "       'waterpoint_type_group', 'status_group'],\n",
       "      dtype='object')"
      ]
     },
     "execution_count": 210,
     "metadata": {},
     "output_type": "execute_result"
    }
   ],
   "source": [
    "df.columns"
   ]
  },
  {
   "cell_type": "code",
   "execution_count": 211,
   "metadata": {},
   "outputs": [],
   "source": [
    "### Amount TSH "
   ]
  },
  {
   "cell_type": "code",
   "execution_count": 212,
   "metadata": {},
   "outputs": [],
   "source": [
    "#df['construction_year'].value_counts()"
   ]
  },
  {
   "cell_type": "code",
   "execution_count": 213,
   "metadata": {},
   "outputs": [],
   "source": [
    "#df['date_recorded'].value_counts()"
   ]
  },
  {
   "cell_type": "code",
   "execution_count": 214,
   "metadata": {},
   "outputs": [],
   "source": [
    "#list(df[df['construction_year'] == 0].date_recorded)"
   ]
  },
  {
   "cell_type": "markdown",
   "metadata": {},
   "source": [
    "Of the construction year, we are missing nearly 35% of the data. \n",
    "This is a lot of information to drop or to inpute with an average value. \n",
    "We decided to keep this data as 0 and keep it in mind for consideration during feature engineering and selection.\n"
   ]
  },
  {
   "cell_type": "code",
   "execution_count": 215,
   "metadata": {},
   "outputs": [
    {
     "data": {
      "text/plain": [
       "0.34863636363636363"
      ]
     },
     "execution_count": 215,
     "metadata": {},
     "output_type": "execute_result"
    }
   ],
   "source": [
    "len(df[df.construction_year == 0])/len(df)"
   ]
  },
  {
   "cell_type": "markdown",
   "metadata": {},
   "source": [
    "### Latitude and Longitude \n"
   ]
  },
  {
   "cell_type": "code",
   "execution_count": 216,
   "metadata": {},
   "outputs": [
    {
     "name": "stderr",
     "output_type": "stream",
     "text": [
      "/Users/dolcikey/opt/anaconda3/lib/python3.7/site-packages/ipykernel_launcher.py:3: FutureWarning: Indexing with multiple keys (implicitly converted to a tuple of keys) will be deprecated, use a list instead.\n",
      "  This is separate from the ipykernel package so we can avoid doing imports until\n"
     ]
    }
   ],
   "source": [
    "tmp = df.copy()\n",
    "tmp = df[df.longitude > 5]\n",
    "avg_lat_long = tmp.groupby('region')['latitude', 'longitude'].mean()"
   ]
  },
  {
   "cell_type": "code",
   "execution_count": 217,
   "metadata": {},
   "outputs": [],
   "source": [
    "df['latitude'] = np.where(df.longitude < 5, \n",
    "         avg_lat_long['latitude'][df.region], df.latitude)\n",
    "df['longitude'] = np.where(df.longitude < 5, \n",
    "         avg_lat_long['longitude'][df.region], df.longitude)"
   ]
  },
  {
   "cell_type": "markdown",
   "metadata": {},
   "source": [
    "### GPS Height\n",
    "\n",
    "Seems that there's another grossly missing number in gps height. "
   ]
  },
  {
   "cell_type": "code",
   "execution_count": 218,
   "metadata": {},
   "outputs": [
    {
     "data": {
      "text/plain": [
       "0.3440740740740741"
      ]
     },
     "execution_count": 218,
     "metadata": {},
     "output_type": "execute_result"
    }
   ],
   "source": [
    "len(df[df.gps_height == 0]) /len(df)\n"
   ]
  },
  {
   "cell_type": "markdown",
   "metadata": {},
   "source": [
    "Many of the populations are listed as 0 which may mean that the wells are not located in populated areas and that people may have to travel from far away to get to them. "
   ]
  },
  {
   "cell_type": "code",
   "execution_count": 219,
   "metadata": {},
   "outputs": [
    {
     "data": {
      "text/plain": [
       "0       21381\n",
       "1        7025\n",
       "200      1940\n",
       "150      1892\n",
       "250      1681\n",
       "        ...  \n",
       "3241        1\n",
       "1960        1\n",
       "1685        1\n",
       "2248        1\n",
       "1439        1\n",
       "Name: population, Length: 1049, dtype: int64"
      ]
     },
     "execution_count": 219,
     "metadata": {},
     "output_type": "execute_result"
    }
   ],
   "source": [
    "df['population'].value_counts()"
   ]
  },
  {
   "cell_type": "code",
   "execution_count": 220,
   "metadata": {},
   "outputs": [
    {
     "data": {
      "text/plain": [
       "0.35994949494949496"
      ]
     },
     "execution_count": 220,
     "metadata": {},
     "output_type": "execute_result"
    }
   ],
   "source": [
    "len(df[df.population == 0]) /len(df)"
   ]
  },
  {
   "cell_type": "markdown",
   "metadata": {},
   "source": [
    "### Funder"
   ]
  },
  {
   "cell_type": "markdown",
   "metadata": {},
   "source": [
    "\n",
    "Many of these are misspelled or not combined well such as Babtest, Babtist, Baptist Church etc. \n",
    "Going through and correcting as many as possible. "
   ]
  },
  {
   "cell_type": "code",
   "execution_count": 231,
   "metadata": {},
   "outputs": [],
   "source": [
    "# Make All Funder Lowercase \n",
    "df['funder'] = df['funder'].str.lower()"
   ]
  },
  {
   "cell_type": "code",
   "execution_count": 232,
   "metadata": {},
   "outputs": [],
   "source": [
    "swedish = ['swedish', 'sweeden', 'sweden', 'people of sweden']\n",
    "roman_catholic = ['rc/mission', 'rc', 'roman church', 'rc mission', 'rc ch', 'hw/rc', 'cg/rc',\n",
    "                  'rc missionary', 'world vision/rc church', 'rc msufi', 'cefa/rcchurch', 'rcchurch/cefa', 'rc missi',\n",
    "                  'rc church/centr', 'rc mofu', 'rc cathoric', 'rc njoro', 'roman cathoric church', 'rc mi',\n",
    "                  'rc/dwe', 'rc church', 'rc churc', 'r.c', 'rc .church', 'rc c', 'rc church brother',\n",
    "                  'rc church/cefa', 'rc church/central gover', 'rc mis']\n",
    "unicef = ['unicrf','uniseg','unicef/cspd','unicet','uniceg','unicef/central', 'unicef', 'unicef/ csp',\n",
    "          'unicef/african muslim agency', 'unice','unice/ cspd']\n",
    "netherland = ['nerthlands', 'netherland', 'nethalan', 'holland', 'netherlands', 'natherland', 'holand']\n",
    "lutheran = ['lutheran church', 'luthe', 'lutheran']\n",
    "world_bank = ['world bank', 'world bank/government', 'bank', 'w.b', 'wo', 'word', 'word bank',\n",
    "             'world banks', 'world nk', 'would bank']\n",
    "world_vision = ['wvt', 'wvc', 'world visiin', 'world vission', \n",
    "                'government /world vision', 'world vision', 'world vision/ kkkt',\n",
    "                'worldvision', 'world vision/adra', 'word divisio', 'world division', ]\n",
    "private_individual = ['private individual', 'private', 'mwingereza', \"rashid seng'ombe\", 'doctor mwambi']\n",
    "ADB = ['afdp', 'adb', 'lga and adb', 'african development bank', 'african development foundation']\n",
    "baptist = ['babtest', 'babtist', 'buptist', 'batist church', 'baptist church']\n",
    "unknown = ['0', 'none', 'unknown', 'o', '-', '_', 'not known', 'not kno', 'unknown installer']"
   ]
  },
  {
   "cell_type": "code",
   "execution_count": 233,
   "metadata": {},
   "outputs": [],
   "source": [
    "cond = [df.funder.str.contains('mganga'), \n",
    "        df.funder.str.contains('mwin'), \n",
    "        df.funder.isin(['mwanza', 'mwanga town water authority']),\n",
    "        (df.funder.isin(roman_catholic)) | df.funder.str.contains('roma'), \n",
    "        df.funder.isin(unicef), \n",
    "        df.funder.isin(netherland), \n",
    "        (df.funder.str.contains('kkkt')) | (df.funder.str.contains('elc')) | (df.funder.isin(lutheran)), \n",
    "        df.funder.str.contains('danid'), \n",
    "        df.funder.str.contains('hes'),\n",
    "        df.funder.isin(world_bank) | (df.funder.str.contains('world') & df.funder.str.contains('bank')),\n",
    "        (df.funder.isin(world_vision)) | (df.funder.str.contains('world') & df.funder.str.contains('vision')),\n",
    "        (df.funder.str.contains('tasa') | (df.funder.str.contains('tass'))),\n",
    "        df.funder.str.contains('germa'), \n",
    "        df.funder.str.contains('distri'), \n",
    "        (df.funder.str.contains('dhv')) | (df.funder == 'dh') , \n",
    "        df.funder.isin(private_individual), \n",
    "        df.funder.str.contains('dws'), \n",
    "        df.funder.str.contains('nora'), \n",
    "        df.funder.str.contains('tcrs'), \n",
    "        df.funder.str.contains('heal'), \n",
    "        df.funder.str.contains('dwe'), \n",
    "        df.funder.isin(ADB), \n",
    "        (df.funder.str.contains('lga')) | (df.funder.str.contains('loca')),\n",
    "        df.funder.str.contains('amre'), \n",
    "        df.funder.str.contains('oxf'), \n",
    "        (df.funder.str.contains('fin')) & (df.funder.str.contains('w')), \n",
    "        (df.funder.str.contains('jap')) | (df.funder.isin(['jica', 'jaica'])),\n",
    "        df.funder.str.contains('isf') | (df.funder == 'is'),\n",
    "        (df.funder.str.contains('chri')) | (df.funder.str.contains('cris')),\n",
    "        df.funder.str.contains('das'),\n",
    "        df.funder.str.contains('taca'), \n",
    "        df.funder.str.contains('compas'),\n",
    "        df.funder.str.contains('vil'),\n",
    "        df.funder.str.contains('conce'),\n",
    "        df.funder.str.contains('egy'),\n",
    "        df.funder.str.contains('meth'), \n",
    "        df.funder.str.contains('edk'),\n",
    "        df.funder.str.contains('finl'),\n",
    "        df.funder.str.contains('irev'),\n",
    "        df.funder.isin(baptist),\n",
    "        (df.funder.str.contains('chur'))| df.funder.str.contains('miss'),\n",
    "        df.funder.isin(unknown),\n",
    "        df.funder.str.contains('schoo'),\n",
    "        (df.funder.str.contains('rws')) | (df.funder.str.contains('rural') & df.funder.str.contains('wat')),\n",
    "        df.funder.str.contains('ded'),\n",
    "        df.funder.str.contains('oik'),\n",
    "        (df.funder.str.contains('kil') & df.funder.str.contains('wat')), \n",
    "        df.funder.str.contains('comm'), \n",
    "        df.funder.str.contains('farm'),\n",
    "        df.funder.str.contains('apm'),\n",
    "        df.funder.str.contains('africar'), \n",
    "        df.funder.isin(swedish),\n",
    "        df.funder.str.contains('wfp'), \n",
    "        (df.funder.str.contains('wat') & df.funder.str.contains('aid')), \n",
    "        df.funder.str.contains('drdp'), \n",
    "        (df.funder.str.contains('wat') & df.funder.str.contains('use')), \n",
    "        df.funder.str.contains('muni')\n",
    "       ]\n",
    "vals = ['mganga', 'mwinjuma_mzee', 'mwanza', 'roman_catholic', 'unicef', 'netherland', 'kkkt', \n",
    "       'danida', 'hesawa', 'world_bank', 'world_vision', 'tasaf', 'germany', 'district council', 'dhv', \n",
    "        'individual', 'dwsp', 'norad', 'tcrs','ministry_of_health', 'dwe', 'adb', 'lga', 'amref', 'oxfam', \n",
    "        'finwater', 'japan', 'isf', 'christian','dasp', 'tacare', 'compassion', 'village', 'concern',\n",
    "        'egype', 'methodist', 'friedkin', 'finland','irevea', 'baptist','other_church', 'unknown', 'school',\n",
    "        'rwssp', 'ded', 'oikos', 'killi_water', 'community', 'farm_afr', 'apm', 'africare','sweden', 'wfp', \n",
    "        'wateraid', 'drdp', 'wateruser', 'municipal_council'\n",
    "       ]\n",
    "df.funder = np.select(cond, vals, df.funder)"
   ]
  },
  {
   "cell_type": "code",
   "execution_count": 234,
   "metadata": {},
   "outputs": [],
   "source": [
    "# limiting to values with at least 100 observations\n",
    "other_funders = [x for x in set(df.funder) if len(df[df.funder == x]) < 50]\n",
    "df['funder'] = np.where(df.funder.isin(other_funders), 'others', df.funder)"
   ]
  },
  {
   "cell_type": "code",
   "execution_count": null,
   "metadata": {},
   "outputs": [],
   "source": []
  },
  {
   "cell_type": "markdown",
   "metadata": {},
   "source": [
    "### Installers"
   ]
  },
  {
   "cell_type": "code",
   "execution_count": 235,
   "metadata": {},
   "outputs": [],
   "source": [
    "typos = {'babtest': 'baptist', 'batist': 'baptist', 'batist': 'baptist', 'belgiam': 'belgium', \n",
    "        'cathoric': 'catholic', 'cebtral': 'central', 'cetral': 'central', 'christan': 'christian', \n",
    "        'comunity': 'community', 'compasion': 'compassion', 'cristan': 'christian', 'danda': 'danida', \n",
    "         'daniad': 'danida', 'danids': 'danida', 'denish': 'danish', 'embasy': 'embassy', 'goldstar': 'gold star',\n",
    "         'greineker': 'greinaker', 'grobal': 'global', 'gurumeti': 'grumeti', 'holand': 'netherland', \n",
    "         'holland': 'netherland','jeica': 'jica', 'jaica': 'jica', 'jicks': 'jica', 'jika': 'jica', 'jiks': 'jica',\n",
    "         'jsica': 'jica', 'kiliflora': 'killflora', 'kili': 'killi', 'kill': 'killi', 'kuweit': 'kuwait', \n",
    "         'lolmoloki': 'lomoloki', 'muslin': 'muslim', 'agrican': 'african', 'cebtral': 'central', 'cental': 'central',\n",
    "         'cetral': 'central', 'insititutiona': 'institutional', 'morrov': 'morov', 'nampapanga': 'nampopanga', 'nanra': 'nandra',\n",
    "         'nasan': 'nassan', 'tanload': 'tanroad', \n",
    "        }\n",
    "str_isin = {'swedish': swedish, 'roman_catholic': roman_catholic, 'unicef': unicef, 'netherland': netherland, \n",
    "           'lutheran': lutheran, 'world_bank': world_bank, 'world_vision': world_vision, \n",
    "           'private': private_individual, 'adb': ADB, 'baptist': baptist, 'unknown': unknown}\n",
    "str_startswith = {'abd': 'abd', 'adp': 'adp', 'africa m': 'african_muslin', 'african m': 'african_muslim', \n",
    "               'africaone': 'africaone', 'aic': 'aic', 'amp': 'amp', 'ang': 'anglican', 'arab': 'arab', \n",
    "                 'ardhi': 'ardhi', 'atlas': 'atlas', 'babu': 'babu', 'bingo': 'bingo', 'boni': 'bonite_bottles',\n",
    "                 'brit': 'britain', 'building': 'building_works', 'calt': 'caltas', 'care': 'care', \n",
    "                 'carta': 'cartas', 'ccp': 'ccp', 'centr': 'central_government', 'cg': 'central_government',\n",
    "                 'chacha': 'chacha', 'chin': 'china', 'christ': 'christian', 'chur': 'church', 'cip': 'cipro', \n",
    "                 'cjej': 'cjejow', 'conce': 'concern', 'compa': 'company', \n",
    "                 'cons': 'consulting_engineer', 'cosmo': 'cosmos', 'counc': 'council', 'dads': 'dads', \n",
    "                 'danid': 'danida', 'dawa': 'dawasa', 'das': 'dasp', 'dbs': 'dbsp', 'ddca': 'ddca', \n",
    "                 'desk': 'desk_a_c', 'dh': 'dhv', 'dm': 'dmdd', 'dr': 'dr_matobola', \n",
    "                 'dsp': 'dsp', 'dw': 'dwe', 'efa': 'efarm', 'elc': 'kkkt', 'emanda': 'emanda', \n",
    "                 'eny': 'enyuati','fram': 'farm_africa', 'fin ': 'fin_water', 'finland': 'gov_finland', \n",
    "                  'fin': 'finwater' , 'fp': 'fpct', 'gachu': 'gachuma', 'george': 'george_mtoto', \n",
    "                 'german': 'german', 'global':'global_resource', 'gove': 'government', 'grume': 'grumeti',\n",
    "                 'gwas': 'gwasco', 'hal': 'halmashauri', 'handeni': 'handeni', 'hanja': 'hanja', 'hapa': 'hapa', \n",
    "                 'hemed': 'hemed_abdallah', 'hes': 'hesawa', 'hosp': 'hospital', 'hotel': 'hotel_lodge', \n",
    "                 'howard': 'howard_humfreys', 'humfrey': 'howard_humfreys', 'icf': 'icf', 'idara': 'idara', \n",
    "                 'indiv': 'private', 'ind': 'india', 'insti': 'institutional', 'isf': 'isf', 'islam': 'islamic', \n",
    "                 'ital': 'italy', 'jica': 'jica', 'jandu': 'jandu_plumber','jeshi': 'jeshi','juin': 'juin', \n",
    "                 'jum': 'juma', 'kaem': 'kaemp', 'kalit': 'kalitasi', 'kanisa': 'kanisa', 'karumba': 'karumba_building', \n",
    "                 'kibo': 'kibo', 'killflora': 'killflora', 'killi': 'killiwater', 'kk': 'kkkt', 'kyasha': 'kyasha',\n",
    "                 'lawate': 'lawate_fuka', 'lind': 'lindi', 'lion': 'lions', 'livi': 'living_water', 'local': 'locals', \n",
    "                 'losa': 'losa-kia', 'luthe': 'lutheran', 'mack': 'macdonald', 'maga': 'magadini', 'maji': 'maji', \n",
    "                 'makon': 'makonde', 'masjid': 'masjid', 'maswi': 'maswi','missi': 'missionary', 'oik': 'oikos',\n",
    "                 'mkon': 'mkongo', 'mombo': 'mombo', 'active tank': 'active_tank', 'besad': 'besada', 'mdrd': 'mdrdp',\n",
    "                  'mile': 'millennium', 'mlaki': 'mlaki', 'morovi' : 'morovian', 'msiki': 'msikitini', 'muslim': 'muslims',\n",
    "                  'mwaki': 'mwaki', 'mwalimu': 'mwalimu', 'mwita': 'mwita', 'naishu': 'naishu', 'nandra': 'nandra',\n",
    "                  'ngo': 'ngo', 'nora': 'norad', 'noshad': 'noshad', 'nyiak': 'nyiakaliangani', 'pente': 'pentecost', \n",
    "                  'peter':'individual', 'pet': 'pet_corp', 'plan': 'plan', 'pnr': 'pnr', 'priv': 'private', \n",
    "                  'qu' : 'quick_win', 'qw': 'quick_win', 'regi': 'regional_water', 'regwa': 'regwa', \n",
    "                  'resolute': 'resolute', 'rhobi': 'rhobi', 'roma': 'roman_catholic', 'rotar': 'rotary_club',\n",
    "                  'rude': 'rudep', 'rural': 'rural_water_supply', 'rw': 'rwe', 'samwel': 'samweli', 'save': 'save_the_rain', \n",
    "                  'saxon': 'saxon', 'schoo': 'school', 'sda': 'sda', 'secon': 'secondary_school', \n",
    "                  'soli': 'solidame', 'tanap': 'tanapa', 'tanz': 'tanzania', 'tasa': 'tasaf', 'tass': 'tassaf', \n",
    "                  'tcrs': 'tcrs', 'tlc': 'tlc', 'total': 'total_landcare', 'toto': 'total_landcare', 'tpp': 'tpp', \n",
    "                  'tscr': 'tcrs', 'tsrc': 'tcrs', 'tukwa': 'tukwale', 'u.s.a': 'usa', 'ubalozi': 'ubalozi_wa_marekani', \n",
    "                  'umoja': 'umoja', 'us embassy': 'usa', 'usa embassy': 'usa', 'vicf': 'vicf', 'victoria': 'victoria', \n",
    "                  'vifa': 'vifaf', 'vitecos': 'vitecos', 'wamis': 'missionary', 'wasso': 'wasso', 'water use': 'water_user_group', \n",
    "                  'water': 'wateraid', 'wed': 'wedeco', 'winam': 'winam', 'winnin': 'winnin', 'wizara': 'wizara', \n",
    "                  'ww': 'wwf', 'yasini':'yasini', 'zao': 'zao_water'\n",
    "                 }\n",
    "str_contains = {'adr':'adra', 'amre':'amre', 'man dr': 'aquaman_drilling', 'baptist': 'baptist', \n",
    "               'japan': 'japan', 'munic': 'municipal', 'commu': 'community', 'vil': 'village', \n",
    "               'lwi': 'lwi','distri': 'district', 'of water': 'ministry of water',  'egypt': 'egypt',}\n",
    "str_endswith = {'isan': 'artisan'}"
   ]
  },
  {
   "cell_type": "code",
   "execution_count": 236,
   "metadata": {},
   "outputs": [],
   "source": [
    "for k, v in typos.items():\n",
    "    df.installer = df.installer.apply(lambda x: x.replace(k, v))\n",
    "for k, v in str_isin.items():\n",
    "    df.installer = np.where(df.installer.isin(v), k, df.installer)\n",
    "for k, v in str_startswith.items():\n",
    "    df.installer = np.where(df.installer.str.startswith(k), v, df.installer)\n",
    "for k, v in str_contains.items():\n",
    "    df.installer = np.where(df.installer.str.contains(k), v, df.installer)\n",
    "for k, v in str_endswith.items():\n",
    "    df.installer = np.where(df.installer.str.endswith(k), v, df.installer)\n"
   ]
  },
  {
   "cell_type": "code",
   "execution_count": 237,
   "metadata": {},
   "outputs": [],
   "source": [
    "# limiting to values with at least 100 observations\n",
    "other_installer = [x for x in set(df.installer) if len(df[df.installer == x]) < 100]\n",
    "df['installer'] = np.where(df.installer.isin(other_installer), 'others', df.installer)"
   ]
  },
  {
   "cell_type": "code",
   "execution_count": null,
   "metadata": {},
   "outputs": [],
   "source": []
  },
  {
   "cell_type": "code",
   "execution_count": null,
   "metadata": {},
   "outputs": [],
   "source": []
  },
  {
   "cell_type": "code",
   "execution_count": null,
   "metadata": {},
   "outputs": [],
   "source": []
  },
  {
   "cell_type": "code",
   "execution_count": null,
   "metadata": {},
   "outputs": [],
   "source": []
  },
  {
   "cell_type": "code",
   "execution_count": null,
   "metadata": {},
   "outputs": [],
   "source": []
  },
  {
   "cell_type": "code",
   "execution_count": null,
   "metadata": {},
   "outputs": [],
   "source": []
  },
  {
   "cell_type": "code",
   "execution_count": null,
   "metadata": {},
   "outputs": [],
   "source": []
  },
  {
   "cell_type": "code",
   "execution_count": 238,
   "metadata": {},
   "outputs": [],
   "source": [
    "df.to_pickle('clean_df.pkl')"
   ]
  },
  {
   "cell_type": "code",
   "execution_count": null,
   "metadata": {},
   "outputs": [],
   "source": []
  },
  {
   "cell_type": "code",
   "execution_count": null,
   "metadata": {},
   "outputs": [],
   "source": []
  }
 ],
 "metadata": {
  "kernelspec": {
   "display_name": "Python 3",
   "language": "python",
   "name": "python3"
  },
  "language_info": {
   "codemirror_mode": {
    "name": "ipython",
    "version": 3
   },
   "file_extension": ".py",
   "mimetype": "text/x-python",
   "name": "python",
   "nbconvert_exporter": "python",
   "pygments_lexer": "ipython3",
   "version": "3.7.6"
  }
 },
 "nbformat": 4,
 "nbformat_minor": 4
}
