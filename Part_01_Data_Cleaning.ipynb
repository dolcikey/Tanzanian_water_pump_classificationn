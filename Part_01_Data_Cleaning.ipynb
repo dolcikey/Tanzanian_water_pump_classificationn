{
 "cells": [
  {
   "cell_type": "markdown",
   "metadata": {},
   "source": [
    "### Tanzinian Water Pump Classification ###"
   ]
  },
  {
   "cell_type": "markdown",
   "metadata": {},
   "source": [
    "### Data Cleaning"
   ]
  },
  {
   "cell_type": "markdown",
   "metadata": {},
   "source": [
    "This notebook serves a purpose to show data cleaning for the training labels and values data. \n",
    "Here we will deal with null values, missing values, and outliers. "
   ]
  },
  {
   "cell_type": "markdown",
   "metadata": {},
   "source": [
    " "
   ]
  },
  {
   "cell_type": "code",
   "execution_count": 133,
   "metadata": {},
   "outputs": [],
   "source": [
    "import pandas as pd\n",
    "import seaborn as sns\n",
    "import matplotlib.pyplot as plt\n",
    "%matplotlib inline\n",
    "import pickle \n",
    "import numpy as np\n",
    "\n",
    "pd.set_option('precision', 4)\n",
    "pd.options.display.max_seq_items = None\n"
   ]
  },
  {
   "cell_type": "markdown",
   "metadata": {},
   "source": [
    "### Read in training labels and values: "
   ]
  },
  {
   "cell_type": "code",
   "execution_count": 134,
   "metadata": {},
   "outputs": [],
   "source": [
    "Y = pd.read_csv('TRAINING_LABELS.csv')\n",
    "df = pd.read_csv('TRAINING_VALUES.csv', index_col = 0)"
   ]
  },
  {
   "cell_type": "code",
   "execution_count": 135,
   "metadata": {},
   "outputs": [],
   "source": [
    "# Merge Y to the data frame after we looked at values below\n",
    "\n",
    "df = df.merge(Y, on = 'id')"
   ]
  },
  {
   "cell_type": "markdown",
   "metadata": {},
   "source": [
    " "
   ]
  },
  {
   "cell_type": "markdown",
   "metadata": {},
   "source": [
    "First, we look at the training values to assess the data we have and to get a feel for it. "
   ]
  },
  {
   "cell_type": "code",
   "execution_count": 136,
   "metadata": {},
   "outputs": [
    {
     "data": {
      "text/html": [
       "<div>\n",
       "<style scoped>\n",
       "    .dataframe tbody tr th:only-of-type {\n",
       "        vertical-align: middle;\n",
       "    }\n",
       "\n",
       "    .dataframe tbody tr th {\n",
       "        vertical-align: top;\n",
       "    }\n",
       "\n",
       "    .dataframe thead th {\n",
       "        text-align: right;\n",
       "    }\n",
       "</style>\n",
       "<table border=\"1\" class=\"dataframe\">\n",
       "  <thead>\n",
       "    <tr style=\"text-align: right;\">\n",
       "      <th></th>\n",
       "      <th>id</th>\n",
       "      <th>amount_tsh</th>\n",
       "      <th>date_recorded</th>\n",
       "      <th>funder</th>\n",
       "      <th>gps_height</th>\n",
       "      <th>installer</th>\n",
       "      <th>longitude</th>\n",
       "      <th>latitude</th>\n",
       "      <th>wpt_name</th>\n",
       "      <th>num_private</th>\n",
       "      <th>...</th>\n",
       "      <th>water_quality</th>\n",
       "      <th>quality_group</th>\n",
       "      <th>quantity</th>\n",
       "      <th>quantity_group</th>\n",
       "      <th>source</th>\n",
       "      <th>source_type</th>\n",
       "      <th>source_class</th>\n",
       "      <th>waterpoint_type</th>\n",
       "      <th>waterpoint_type_group</th>\n",
       "      <th>status_group</th>\n",
       "    </tr>\n",
       "  </thead>\n",
       "  <tbody>\n",
       "    <tr>\n",
       "      <th>0</th>\n",
       "      <td>69572</td>\n",
       "      <td>6000.0</td>\n",
       "      <td>2011-03-14</td>\n",
       "      <td>Roman</td>\n",
       "      <td>1390</td>\n",
       "      <td>Roman</td>\n",
       "      <td>34.9381</td>\n",
       "      <td>-9.8563</td>\n",
       "      <td>none</td>\n",
       "      <td>0</td>\n",
       "      <td>...</td>\n",
       "      <td>soft</td>\n",
       "      <td>good</td>\n",
       "      <td>enough</td>\n",
       "      <td>enough</td>\n",
       "      <td>spring</td>\n",
       "      <td>spring</td>\n",
       "      <td>groundwater</td>\n",
       "      <td>communal standpipe</td>\n",
       "      <td>communal standpipe</td>\n",
       "      <td>functional</td>\n",
       "    </tr>\n",
       "    <tr>\n",
       "      <th>1</th>\n",
       "      <td>8776</td>\n",
       "      <td>0.0</td>\n",
       "      <td>2013-03-06</td>\n",
       "      <td>Grumeti</td>\n",
       "      <td>1399</td>\n",
       "      <td>GRUMETI</td>\n",
       "      <td>34.6988</td>\n",
       "      <td>-2.1475</td>\n",
       "      <td>Zahanati</td>\n",
       "      <td>0</td>\n",
       "      <td>...</td>\n",
       "      <td>soft</td>\n",
       "      <td>good</td>\n",
       "      <td>insufficient</td>\n",
       "      <td>insufficient</td>\n",
       "      <td>rainwater harvesting</td>\n",
       "      <td>rainwater harvesting</td>\n",
       "      <td>surface</td>\n",
       "      <td>communal standpipe</td>\n",
       "      <td>communal standpipe</td>\n",
       "      <td>functional</td>\n",
       "    </tr>\n",
       "    <tr>\n",
       "      <th>2</th>\n",
       "      <td>34310</td>\n",
       "      <td>25.0</td>\n",
       "      <td>2013-02-25</td>\n",
       "      <td>Lottery Club</td>\n",
       "      <td>686</td>\n",
       "      <td>World vision</td>\n",
       "      <td>37.4607</td>\n",
       "      <td>-3.8213</td>\n",
       "      <td>Kwa Mahundi</td>\n",
       "      <td>0</td>\n",
       "      <td>...</td>\n",
       "      <td>soft</td>\n",
       "      <td>good</td>\n",
       "      <td>enough</td>\n",
       "      <td>enough</td>\n",
       "      <td>dam</td>\n",
       "      <td>dam</td>\n",
       "      <td>surface</td>\n",
       "      <td>communal standpipe multiple</td>\n",
       "      <td>communal standpipe</td>\n",
       "      <td>functional</td>\n",
       "    </tr>\n",
       "    <tr>\n",
       "      <th>3</th>\n",
       "      <td>67743</td>\n",
       "      <td>0.0</td>\n",
       "      <td>2013-01-28</td>\n",
       "      <td>Unicef</td>\n",
       "      <td>263</td>\n",
       "      <td>UNICEF</td>\n",
       "      <td>38.4862</td>\n",
       "      <td>-11.1553</td>\n",
       "      <td>Zahanati Ya Nanyumbu</td>\n",
       "      <td>0</td>\n",
       "      <td>...</td>\n",
       "      <td>soft</td>\n",
       "      <td>good</td>\n",
       "      <td>dry</td>\n",
       "      <td>dry</td>\n",
       "      <td>machine dbh</td>\n",
       "      <td>borehole</td>\n",
       "      <td>groundwater</td>\n",
       "      <td>communal standpipe multiple</td>\n",
       "      <td>communal standpipe</td>\n",
       "      <td>non functional</td>\n",
       "    </tr>\n",
       "    <tr>\n",
       "      <th>4</th>\n",
       "      <td>19728</td>\n",
       "      <td>0.0</td>\n",
       "      <td>2011-07-13</td>\n",
       "      <td>Action In A</td>\n",
       "      <td>0</td>\n",
       "      <td>Artisan</td>\n",
       "      <td>31.1308</td>\n",
       "      <td>-1.8254</td>\n",
       "      <td>Shuleni</td>\n",
       "      <td>0</td>\n",
       "      <td>...</td>\n",
       "      <td>soft</td>\n",
       "      <td>good</td>\n",
       "      <td>seasonal</td>\n",
       "      <td>seasonal</td>\n",
       "      <td>rainwater harvesting</td>\n",
       "      <td>rainwater harvesting</td>\n",
       "      <td>surface</td>\n",
       "      <td>communal standpipe</td>\n",
       "      <td>communal standpipe</td>\n",
       "      <td>functional</td>\n",
       "    </tr>\n",
       "  </tbody>\n",
       "</table>\n",
       "<p>5 rows × 41 columns</p>\n",
       "</div>"
      ],
      "text/plain": [
       "      id  amount_tsh date_recorded        funder  gps_height     installer  \\\n",
       "0  69572      6000.0    2011-03-14         Roman        1390         Roman   \n",
       "1   8776         0.0    2013-03-06       Grumeti        1399       GRUMETI   \n",
       "2  34310        25.0    2013-02-25  Lottery Club         686  World vision   \n",
       "3  67743         0.0    2013-01-28        Unicef         263        UNICEF   \n",
       "4  19728         0.0    2011-07-13   Action In A           0       Artisan   \n",
       "\n",
       "   longitude  latitude              wpt_name  num_private  ... water_quality  \\\n",
       "0    34.9381   -9.8563                  none            0  ...          soft   \n",
       "1    34.6988   -2.1475              Zahanati            0  ...          soft   \n",
       "2    37.4607   -3.8213           Kwa Mahundi            0  ...          soft   \n",
       "3    38.4862  -11.1553  Zahanati Ya Nanyumbu            0  ...          soft   \n",
       "4    31.1308   -1.8254               Shuleni            0  ...          soft   \n",
       "\n",
       "  quality_group      quantity  quantity_group                source  \\\n",
       "0          good        enough          enough                spring   \n",
       "1          good  insufficient    insufficient  rainwater harvesting   \n",
       "2          good        enough          enough                   dam   \n",
       "3          good           dry             dry           machine dbh   \n",
       "4          good      seasonal        seasonal  rainwater harvesting   \n",
       "\n",
       "            source_type source_class              waterpoint_type  \\\n",
       "0                spring  groundwater           communal standpipe   \n",
       "1  rainwater harvesting      surface           communal standpipe   \n",
       "2                   dam      surface  communal standpipe multiple   \n",
       "3              borehole  groundwater  communal standpipe multiple   \n",
       "4  rainwater harvesting      surface           communal standpipe   \n",
       "\n",
       "  waterpoint_type_group    status_group  \n",
       "0    communal standpipe      functional  \n",
       "1    communal standpipe      functional  \n",
       "2    communal standpipe      functional  \n",
       "3    communal standpipe  non functional  \n",
       "4    communal standpipe      functional  \n",
       "\n",
       "[5 rows x 41 columns]"
      ]
     },
     "execution_count": 136,
     "metadata": {},
     "output_type": "execute_result"
    }
   ],
   "source": [
    "df.head()"
   ]
  },
  {
   "cell_type": "markdown",
   "metadata": {},
   "source": [
    " "
   ]
  },
  {
   "cell_type": "code",
   "execution_count": 137,
   "metadata": {},
   "outputs": [
    {
     "data": {
      "text/html": [
       "<div>\n",
       "<style scoped>\n",
       "    .dataframe tbody tr th:only-of-type {\n",
       "        vertical-align: middle;\n",
       "    }\n",
       "\n",
       "    .dataframe tbody tr th {\n",
       "        vertical-align: top;\n",
       "    }\n",
       "\n",
       "    .dataframe thead th {\n",
       "        text-align: right;\n",
       "    }\n",
       "</style>\n",
       "<table border=\"1\" class=\"dataframe\">\n",
       "  <thead>\n",
       "    <tr style=\"text-align: right;\">\n",
       "      <th></th>\n",
       "      <th>id</th>\n",
       "      <th>amount_tsh</th>\n",
       "      <th>gps_height</th>\n",
       "      <th>longitude</th>\n",
       "      <th>latitude</th>\n",
       "      <th>num_private</th>\n",
       "      <th>region_code</th>\n",
       "      <th>district_code</th>\n",
       "      <th>population</th>\n",
       "      <th>construction_year</th>\n",
       "    </tr>\n",
       "  </thead>\n",
       "  <tbody>\n",
       "    <tr>\n",
       "      <th>count</th>\n",
       "      <td>59400.0000</td>\n",
       "      <td>59400.0000</td>\n",
       "      <td>59400.0000</td>\n",
       "      <td>59400.0000</td>\n",
       "      <td>5.9400e+04</td>\n",
       "      <td>59400.0000</td>\n",
       "      <td>59400.0000</td>\n",
       "      <td>59400.0000</td>\n",
       "      <td>59400.0000</td>\n",
       "      <td>59400.0000</td>\n",
       "    </tr>\n",
       "    <tr>\n",
       "      <th>mean</th>\n",
       "      <td>37115.1318</td>\n",
       "      <td>317.6504</td>\n",
       "      <td>668.2972</td>\n",
       "      <td>34.0774</td>\n",
       "      <td>-5.7060e+00</td>\n",
       "      <td>0.4741</td>\n",
       "      <td>15.2970</td>\n",
       "      <td>5.6297</td>\n",
       "      <td>179.9100</td>\n",
       "      <td>1300.6525</td>\n",
       "    </tr>\n",
       "    <tr>\n",
       "      <th>std</th>\n",
       "      <td>21453.1284</td>\n",
       "      <td>2997.5746</td>\n",
       "      <td>693.1164</td>\n",
       "      <td>6.5674</td>\n",
       "      <td>2.9460e+00</td>\n",
       "      <td>12.2362</td>\n",
       "      <td>17.5874</td>\n",
       "      <td>9.6336</td>\n",
       "      <td>471.4822</td>\n",
       "      <td>951.6205</td>\n",
       "    </tr>\n",
       "    <tr>\n",
       "      <th>min</th>\n",
       "      <td>0.0000</td>\n",
       "      <td>0.0000</td>\n",
       "      <td>-90.0000</td>\n",
       "      <td>0.0000</td>\n",
       "      <td>-1.1649e+01</td>\n",
       "      <td>0.0000</td>\n",
       "      <td>1.0000</td>\n",
       "      <td>0.0000</td>\n",
       "      <td>0.0000</td>\n",
       "      <td>0.0000</td>\n",
       "    </tr>\n",
       "    <tr>\n",
       "      <th>25%</th>\n",
       "      <td>18519.7500</td>\n",
       "      <td>0.0000</td>\n",
       "      <td>0.0000</td>\n",
       "      <td>33.0903</td>\n",
       "      <td>-8.5406e+00</td>\n",
       "      <td>0.0000</td>\n",
       "      <td>5.0000</td>\n",
       "      <td>2.0000</td>\n",
       "      <td>0.0000</td>\n",
       "      <td>0.0000</td>\n",
       "    </tr>\n",
       "    <tr>\n",
       "      <th>50%</th>\n",
       "      <td>37061.5000</td>\n",
       "      <td>0.0000</td>\n",
       "      <td>369.0000</td>\n",
       "      <td>34.9087</td>\n",
       "      <td>-5.0216e+00</td>\n",
       "      <td>0.0000</td>\n",
       "      <td>12.0000</td>\n",
       "      <td>3.0000</td>\n",
       "      <td>25.0000</td>\n",
       "      <td>1986.0000</td>\n",
       "    </tr>\n",
       "    <tr>\n",
       "      <th>75%</th>\n",
       "      <td>55656.5000</td>\n",
       "      <td>20.0000</td>\n",
       "      <td>1319.2500</td>\n",
       "      <td>37.1784</td>\n",
       "      <td>-3.3262e+00</td>\n",
       "      <td>0.0000</td>\n",
       "      <td>17.0000</td>\n",
       "      <td>5.0000</td>\n",
       "      <td>215.0000</td>\n",
       "      <td>2004.0000</td>\n",
       "    </tr>\n",
       "    <tr>\n",
       "      <th>max</th>\n",
       "      <td>74247.0000</td>\n",
       "      <td>350000.0000</td>\n",
       "      <td>2770.0000</td>\n",
       "      <td>40.3452</td>\n",
       "      <td>-2.0000e-08</td>\n",
       "      <td>1776.0000</td>\n",
       "      <td>99.0000</td>\n",
       "      <td>80.0000</td>\n",
       "      <td>30500.0000</td>\n",
       "      <td>2013.0000</td>\n",
       "    </tr>\n",
       "  </tbody>\n",
       "</table>\n",
       "</div>"
      ],
      "text/plain": [
       "               id   amount_tsh  gps_height   longitude    latitude  \\\n",
       "count  59400.0000   59400.0000  59400.0000  59400.0000  5.9400e+04   \n",
       "mean   37115.1318     317.6504    668.2972     34.0774 -5.7060e+00   \n",
       "std    21453.1284    2997.5746    693.1164      6.5674  2.9460e+00   \n",
       "min        0.0000       0.0000    -90.0000      0.0000 -1.1649e+01   \n",
       "25%    18519.7500       0.0000      0.0000     33.0903 -8.5406e+00   \n",
       "50%    37061.5000       0.0000    369.0000     34.9087 -5.0216e+00   \n",
       "75%    55656.5000      20.0000   1319.2500     37.1784 -3.3262e+00   \n",
       "max    74247.0000  350000.0000   2770.0000     40.3452 -2.0000e-08   \n",
       "\n",
       "       num_private  region_code  district_code  population  construction_year  \n",
       "count   59400.0000   59400.0000     59400.0000  59400.0000         59400.0000  \n",
       "mean        0.4741      15.2970         5.6297    179.9100          1300.6525  \n",
       "std        12.2362      17.5874         9.6336    471.4822           951.6205  \n",
       "min         0.0000       1.0000         0.0000      0.0000             0.0000  \n",
       "25%         0.0000       5.0000         2.0000      0.0000             0.0000  \n",
       "50%         0.0000      12.0000         3.0000     25.0000          1986.0000  \n",
       "75%         0.0000      17.0000         5.0000    215.0000          2004.0000  \n",
       "max      1776.0000      99.0000        80.0000  30500.0000          2013.0000  "
      ]
     },
     "execution_count": 137,
     "metadata": {},
     "output_type": "execute_result"
    }
   ],
   "source": [
    "df.describe()"
   ]
  },
  {
   "cell_type": "code",
   "execution_count": 138,
   "metadata": {},
   "outputs": [
    {
     "data": {
      "text/plain": [
       "(59400, 41)"
      ]
     },
     "execution_count": 138,
     "metadata": {},
     "output_type": "execute_result"
    }
   ],
   "source": [
    "df.shape"
   ]
  },
  {
   "cell_type": "markdown",
   "metadata": {},
   "source": [
    "### Assessing our Target ###\n",
    "Looking at the values below, we will want to handle this class imbalance later. \n"
   ]
  },
  {
   "cell_type": "code",
   "execution_count": 139,
   "metadata": {},
   "outputs": [
    {
     "data": {
      "text/plain": [
       "functional                 32259\n",
       "non functional             22824\n",
       "functional needs repair     4317\n",
       "Name: status_group, dtype: int64"
      ]
     },
     "execution_count": 139,
     "metadata": {},
     "output_type": "execute_result"
    }
   ],
   "source": [
    "Y.status_group.value_counts()"
   ]
  },
  {
   "cell_type": "markdown",
   "metadata": {},
   "source": [
    " "
   ]
  },
  {
   "cell_type": "markdown",
   "metadata": {},
   "source": [
    "### Dealing with NaN and Null Values; Checking for Duplicates\n",
    "\n",
    "We have a lot of null values: funder, installer, subvillage, public_meeting, scheme_management,\n",
    "    scheme_name, and permit. \n"
   ]
  },
  {
   "cell_type": "code",
   "execution_count": 140,
   "metadata": {},
   "outputs": [
    {
     "data": {
      "text/plain": [
       "id                           0\n",
       "amount_tsh                   0\n",
       "date_recorded                0\n",
       "funder                    3635\n",
       "gps_height                   0\n",
       "installer                 3655\n",
       "longitude                    0\n",
       "latitude                     0\n",
       "wpt_name                     0\n",
       "num_private                  0\n",
       "basin                        0\n",
       "subvillage                 371\n",
       "region                       0\n",
       "region_code                  0\n",
       "district_code                0\n",
       "lga                          0\n",
       "ward                         0\n",
       "population                   0\n",
       "public_meeting            3334\n",
       "recorded_by                  0\n",
       "scheme_management         3877\n",
       "scheme_name              28166\n",
       "permit                    3056\n",
       "construction_year            0\n",
       "extraction_type              0\n",
       "extraction_type_group        0\n",
       "extraction_type_class        0\n",
       "management                   0\n",
       "management_group             0\n",
       "payment                      0\n",
       "payment_type                 0\n",
       "water_quality                0\n",
       "quality_group                0\n",
       "quantity                     0\n",
       "quantity_group               0\n",
       "source                       0\n",
       "source_type                  0\n",
       "source_class                 0\n",
       "waterpoint_type              0\n",
       "waterpoint_type_group        0\n",
       "status_group                 0\n",
       "dtype: int64"
      ]
     },
     "execution_count": 140,
     "metadata": {},
     "output_type": "execute_result"
    }
   ],
   "source": [
    "df.isnull().sum()"
   ]
  },
  {
   "cell_type": "markdown",
   "metadata": {},
   "source": [
    " "
   ]
  },
  {
   "cell_type": "markdown",
   "metadata": {},
   "source": [
    "Let's deal with the null values first. "
   ]
  },
  {
   "cell_type": "markdown",
   "metadata": {},
   "source": [
    "### Funder\n",
    "\n",
    "Fill in missing or null values with 'Unknown'"
   ]
  },
  {
   "cell_type": "code",
   "execution_count": 141,
   "metadata": {},
   "outputs": [],
   "source": [
    "#df.funder.value_counts()"
   ]
  },
  {
   "cell_type": "code",
   "execution_count": 142,
   "metadata": {},
   "outputs": [],
   "source": [
    "#df.installer.value_counts()"
   ]
  },
  {
   "cell_type": "code",
   "execution_count": 143,
   "metadata": {},
   "outputs": [],
   "source": [
    "df['funder'] = df.funder.fillna('Unknown')\n",
    "df['installer'] = df.installer.fillna('Unknown')"
   ]
  },
  {
   "cell_type": "markdown",
   "metadata": {},
   "source": [
    "### Subvillage"
   ]
  },
  {
   "cell_type": "code",
   "execution_count": 144,
   "metadata": {},
   "outputs": [],
   "source": [
    "#df.subvillage.value_counts()"
   ]
  },
  {
   "cell_type": "code",
   "execution_count": 145,
   "metadata": {},
   "outputs": [],
   "source": [
    "#df.subvillage.isnull().sum()"
   ]
  },
  {
   "cell_type": "code",
   "execution_count": 146,
   "metadata": {},
   "outputs": [],
   "source": [
    "freq_subvil = df.groupby(['region']).subvillage.apply(lambda x: x.value_counts().index[0])"
   ]
  },
  {
   "cell_type": "code",
   "execution_count": 147,
   "metadata": {},
   "outputs": [],
   "source": [
    "df['subvillage'] = np.where(df.subvillage.isnull(), \n",
    "                            freq_subvil[df.region], \n",
    "                            df.subvillage)"
   ]
  },
  {
   "cell_type": "markdown",
   "metadata": {},
   "source": [
    "### Public Meeting\n",
    "Given True is the majority value for public meetings, we want to fill in True. "
   ]
  },
  {
   "cell_type": "code",
   "execution_count": 148,
   "metadata": {},
   "outputs": [],
   "source": [
    "#df.public_meeting.value_counts()"
   ]
  },
  {
   "cell_type": "code",
   "execution_count": 149,
   "metadata": {},
   "outputs": [],
   "source": [
    "df['public_meeting'] = df.public_meeting.fillna(True)"
   ]
  },
  {
   "cell_type": "markdown",
   "metadata": {},
   "source": [
    "### Scheme Management and Scheme Name \n",
    "Fill in the na values Unknown for managment and None for name. "
   ]
  },
  {
   "cell_type": "code",
   "execution_count": 150,
   "metadata": {},
   "outputs": [],
   "source": [
    "#df.scheme_management.value_counts()"
   ]
  },
  {
   "cell_type": "code",
   "execution_count": 151,
   "metadata": {},
   "outputs": [],
   "source": [
    "#df.scheme_name.value_counts()"
   ]
  },
  {
   "cell_type": "code",
   "execution_count": 152,
   "metadata": {},
   "outputs": [],
   "source": [
    "df['scheme_management'] = df.scheme_management.fillna('Unknown')\n",
    "df['scheme_name'] = df.scheme_name.fillna('None')"
   ]
  },
  {
   "cell_type": "markdown",
   "metadata": {},
   "source": [
    "### Permit"
   ]
  },
  {
   "cell_type": "markdown",
   "metadata": {},
   "source": [
    "If highly class imbalanced, impute the majority, if not assign random bool. "
   ]
  },
  {
   "cell_type": "code",
   "execution_count": 153,
   "metadata": {},
   "outputs": [],
   "source": [
    "#df.permit.value_counts()"
   ]
  },
  {
   "cell_type": "code",
   "execution_count": 154,
   "metadata": {},
   "outputs": [],
   "source": [
    "rand_choice = np.random.choice([True, False], df.permit.isnull().sum())"
   ]
  },
  {
   "cell_type": "code",
   "execution_count": 155,
   "metadata": {},
   "outputs": [],
   "source": [
    "df['permit']= df.permit.mask(df.permit.isnull(), np.random.choice([True, False], size=len(df)))"
   ]
  },
  {
   "cell_type": "code",
   "execution_count": 156,
   "metadata": {},
   "outputs": [],
   "source": [
    "df['permit'] = df.permit.astype('bool')"
   ]
  },
  {
   "cell_type": "markdown",
   "metadata": {},
   "source": [
    "### Double Check for Nulls and Duplicates"
   ]
  },
  {
   "cell_type": "code",
   "execution_count": 157,
   "metadata": {},
   "outputs": [
    {
     "data": {
      "text/plain": [
       "id                       0\n",
       "amount_tsh               0\n",
       "date_recorded            0\n",
       "funder                   0\n",
       "gps_height               0\n",
       "installer                0\n",
       "longitude                0\n",
       "latitude                 0\n",
       "wpt_name                 0\n",
       "num_private              0\n",
       "basin                    0\n",
       "subvillage               0\n",
       "region                   0\n",
       "region_code              0\n",
       "district_code            0\n",
       "lga                      0\n",
       "ward                     0\n",
       "population               0\n",
       "public_meeting           0\n",
       "recorded_by              0\n",
       "scheme_management        0\n",
       "scheme_name              0\n",
       "permit                   0\n",
       "construction_year        0\n",
       "extraction_type          0\n",
       "extraction_type_group    0\n",
       "extraction_type_class    0\n",
       "management               0\n",
       "management_group         0\n",
       "payment                  0\n",
       "payment_type             0\n",
       "water_quality            0\n",
       "quality_group            0\n",
       "quantity                 0\n",
       "quantity_group           0\n",
       "source                   0\n",
       "source_type              0\n",
       "source_class             0\n",
       "waterpoint_type          0\n",
       "waterpoint_type_group    0\n",
       "status_group             0\n",
       "dtype: int64"
      ]
     },
     "execution_count": 157,
     "metadata": {},
     "output_type": "execute_result"
    }
   ],
   "source": [
    "df.isnull().sum()"
   ]
  },
  {
   "cell_type": "code",
   "execution_count": 158,
   "metadata": {},
   "outputs": [
    {
     "data": {
      "text/html": [
       "<div>\n",
       "<style scoped>\n",
       "    .dataframe tbody tr th:only-of-type {\n",
       "        vertical-align: middle;\n",
       "    }\n",
       "\n",
       "    .dataframe tbody tr th {\n",
       "        vertical-align: top;\n",
       "    }\n",
       "\n",
       "    .dataframe thead th {\n",
       "        text-align: right;\n",
       "    }\n",
       "</style>\n",
       "<table border=\"1\" class=\"dataframe\">\n",
       "  <thead>\n",
       "    <tr style=\"text-align: right;\">\n",
       "      <th></th>\n",
       "      <th>id</th>\n",
       "      <th>amount_tsh</th>\n",
       "      <th>date_recorded</th>\n",
       "      <th>funder</th>\n",
       "      <th>gps_height</th>\n",
       "      <th>installer</th>\n",
       "      <th>longitude</th>\n",
       "      <th>latitude</th>\n",
       "      <th>wpt_name</th>\n",
       "      <th>num_private</th>\n",
       "      <th>...</th>\n",
       "      <th>water_quality</th>\n",
       "      <th>quality_group</th>\n",
       "      <th>quantity</th>\n",
       "      <th>quantity_group</th>\n",
       "      <th>source</th>\n",
       "      <th>source_type</th>\n",
       "      <th>source_class</th>\n",
       "      <th>waterpoint_type</th>\n",
       "      <th>waterpoint_type_group</th>\n",
       "      <th>status_group</th>\n",
       "    </tr>\n",
       "  </thead>\n",
       "  <tbody>\n",
       "  </tbody>\n",
       "</table>\n",
       "<p>0 rows × 41 columns</p>\n",
       "</div>"
      ],
      "text/plain": [
       "Empty DataFrame\n",
       "Columns: [id, amount_tsh, date_recorded, funder, gps_height, installer, longitude, latitude, wpt_name, num_private, basin, subvillage, region, region_code, district_code, lga, ward, population, public_meeting, recorded_by, scheme_management, scheme_name, permit, construction_year, extraction_type, extraction_type_group, extraction_type_class, management, management_group, payment, payment_type, water_quality, quality_group, quantity, quantity_group, source, source_type, source_class, waterpoint_type, waterpoint_type_group, status_group]\n",
       "Index: []\n",
       "\n",
       "[0 rows x 41 columns]"
      ]
     },
     "execution_count": 158,
     "metadata": {},
     "output_type": "execute_result"
    }
   ],
   "source": [
    "df[df.duplicated('id')]"
   ]
  },
  {
   "cell_type": "markdown",
   "metadata": {},
   "source": [
    " Null values have been removed. No duplicates were found. \n",
    " While we don't have null values now, many of our values are not correct. "
   ]
  },
  {
   "cell_type": "markdown",
   "metadata": {},
   "source": [
    " "
   ]
  },
  {
   "cell_type": "markdown",
   "metadata": {},
   "source": [
    "### Data Abnormalities and Outliers\n"
   ]
  },
  {
   "cell_type": "markdown",
   "metadata": {},
   "source": [
    "Several of our features seem to be a little off on the numbers. For construction year, these values have a lot of zero values This may take additional research so that imputed values have significance. "
   ]
  },
  {
   "cell_type": "code",
   "execution_count": 159,
   "metadata": {},
   "outputs": [
    {
     "data": {
      "text/plain": [
       "Index(['id', 'amount_tsh', 'date_recorded', 'funder', 'gps_height',\n",
       "       'installer', 'longitude', 'latitude', 'wpt_name', 'num_private',\n",
       "       'basin', 'subvillage', 'region', 'region_code', 'district_code', 'lga',\n",
       "       'ward', 'population', 'public_meeting', 'recorded_by',\n",
       "       'scheme_management', 'scheme_name', 'permit', 'construction_year',\n",
       "       'extraction_type', 'extraction_type_group', 'extraction_type_class',\n",
       "       'management', 'management_group', 'payment', 'payment_type',\n",
       "       'water_quality', 'quality_group', 'quantity', 'quantity_group',\n",
       "       'source', 'source_type', 'source_class', 'waterpoint_type',\n",
       "       'waterpoint_type_group', 'status_group'],\n",
       "      dtype='object')"
      ]
     },
     "execution_count": 159,
     "metadata": {},
     "output_type": "execute_result"
    }
   ],
   "source": [
    "df.columns"
   ]
  },
  {
   "cell_type": "code",
   "execution_count": 160,
   "metadata": {},
   "outputs": [],
   "source": [
    "### Amount TSH "
   ]
  },
  {
   "cell_type": "code",
   "execution_count": 161,
   "metadata": {},
   "outputs": [],
   "source": [
    "#df['construction_year'].value_counts()"
   ]
  },
  {
   "cell_type": "code",
   "execution_count": 162,
   "metadata": {},
   "outputs": [],
   "source": [
    "#df['date_recorded'].value_counts()"
   ]
  },
  {
   "cell_type": "code",
   "execution_count": 163,
   "metadata": {},
   "outputs": [],
   "source": [
    "#list(df[df['construction_year'] == 0].date_recorded)"
   ]
  },
  {
   "cell_type": "markdown",
   "metadata": {},
   "source": [
    "Of the construction year, we are missing nearly 35% of the data. \n",
    "This is a lot of information to drop or to inpute with an average value. \n",
    "We decided to keep this data as 0 and keep it in mind for consideration during feature engineering and selection.\n"
   ]
  },
  {
   "cell_type": "code",
   "execution_count": 164,
   "metadata": {},
   "outputs": [
    {
     "data": {
      "text/plain": [
       "0.34863636363636363"
      ]
     },
     "execution_count": 164,
     "metadata": {},
     "output_type": "execute_result"
    }
   ],
   "source": [
    "len(df[df.construction_year == 0])/len(df)"
   ]
  },
  {
   "cell_type": "markdown",
   "metadata": {},
   "source": [
    "### Latitude and Longitude \n"
   ]
  },
  {
   "cell_type": "code",
   "execution_count": 165,
   "metadata": {},
   "outputs": [
    {
     "name": "stderr",
     "output_type": "stream",
     "text": [
      "/Users/dolcikey/opt/anaconda3/lib/python3.7/site-packages/ipykernel_launcher.py:3: FutureWarning: Indexing with multiple keys (implicitly converted to a tuple of keys) will be deprecated, use a list instead.\n",
      "  This is separate from the ipykernel package so we can avoid doing imports until\n"
     ]
    }
   ],
   "source": [
    "tmp = df.copy()\n",
    "tmp = df[df.longitude > 5]\n",
    "avg_lat_long = tmp.groupby('region')['latitude', 'longitude'].mean()"
   ]
  },
  {
   "cell_type": "code",
   "execution_count": 166,
   "metadata": {},
   "outputs": [],
   "source": [
    "df['latitude'] = np.where(df.longitude < 5, \n",
    "         avg_lat_long['latitude'][df.region], df.latitude)\n",
    "df['longitude'] = np.where(df.longitude < 5, \n",
    "         avg_lat_long['longitude'][df.region], df.longitude)"
   ]
  },
  {
   "cell_type": "markdown",
   "metadata": {},
   "source": [
    "### GPS Height\n",
    "\n",
    "Seems that there's another grossly missing number in gps height. "
   ]
  },
  {
   "cell_type": "code",
   "execution_count": 167,
   "metadata": {},
   "outputs": [
    {
     "data": {
      "text/plain": [
       "0.3440740740740741"
      ]
     },
     "execution_count": 167,
     "metadata": {},
     "output_type": "execute_result"
    }
   ],
   "source": [
    "len(df[df.gps_height == 0]) /len(df)\n"
   ]
  },
  {
   "cell_type": "markdown",
   "metadata": {},
   "source": [
    "Many of the populations are listed as 0 which may mean that the wells are not located in populated areas and that people may have to travel from far away to get to them. "
   ]
  },
  {
   "cell_type": "code",
   "execution_count": 168,
   "metadata": {},
   "outputs": [
    {
     "data": {
      "text/plain": [
       "0       21381\n",
       "1        7025\n",
       "200      1940\n",
       "150      1892\n",
       "250      1681\n",
       "        ...  \n",
       "3241        1\n",
       "1960        1\n",
       "1685        1\n",
       "2248        1\n",
       "1439        1\n",
       "Name: population, Length: 1049, dtype: int64"
      ]
     },
     "execution_count": 168,
     "metadata": {},
     "output_type": "execute_result"
    }
   ],
   "source": [
    "df['population'].value_counts()"
   ]
  },
  {
   "cell_type": "code",
   "execution_count": 169,
   "metadata": {},
   "outputs": [
    {
     "data": {
      "text/plain": [
       "0.35994949494949496"
      ]
     },
     "execution_count": 169,
     "metadata": {},
     "output_type": "execute_result"
    }
   ],
   "source": [
    "len(df[df.population == 0]) /len(df)"
   ]
  },
  {
   "cell_type": "markdown",
   "metadata": {},
   "source": [
    "### Funder"
   ]
  },
  {
   "cell_type": "markdown",
   "metadata": {},
   "source": [
    "\n",
    "Many of these are misspelled or not combined well such as Babtest, Babtist, Baptist Church etc. \n",
    "Going through and correcting as many as possible. "
   ]
  },
  {
   "cell_type": "code",
   "execution_count": 170,
   "metadata": {},
   "outputs": [],
   "source": [
    "# Make All Funder Lowercase \n",
    "df['funder'] = df['funder'].str.lower()"
   ]
  },
  {
   "cell_type": "code",
   "execution_count": 171,
   "metadata": {},
   "outputs": [
    {
     "name": "stderr",
     "output_type": "stream",
     "text": [
      "/Users/dolcikey/opt/anaconda3/lib/python3.7/site-packages/pandas/core/strings.py:1952: UserWarning: This pattern has match groups. To actually get the groups, use str.extract.\n",
      "  return func(self, *args, **kwargs)\n"
     ]
    }
   ],
   "source": [
    "cond = [\n",
    "    df['funder'].isin(['christan outrich','cristan outrich', 'christian outrich', 'christian Outreach']),\n",
    "    df['funder'].str.contains('bingo'), \n",
    "    df['funder'].str.contains('bukwang church saint'),\n",
    "    df['funder'].str.contains('ces (gmbh)'),\n",
    "    df['funder'].isin(['danida', 'dani ']),\n",
    "    df['funder'].isin(['dasp', 'das ']), \n",
    "    df['funder'].str.contains('care'),\n",
    "    df['funder'].str.contains('domestic rural'), \n",
    "    df['funder'].isin(['compa ', 'compassion']),\n",
    "    df['funder'].str.contains('bs '),\n",
    "    (df['funder'].str.contains('comunedi')),\n",
    "    df['funder'].str.contains('cip'),\n",
    "    df['funder'].isin(['commu', 'comm']),\n",
    "    df['funder'].isin(['cg ', 'cg/rc', 'cgi']),\n",
    "    df['funder'].isin(['conce', 'concen', 'concern'])\n",
    "]\n",
    "vals = ['christian outreach', 'bingo foundation germany', 'bukwang church saints', 'ces(gmbh)', 'danida', 'dasp ltd', 'care international', \n",
    "        'domestic rural development', 'compassion international', 'bsf', 'comune de roma', 'cipro', 'community', 'cgc', 'concern worldwide']\n",
    "df['funder'] = np.select(cond, vals, df.funder)"
   ]
  },
  {
   "cell_type": "code",
   "execution_count": 172,
   "metadata": {},
   "outputs": [],
   "source": [
    "cond = [\n",
    "    df['funder'].isin(['fin water', 'fini water', 'finn water', 'finw', 'finwater', 'fiwater']),\n",
    "    df['funder'].str.contains('egypt'), \n",
    "    df['funder'].str.contains('eung am'),\n",
    "    df['funder'].str.contains('farm-africa'),\n",
    "    df['funder'].str.contains('franc'),\n",
    "    df['funder'].str.contains('fredked'), \n",
    "    df['funder'].str.contains('finland'),\n",
    "    df['funder'].str.contains('germany'), \n",
    "    df['funder'].isin(['germany cristians', 'germany misionary', 'germany missionary']),\n",
    "    df['funder'].str.contains('hotels and '),\n",
    "    (df['funder'].isin(['holla ', 'holland'])),\n",
    "    df['funder'].str.contains('irevea'),\n",
    "    df['funder'].isin(['iran', 'irc', 'ir']),\n",
    "    df['funder'].isin(['wug and ded', 'wua']),\n",
    "    df['funder'].str.contains('zao water')\n",
    "]\n",
    "vals = ['fin water', 'egypt', 'eung am methodist church', 'farm africa', 'france', 'friedkin conservation fund', 'finland', \n",
    "        'germany', 'german missionaries', 'hotels and lodges tanzinia', 'holland', 'irevea sister water', 'iran', 'wua and ded', 'zao water spring']\n",
    "df['funder'] = np.select(cond, vals, df.funder)"
   ]
  },
  {
   "cell_type": "code",
   "execution_count": 173,
   "metadata": {},
   "outputs": [],
   "source": [
    "cond = [\n",
    "    df['funder'].isin(['dhv ', 'dhinu', 'dhv/gove', 'dgv\\\\swiss', 'dhv\\\\nord', 'dh']),\n",
    "    df['funder'].isin(['worldvision', 'world vision/rc church', 'world vision/adra', 'world vision/ kkkt', '/world vision']), \n",
    "    df['funder'].str.contains('world bank'),\n",
    "    df['funder'].str.contains('farm-africa'),\n",
    "    df['funder'].str.contains('women fo'),\n",
    "    df['funder'].isin(['churc']), \n",
    "    df['funder'].isin(['hesaw', 'hesawa', 'hesawa', 'hesawwa', 'hesawz', 'hesawza', 'hesswa', 'hewasa', 'hewawa']),\n",
    "    df['funder'].isin(['insititutiona', 'institutional', 'insututional']), \n",
    "    df['funder'].isin(['halimashau', 'halimashauli', 'halamashauli', 'halmashaur', 'halmashauri', 'halmashauri wil', 'halmashauri ya']),\n",
    "    df['funder'].isin(['wateraid', 'water', 'water aid/', 'water aid', 'wate']),\n",
    "    (df['funder'].isin(['vwt', 'vw', 'vwcvc', 'vwcvwc'])),\n",
    "    df['funder'].str.contains('wamissionari wa kikatoriki'),\n",
    "    df['funder'].isin(['village', 'villages', 'villlage', 'villegers', 'villagers', 'villa']),\n",
    "    df['funder'].isin(['us', 'usa', 'u.s.a', 'u.s.', 'usaid', 'u.s']),\n",
    "    df['funder'].isin(['totoland', 'tlc', 'tltc', 'totaland', 'total land'])\n",
    "]\n",
    "vals = ['dhv', 'world vision', 'world bank', 'farm africa', 'women for partnership', 'church', 'hesawa world wide', 'institution', \n",
    "        'halamashauri ya wilaya', 'water aid', 'vwc', 'wamisionari wa kikatoriki', 'village', 'united states of america', 'total land care']\n",
    "df['funder'] = np.select(cond, vals, df.funder)"
   ]
  },
  {
   "cell_type": "code",
   "execution_count": 174,
   "metadata": {},
   "outputs": [],
   "source": [
    "cond = [\n",
    "    df['funder'].str.contains('tag'),\n",
    "    df['funder'].isin(['swiss', 'swis', 'swash', 'swed', 'swif', 'swid']), \n",
    "    df['funder'].str.contains('rural'),\n",
    "    df['funder'].isin(['rotary', 'rotery', 'rotte', 'rotaty']),\n",
    "    df['funder'].isin(['rc', 'roman', 'cathoric', 'catholic' ]),\n",
    "    df['funder'].isin(['quick', 'qwiqwi', 'qwick', 'qwekwin', 'qwckwin', 'quwkwin']), \n",
    "    df['funder'].isin(['pentekoste', 'pntecostal', 'pentecostal', 'pentecosta', 'pentecost']),\n",
    "    df['funder'].isin(['private', 'priv']), \n",
    "    df['funder'].isin(['ox', '0x']),\n",
    "    df['funder'].str.contains('oikos'),\n",
    "    (df['funder'].str.contains('nora')),\n",
    "    df['funder'].isin(['nethe', 'netherla', 'nerthlands', 'nethalan', 'nl']),\n",
    "    df['funder'].isin(['nazalet', 'nazaleti', 'nazareth', 'nazerene']),\n",
    "    df['funder'].str.contains('national rural'),\n",
    "    df['funder'].str.contains('koico')\n",
    "]\n",
    "vals = ['tag church', 'sweden', 'rural water supply', 'rotary club', 'roman catholic church', 'quick win project', 'pentecostal church', 'private', \n",
    "        'oxfam', 'oikos', 'norad', 'netherlands', 'nazareth church', 'national rural', 'koica']\n",
    "df['funder'] = np.select(cond, vals, df.funder)"
   ]
  },
  {
   "cell_type": "code",
   "execution_count": 175,
   "metadata": {},
   "outputs": [],
   "source": [
    "cond = [\n",
    "    df['funder'].isin(['missi', 'mission', 'miss']),\n",
    "    df['funder'].str.contains('action a'), \n",
    "    df['funder'].str.contains('mkinga'),\n",
    "    df['funder'].isin(['milinia', 'miliniem', 'millenium']),\n",
    "    df['funder'].isin(['member of parlement', 'member of parlament', 'member of parliment']),\n",
    "    df['funder'].isin(['maji', 'mugumu']), \n",
    "    df['funder'].str.contains('magadini-makiwaru'),\n",
    "    df['funder'].isin(['makonde', 'makondakonde']), #will this take everything with something having de \n",
    "    df['funder'].isin(['luthe', 'lutheran']),\n",
    "    df['funder'].str.contains('maro'),\n",
    "    (df['funder'].str.contains('lake tanganyika')),\n",
    "    df['funder'].str.contains('lion'),\n",
    "    df['funder'].isin(['lottery', 'lotery', 'lotary']),\n",
    "    df['funder'].isin(['lawate', 'lawatefuka', 'lawate-fuka']),\n",
    "    df['funder'].isin(['Moravian', 'Moroil', 'Morovian', 'Morovian Church', 'Morrovian'])\n",
    "]\n",
    "vals = ['missionary', 'action aid', 'mkinga district council', 'millennium project', 'member of parliament', 'maju mugumu', 'magadini makiwaru water', \n",
    "        'makonde water supply', 'lutheran church', 'maro kyariga', 'lake anganyika basin', 'lions club', 'lottery club', 'lawate fuka water supply', 'Morovian Church']\n",
    "df['funder'] = np.select(cond, vals, df.funder)"
   ]
  },
  {
   "cell_type": "code",
   "execution_count": 176,
   "metadata": {},
   "outputs": [],
   "source": [
    "cond = [\n",
    "    df['funder'].isin(['lgc', 'lgd']),\n",
    "    df['funder'].str.contains('kanis'), \n",
    "    df['funder'].str.contains('livin'),\n",
    "    df['funder'].str.contains('jeshi'),\n",
    "    df['funder'].str.contains('japan'),\n",
    "    df['funder'].str.contains('italy'), \n",
    "    df['funder'].str.contains('islam'),\n",
    "    df['funder'].str.contains('isf'),\n",
    "    df['funder'].str.contains('irish'),\n",
    "    df['funder'].isin(['tansi','tanza'])\n",
    "]\n",
    "vals = ['l', 'kanisa', 'living water international', 'jeshi la wokovu', 'japan', 'italy', 'islamic society', \n",
    "        'isf', 'ireland', 'tanzania']\n",
    "df['funder'] = np.select(cond, vals, df.funder)"
   ]
  },
  {
   "cell_type": "code",
   "execution_count": 178,
   "metadata": {},
   "outputs": [],
   "source": [
    "cond = [\n",
    "    df['funder'].isin(['adp','adp bungu', 'adp mombo', 'adp/w', 'magoma adp', 'moshono adp']),\n",
    "    df['funder'].isin(['aic', 'aic church', 'aic kij', 'ai']), \n",
    "    df['funder'].str.contains('aict'),\n",
    "    df['funder'].str.contains('arab'),\n",
    "    df['funder'].str.contains('apm'),\n",
    "    df['funder'].isin(['babtest', 'babtist', 'buptist', 'batist church', 'baptist church']), \n",
    "    df['funder'].str.contains('amref'),\n",
    "    df['funder'].str.contains('bgss'),\n",
    "    df['funder'].str.contains('africare'),\n",
    "    df['funder'].str.contains('munic'),\n",
    "    (df['funder'].str.contains('unic')) & (~df['funder'].str.contains('munic')),\n",
    "    df['funder'].str.contains('bread'),\n",
    "    df['funder'].str.contains('calt'),\n",
    "    df['funder'].str.contains('canada'),\n",
    "    df['funder'].str.contains('commu')\n",
    "]\n",
    "vals = ['adp', 'aic', 'aict', 'arab', 'apm', 'baptist_church', 'amref', 'bgss', \n",
    "       'africare', 'municipal_council', 'unicef', 'bread_of_the_world', 'caltas', 'canada', \n",
    "       'community']\n",
    "df['funder'] = np.select(cond, vals, df.funder)"
   ]
  },
  {
   "cell_type": "code",
   "execution_count": 179,
   "metadata": {},
   "outputs": [],
   "source": [
    "cond = [\n",
    "    df['funder'].isin(['schoo', 'school']),\n",
    "    df['funder'].str.contains('unhcr/'), \n",
    "    df['funder'].str.contains('tcrs'),\n",
    "    df['funder'].isin(['tasaf', 'tasafu', 'tasafu', 'tasef', 'tasf', 'tassaf','tasae', 'tasad']),\n",
    "    df['funder'].isin(['rwsp', 'rwsso', 'rwssp', 'rwsssp']),\n",
    "    df['funder'].isin(['w.d.&.i.', 'w.d.& i.', 'w.d.&']), \n",
    "    df['funder'].isin(['kkkt', 'kkkt_makwale', 'kkkt_makwale']),\n",
    "    df['funder'].isin(['de','ded', 'ded/rwssp', 'ded_rwsp']), #will this take everything with something having de \n",
    "    df['funder'].isin(['china', 'chinese']),\n",
    "    df['funder'].str.contains('belgian'),\n",
    "    (df['funder'].str.contains('dmk')),\n",
    "    df['funder'].str.contains('balo'),\n",
    "    df['funder'].isin(['dmd','dmdd', 'dmdd/solider', 'dmmd']),\n",
    "    df['funder'].isin(['0', 'None']),\n",
    "    df['funder'].isin(['Moravian', 'Moroil', 'Morovian', 'Morovian Church', 'Morrovian'])\n",
    "]\n",
    "vals = ['school', 'unhcr', 'tscrs', 'tasaf', 'rwssp', 'w.d.&i', 'kkkt', 'ded', \n",
    "       'china', 'belgium', 'dmk anglican', 'ballo', 'dmdd', 'Unknown', \n",
    "       'Morovian Church']\n",
    "df['funder'] = np.select(cond, vals, df.funder)"
   ]
  },
  {
   "cell_type": "code",
   "execution_count": null,
   "metadata": {},
   "outputs": [],
   "source": []
  },
  {
   "cell_type": "code",
   "execution_count": null,
   "metadata": {},
   "outputs": [],
   "source": []
  },
  {
   "cell_type": "code",
   "execution_count": null,
   "metadata": {},
   "outputs": [],
   "source": []
  },
  {
   "cell_type": "code",
   "execution_count": null,
   "metadata": {},
   "outputs": [],
   "source": []
  },
  {
   "cell_type": "code",
   "execution_count": null,
   "metadata": {},
   "outputs": [],
   "source": []
  },
  {
   "cell_type": "code",
   "execution_count": 180,
   "metadata": {},
   "outputs": [],
   "source": [
    "df.to_pickle('clean_df.pkl')"
   ]
  },
  {
   "cell_type": "code",
   "execution_count": null,
   "metadata": {},
   "outputs": [],
   "source": []
  },
  {
   "cell_type": "code",
   "execution_count": null,
   "metadata": {},
   "outputs": [],
   "source": []
  }
 ],
 "metadata": {
  "kernelspec": {
   "display_name": "Python 3",
   "language": "python",
   "name": "python3"
  },
  "language_info": {
   "codemirror_mode": {
    "name": "ipython",
    "version": 3
   },
   "file_extension": ".py",
   "mimetype": "text/x-python",
   "name": "python",
   "nbconvert_exporter": "python",
   "pygments_lexer": "ipython3",
   "version": "3.7.6"
  }
 },
 "nbformat": 4,
 "nbformat_minor": 4
}
